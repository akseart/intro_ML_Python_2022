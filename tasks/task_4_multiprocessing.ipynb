{
 "cells": [
  {
   "cell_type": "markdown",
   "metadata": {
    "collapsed": false
   },
   "source": [
    "# Введение в методы анализа данных. Язык Python."
   ]
  },
  {
   "cell_type": "markdown",
   "metadata": {
    "collapsed": false
   },
   "source": [
    "## Домашняя работа 4: Многопоточность\n",
    "<br><br><br><br>\n",
    "__Ксемидов Борис (nstalker.anonim@yandex.ru)__\n",
    "\n",
    "__Аксентьев Артем (akseart@ya.ru)__\n",
    "\n",
    "\n",
    "<br>\n",
    "\n"
   ]
  },
  {
   "cell_type": "markdown",
   "metadata": {
    "collapsed": false
   },
   "source": [
    "__Выдана__: 05.11.2022\n",
    "__Deadline__: 23:59 09.11.2022\n",
    "\n",
    "Готовые решения отправлять на почту akseart@ya.ru и nstalker.anonim@yandex.ru"
   ]
  },
  {
   "cell_type": "markdown",
   "metadata": {
    "collapsed": false
   },
   "source": [
    "__ФИО:__ ..."
   ]
  },
  {
   "cell_type": "markdown",
   "metadata": {
    "collapsed": false
   },
   "source": [
    "## Критерии оценивания:\n",
    "- Правильность исполнения кода\n",
    "- Корректное исполнение на граничных случаях\n",
    "- Соблюдение PEP-8 и именования переменных\n",
    "\n",
    "Всего за работу можно получить 25 баллов.\n",
    "\n",
    "Изменение формулировок заданий, удаление фрагментов заданий запрещено.\n",
    "\n",
    "Все ячейки должны быть \"выполненными\".\n",
    "\n",
    "При заимствовании кода из интернета, необходимо указать ссылку на ресурс.\n",
    "\n",
    "\n"
   ]
  },
  {
   "cell_type": "code",
   "execution_count": 2,
   "metadata": {
    "collapsed": false,
    "pycharm": {
     "name": "#%%\n"
    }
   },
   "outputs": [
    {
     "name": "stdout",
     "output_type": "stream",
     "text": [
      "Collecting nltk\n",
      "  Using cached nltk-3.7-py3-none-any.whl (1.5 MB)\n",
      "Collecting tqdm\n",
      "  Using cached tqdm-4.64.1-py2.py3-none-any.whl (78 kB)\n",
      "Collecting joblib\n",
      "  Using cached joblib-1.2.0-py3-none-any.whl (297 kB)\n",
      "Collecting click\n",
      "  Using cached click-8.1.3-py3-none-any.whl (96 kB)\n",
      "Collecting regex>=2021.8.3\n",
      "  Downloading regex-2022.10.31-cp38-cp38-macosx_11_0_arm64.whl (287 kB)\n",
      "\u001b[K     |████████████████████████████████| 287 kB 586 kB/s eta 0:00:01\n",
      "\u001b[?25hInstalling collected packages: tqdm, regex, joblib, click, nltk\n",
      "Successfully installed click-8.1.3 joblib-1.2.0 nltk-3.7 regex-2022.10.31 tqdm-4.64.1\n"
     ]
    }
   ],
   "source": [
    "!pip install nltk"
   ]
  },
  {
   "cell_type": "markdown",
   "metadata": {
    "collapsed": false,
    "pycharm": {
     "name": "#%% md\n"
    }
   },
   "source": [
    "# Вам задан текст с опечатками и некий словарь корректных слов. Необходимо исправить все опечатки в тексте"
   ]
  },
  {
   "cell_type": "markdown",
   "metadata": {
    "pycharm": {
     "name": "#%% md\n"
    }
   },
   "source": [
    "**Задание 1.** (5 баллов)\n",
    "\n",
    "Используя файл text.txt(где задан текст) и dict.txt(где задан словарь слов правильного написания). С помощью расстояния Левенштейна(количество замен символов, которые необходимо выполнить для преобразования первого слова во второе), определить корректное слово, которое необходимо подставить из словаря(без сохранения регистра)\n",
    "\n"
   ]
  },
  {
   "cell_type": "code",
   "execution_count": 5,
   "metadata": {
    "collapsed": false,
    "pycharm": {
     "name": "#%%\n"
    }
   },
   "outputs": [
    {
     "data": {
      "text/plain": [
       "2"
      ]
     },
     "execution_count": 5,
     "metadata": {},
     "output_type": "execute_result"
    }
   ],
   "source": [
    "from nltk import edit_distance\n",
    "\n",
    "edit_distance(\"огурец\", \"огytец\")"
   ]
  },
  {
   "cell_type": "markdown",
   "metadata": {
    "collapsed": false
   },
   "source": [
    "**Задание 2.** (7 баллов)\n",
    "\n",
    "Сделать так, чтобы предыдущее решение сохраняло регистр\n"
   ]
  },
  {
   "cell_type": "code",
   "execution_count": null,
   "metadata": {
    "collapsed": false,
    "pycharm": {
     "name": "#%%\n"
    }
   },
   "outputs": [],
   "source": []
  },
  {
   "cell_type": "markdown",
   "metadata": {
    "collapsed": false
   },
   "source": [
    "**Задание 3.** (13 баллов)\n",
    "\n",
    "Используя модуль multiprocessing разделить исполнение кода на n процессов. Каждый из которых будет осуществлять такую же операцию, что и в предыдущем задании, над одним предложением.\n",
    "\n",
    "Рекомендуется использовать механизм Queue из multiprocessing/Pool\n"
   ]
  },
  {
   "cell_type": "markdown",
   "id": "6620a9cd",
   "metadata": {},
   "source": []
  },
  {
   "cell_type": "code",
   "execution_count": null,
   "metadata": {
    "collapsed": false,
    "pycharm": {
     "name": "#%%\n"
    }
   },
   "outputs": [],
   "source": [
    "import multiprocessing\n",
    "from multiprocessing import Queue\n",
    "n = 4"
   ]
  }
 ],
 "metadata": {
  "kernelspec": {
   "display_name": "Python 3.8.11 ('pyMSU')",
   "language": "python",
   "name": "python3"
  },
  "language_info": {
   "codemirror_mode": {
    "name": "ipython",
    "version": 3
   },
   "file_extension": ".py",
   "mimetype": "text/x-python",
   "name": "python",
   "nbconvert_exporter": "python",
   "pygments_lexer": "ipython3",
   "version": "3.8.11"
  },
  "vscode": {
   "interpreter": {
    "hash": "7bb1aa37eef117b0f4569b1f316abf7d509fc1fd2e5e51595a8f586c76bab887"
   }
  }
 },
 "nbformat": 4,
 "nbformat_minor": 5
}
