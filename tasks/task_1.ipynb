{
 "cells": [
  {
   "cell_type": "markdown",
   "id": "63a164ae",
   "metadata": {
    "collapsed": false
   },
   "source": [
    "# Введение в методы анализа данных. Язык Python."
   ]
  },
  {
   "cell_type": "markdown",
   "id": "587ac5af",
   "metadata": {
    "collapsed": false
   },
   "source": [
    "## Домашняя работа 1: Процедурный подход к написанию программ.\n",
    "<br><br><br><br>\n",
    "__Ксемидов Борис (nstalker.anonim@yandex.ru)__\n",
    "\n",
    "__Аксентьев Артем (akseart@ya.ru)__\n",
    "\n",
    "\n",
    "<br>\n",
    "\n"
   ]
  },
  {
   "cell_type": "markdown",
   "id": "8e1b5b4b",
   "metadata": {
    "collapsed": false
   },
   "source": [
    "__ФИО:__ <span style=\"color:red\"> ... </span>"
   ]
  },
  {
   "cell_type": "markdown",
   "id": "5cbc877c",
   "metadata": {
    "collapsed": false
   },
   "source": [
    "__Выдана__: 17.09.2022<br>\n",
    "__Deadline__: 24.09.2022 23:59 \n",
    "\n",
    "Готовые решения в виде данного блокнота с выполненными заданиями отправлять на почту akseart@ya.ru и nstalker.anonim@yandex.ru. \n",
    "\n",
    "__Тема письма:__ \"Домашние задания Python 2022_осень\""
   ]
  },
  {
   "cell_type": "markdown",
   "id": "4779c74d",
   "metadata": {
    "collapsed": false
   },
   "source": [
    "## Критерии оценивания:\n",
    "- Правильность исполнения кода\n",
    "- Корректное исполнение на граничных случаях\n",
    "- Соблюдение PEP-8 и именования переменных\n",
    "\n",
    "Всего за работу можно получить __25__ баллов.\n",
    "\n",
    "# Особенности\n",
    "- Изменение формулировок заданий, удаление фрагментов заданий запрещено.\n",
    "- Все решения выполняются в этом блокноте и отправляются в виде единого блокнота\n",
    "- Все ячейки должны быть \"выполненными\". Под каждую задачу выполнена проверка.\n",
    "- При заимствовании кода из интернета, необходимо указать ссылку на ресурс.\n",
    "\n",
    "\n"
   ]
  },
  {
   "cell_type": "markdown",
   "id": "18308284",
   "metadata": {},
   "source": [
    "# Зачет\n",
    "\n",
    "Для выставления оценки за зачет, необходимо руководствоваться следующей таблицей:\n",
    "\n",
    "| Оценка | Необходимый балл |\n",
    "|--------|------------------|\n",
    "| 5      | 75               |\n",
    "| 4      | 65               |\n",
    "| 3      | 55               |"
   ]
  },
  {
   "cell_type": "markdown",
   "id": "4e680b3c",
   "metadata": {},
   "source": [
    "## __Задание 1.__  (5 балл)\n",
    "\n",
    "Проверить текст на правильность расстановки, круглых, фигурных и квадратных скобок, вывести тот тип скобок, который выполнен неправильно(если несколько, то любой)."
   ]
  },
  {
   "cell_type": "code",
   "execution_count": 2,
   "id": "aeb0affd",
   "metadata": {},
   "outputs": [
    {
     "name": "stdout",
     "output_type": "stream",
     "text": [
      "()()([\n"
     ]
    }
   ],
   "source": [
    "def is_correct_brackets(text):\n",
    "    print(text)\n",
    "\n",
    "is_correct_brackets(\"()([)]\") #-> (False, '[')"
   ]
  },
  {
   "cell_type": "code",
   "execution_count": 3,
   "id": "d0b6a7ba",
   "metadata": {},
   "outputs": [
    {
     "name": "stdout",
     "output_type": "stream",
     "text": [
      "{}\n"
     ]
    }
   ],
   "source": [
    "is_correct_brackets(\"{}\")"
   ]
  },
  {
   "cell_type": "markdown",
   "id": "ddf8ffa5",
   "metadata": {},
   "source": [
    "## **Задание 2.** (6 балл)\n",
    "\n",
    "Преобразовать имена переменных из snake_case в COBOL-CASE\n",
    "\n",
    "snake_case - стиль написания составных слов, при котором несколько слов разделяются символом подчеркивания (_), и не имеют пробелов в записи, причём каждое слово обычно пишется с маленькой буквы — «foo_bar», «hello_world»\n",
    "\n",
    "COBOL-CASE - стиль написания составных слов, при котором несколько слов разделяются дефисом (-), и не имеют пробелов в записи, причём все слова пишутся в верхнем регистре(FOO-BAR, HELLO-WORLD)\n",
    "\n",
    ".replace()\n",
    ".toupper()\n"
   ]
  },
  {
   "cell_type": "code",
   "execution_count": null,
   "id": "fe4925a1",
   "metadata": {},
   "outputs": [],
   "source": [
    "def change_notation(list_of_names):\n",
    "    ...\n",
    "\n",
    "change_notation([\"\", \"\"])"
   ]
  },
  {
   "cell_type": "markdown",
   "id": "624074e3",
   "metadata": {},
   "source": [
    "## **Задание 3.** (7 балл)\n",
    "\n",
    "Дан текст. Найдите в нем все символы Q, окруженные знаком #(#Q#), и добавьте перед ними '{' и после них '}'.\n",
    "\n",
    " AVADSAD#Q#ASDASDSA -> AVADSAD{#Q#}ASDASDSA\n",
    "\n",
    " ADADSASDAS#eQ# ->  ADADSASDAS#eQ#\n",
    "\n"
   ]
  },
  {
   "cell_type": "code",
   "execution_count": null,
   "id": "b1e6d9c1",
   "metadata": {},
   "outputs": [],
   "source": [
    "def escape_symbols(text):\n",
    "    ...\n",
    "\n",
    "escape_symbols(\"\")"
   ]
  },
  {
   "cell_type": "markdown",
   "id": "5d7eae12",
   "metadata": {},
   "source": [
    "## **Задание 4.** (8 балла)\n",
    "\n",
    "Написать функцию, которая будет возвращать каталог до которого задан путь.\n",
    "\n",
    "Обратите внимание, что путь может путь задан как до файла c:\\WebServers\\home\\testsite\\www\\myfile.txt\n",
    "Так и до каталога: c:\\WebServers\\home\\testsite\\www\n",
    "\n",
    "Надо смотреть на расширение файла(.txt, например)\n",
    "\n",
    "str \" \".endswith()\n"
   ]
  },
  {
   "cell_type": "code",
   "execution_count": null,
   "id": "ae09f796",
   "metadata": {
    "collapsed": false,
    "pycharm": {
     "name": "#%%\n"
    }
   },
   "outputs": [],
   "source": [
    "def get_directory(path):\n",
    "    ..."
   ]
  },
  {
   "cell_type": "markdown",
   "id": "8b9e40d9",
   "metadata": {},
   "source": [
    "## **Задание 5. Бонусное**  (до 15 баллов)\n",
    "\n",
    "Реализовать функцию, которая расшифровывает метеосводки METAR и возвращает данные в виде словаря.\n",
    "\n",
    "Допускается частичная реализация.\n",
    "\n",
    "Не обязательно задавать все возможные значения, главное реализовать код так, чтобы дополнительные данные, например, об Аэропортах могли быть добавлены. \n",
    "\n",
    "Пример: ULLI 171300Z 21005MPS 9999 SCT020CB BKN040 14/09 Q0990 R28R/290050 NOSIG -> \n",
    "```json\n",
    "{\n",
    "    \"Airport\": \"Аэропорт Пулково\",\n",
    "    \"Time\": \"17 числа в 13:00 UTC\",\n",
    "    \"Wind\": \"210 градусов, 5 метров в секунду\",\n",
    "    \"Видимость\": \"10 и более километров\",\n",
    "    \"Облачность\": \"Разбросанная облачность на высоте 2000 футов, кучево-дождевые, Сплошная облачность на высоте 4000 футов\",\n",
    "    \"Температура\": \"14 градусов, точка росы 9\",\n",
    "    \"Давление\": \"990 гПа\",\n",
    "    \"ВПП\": \"28 правая, мокрая(вода местами) 50-100% покрыто, менее миллиметра, коэффициент сцепления 0,50\",\n",
    "    \"Тренд\": \"Без изменений\"\n",
    "}\n",
    "```"
   ]
  },
  {
   "cell_type": "code",
   "execution_count": null,
   "id": "dd060ad4",
   "metadata": {},
   "outputs": [],
   "source": [
    "def get_human_metar(metar):\n",
    "    ..."
   ]
  },
  {
   "cell_type": "markdown",
   "id": "d3e0f399",
   "metadata": {},
   "source": []
  }
 ],
 "metadata": {
  "kernelspec": {
   "display_name": "Python 3.9.12 64-bit",
   "language": "python",
   "name": "python3"
  },
  "language_info": {
   "codemirror_mode": {
    "name": "ipython",
    "version": 3
   },
   "file_extension": ".py",
   "mimetype": "text/x-python",
   "name": "python",
   "nbconvert_exporter": "python",
   "pygments_lexer": "ipython3",
   "version": "3.9.13"
  },
  "vscode": {
   "interpreter": {
    "hash": "b0fa6594d8f4cbf19f97940f81e996739fb7646882a419484c72d19e05852a7e"
   }
  }
 },
 "nbformat": 4,
 "nbformat_minor": 5
}
