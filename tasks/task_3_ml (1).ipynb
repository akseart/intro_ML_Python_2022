{
 "cells": [
  {
   "cell_type": "markdown",
   "metadata": {
    "collapsed": false
   },
   "source": [
    "# Введение в методы анализа данных. Язык Python."
   ]
  },
  {
   "cell_type": "markdown",
   "metadata": {
    "collapsed": false
   },
   "source": [
    "## Домашняя работа 3: Машинное обучение\n",
    "<br><br><br><br>\n",
    "__Ксемидов Борис (nstalker.anonim@yandex.ru)__\n",
    "\n",
    "__Аксентьев Артем (akseart@ya.ru)__\n",
    "\n",
    "\n",
    "<br>\n",
    "\n"
   ]
  },
  {
   "cell_type": "markdown",
   "metadata": {
    "collapsed": false
   },
   "source": [
    "__Выдана__: 22.10.2022\n",
    "__Deadline__: 23:59 29.10.2022\n",
    "\n",
    "Готовые решения отправлять на почту akseart@ya.ru и nstalker.anonim@yandex.ru"
   ]
  },
  {
   "cell_type": "markdown",
   "metadata": {
    "collapsed": false
   },
   "source": [
    "__ФИО:__ ..."
   ]
  },
  {
   "cell_type": "markdown",
   "metadata": {
    "collapsed": false
   },
   "source": [
    "## Критерии оценивания:\n",
    "- Правильность исполнения кода\n",
    "- Корректное исполнение на граничных случаях\n",
    "- Соблюдение PEP-8 и именования переменных\n",
    "\n",
    "Всего за работу можно получить 20 баллов.\n",
    "\n",
    "Изменение формулировок заданий, удаление фрагментов заданий запрещено.\n",
    "\n",
    "Изменение тестового набора данных запрещено.\n",
    "\n",
    "Все ячейки должны быть \"выполненными\".\n",
    "\n",
    "При заимствовании кода из интернета, необходимо указать ссылку на ресурс.\n",
    "\n",
    "\n"
   ]
  },
  {
   "cell_type": "markdown",
   "metadata": {},
   "source": [
    "**Задание 1.** (10 баллов)\n",
    "Загрузить и предобработать данные для обучения и теста.\n",
    "\n",
    "__Подсказки__:\n",
    "- попробовать найти пропущенные значения (они необязательно представлены как NaN, например, \"Ветка не указана\" в столбце про метро);\n",
    "- попробовать удалить выбросы (например, с помощью [Local Outlier Factor (LOF)](https://scikit-learn.org/stable/auto_examples/neighbors/plot_lof_outlier_detection.html) или вручную);\n",
    "- попробовать обнаружить неважные признаки;\n",
    "- попробовать создать новый признак (например, с помощью этажей)."
   ]
  },
  {
   "cell_type": "code",
   "execution_count": 19,
   "metadata": {},
   "outputs": [],
   "source": [
    "import pandas as pd\n",
    "\n",
    "path_to_train = \"...\"\n",
    "path_to_test = \"...\"\n",
    "\n",
    "train_df = pd.read_csv(path_to_train)\n",
    "test_df = pd.read_csv(path_to_test)"
   ]
  },
  {
   "cell_type": "code",
   "execution_count": 218,
   "metadata": {},
   "outputs": [],
   "source": [
    "def process_df(df):\n",
    "    ...\n",
    "\n",
    "processed_train_df = process_df(train_df)\n",
    "processed_test_df = process_df(test_df)"
   ]
  },
  {
   "cell_type": "code",
   "execution_count": 219,
   "metadata": {},
   "outputs": [],
   "source": [
    "X_train, y_train = processed_train_df.drop(columns=[\"price\"]), processed_train_df[\"price\"]\n",
    "X_test, y_test = processed_test_df.drop(columns=[\"price\"]), processed_test_df[\"price\"]"
   ]
  },
  {
   "cell_type": "markdown",
   "metadata": {},
   "source": [
    "**Задание 2.** (10 баллов) Обучить модель предсказывать цену для недвижимости и оценить её качество с помощью метрик $R^2$ и RMSE. Условием выполнения задания будет метрика RMSE со значением, находящимся в интервале от 7 000 000 до 8 000 000 для тестового набора данных и от 6 000 000 до значения на тесте с небольшой погрешностью для обучающего набора данных. Для подтверждения достижения заданного значения необходимо сохранить вывод кода с вычислением данной метрики в этой тетради, а также файл формата csv с предсказанными ценами для теста.\n",
    "\n",
    "__Подсказки__:\n",
    "- пробовать обучить разные модели ([DecisionTreeRegressor](https://scikit-learn.org/stable/modules/generated/sklearn.tree.DecisionTreeRegressor.html), [LinearRegression](https://scikit-learn.org/stable/modules/generated/sklearn.linear_model.LinearRegression.html) и т.д.);\n",
    "- использовать `GridSearchCV` для перебора гиперпараметров модели.\n",
    "\n",
    "\n",
    "__Пример вычисления RMSE__:\n",
    "\n",
    "`mean_squared_error(model.predict(X_test), y_test, squared=False)`"
   ]
  },
  {
   "cell_type": "code",
   "execution_count": 221,
   "metadata": {},
   "outputs": [
    {
     "data": {
      "text/plain": [
       "LinearRegression()"
      ]
     },
     "execution_count": 221,
     "metadata": {},
     "output_type": "execute_result"
    }
   ],
   "source": [
    "from sklearn.tree import DecisionTreeRegressor\n",
    "from sklearn.linear_model import LinearRegression\n",
    "from sklearn.metrics import mean_squared_error\n",
    "\n",
    "\n",
    "model = ...\n",
    "model.fit(X_train, y_train)"
   ]
  },
  {
   "cell_type": "code",
   "execution_count": null,
   "metadata": {},
   "outputs": [],
   "source": [
    "DecisionTreeRegressor(max_depth=5)"
   ]
  },
  {
   "cell_type": "code",
   "execution_count": 222,
   "metadata": {},
   "outputs": [
    {
     "name": "stdout",
     "output_type": "stream",
     "text": [
      "Train RMSE: 6065214.187074169\n",
      "Test RMSE: 7848633.2603215\n"
     ]
    }
   ],
   "source": [
    "print(\"Train RMSE:\", mean_squared_error(model.predict(X_train), y_train, squared=False))\n",
    "print(\"Test RMSE:\", mean_squared_error(model.predict(X_test), y_test, squared=False))"
   ]
  },
  {
   "cell_type": "code",
   "execution_count": null,
   "metadata": {},
   "outputs": [],
   "source": [
    "# Для сохранения предсказанных значений готовой модели.\n",
    "# Отправлять файл вместе с выполненным заданием.\n",
    "\n",
    "def save_predicted_prices(model):\n",
    "    pred = model.predict(X_test)\n",
    "    pd.Series(pred, name=\"price\").to_csv(\"predicted.csv\", index=False)\n",
    "\n",
    "save_predicted_prices(model)"
   ]
  },
  {
   "cell_type": "markdown",
   "metadata": {},
   "source": [
    "**Задания 3 (бонус).** (10 баллов)\n",
    "\n",
    "Получить лучшую модель с RMSE ниже, чем в предыдущем задании. Баллы начисляются в зависимости от степени улучшения (например, если получится понизить показатель до ~500 000, то 10 баллов, если получиться улучшить вдвое, то 5, баллы зачисляются, начиная с 7 000 000 для теста)."
   ]
  },
  {
   "cell_type": "code",
   "execution_count": null,
   "metadata": {
    "pycharm": {
     "name": "#%%\n"
    }
   },
   "outputs": [],
   "source": []
  }
 ],
 "metadata": {
  "interpreter": {
   "hash": "e7cb1b9ae4d417fedf7f40a8eec98f7cfbd359e096bd857395a915f4609834ce"
  },
  "kernelspec": {
   "display_name": "Python 3.8.11 ('base')",
   "language": "python",
   "name": "python3"
  },
  "language_info": {
   "codemirror_mode": {
    "name": "ipython",
    "version": 3
   },
   "file_extension": ".py",
   "mimetype": "text/x-python",
   "name": "python",
   "nbconvert_exporter": "python",
   "pygments_lexer": "ipython3",
   "version": "3.8.13"
  },
  "orig_nbformat": 4
 },
 "nbformat": 4,
 "nbformat_minor": 2
}
