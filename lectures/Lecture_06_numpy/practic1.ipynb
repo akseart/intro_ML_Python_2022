{
 "cells": [
  {
   "cell_type": "markdown",
   "metadata": {
    "collapsed": false
   },
   "source": [
    "# Базовый курс по методам анализа данных и машинного обучения"
   ]
  },
  {
   "cell_type": "markdown",
   "metadata": {
    "collapsed": false,
    "pycharm": {
     "name": "#%% md\n"
    }
   },
   "source": [
    "## Практическое занятие 1:  Линейная алгебра. Интерполяция\n",
    "<br><br><br><br>\n",
    "__Аксентьев Артем (akseart@ya.ru)__\n",
    "\n",
    "__Ксемидов Борис (nstalker.anonim@yandex.ru)__\n",
    "<br>"
   ]
  },
  {
   "cell_type": "markdown",
   "metadata": {
    "collapsed": false,
    "pycharm": {
     "name": "#%% md\n"
    }
   },
   "source": [
    "# Линейная алгебра"
   ]
  },
  {
   "cell_type": "code",
   "execution_count": null,
   "metadata": {
    "collapsed": false,
    "pycharm": {
     "name": "#%%\n"
    }
   },
   "outputs": [],
   "source": [
    "import numpy as np"
   ]
  },
  {
   "cell_type": "markdown",
   "metadata": {
    "collapsed": false,
    "pycharm": {
     "name": "#%% md\n"
    }
   },
   "source": [
    "# Создание матриц"
   ]
  },
  {
   "cell_type": "code",
   "execution_count": null,
   "metadata": {
    "collapsed": false,
    "pycharm": {
     "name": "#%%\n"
    }
   },
   "outputs": [],
   "source": [
    "np.matrix('1 2; 3 4')"
   ]
  },
  {
   "cell_type": "code",
   "execution_count": null,
   "metadata": {
    "collapsed": false,
    "pycharm": {
     "name": "#%%\n"
    }
   },
   "outputs": [],
   "source": [
    "np.matrix([[1, 2], [3, 4]])"
   ]
  },
  {
   "cell_type": "code",
   "execution_count": null,
   "metadata": {
    "collapsed": false,
    "pycharm": {
     "name": "#%%\n"
    }
   },
   "outputs": [],
   "source": [
    "np.matrix([1, 2])"
   ]
  },
  {
   "cell_type": "code",
   "execution_count": null,
   "metadata": {
    "collapsed": false,
    "pycharm": {
     "name": "#%%\n"
    }
   },
   "outputs": [],
   "source": [
    "np.matrix(np.zeros((3, 2)))"
   ]
  },
  {
   "cell_type": "code",
   "execution_count": null,
   "metadata": {
    "collapsed": false,
    "pycharm": {
     "name": "#%%\n"
    }
   },
   "outputs": [],
   "source": [
    "a = np.empty((3, 2))\n",
    "b = np.empty((3, 2))\n",
    "a, b, a+b"
   ]
  },
  {
   "cell_type": "markdown",
   "metadata": {
    "collapsed": false
   },
   "source": [
    "## Сложение двух матриц"
   ]
  },
  {
   "cell_type": "code",
   "execution_count": null,
   "metadata": {
    "collapsed": false,
    "pycharm": {
     "name": "#%%\n"
    }
   },
   "outputs": [],
   "source": [
    "import numpy as np\n",
    "A = np.matrix([\n",
    "    [3, 5],\n",
    "    [1, 0]\n",
    "])\n",
    "B = np.matrix([\n",
    "    [2, -3],\n",
    "    [10, 20]\n",
    "])\n",
    "print(A + B)"
   ]
  },
  {
   "cell_type": "code",
   "execution_count": null,
   "metadata": {
    "collapsed": false,
    "pycharm": {
     "name": "#%%\n"
    }
   },
   "outputs": [],
   "source": [
    "A + 2"
   ]
  },
  {
   "cell_type": "markdown",
   "metadata": {
    "collapsed": false,
    "pycharm": {
     "name": "#%% md\n"
    }
   },
   "source": [
    "## Умножение матриц"
   ]
  },
  {
   "cell_type": "code",
   "execution_count": null,
   "metadata": {
    "collapsed": false,
    "pycharm": {
     "name": "#%%\n"
    }
   },
   "outputs": [],
   "source": [
    "import numpy as np\n",
    "A = np.matrix([\n",
    "    [3, 5],\n",
    "    [1, 0]\n",
    "])\n",
    "\n",
    "print(A * 2)"
   ]
  },
  {
   "cell_type": "code",
   "execution_count": null,
   "metadata": {
    "collapsed": false,
    "pycharm": {
     "name": "#%%\n"
    }
   },
   "outputs": [],
   "source": [
    "import numpy as np\n",
    "A = np.matrix([\n",
    "    [3, 5],\n",
    "    [1, 0]\n",
    "])\n",
    "B = np.matrix([\n",
    "    [2, -3],\n",
    "    [10, 20]\n",
    "])\n",
    "print(A * B)"
   ]
  },
  {
   "cell_type": "code",
   "execution_count": null,
   "metadata": {
    "collapsed": false,
    "pycharm": {
     "name": "#%%\n"
    }
   },
   "outputs": [],
   "source": [
    "A = np.array([\n",
    "    [3, 5],\n",
    "    [1, 0]\n",
    "])\n",
    "B = np.array([\n",
    "    [2, -3],\n",
    "    [10, 20]\n",
    "])\n",
    "print(A*B)"
   ]
  },
  {
   "cell_type": "code",
   "execution_count": null,
   "metadata": {
    "collapsed": false,
    "pycharm": {
     "name": "#%%\n"
    }
   },
   "outputs": [],
   "source": [
    "print(A.dot(B))"
   ]
  },
  {
   "cell_type": "code",
   "execution_count": null,
   "metadata": {
    "collapsed": false,
    "pycharm": {
     "name": "#%%\n"
    }
   },
   "outputs": [],
   "source": [
    "print(B.dot(A))"
   ]
  },
  {
   "cell_type": "code",
   "execution_count": null,
   "metadata": {
    "collapsed": false,
    "pycharm": {
     "name": "#%%\n"
    }
   },
   "outputs": [],
   "source": [
    "A @ B"
   ]
  },
  {
   "cell_type": "markdown",
   "metadata": {
    "collapsed": false
   },
   "source": [
    "## Деление матриц"
   ]
  },
  {
   "cell_type": "code",
   "execution_count": null,
   "metadata": {
    "collapsed": false,
    "pycharm": {
     "name": "#%%\n"
    }
   },
   "outputs": [],
   "source": [
    "A = np.array([\n",
    "    [3, 5],\n",
    "    [1, 0]\n",
    "])\n",
    "B = np.array([\n",
    "    [2, -3],\n",
    "    [10, 20]\n",
    "])\n",
    "\n",
    "A/B"
   ]
  },
  {
   "cell_type": "markdown",
   "metadata": {
    "collapsed": false,
    "pycharm": {
     "name": "#%% md\n"
    }
   },
   "source": [
    "## Транспонирование матриц"
   ]
  },
  {
   "cell_type": "code",
   "execution_count": null,
   "metadata": {
    "collapsed": false,
    "pycharm": {
     "name": "#%%\n"
    }
   },
   "outputs": [],
   "source": [
    "A = np.array([\n",
    "    [3, 5],\n",
    "    [1, 0]\n",
    "])\n",
    "\n",
    "print(A.T)"
   ]
  },
  {
   "cell_type": "markdown",
   "metadata": {
    "collapsed": false,
    "pycharm": {
     "name": "#%% md\n"
    }
   },
   "source": [
    "## Определитель матрицы"
   ]
  },
  {
   "cell_type": "code",
   "execution_count": null,
   "metadata": {
    "collapsed": false,
    "pycharm": {
     "name": "#%%\n"
    }
   },
   "outputs": [],
   "source": [
    "A = np.array([\n",
    "    [3, 2],\n",
    "    [1, 6]\n",
    "])\n",
    "\n",
    "np.linalg.det(A)"
   ]
  },
  {
   "cell_type": "markdown",
   "metadata": {
    "collapsed": false,
    "pycharm": {
     "name": "#%% md\n"
    }
   },
   "source": [
    "## Обратная матрица"
   ]
  },
  {
   "cell_type": "code",
   "execution_count": null,
   "metadata": {
    "collapsed": false,
    "pycharm": {
     "name": "#%%\n"
    }
   },
   "outputs": [],
   "source": [
    "A = np.matrix([\n",
    "    [4, 9],\n",
    "    [5, 4]\n",
    "])\n",
    "print(np.linalg.inv(A))"
   ]
  },
  {
   "cell_type": "code",
   "execution_count": null,
   "metadata": {
    "collapsed": false,
    "pycharm": {
     "name": "#%%\n"
    }
   },
   "outputs": [],
   "source": [
    "A @ np.linalg.inv(A)"
   ]
  },
  {
   "cell_type": "markdown",
   "metadata": {
    "collapsed": false
   },
   "source": [
    "## Работа с матрично-векторными выражениями"
   ]
  },
  {
   "cell_type": "code",
   "execution_count": null,
   "metadata": {
    "collapsed": false,
    "pycharm": {
     "name": "#%%\n"
    }
   },
   "outputs": [],
   "source": [
    "A = np.matrix([\n",
    "    [4, 3],\n",
    "    [5, 4]\n",
    "])\n",
    "B = np.array([1, 2])\n",
    "A+B"
   ]
  },
  {
   "cell_type": "code",
   "execution_count": null,
   "metadata": {
    "collapsed": false,
    "pycharm": {
     "name": "#%%\n"
    }
   },
   "outputs": [],
   "source": [
    "A = np.array([\n",
    "    [4, 3],\n",
    "    [5, 4]\n",
    "])\n",
    "B = np.array([1, 2])\n"
   ]
  },
  {
   "cell_type": "code",
   "execution_count": null,
   "metadata": {
    "collapsed": false,
    "pycharm": {
     "name": "#%%\n"
    }
   },
   "outputs": [],
   "source": [
    "A@B"
   ]
  },
  {
   "cell_type": "code",
   "execution_count": null,
   "metadata": {
    "collapsed": false,
    "pycharm": {
     "name": "#%%\n"
    }
   },
   "outputs": [],
   "source": [
    "A.dot(B)"
   ]
  },
  {
   "cell_type": "markdown",
   "metadata": {
    "collapsed": false,
    "pycharm": {
     "name": "#%% md\n"
    }
   },
   "source": [
    "# Интерполяция"
   ]
  },
  {
   "cell_type": "markdown",
   "metadata": {
    "collapsed": false,
    "pycharm": {
     "name": "#%% md\n"
    }
   },
   "source": [
    "$f(x)$ действительного аргумента на отрезке $[a,b]$ — нахождение коэффициентов многочлена $P_n(x)$ степени меньшей или равной\n",
    "$n$, принимающего при значениях аргумента $x_0,\\ x_1,\\ \\ldots,\\ x_n$ значения\n",
    "\n",
    "$f(x_{i})$, множество $x_0,\\ x_1,\\ \\ldots,\\ x_n$ называют узлами интерполяции:\n",
    "$$P_{n}(x_{i})=f(x_{i}),\\quad i=0,\\ 1,\\ ...,\\ n.$$\n",
    "\n",
    "Система линейных алгебраических уравнений, определяющих коэффициенты $a_{i}$ такого многочлена, имеет вид:\n",
    "\n",
    "$$P_{n}(x_{i})=a_{0}+a_{1}x_{i}+a_{2}x_{i}^{2}+\\ldots +a_{n}x_{i}^{n}=f(x_{i}),\\quad i=0,\\ 1,\\ \\ldots ,\\ n.$$"
   ]
  },
  {
   "cell_type": "code",
   "execution_count": null,
   "metadata": {
    "collapsed": false,
    "pycharm": {
     "name": "#%%\n"
    }
   },
   "outputs": [],
   "source": [
    "import plotly.graph_objs as go\n",
    "import numpy as np"
   ]
  },
  {
   "cell_type": "code",
   "execution_count": null,
   "metadata": {
    "collapsed": false,
    "pycharm": {
     "name": "#%%\n"
    }
   },
   "outputs": [],
   "source": [
    "x = [0, 1, 2, 3]\n",
    "y = [0, 3, 5, 4]"
   ]
  },
  {
   "cell_type": "code",
   "execution_count": null,
   "metadata": {
    "collapsed": false,
    "pycharm": {
     "name": "#%%\n"
    }
   },
   "outputs": [],
   "source": [
    "x, y"
   ]
  },
  {
   "cell_type": "code",
   "execution_count": null,
   "metadata": {
    "collapsed": false,
    "pycharm": {
     "name": "#%%\n"
    }
   },
   "outputs": [],
   "source": [
    "x = [0, 1, 2, 2.5, 3, 4]\n",
    "y = np.sin(x)"
   ]
  },
  {
   "cell_type": "code",
   "execution_count": null,
   "metadata": {
    "collapsed": false,
    "pycharm": {
     "name": "#%%\n"
    }
   },
   "outputs": [],
   "source": [
    "fig = go.Figure()\n",
    "x1 = np.linspace(0, 4, 400)\n",
    "fig.add_trace(go.Scatter(x=x1, y=np.sin(x1)))\n",
    "fig.add_trace(go.Scatter(x=x, y =y, mode='markers', name=\"2\"))\n",
    "fig.show()"
   ]
  },
  {
   "cell_type": "code",
   "execution_count": null,
   "metadata": {
    "collapsed": false,
    "pycharm": {
     "name": "#%%\n"
    }
   },
   "outputs": [],
   "source": [
    "M1 = np.array([[xi**i for i in range(len(y))]  for xi in x]) # Матрица (левая часть системы)\n",
    "v1 = y"
   ]
  },
  {
   "cell_type": "code",
   "execution_count": null,
   "metadata": {
    "collapsed": false,
    "pycharm": {
     "name": "#%%\n"
    }
   },
   "outputs": [],
   "source": [
    "interpolate_X = np.linalg.solve(M1, v1)\n",
    "interpolate_X"
   ]
  },
  {
   "cell_type": "code",
   "execution_count": null,
   "metadata": {
    "collapsed": false,
    "pycharm": {
     "name": "#%%\n"
    }
   },
   "outputs": [],
   "source": [
    "def get_n_polynom(X, x):\n",
    "    return sum(x**i * item for i, item in enumerate(X))\n"
   ]
  },
  {
   "cell_type": "code",
   "execution_count": null,
   "metadata": {
    "collapsed": false,
    "pycharm": {
     "name": "#%%\n"
    }
   },
   "outputs": [],
   "source": [
    "fig = go.Figure()\n",
    "x1 = np.linspace(0, 4, 400)\n",
    "fig.add_trace(go.Scatter(x=x1, y=np.sin(x1)))\n",
    "fig.add_trace(go.Scatter(x=x, y =y, mode='markers'))\n",
    "fig.add_trace(go.Scatter(x=x, y =[get_n_polynom(interpolate_X, i ) for i in  x]))\n",
    "fig.show()"
   ]
  },
  {
   "cell_type": "markdown",
   "metadata": {
    "collapsed": false
   },
   "source": [
    "## Линейная интерполяция"
   ]
  },
  {
   "cell_type": "markdown",
   "metadata": {
    "collapsed": false
   },
   "source": [
    "Геометрически это означает замену графика функции $f(x)$ прямой, проходящей через точки $\\left[x_{0}, f\\left(x_{0}\\right)\\right]$ и $\\left[x_{1}, f\\left(x_{1}\\right)\\right]$.\n",
    "Уравнение такой прямой имеет вид:\n",
    "$$\n",
    "\\frac{y-f\\left(x_{0}\\right)}{f\\left(x_{1}\\right)-f\\left(x_{0}\\right)}=\\frac{x-x_{0}}{x_{1}-x_{0}}\n",
    "$$\n",
    "отсюда для $x \\in\\left[x_{0}, x_{1}\\right]$ :\n",
    "$$\n",
    "\\begin{aligned}\n",
    "&f(x) \\approx y=P_{1}(x)= \\\\\n",
    "&=f\\left(x_{0}\\right)+\\frac{f\\left(x_{1}\\right)-f\\left(x_{0}\\right)}{x_{1}-x_{0}}\\left(x-x_{0}\\right)\n",
    "\\end{aligned}\n",
    "$$"
   ]
  },
  {
   "cell_type": "code",
   "execution_count": null,
   "metadata": {
    "collapsed": false,
    "pycharm": {
     "name": "#%%\n"
    }
   },
   "outputs": [],
   "source": [
    "def lineal_interpolation(X, Y, x):\n",
    "    for i in range(len(X)-1):\n",
    "        if  X[i] <= x < X[i+1]:\n",
    "            return Y[i] + (Y[i+1] - Y[i]) / (X[i+1] - X[i])  * (x - X[i])\n"
   ]
  },
  {
   "cell_type": "code",
   "execution_count": null,
   "metadata": {
    "collapsed": false,
    "pycharm": {
     "name": "#%%\n"
    }
   },
   "outputs": [],
   "source": [
    "x, y"
   ]
  },
  {
   "cell_type": "code",
   "execution_count": null,
   "metadata": {
    "collapsed": false,
    "pycharm": {
     "name": "#%%\n"
    }
   },
   "outputs": [],
   "source": [
    "fig = go.Figure()\n",
    "x1 = np.linspace(0, 4, 400)\n",
    "fig.add_trace(go.Scatter(x=x1, y=np.sin(x1)))\n",
    "fig.add_trace(go.Scatter(x=x, y =y, mode='markers'))\n",
    "fig.add_trace(go.Scatter(x=x1, y =[lineal_interpolation(x, y, i) for i in  x1]))\n",
    "fig.show()"
   ]
  },
  {
   "cell_type": "markdown",
   "metadata": {
    "collapsed": false,
    "pycharm": {
     "name": "#%% md\n"
    }
   },
   "source": [
    "## Интерполяционный полином Лагранжа"
   ]
  },
  {
   "cell_type": "markdown",
   "metadata": {
    "collapsed": false
   },
   "source": [
    "Пусть задана $n+1$ пара чисел $ (x_{0},y_{0}),(x_{1},y_{1}),\\ldots ,(x_{n},y_{n}),$ где все\n",
    "$x_{j}$ различны. Требуется построить многочлен $L(x)$ степени не более $n$, для которого\n",
    "$ L(x_{j})=y_{j}$.\n",
    "\n",
    "Ж. Л. Лагранж предложил следующий способ вычисления таких многочленов:\n",
    "\n",
    "$$ L(x)=\\sum _{i=0}^{n}y_{i}l_{i}(x),$$\n",
    "где базисные полиномы $l_{i}$ определяются по формуле\n",
    "$$ l_{i}(x)=\\prod _{j=0,j\\neq i}^{n}{\\frac {x-x_{j}}{x_{i}-x_{j}}}={\\frac {x-x_{0}}{x_{i}-x_{0}}}\\cdots {\\frac {x-x_{i-1}}{x_{i}-x_{i-1}}}\\cdot {\\frac {x-x_{i+1}}{x_{i}-x_{i+1}}}\\cdots {\\frac {x-x_{n}}{x_{i}-x_{n}}}$$"
   ]
  },
  {
   "cell_type": "code",
   "execution_count": null,
   "metadata": {
    "collapsed": false,
    "pycharm": {
     "name": "#%%\n"
    }
   },
   "outputs": [],
   "source": [
    "X = np.array([0, 0.2, 0.3, 0.55, 0.7, 0.8])\n",
    "Y = np.sin(X)"
   ]
  },
  {
   "cell_type": "code",
   "execution_count": null,
   "metadata": {
    "collapsed": false,
    "pycharm": {
     "name": "#%%\n"
    }
   },
   "outputs": [],
   "source": [
    "class Lagrangian:\n",
    "    def __init__(self, X, Y):\n",
    "        self.X = X\n",
    "        self.Y = Y\n",
    "\n",
    "    def __lagrangian(self, x):\n",
    "        result = 0\n",
    "        for i, y in enumerate(self.Y):\n",
    "            multiplicity = 1\n",
    "            for j, _ in enumerate(self.X):\n",
    "                if j == i:\n",
    "                    continue\n",
    "                multiplicity *= (x - self.X[j]) / (self.X[i] - self.X[j])\n",
    "            result += y * multiplicity\n",
    "        return result\n",
    "\n",
    "    def __call__(self, x):\n",
    "        return self.__lagrangian(x)\n"
   ]
  },
  {
   "cell_type": "code",
   "execution_count": null,
   "metadata": {
    "collapsed": false,
    "pycharm": {
     "name": "#%%\n"
    }
   },
   "outputs": [],
   "source": [
    "lag = Lagrangian(X, Y)"
   ]
  },
  {
   "cell_type": "code",
   "execution_count": null,
   "metadata": {
    "collapsed": false,
    "pycharm": {
     "name": "#%%\n"
    }
   },
   "outputs": [],
   "source": [
    "X, Y"
   ]
  },
  {
   "cell_type": "code",
   "execution_count": null,
   "metadata": {
    "collapsed": false,
    "pycharm": {
     "name": "#%%\n"
    }
   },
   "outputs": [],
   "source": [
    "lag(0.55)"
   ]
  },
  {
   "cell_type": "code",
   "execution_count": null,
   "metadata": {
    "collapsed": false,
    "pycharm": {
     "name": "#%%\n"
    }
   },
   "outputs": [],
   "source": [
    "fig = go.Figure()\n",
    "x1 = np.linspace(0, 4, 400)\n",
    "fig.add_trace(go.Scatter(x=X, y=Y, mode='markers', name=\"Interpolations point\"))\n",
    "fig.add_trace(go.Scatter(x=x1, y =[lag(x) for x in x1], name=\"Interpolations line\"))\n",
    "fig.add_trace(go.Scatter(x=x1, y=np.sin(x1), name=\"original function\"))\n",
    "fig.show()"
   ]
  },
  {
   "cell_type": "markdown",
   "metadata": {
    "collapsed": false,
    "pycharm": {
     "name": "#%% md\n"
    }
   },
   "source": [
    "## Интерполяционный полином Ньютона"
   ]
  },
  {
   "cell_type": "markdown",
   "metadata": {
    "collapsed": false
   },
   "source": [
    "$$\n",
    "P_{\\mathrm{n}}(x)=\\mathrm{a}_{0}+\\mathrm{a}_{1}\\left(x-x_{0}\\right)+\\mathrm{a}_{2}\\left(x-x_{0}\\right)\\left(x-x_{1}\\right)+\\ldots+\\mathrm{a}_{\\mathrm{n}}\\left(x-x_{0}\\right)\\ldots\\left(x-x_{n-1}\\right)\n",
    "$$\n",
    "$$\n",
    "a_{k}=\\frac{\\Delta^{k} y_{0}}{k ! h^{k}} \\quad, \\quad k=1 . . n .\n",
    "$$\n",
    "Конечные разности первого порядка\n",
    "$$\\Delta y_{0}=y_{1}-y_{0}$$\n",
    "$$\\Delta y_{1}=y_{2}-y_{1}$$\n",
    "$$\\ldots$$\n",
    "$$\\Delta y_{n-1}=y_{n}-y_{n-1} .$$\n",
    "Конечные разности второго порядка\n",
    "$$\\Delta^{2} y_{0}=\\Delta y_{1}-\\Delta y_{0}$$\n",
    "$$\\Delta^{2} y_{1}=\\Delta y_{2}-\\Delta y_{1}$$\n",
    "$$\\Delta y_{n-2}={\\Delta y_{n-1}}-{\\Delta y_{n-2}}$$\n",
    "Аналогично определяются конечные разности высших порядков:\n",
    "$$\n",
    "\\begin{aligned}\n",
    "&\\Delta^{k} y_{0}=\\Delta^{k-1} y_{1}-\\Delta^{k-1} y_{0} \\\\\n",
    "&\\Delta^{k} y_{1}=\\Delta^{k-1} y_{2}-\\Delta^{k-1} y_{1}\n",
    "\\end{aligned}\n",
    "$$\n",
    "Подставляя эти выражения в формулу полинома, получаем:\n",
    "$$\n",
    "\\begin{gathered}\n",
    "P_{n}(X)=y_{0}+\\frac{\\Delta y_{0}}{1 ! \\cdot h}\\left(x-x_{0}\\right)+\\frac{\\Delta^{2} y_{0}}{2 ! \\cdot h^{2}}\\left(x-x_{0}\\right)\\left(x-x_{1}\\right)+\\ldots \\\\\n",
    "\\ldots+\\frac{\\Delta^{n} y_{0}}{n ! \\cdot h^{n}}\\left(x-x_{0}\\right) \\ldots\\left(x-x_{n-1}\\right),\n",
    "\\end{gathered}\n",
    "$$\n",
    "- h-- разность между узлами интерполяции. Величина постоянная, т.е. узлы интерполяции равноотстоят друг от друга."
   ]
  },
  {
   "cell_type": "code",
   "execution_count": null,
   "metadata": {
    "collapsed": false,
    "pycharm": {
     "name": "#%%\n"
    }
   },
   "outputs": [],
   "source": [
    "diff = np.zeros((len(Y), len(Y)))\n",
    "diff"
   ]
  },
  {
   "cell_type": "code",
   "execution_count": null,
   "metadata": {
    "collapsed": false,
    "pycharm": {
     "name": "#%%\n"
    }
   },
   "outputs": [],
   "source": [
    "import math\n",
    "\n",
    "def newton(X, Y, x):\n",
    "    h = X[1] - X[0]\n",
    "    res = 0\n",
    "    diff = np.zeros((len(Y), len(Y)))\n",
    "    diff[:,0] = Y\n",
    "    for i in range(1, len(Y)):\n",
    "        for j in range(len(Y) - i):\n",
    "            diff[j, i] = diff[j+1, i-1] - diff[j, i-1]\n",
    "    for y_num, y_i in enumerate(Y):\n",
    "        item = diff[0, y_num]/(math.factorial(y_num) * h**y_num)\n",
    "        for x_i in X[:y_num]:\n",
    "            item *= (x - x_i)\n",
    "        res += item\n",
    "\n",
    "    return res"
   ]
  },
  {
   "cell_type": "code",
   "execution_count": null,
   "metadata": {
    "collapsed": false,
    "pycharm": {
     "name": "#%%\n"
    }
   },
   "outputs": [],
   "source": [
    "X = np.linspace(0, 2, 5)\n",
    "Y = np.sin(X)"
   ]
  },
  {
   "cell_type": "code",
   "execution_count": null,
   "metadata": {
    "collapsed": false,
    "pycharm": {
     "name": "#%%\n"
    }
   },
   "outputs": [],
   "source": [
    "X, Y"
   ]
  },
  {
   "cell_type": "code",
   "execution_count": null,
   "metadata": {
    "collapsed": false,
    "pycharm": {
     "name": "#%%\n"
    }
   },
   "outputs": [],
   "source": [
    "newton(X, Y, 0.5)"
   ]
  },
  {
   "cell_type": "code",
   "execution_count": null,
   "metadata": {
    "collapsed": false,
    "pycharm": {
     "name": "#%%\n"
    }
   },
   "outputs": [],
   "source": [
    "fig = go.Figure()\n",
    "x1 = np.linspace(0, 6, 400)\n",
    "fig.add_trace(go.Scatter(x=X, y=Y, mode='markers'))\n",
    "fig.add_trace(go.Scatter(x=x1, y =[newton(X, Y, x) for x in x1]))\n",
    "fig.add_trace(go.Scatter(x=x1, y=np.sin(x1)))\n",
    "fig.show()"
   ]
  },
  {
   "cell_type": "code",
   "execution_count": null,
   "metadata": {
    "collapsed": false,
    "pycharm": {
     "name": "#%%\n"
    }
   },
   "outputs": [],
   "source": [
    "class Newton:\n",
    "    def __init__(self, X, Y):\n",
    "        self.X = X\n",
    "        self.Y = Y\n",
    "        self.h = X[1] - X[0]\n",
    "        self.diff = np.zeros((len(Y), len(Y)))\n",
    "        self.diff[:,0] = Y\n",
    "        for i in range(1, len(Y)):\n",
    "            for j in range(len(Y) - i):\n",
    "                self.diff[j, i] = self.diff[j+1, i-1] - self.diff[j, i-1]\n",
    "\n",
    "    def __call__(self, x):\n",
    "        res = 0\n",
    "        for y_num, y_i in enumerate(Y):\n",
    "            item = self.diff[0, y_num]/(math.factorial(y_num) * self.h**y_num)\n",
    "            for x_i in self.X[:y_num]:\n",
    "                item *= (x - x_i)\n",
    "            res += item\n",
    "        return res"
   ]
  },
  {
   "cell_type": "code",
   "execution_count": null,
   "metadata": {
    "collapsed": false,
    "pycharm": {
     "name": "#%%\n"
    }
   },
   "outputs": [],
   "source": [
    "X = np.linspace(0, 5, 10)\n",
    "Y = np.sin(X)"
   ]
  },
  {
   "cell_type": "code",
   "execution_count": null,
   "metadata": {
    "collapsed": false,
    "pycharm": {
     "name": "#%%\n"
    }
   },
   "outputs": [],
   "source": [
    "newt = Newton(X, Y)"
   ]
  },
  {
   "cell_type": "code",
   "execution_count": null,
   "metadata": {
    "collapsed": false,
    "pycharm": {
     "name": "#%%\n"
    }
   },
   "outputs": [],
   "source": [
    "X, Y"
   ]
  },
  {
   "cell_type": "code",
   "execution_count": null,
   "metadata": {
    "collapsed": false,
    "pycharm": {
     "name": "#%%\n"
    }
   },
   "outputs": [],
   "source": [
    "newt(0.5)"
   ]
  },
  {
   "cell_type": "code",
   "execution_count": null,
   "metadata": {
    "collapsed": false,
    "pycharm": {
     "name": "#%%\n"
    }
   },
   "outputs": [],
   "source": [
    "fig = go.Figure()\n",
    "x1 = np.linspace(0, 10, 400)\n",
    "fig.add_trace(go.Scatter(x=X, y=Y, mode='markers'))\n",
    "fig.add_trace(go.Scatter(x=x1, y =[newt(x) for x in x1]))\n",
    "fig.add_trace(go.Scatter(x=x1, y=np.sin(x1)))\n",
    "fig.show()"
   ]
  },
  {
   "cell_type": "markdown",
   "metadata": {
    "collapsed": false,
    "pycharm": {
     "name": "#%% md\n"
    }
   },
   "source": [
    "# Домашнее задание(к субботе):\n",
    "1. Решить следующие примеры \"руками\", а затем проверить на Python:\n",
    "    - Вычислить определитель $\n",
    "        \\left|\\begin{array}{ccc}\n",
    "        -4 & -1 & 1 \\\\\n",
    "        1 & 5 & -2 \\\\\n",
    "        1 & -3 & 1\n",
    "        \\end{array}\\right|\n",
    "    $\n",
    "    - Вычислить произведение матриц: $\\left(\\begin{array}{lll}1 & -3 & 2 \\\\ 3 & -4 & 1 \\\\ 2 & -5 & 3\\end{array}\\right) \\cdot\\left(\\begin{array}{lll}2 & 5 & 6 \\\\ 1 & 2 & 5 \\\\ 1 & 3 & 2\\end{array}\\right)$\n",
    "    - Вычислить произведение матриц: $\\left(\\begin{array}{ll}4 & 3 \\\\ 7 & 5\\end{array}\\right) \\cdot\\left(\\begin{array}{cc}-28 & 93 \\\\ 38 & -126\\end{array}\\right) \\cdot\\left(\\begin{array}{ll}7 & 3 \\\\ 2 & 1\\end{array}\\right)$\n",
    "    - Вычислить произведение матриц: $\\left(\\begin{array}{lll}1 & -3 & 2 \\\\ 3 & -4 & 1 \\\\ 2 & -5 & 3\\end{array}\\right) \\cdot\\left(\\begin{array}{lll}2 & 5 & 6 \\\\ 1 & 2 & 5 \\\\ 1 & 3 & 2 \\\\ 24 & 22 & 13\\end{array}\\right)$\n",
    "2. Разобраться в обратном алгоритме Ньютона и реализовать его на Python\n",
    "3. Для предыдущего задания реализовать возможность передавать последовательность для получения данных интерполяции *"
   ]
  },
  {
   "cell_type": "markdown",
   "metadata": {
    "collapsed": false
   },
   "source": [
    "# Рекомендуемая литература:\n",
    "- http://cs.mipt.ru/advanced_python/lessons/lab16.html#section-3\n",
    "- http://www.myshared.ru/slide/616612/"
   ]
  },
  {
   "cell_type": "code",
   "execution_count": null,
   "metadata": {
    "collapsed": false,
    "pycharm": {
     "name": "#%%\n"
    }
   },
   "outputs": [],
   "source": []
  }
 ],
 "metadata": {
  "kernelspec": {
   "display_name": "Python 3.9.12 64-bit",
   "language": "python",
   "name": "python3"
  },
  "language_info": {
   "codemirror_mode": {
    "name": "ipython",
    "version": 3
   },
   "file_extension": ".py",
   "mimetype": "text/x-python",
   "name": "python",
   "nbconvert_exporter": "python",
   "pygments_lexer": "ipython3",
   "version": "3.9.13"
  },
  "vscode": {
   "interpreter": {
    "hash": "b0fa6594d8f4cbf19f97940f81e996739fb7646882a419484c72d19e05852a7e"
   }
  }
 },
 "nbformat": 4,
 "nbformat_minor": 0
}
