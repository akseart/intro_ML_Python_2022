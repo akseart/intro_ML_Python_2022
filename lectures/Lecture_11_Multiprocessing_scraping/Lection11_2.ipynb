{
 "cells": [
  {
   "cell_type": "markdown",
   "metadata": {},
   "source": [
    "# Введение в методы анализа данных. Язык Python."
   ]
  },
  {
   "cell_type": "markdown",
   "metadata": {},
   "source": [
    "## Лекция 11.   Использование Python для сбора данных. Web-scraping.\n",
    "<br><br><br><br>\n",
    "__Аксентьев Артем (akseart@ya.ru)__\n",
    "\n",
    "__Ксемидов Борис (nstalker.anonim@yandex.ru)__\n",
    "<br>\n"
   ]
  },
  {
   "cell_type": "markdown",
   "metadata": {
    "collapsed": false,
    "pycharm": {
     "name": "#%% md\n"
    }
   },
   "source": [
    "Задача:\n",
    "Спарсить  сайт по продаже авто, необходимо получить цену и характеристики"
   ]
  },
  {
   "cell_type": "code",
   "execution_count": 1,
   "metadata": {
    "collapsed": false,
    "pycharm": {
     "name": "#%%\n"
    }
   },
   "outputs": [],
   "source": [
    "import requests\n",
    "\n",
    "page = requests.get(\"https://auto.drom.ru/all/page1\")"
   ]
  },
  {
   "cell_type": "code",
   "execution_count": null,
   "metadata": {
    "collapsed": false,
    "pycharm": {
     "name": "#%%\n"
    }
   },
   "outputs": [],
   "source": [
    "page.text"
   ]
  },
  {
   "cell_type": "code",
   "execution_count": 3,
   "metadata": {
    "collapsed": false,
    "pycharm": {
     "name": "#%%\n"
    }
   },
   "outputs": [],
   "source": [
    "from bs4 import BeautifulSoup\n",
    "soup = BeautifulSoup(page.text, \"html.parser\")"
   ]
  },
  {
   "cell_type": "code",
   "execution_count": 4,
   "metadata": {
    "collapsed": false,
    "pycharm": {
     "name": "#%%\n"
    }
   },
   "outputs": [
    {
     "data": {
      "text/plain": [
       "[<span data-ftid=\"bull_title\">BMW 2-Series Gran Tourer, 2017</span>,\n",
       " <span data-ftid=\"bull_title\">BMW 5-Series, 2014</span>,\n",
       " <span data-ftid=\"bull_title\">Kia Carnival, 2020</span>,\n",
       " <span data-ftid=\"bull_title\">Hyundai Palisade, 2020</span>,\n",
       " <span data-ftid=\"bull_title\">Volkswagen Polo, 2021</span>,\n",
       " <span data-ftid=\"bull_title\">Audi A6, 2019</span>,\n",
       " <span data-ftid=\"bull_title\">Audi A5, 2019</span>,\n",
       " <span data-ftid=\"bull_title\">Mercedes-Benz C-Class, 2012</span>,\n",
       " <span data-ftid=\"bull_title\">Audi A5, 2011</span>,\n",
       " <span data-ftid=\"bull_title\">Mitsubishi Montero Sport, 2022</span>,\n",
       " <span data-ftid=\"bull_title\">Nissan Teana, 2010</span>,\n",
       " <span data-ftid=\"bull_title\">Honda Stepwgn, 2018</span>,\n",
       " <span data-ftid=\"bull_title\">Nissan Note, 2018</span>,\n",
       " <span data-ftid=\"bull_title\">Honda Stepwgn, 2019</span>,\n",
       " <span data-ftid=\"bull_title\">Volkswagen Passat, 2012</span>,\n",
       " <span data-ftid=\"bull_title\">Nissan Qashqai, 2015</span>,\n",
       " <span data-ftid=\"bull_title\">Toyota Land Cruiser Prado, 2004</span>,\n",
       " <span data-ftid=\"bull_title\">Volvo XC60, 2010</span>,\n",
       " <span data-ftid=\"bull_title\">Mitsubishi Outlander, 2010</span>,\n",
       " <span data-ftid=\"bull_title\">Opel Astra, 2010</span>]"
      ]
     },
     "execution_count": 4,
     "metadata": {},
     "output_type": "execute_result"
    }
   ],
   "source": [
    "soup.find_all(\"span\", {\"data-ftid\":\"bull_title\"})"
   ]
  },
  {
   "cell_type": "code",
   "execution_count": 5,
   "metadata": {
    "collapsed": false,
    "pycharm": {
     "name": "#%%\n"
    }
   },
   "outputs": [],
   "source": [
    "cars = soup.find_all(\"a\", {\"data-ftid\":\"bulls-list_bull\"})"
   ]
  },
  {
   "cell_type": "code",
   "execution_count": null,
   "id": "fc40156a",
   "metadata": {},
   "outputs": [],
   "source": [
    "cars"
   ]
  },
  {
   "cell_type": "code",
   "execution_count": 7,
   "metadata": {
    "collapsed": false,
    "pycharm": {
     "name": "#%%\n"
    }
   },
   "outputs": [
    {
     "data": {
      "text/plain": [
       "'BMW 2-Series Gran Tourer, 2017'"
      ]
     },
     "execution_count": 7,
     "metadata": {},
     "output_type": "execute_result"
    }
   ],
   "source": [
    "soup.find(\"a\", {\"data-ftid\": \"bulls-list_bull\"}).find(\"span\", {\"data-ftid\": \"bull_title\"}).text"
   ]
  },
  {
   "cell_type": "code",
   "execution_count": 8,
   "metadata": {
    "collapsed": false,
    "pycharm": {
     "name": "#%%\n"
    }
   },
   "outputs": [],
   "source": [
    "import re\n",
    "res = {\n",
    "   \"brand\": [],\n",
    "   \"model\": [],\n",
    "   \"year\": [],\n",
    "   \"price\": [],\n",
    "   \"engine_size\": [],\n",
    "   \"engine_power\": [],\n",
    "   \"km\": [],\n",
    "}\n",
    "def parse_cars(cars):\n",
    "   for i in cars:\n",
    "      title = i.find(\"span\", {\"data-ftid\":\"bull_title\"}).text\n",
    "      price = i.find(\"span\", {\"data-ftid\":\"bull_price\"}).text\n",
    "      price = re.sub(r\"[^\\d,.]\", '', price)\n",
    "      desc = i.find(\"div\", {\"data-ftid\":\"component_inline-bull-description\"}).text\n",
    "      location = i.find(\"span\", {\"data-ftid\":\"bull_location\"}).text\n",
    "\n",
    "      auto = title.split()\n",
    "      year = auto[-1]\n",
    "      auto = auto[:-1]\n",
    "      for j in range(len(auto)):\n",
    "         if \" \".join(auto[:j]) in result_auto:\n",
    "            brand = \" \".join(auto[:j])\n",
    "            model = \" \".join(auto[j:])[:-1]\n",
    "            break\n",
    "      else:\n",
    "         brand = \"Другое авто\"\n",
    "         model = \" \".join(auto)[:-1]\n",
    "\n",
    "      description = [desc.text for desc in i.find_all(\"span\", {\"data-ftid\": \"bull_description-item\"})]\n",
    "      engine = re.search(r\"(^[0-9]*[.,][0-9]) л \\((\\d*)\", description[0])\n",
    "      if engine is not None:\n",
    "         engine_size = engine.group(1)\n",
    "         engine_power = engine.group(2)\n",
    "      else:\n",
    "         engine_size = 0\n",
    "         engine_power = re.search(r\"(\\d*)\", description[0]).group(1)\n",
    "      km = description[-1]\n",
    "      if km == \"б/п\":\n",
    "         km = 0\n",
    "      else:\n",
    "         km = re.sub(r\"[^\\d]\", '', km)\n",
    "         km = int(km) * 1000\n",
    "\n",
    "      res[\"brand\"].append(brand)\n",
    "      res[\"model\"].append(model)\n",
    "      res[\"year\"].append(year)\n",
    "      res[\"engine_size\"].append(engine_size)\n",
    "      res[\"engine_power\"].append(engine_power)\n",
    "      res[\"km\"].append(km)\n",
    "      res[\"price\"].append(price)"
   ]
  },
  {
   "cell_type": "code",
   "execution_count": 14,
   "metadata": {
    "collapsed": false,
    "pycharm": {
     "name": "#%%\n"
    }
   },
   "outputs": [
    {
     "data": {
      "text/plain": [
       "{'brand': ['BMW',\n",
       "  'BMW',\n",
       "  'Kia',\n",
       "  'Hyundai',\n",
       "  'Volkswagen',\n",
       "  'Audi',\n",
       "  'Audi',\n",
       "  'Другое авто',\n",
       "  'Audi',\n",
       "  'Mitsubishi',\n",
       "  'Nissan',\n",
       "  'Honda',\n",
       "  'Nissan',\n",
       "  'Honda',\n",
       "  'Volkswagen',\n",
       "  'Nissan',\n",
       "  'Toyota',\n",
       "  'Volvo',\n",
       "  'Mitsubishi',\n",
       "  'Opel'],\n",
       " 'model': ['2-Series Gran Tourer',\n",
       "  '5-Series',\n",
       "  'Carnival',\n",
       "  'Palisade',\n",
       "  'Polo',\n",
       "  'A6',\n",
       "  'A5',\n",
       "  'Mercedes-Benz C-Class',\n",
       "  'A5',\n",
       "  'Montero Sport',\n",
       "  'Teana',\n",
       "  'Stepwgn',\n",
       "  'Note',\n",
       "  'Stepwgn',\n",
       "  'Passat',\n",
       "  'Qashqai',\n",
       "  'Land Cruiser Prado',\n",
       "  'XC60',\n",
       "  'Outlander',\n",
       "  'Astra'],\n",
       " 'year': ['2017',\n",
       "  '2014',\n",
       "  '2020',\n",
       "  '2020',\n",
       "  '2021',\n",
       "  '2019',\n",
       "  '2019',\n",
       "  '2012',\n",
       "  '2011',\n",
       "  '2022',\n",
       "  '2010',\n",
       "  '2018',\n",
       "  '2018',\n",
       "  '2019',\n",
       "  '2012',\n",
       "  '2015',\n",
       "  '2004',\n",
       "  '2010',\n",
       "  '2010',\n",
       "  '2010'],\n",
       " 'price': ['1700000',\n",
       "  '1350000',\n",
       "  '4400000',\n",
       "  '4300000',\n",
       "  '1465000',\n",
       "  '3500000',\n",
       "  '2600000',\n",
       "  '1137000',\n",
       "  '1070000',\n",
       "  '4190000',\n",
       "  '950000',\n",
       "  '1877000',\n",
       "  '1199000',\n",
       "  '1795000',\n",
       "  '999000',\n",
       "  '1199000',\n",
       "  '1349000',\n",
       "  '1099000',\n",
       "  '999000',\n",
       "  '599000'],\n",
       " 'engine_size': ['1.5',\n",
       "  '2.0',\n",
       "  '2.2',\n",
       "  '2.2',\n",
       "  '1.6',\n",
       "  '3.0',\n",
       "  '2.0',\n",
       "  '1.8',\n",
       "  '2.0',\n",
       "  '3.0',\n",
       "  '2.5',\n",
       "  '1.5',\n",
       "  '1.2',\n",
       "  '1.5',\n",
       "  '1.8',\n",
       "  '2.0',\n",
       "  '2.7',\n",
       "  '2.4',\n",
       "  '2.0',\n",
       "  '1.6'],\n",
       " 'engine_power': ['116',\n",
       "  '184',\n",
       "  '199',\n",
       "  '202',\n",
       "  '110',\n",
       "  '286',\n",
       "  '190',\n",
       "  '204',\n",
       "  '211',\n",
       "  '216',\n",
       "  '182',\n",
       "  '150',\n",
       "  '79',\n",
       "  '150',\n",
       "  '152',\n",
       "  '144',\n",
       "  '150',\n",
       "  '175',\n",
       "  '147',\n",
       "  '180'],\n",
       " 'km': [101000,\n",
       "  123000,\n",
       "  18000,\n",
       "  30000,\n",
       "  1000,\n",
       "  43000,\n",
       "  75000,\n",
       "  173000,\n",
       "  234000,\n",
       "  1000,\n",
       "  84000,\n",
       "  92000,\n",
       "  105000,\n",
       "  71000,\n",
       "  101000,\n",
       "  72000,\n",
       "  139000,\n",
       "  130000,\n",
       "  127000,\n",
       "  124000]}"
      ]
     },
     "execution_count": 14,
     "metadata": {},
     "output_type": "execute_result"
    }
   ],
   "source": [
    "from bs4 import BeautifulSoup\n",
    "for i in range(1):\n",
    "   page = requests.get(f\"https://auto.drom.ru/all/page{i}\")\n",
    "\n",
    "   soup = BeautifulSoup(page.text, \"html.parser\")\n",
    "   cars = soup.find_all(\"a\", {\"data-ftid\":\"bulls-list_bull\"})\n",
    "   parse_cars(cars)\n",
    "res"
   ]
  },
  {
   "cell_type": "code",
   "execution_count": 15,
   "metadata": {
    "collapsed": false,
    "pycharm": {
     "name": "#%%\n"
    }
   },
   "outputs": [],
   "source": [
    "import json\n",
    "with open(\"test.json\", \"w\") as inp:\n",
    "   json.dump(res, inp, ensure_ascii=False, indent=4)"
   ]
  },
  {
   "cell_type": "code",
   "execution_count": null,
   "id": "4ff577de",
   "metadata": {},
   "outputs": [],
   "source": [
    "!pip install pandas"
   ]
  },
  {
   "cell_type": "code",
   "execution_count": 1,
   "metadata": {
    "collapsed": false,
    "pycharm": {
     "name": "#%%\n"
    }
   },
   "outputs": [],
   "source": [
    "import pandas as pd\n",
    "df = pd.read_json(\"test.json\")"
   ]
  },
  {
   "cell_type": "code",
   "execution_count": 2,
   "metadata": {
    "collapsed": false,
    "pycharm": {
     "name": "#%%\n"
    }
   },
   "outputs": [
    {
     "data": {
      "text/html": [
       "<div>\n",
       "<style scoped>\n",
       "    .dataframe tbody tr th:only-of-type {\n",
       "        vertical-align: middle;\n",
       "    }\n",
       "\n",
       "    .dataframe tbody tr th {\n",
       "        vertical-align: top;\n",
       "    }\n",
       "\n",
       "    .dataframe thead th {\n",
       "        text-align: right;\n",
       "    }\n",
       "</style>\n",
       "<table border=\"1\" class=\"dataframe\">\n",
       "  <thead>\n",
       "    <tr style=\"text-align: right;\">\n",
       "      <th></th>\n",
       "      <th>brand</th>\n",
       "      <th>model</th>\n",
       "      <th>year</th>\n",
       "      <th>price</th>\n",
       "      <th>engine_size</th>\n",
       "      <th>engine_power</th>\n",
       "      <th>km</th>\n",
       "    </tr>\n",
       "  </thead>\n",
       "  <tbody>\n",
       "    <tr>\n",
       "      <th>0</th>\n",
       "      <td>BMW</td>\n",
       "      <td>2-Series Gran Tourer</td>\n",
       "      <td>2017</td>\n",
       "      <td>1700000</td>\n",
       "      <td>1.5</td>\n",
       "      <td>116</td>\n",
       "      <td>101000</td>\n",
       "    </tr>\n",
       "    <tr>\n",
       "      <th>1</th>\n",
       "      <td>BMW</td>\n",
       "      <td>5-Series</td>\n",
       "      <td>2014</td>\n",
       "      <td>1350000</td>\n",
       "      <td>2.0</td>\n",
       "      <td>184</td>\n",
       "      <td>123000</td>\n",
       "    </tr>\n",
       "    <tr>\n",
       "      <th>2</th>\n",
       "      <td>Kia</td>\n",
       "      <td>Carnival</td>\n",
       "      <td>2020</td>\n",
       "      <td>4400000</td>\n",
       "      <td>2.2</td>\n",
       "      <td>199</td>\n",
       "      <td>18000</td>\n",
       "    </tr>\n",
       "    <tr>\n",
       "      <th>3</th>\n",
       "      <td>Hyundai</td>\n",
       "      <td>Palisade</td>\n",
       "      <td>2020</td>\n",
       "      <td>4300000</td>\n",
       "      <td>2.2</td>\n",
       "      <td>202</td>\n",
       "      <td>30000</td>\n",
       "    </tr>\n",
       "    <tr>\n",
       "      <th>4</th>\n",
       "      <td>Volkswagen</td>\n",
       "      <td>Polo</td>\n",
       "      <td>2021</td>\n",
       "      <td>1465000</td>\n",
       "      <td>1.6</td>\n",
       "      <td>110</td>\n",
       "      <td>1000</td>\n",
       "    </tr>\n",
       "    <tr>\n",
       "      <th>5</th>\n",
       "      <td>Audi</td>\n",
       "      <td>A6</td>\n",
       "      <td>2019</td>\n",
       "      <td>3500000</td>\n",
       "      <td>3.0</td>\n",
       "      <td>286</td>\n",
       "      <td>43000</td>\n",
       "    </tr>\n",
       "    <tr>\n",
       "      <th>6</th>\n",
       "      <td>Audi</td>\n",
       "      <td>A5</td>\n",
       "      <td>2019</td>\n",
       "      <td>2600000</td>\n",
       "      <td>2.0</td>\n",
       "      <td>190</td>\n",
       "      <td>75000</td>\n",
       "    </tr>\n",
       "    <tr>\n",
       "      <th>7</th>\n",
       "      <td>Другое авто</td>\n",
       "      <td>Mercedes-Benz C-Class</td>\n",
       "      <td>2012</td>\n",
       "      <td>1137000</td>\n",
       "      <td>1.8</td>\n",
       "      <td>204</td>\n",
       "      <td>173000</td>\n",
       "    </tr>\n",
       "    <tr>\n",
       "      <th>8</th>\n",
       "      <td>Audi</td>\n",
       "      <td>A5</td>\n",
       "      <td>2011</td>\n",
       "      <td>1070000</td>\n",
       "      <td>2.0</td>\n",
       "      <td>211</td>\n",
       "      <td>234000</td>\n",
       "    </tr>\n",
       "    <tr>\n",
       "      <th>9</th>\n",
       "      <td>Mitsubishi</td>\n",
       "      <td>Montero Sport</td>\n",
       "      <td>2022</td>\n",
       "      <td>4190000</td>\n",
       "      <td>3.0</td>\n",
       "      <td>216</td>\n",
       "      <td>1000</td>\n",
       "    </tr>\n",
       "    <tr>\n",
       "      <th>10</th>\n",
       "      <td>Nissan</td>\n",
       "      <td>Teana</td>\n",
       "      <td>2010</td>\n",
       "      <td>950000</td>\n",
       "      <td>2.5</td>\n",
       "      <td>182</td>\n",
       "      <td>84000</td>\n",
       "    </tr>\n",
       "    <tr>\n",
       "      <th>11</th>\n",
       "      <td>Honda</td>\n",
       "      <td>Stepwgn</td>\n",
       "      <td>2018</td>\n",
       "      <td>1877000</td>\n",
       "      <td>1.5</td>\n",
       "      <td>150</td>\n",
       "      <td>92000</td>\n",
       "    </tr>\n",
       "    <tr>\n",
       "      <th>12</th>\n",
       "      <td>Nissan</td>\n",
       "      <td>Note</td>\n",
       "      <td>2018</td>\n",
       "      <td>1199000</td>\n",
       "      <td>1.2</td>\n",
       "      <td>79</td>\n",
       "      <td>105000</td>\n",
       "    </tr>\n",
       "    <tr>\n",
       "      <th>13</th>\n",
       "      <td>Honda</td>\n",
       "      <td>Stepwgn</td>\n",
       "      <td>2019</td>\n",
       "      <td>1795000</td>\n",
       "      <td>1.5</td>\n",
       "      <td>150</td>\n",
       "      <td>71000</td>\n",
       "    </tr>\n",
       "    <tr>\n",
       "      <th>14</th>\n",
       "      <td>Volkswagen</td>\n",
       "      <td>Passat</td>\n",
       "      <td>2012</td>\n",
       "      <td>999000</td>\n",
       "      <td>1.8</td>\n",
       "      <td>152</td>\n",
       "      <td>101000</td>\n",
       "    </tr>\n",
       "    <tr>\n",
       "      <th>15</th>\n",
       "      <td>Nissan</td>\n",
       "      <td>Qashqai</td>\n",
       "      <td>2015</td>\n",
       "      <td>1199000</td>\n",
       "      <td>2.0</td>\n",
       "      <td>144</td>\n",
       "      <td>72000</td>\n",
       "    </tr>\n",
       "    <tr>\n",
       "      <th>16</th>\n",
       "      <td>Toyota</td>\n",
       "      <td>Land Cruiser Prado</td>\n",
       "      <td>2004</td>\n",
       "      <td>1349000</td>\n",
       "      <td>2.7</td>\n",
       "      <td>150</td>\n",
       "      <td>139000</td>\n",
       "    </tr>\n",
       "    <tr>\n",
       "      <th>17</th>\n",
       "      <td>Volvo</td>\n",
       "      <td>XC60</td>\n",
       "      <td>2010</td>\n",
       "      <td>1099000</td>\n",
       "      <td>2.4</td>\n",
       "      <td>175</td>\n",
       "      <td>130000</td>\n",
       "    </tr>\n",
       "    <tr>\n",
       "      <th>18</th>\n",
       "      <td>Mitsubishi</td>\n",
       "      <td>Outlander</td>\n",
       "      <td>2010</td>\n",
       "      <td>999000</td>\n",
       "      <td>2.0</td>\n",
       "      <td>147</td>\n",
       "      <td>127000</td>\n",
       "    </tr>\n",
       "    <tr>\n",
       "      <th>19</th>\n",
       "      <td>Opel</td>\n",
       "      <td>Astra</td>\n",
       "      <td>2010</td>\n",
       "      <td>599000</td>\n",
       "      <td>1.6</td>\n",
       "      <td>180</td>\n",
       "      <td>124000</td>\n",
       "    </tr>\n",
       "  </tbody>\n",
       "</table>\n",
       "</div>"
      ],
      "text/plain": [
       "          brand                  model  year    price  engine_size  \\\n",
       "0           BMW   2-Series Gran Tourer  2017  1700000          1.5   \n",
       "1           BMW               5-Series  2014  1350000          2.0   \n",
       "2           Kia               Carnival  2020  4400000          2.2   \n",
       "3       Hyundai               Palisade  2020  4300000          2.2   \n",
       "4    Volkswagen                   Polo  2021  1465000          1.6   \n",
       "5          Audi                     A6  2019  3500000          3.0   \n",
       "6          Audi                     A5  2019  2600000          2.0   \n",
       "7   Другое авто  Mercedes-Benz C-Class  2012  1137000          1.8   \n",
       "8          Audi                     A5  2011  1070000          2.0   \n",
       "9    Mitsubishi          Montero Sport  2022  4190000          3.0   \n",
       "10       Nissan                  Teana  2010   950000          2.5   \n",
       "11        Honda                Stepwgn  2018  1877000          1.5   \n",
       "12       Nissan                   Note  2018  1199000          1.2   \n",
       "13        Honda                Stepwgn  2019  1795000          1.5   \n",
       "14   Volkswagen                 Passat  2012   999000          1.8   \n",
       "15       Nissan                Qashqai  2015  1199000          2.0   \n",
       "16       Toyota     Land Cruiser Prado  2004  1349000          2.7   \n",
       "17        Volvo                   XC60  2010  1099000          2.4   \n",
       "18   Mitsubishi              Outlander  2010   999000          2.0   \n",
       "19         Opel                  Astra  2010   599000          1.6   \n",
       "\n",
       "    engine_power      km  \n",
       "0            116  101000  \n",
       "1            184  123000  \n",
       "2            199   18000  \n",
       "3            202   30000  \n",
       "4            110    1000  \n",
       "5            286   43000  \n",
       "6            190   75000  \n",
       "7            204  173000  \n",
       "8            211  234000  \n",
       "9            216    1000  \n",
       "10           182   84000  \n",
       "11           150   92000  \n",
       "12            79  105000  \n",
       "13           150   71000  \n",
       "14           152  101000  \n",
       "15           144   72000  \n",
       "16           150  139000  \n",
       "17           175  130000  \n",
       "18           147  127000  \n",
       "19           180  124000  "
      ]
     },
     "execution_count": 2,
     "metadata": {},
     "output_type": "execute_result"
    }
   ],
   "source": [
    "df"
   ]
  },
  {
   "cell_type": "code",
   "execution_count": 10,
   "metadata": {
    "collapsed": false,
    "pycharm": {
     "name": "#%%\n"
    }
   },
   "outputs": [
    {
     "data": {
      "text/plain": [
       "<Response [200]>"
      ]
     },
     "execution_count": 10,
     "metadata": {},
     "output_type": "execute_result"
    }
   ],
   "source": [
    "import requests\n",
    "\n",
    "auto = requests.get(\"https://m3-spb.ru/cars\")\n",
    "auto"
   ]
  },
  {
   "cell_type": "code",
   "execution_count": null,
   "metadata": {
    "collapsed": false,
    "pycharm": {
     "name": "#%%\n"
    }
   },
   "outputs": [],
   "source": [
    "auto.text"
   ]
  },
  {
   "cell_type": "code",
   "execution_count": 11,
   "metadata": {
    "collapsed": false,
    "pycharm": {
     "name": "#%%\n"
    }
   },
   "outputs": [],
   "source": [
    "from bs4 import BeautifulSoup\n",
    "auto_soup = BeautifulSoup(auto.text, \"lxml\")"
   ]
  },
  {
   "cell_type": "code",
   "execution_count": 16,
   "metadata": {
    "collapsed": false,
    "pycharm": {
     "name": "#%%\n"
    }
   },
   "outputs": [],
   "source": [
    "result_auto = set()\n",
    "for cars in auto_soup.find_all(\"a\", class_=\"cars__popular__text\"):\n",
    "   result_auto.add(cars.text)"
   ]
  },
  {
   "cell_type": "code",
   "execution_count": 17,
   "metadata": {
    "collapsed": false,
    "pycharm": {
     "name": "#%%\n"
    }
   },
   "outputs": [
    {
     "data": {
      "text/plain": [
       "{'Acura',\n",
       " 'Alfa Romeo',\n",
       " 'Aston Martin',\n",
       " 'Audi',\n",
       " 'BMW',\n",
       " 'Bentley',\n",
       " 'Brilliance',\n",
       " 'Bugatti',\n",
       " 'Buick',\n",
       " 'Byd',\n",
       " 'Cadillac',\n",
       " 'Changan',\n",
       " 'Chery',\n",
       " 'Chevrolet',\n",
       " 'Chrysler',\n",
       " 'Citroen',\n",
       " 'Dacia',\n",
       " 'Daewoo',\n",
       " 'Daihatsu',\n",
       " 'Datsun',\n",
       " 'Dodge',\n",
       " 'Exeed',\n",
       " 'Faw',\n",
       " 'Ferrari',\n",
       " 'Fiat',\n",
       " 'Ford',\n",
       " 'GAC',\n",
       " 'GMC',\n",
       " 'Geely',\n",
       " 'Genesis',\n",
       " 'Great Wall',\n",
       " 'Haval',\n",
       " 'Honda',\n",
       " 'Hummer',\n",
       " 'Hyundai',\n",
       " 'Infiniti',\n",
       " 'Jaguar',\n",
       " 'Jeep',\n",
       " 'Kia',\n",
       " 'Lamborghini',\n",
       " 'Lancia',\n",
       " 'Land Rover',\n",
       " 'Lexus',\n",
       " 'Lifan',\n",
       " 'Lincoln',\n",
       " 'Lotus',\n",
       " 'Marussia',\n",
       " 'Maserati',\n",
       " 'Maybach',\n",
       " 'Mazda',\n",
       " 'McLaren',\n",
       " 'Mercedes',\n",
       " 'Mini',\n",
       " 'Mitsubishi',\n",
       " 'Nissan',\n",
       " 'Opel',\n",
       " 'Peugeot',\n",
       " 'Pontiac',\n",
       " 'Porsche',\n",
       " 'Renault',\n",
       " 'Rolls-Royce',\n",
       " 'Rover',\n",
       " 'SEAT',\n",
       " 'Saab',\n",
       " 'Skoda',\n",
       " 'Smart',\n",
       " 'Ssangyong',\n",
       " 'Subaru',\n",
       " 'Suzuki',\n",
       " 'Tagaz',\n",
       " 'Tesla',\n",
       " 'Toyota',\n",
       " 'Volkswagen',\n",
       " 'Volvo',\n",
       " 'Ваз',\n",
       " 'Газ',\n",
       " 'Заз',\n",
       " 'Москвич',\n",
       " 'Мотоцикл',\n",
       " 'Уаз'}"
      ]
     },
     "execution_count": 17,
     "metadata": {},
     "output_type": "execute_result"
    }
   ],
   "source": [
    "result_auto"
   ]
  },
  {
   "cell_type": "code",
   "execution_count": null,
   "metadata": {
    "collapsed": false,
    "pycharm": {
     "name": "#%%\n"
    }
   },
   "outputs": [],
   "source": [
    "\"/html/body/div[2]/div[4]/div[1]/div[1]/div[5]/div/div[1]/a[1]/div[2]/div[1]/div[1]/span\""
   ]
  }
 ],
 "metadata": {
  "kernelspec": {
   "display_name": "Python 3.8.11 ('pyMSU')",
   "language": "python",
   "name": "python3"
  },
  "language_info": {
   "codemirror_mode": {
    "name": "ipython",
    "version": 3
   },
   "file_extension": ".py",
   "mimetype": "text/x-python",
   "name": "python",
   "nbconvert_exporter": "python",
   "pygments_lexer": "ipython3",
   "version": "3.8.11"
  },
  "toc": {
   "base_numbering": 1,
   "nav_menu": {},
   "number_sections": true,
   "sideBar": true,
   "skip_h1_title": false,
   "title_cell": "Table of Contents",
   "title_sidebar": "Contents",
   "toc_cell": false,
   "toc_position": {},
   "toc_section_display": true,
   "toc_window_display": false
  },
  "vscode": {
   "interpreter": {
    "hash": "7bb1aa37eef117b0f4569b1f316abf7d509fc1fd2e5e51595a8f586c76bab887"
   }
  }
 },
 "nbformat": 4,
 "nbformat_minor": 5
}
