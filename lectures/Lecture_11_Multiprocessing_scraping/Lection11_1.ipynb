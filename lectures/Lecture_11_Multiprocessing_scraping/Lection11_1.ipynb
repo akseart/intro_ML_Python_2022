{
 "cells": [
  {
   "cell_type": "markdown",
   "metadata": {
    "collapsed": false
   },
   "source": [
    "# Введение в методы анализа данных. Язык Python."
   ]
  },
  {
   "cell_type": "markdown",
   "metadata": {
    "collapsed": false
   },
   "source": [
    "## Лекция 11. Web Scraping\n",
    "<br><br><br><br>\n",
    "__Аксентьев Артем (akseart@ya.ru)__\n",
    "\n",
    "__Ксемидов Борис (nstalker.anonim@yandex.ru)__\n",
    "<br>"
   ]
  },
  {
   "cell_type": "markdown",
   "metadata": {
    "collapsed": false,
    "pycharm": {
     "name": "#%% md\n"
    }
   },
   "source": [
    "# Зачем необходимо?\n",
    "\n",
    "- Не всегда готовые датасеты удовлетворяют нашим потребностям\n",
    "- Иногда неудобно просматривать данные на сайте\n",
    "- Хочется перенести данные в другое место"
   ]
  },
  {
   "cell_type": "markdown",
   "metadata": {
    "collapsed": false
   },
   "source": [
    "# Схема web-scraping\n",
    "- Анализ веб страницы\n",
    "- Загрузка html кода\n",
    "- Парсинг данных\n",
    "- Их обработка\n",
    "- Создание какой-либо осознанной структуры данных"
   ]
  },
  {
   "cell_type": "markdown",
   "metadata": {
    "collapsed": false
   },
   "source": [
    "# Инструменты для web-scraping:\n",
    "- Инструменты для парсинга html\n",
    "    - bs4\n",
    "    - lxml\n",
    "- Инструменты для получения html страниц\n",
    "    - requests\n",
    "    - selenium"
   ]
  },
  {
   "cell_type": "code",
   "execution_count": 8,
   "metadata": {
    "collapsed": false,
    "pycharm": {
     "name": "#%%\n"
    }
   },
   "outputs": [
    {
     "name": "stdout",
     "output_type": "stream",
     "text": [
      "Writing index.html\n"
     ]
    }
   ],
   "source": [
    "%%writefile index.html\n",
    "\n",
    "<!DOCTYPE HTML PUBLIC \"-//W3C//DTD HTML 4.01//EN\" \"http://www.w3.org/TR/html4/strict.dtd\">\n",
    "<html>\n",
    "    <head>\n",
    "        <meta http-equiv=\"Content-Type\" content=\"text/html; charset=utf-8\">\n",
    "        <title>Пример веб-страницы</title>\n",
    "    </head>\n",
    "    <body class=\"\" id=\"\" name=\"\">\n",
    "        <h1>Заголовок</h1>\n",
    "        <div class=\"meta\">\n",
    "            <!-- Комментарий -->\n",
    "            <p class=\"class\">Первый абзац.</p>\n",
    "        </div>\n",
    "        <div>\n",
    "            <p> Третий абзац</p>\n",
    "        </div>\n",
    "        <h1>Заголовок 1</h1>\n",
    "        <p>Второй абзац.</p>\n",
    "        <h1>Заголовок 2</h1>\n",
    "    </body>\n",
    "</html>"
   ]
  },
  {
   "cell_type": "markdown",
   "metadata": {
    "collapsed": false
   },
   "source": [
    "## BeautifulSoup"
   ]
  },
  {
   "cell_type": "code",
   "execution_count": 9,
   "metadata": {
    "collapsed": false,
    "pycharm": {
     "name": "#%%\n"
    }
   },
   "outputs": [],
   "source": [
    "from bs4 import BeautifulSoup\n",
    "with open(\"index.html\", \"r\") as f:\n",
    "    text = f.read()\n",
    "soup = BeautifulSoup(text, \"html.parser\")"
   ]
  },
  {
   "cell_type": "code",
   "execution_count": 10,
   "metadata": {
    "collapsed": false,
    "pycharm": {
     "name": "#%%\n"
    }
   },
   "outputs": [
    {
     "data": {
      "text/plain": [
       "<h1>Заголовок</h1>"
      ]
     },
     "execution_count": 10,
     "metadata": {},
     "output_type": "execute_result"
    }
   ],
   "source": [
    "soup.find(\"h1\")"
   ]
  },
  {
   "cell_type": "code",
   "execution_count": 11,
   "metadata": {
    "collapsed": false,
    "pycharm": {
     "name": "#%%\n"
    }
   },
   "outputs": [
    {
     "data": {
      "text/plain": [
       "[<h1>Заголовок</h1>, <h1>Заголовок 1</h1>, <h1>Заголовок 2</h1>]"
      ]
     },
     "execution_count": 11,
     "metadata": {},
     "output_type": "execute_result"
    }
   ],
   "source": [
    "soup.find_all(\"h1\")"
   ]
  },
  {
   "cell_type": "code",
   "execution_count": 12,
   "metadata": {
    "collapsed": false,
    "pycharm": {
     "name": "#%%\n"
    }
   },
   "outputs": [
    {
     "data": {
      "text/plain": [
       "'Первый абзац.'"
      ]
     },
     "execution_count": 12,
     "metadata": {},
     "output_type": "execute_result"
    }
   ],
   "source": [
    "soup.find(\"p\", class_=\"class\").text"
   ]
  },
  {
   "cell_type": "code",
   "execution_count": 13,
   "metadata": {
    "collapsed": false,
    "pycharm": {
     "name": "#%%\n"
    }
   },
   "outputs": [
    {
     "data": {
      "text/plain": [
       "<div class=\"meta\">\n",
       "<!-- Комментарий -->\n",
       "<p class=\"class\">Первый абзац.</p>\n",
       "</div>"
      ]
     },
     "execution_count": 13,
     "metadata": {},
     "output_type": "execute_result"
    }
   ],
   "source": [
    "soup.find(\"p\", class_=\"class\").parent"
   ]
  },
  {
   "cell_type": "code",
   "execution_count": 18,
   "metadata": {
    "collapsed": false,
    "pycharm": {
     "name": "#%%\n"
    }
   },
   "outputs": [
    {
     "data": {
      "text/plain": [
       "['\\n', ' Комментарий ', '\\n', <p class=\"class\">Первый абзац.</p>, '\\n']"
      ]
     },
     "execution_count": 18,
     "metadata": {},
     "output_type": "execute_result"
    }
   ],
   "source": [
    "list(soup.find(\"p\", class_=\"class\").parent.children)"
   ]
  },
  {
   "cell_type": "markdown",
   "metadata": {
    "collapsed": false,
    "pycharm": {
     "name": "#%% md\n"
    }
   },
   "source": [
    "## lxml"
   ]
  },
  {
   "cell_type": "code",
   "execution_count": 19,
   "metadata": {
    "collapsed": false,
    "pycharm": {
     "name": "#%%\n"
    }
   },
   "outputs": [],
   "source": [
    "from lxml import etree\n",
    "\n",
    "tree = etree.parse(\"index.html\", etree.HTMLParser())"
   ]
  },
  {
   "cell_type": "code",
   "execution_count": 20,
   "metadata": {
    "collapsed": false,
    "pycharm": {
     "name": "#%%\n"
    }
   },
   "outputs": [
    {
     "data": {
      "text/plain": [
       "[<Element p at 0x105c28800>,\n",
       " <Element p at 0x10575ff00>,\n",
       " <Element p at 0x105885200>]"
      ]
     },
     "execution_count": 20,
     "metadata": {},
     "output_type": "execute_result"
    }
   ],
   "source": [
    "tree.xpath(\"//p\")"
   ]
  },
  {
   "cell_type": "code",
   "execution_count": 21,
   "metadata": {
    "collapsed": false,
    "pycharm": {
     "name": "#%%\n"
    }
   },
   "outputs": [
    {
     "data": {
      "text/plain": [
       "['Первый абзац.', ' Третий абзац', 'Второй абзац.']"
      ]
     },
     "execution_count": 21,
     "metadata": {},
     "output_type": "execute_result"
    }
   ],
   "source": [
    "tree.xpath(\"//p/text()\")"
   ]
  },
  {
   "cell_type": "code",
   "execution_count": 22,
   "metadata": {
    "collapsed": false,
    "pycharm": {
     "name": "#%%\n"
    }
   },
   "outputs": [
    {
     "data": {
      "text/plain": [
       "['Первый абзац.']"
      ]
     },
     "execution_count": 22,
     "metadata": {},
     "output_type": "execute_result"
    }
   ],
   "source": [
    "tree.xpath('//p[@class=\"class\"]/text()')"
   ]
  },
  {
   "cell_type": "code",
   "execution_count": 23,
   "metadata": {
    "collapsed": false,
    "pycharm": {
     "name": "#%%\n"
    }
   },
   "outputs": [
    {
     "data": {
      "text/plain": [
       "['Первый абзац.', ' Третий абзац']"
      ]
     },
     "execution_count": 23,
     "metadata": {},
     "output_type": "execute_result"
    }
   ],
   "source": [
    "tree.xpath('//div/p/text()')"
   ]
  },
  {
   "cell_type": "markdown",
   "metadata": {
    "collapsed": false,
    "pycharm": {
     "name": "#%% md\n"
    }
   },
   "source": [
    "## Selenium"
   ]
  },
  {
   "cell_type": "code",
   "execution_count": 24,
   "metadata": {
    "collapsed": false,
    "pycharm": {
     "name": "#%%\n"
    }
   },
   "outputs": [
    {
     "name": "stdout",
     "output_type": "stream",
     "text": [
      "OK\n"
     ]
    }
   ],
   "source": [
    "from selenium import webdriver\n",
    "from selenium.webdriver.common.by import By\n",
    "from selenium.webdriver.common.desired_capabilities import DesiredCapabilities\n",
    "\n",
    "desired_capabilities = DesiredCapabilities().SAFARI\n",
    "desired_capabilities[\"pageLoadStrategy\"] = \"eager\"\n",
    "driver = webdriver.Safari(desired_capabilities=desired_capabilities)\n",
    "\n",
    "driver.get(\"https://mai.ru/education/studies/schedule/ppc.php?guid=f25361dd-1d99-11e0-9baf-1c6f65450efa&week=8\")\n",
    "first_form_input = driver.find_element_by_class_name(\"mb-4\")\n",
    "print(\"OK\")"
   ]
  },
  {
   "cell_type": "code",
   "execution_count": null,
   "metadata": {},
   "outputs": [],
   "source": [
    "first_form_input = driver.find_element(By.CLASS_NAME,  \"mb-4\")"
   ]
  },
  {
   "cell_type": "code",
   "execution_count": 25,
   "metadata": {
    "collapsed": false,
    "pycharm": {
     "name": "#%%\n"
    }
   },
   "outputs": [
    {
     "data": {
      "text/plain": [
       "'\\n\\t\\t\\t\\t\\tЧт,\\xa020\\xa0октября\\t\\t\\t\\t'"
      ]
     },
     "execution_count": 25,
     "metadata": {},
     "output_type": "execute_result"
    }
   ],
   "source": [
    "first_form_input.text"
   ]
  },
  {
   "cell_type": "code",
   "execution_count": 30,
   "metadata": {
    "collapsed": false,
    "pycharm": {
     "name": "#%%\n"
    }
   },
   "outputs": [
    {
     "data": {
      "text/plain": [
       "'\\n\\t\\t\\t\\t\\tЧт,\\xa020\\xa0октября\\t\\t\\t\\t'"
      ]
     },
     "execution_count": 30,
     "metadata": {},
     "output_type": "execute_result"
    }
   ],
   "source": [
    "first_form_input.parent.find_element_by_class_name(\"mb-4\").text"
   ]
  },
  {
   "cell_type": "code",
   "execution_count": 31,
   "metadata": {
    "collapsed": false,
    "pycharm": {
     "name": "#%%\n"
    }
   },
   "outputs": [
    {
     "data": {
      "text/plain": [
       "[<selenium.webdriver.remote.webelement.WebElement (session=\"19680F18-A5F2-4883-B029-79FDE2482C72\", element=\"node-51FD3CF7-8560-4ED1-9A29-87C9D1AFCA75\")>,\n",
       " <selenium.webdriver.remote.webelement.WebElement (session=\"19680F18-A5F2-4883-B029-79FDE2482C72\", element=\"node-8A178B47-99E9-4FAC-9E3F-68876727451B\")>,\n",
       " <selenium.webdriver.remote.webelement.WebElement (session=\"19680F18-A5F2-4883-B029-79FDE2482C72\", element=\"node-F3D84CDE-3739-4BF5-AB44-180F0C7FEFB0\")>,\n",
       " <selenium.webdriver.remote.webelement.WebElement (session=\"19680F18-A5F2-4883-B029-79FDE2482C72\", element=\"node-66FB97CF-655F-4796-B198-8F9918599895\")>,\n",
       " <selenium.webdriver.remote.webelement.WebElement (session=\"19680F18-A5F2-4883-B029-79FDE2482C72\", element=\"node-591EEFCF-7842-48E5-B9FD-BE7AB4A9FCCA\")>,\n",
       " <selenium.webdriver.remote.webelement.WebElement (session=\"19680F18-A5F2-4883-B029-79FDE2482C72\", element=\"node-79EBFAC5-EBAF-4B59-B96B-6C37FF55E4DA\")>,\n",
       " <selenium.webdriver.remote.webelement.WebElement (session=\"19680F18-A5F2-4883-B029-79FDE2482C72\", element=\"node-F5DFD7D9-B472-4457-81ED-A0F4A058B0C9\")>,\n",
       " <selenium.webdriver.remote.webelement.WebElement (session=\"19680F18-A5F2-4883-B029-79FDE2482C72\", element=\"node-590F52E9-A23F-4E5F-B294-74E7B4DF33B6\")>,\n",
       " <selenium.webdriver.remote.webelement.WebElement (session=\"19680F18-A5F2-4883-B029-79FDE2482C72\", element=\"node-3A3FDB97-0E02-4F0B-A688-5B73E59BCB78\")>,\n",
       " <selenium.webdriver.remote.webelement.WebElement (session=\"19680F18-A5F2-4883-B029-79FDE2482C72\", element=\"node-A853CBA8-CE07-4A94-BB74-AE5700705677\")>,\n",
       " <selenium.webdriver.remote.webelement.WebElement (session=\"19680F18-A5F2-4883-B029-79FDE2482C72\", element=\"node-DDAFCB16-629D-445D-850D-B7D78BAFCFF2\")>,\n",
       " <selenium.webdriver.remote.webelement.WebElement (session=\"19680F18-A5F2-4883-B029-79FDE2482C72\", element=\"node-AC6F813F-A88C-42D1-ADAA-BD43ADB6A7B3\")>,\n",
       " <selenium.webdriver.remote.webelement.WebElement (session=\"19680F18-A5F2-4883-B029-79FDE2482C72\", element=\"node-6F613493-99A7-4CD7-BC10-5DF1DE392AAC\")>,\n",
       " <selenium.webdriver.remote.webelement.WebElement (session=\"19680F18-A5F2-4883-B029-79FDE2482C72\", element=\"node-D699588B-960B-4B2D-9C4C-32F5444DEC55\")>,\n",
       " <selenium.webdriver.remote.webelement.WebElement (session=\"19680F18-A5F2-4883-B029-79FDE2482C72\", element=\"node-C0F775D8-24E1-4C63-8030-2E36B937C886\")>,\n",
       " <selenium.webdriver.remote.webelement.WebElement (session=\"19680F18-A5F2-4883-B029-79FDE2482C72\", element=\"node-AD7CC351-2D5F-4A86-A602-273AE5CD1499\")>,\n",
       " <selenium.webdriver.remote.webelement.WebElement (session=\"19680F18-A5F2-4883-B029-79FDE2482C72\", element=\"node-75E10C27-CB41-45DB-B029-FBE4126AAED7\")>,\n",
       " <selenium.webdriver.remote.webelement.WebElement (session=\"19680F18-A5F2-4883-B029-79FDE2482C72\", element=\"node-C1657806-FEB1-4A1D-B27F-30CABCDCAAF2\")>,\n",
       " <selenium.webdriver.remote.webelement.WebElement (session=\"19680F18-A5F2-4883-B029-79FDE2482C72\", element=\"node-D91838ED-ADD0-46A1-A32E-AF58BBD19B7F\")>,\n",
       " <selenium.webdriver.remote.webelement.WebElement (session=\"19680F18-A5F2-4883-B029-79FDE2482C72\", element=\"node-B253EE37-DE37-4589-A850-AE8B37576509\")>,\n",
       " <selenium.webdriver.remote.webelement.WebElement (session=\"19680F18-A5F2-4883-B029-79FDE2482C72\", element=\"node-53E34C6C-1821-4BA2-98ED-AC403E61AEA8\")>,\n",
       " <selenium.webdriver.remote.webelement.WebElement (session=\"19680F18-A5F2-4883-B029-79FDE2482C72\", element=\"node-22CCC6CF-973B-4769-8F2D-DA190564922A\")>,\n",
       " <selenium.webdriver.remote.webelement.WebElement (session=\"19680F18-A5F2-4883-B029-79FDE2482C72\", element=\"node-C8A8C5D0-7653-4EDE-8945-65642BA95E0C\")>,\n",
       " <selenium.webdriver.remote.webelement.WebElement (session=\"19680F18-A5F2-4883-B029-79FDE2482C72\", element=\"node-043810B3-8D96-4E54-B8FA-7D5DA8B3FF30\")>,\n",
       " <selenium.webdriver.remote.webelement.WebElement (session=\"19680F18-A5F2-4883-B029-79FDE2482C72\", element=\"node-FEE2F380-307A-465B-B7EE-5BAA17A6574A\")>,\n",
       " <selenium.webdriver.remote.webelement.WebElement (session=\"19680F18-A5F2-4883-B029-79FDE2482C72\", element=\"node-8B772751-AD01-4FB5-AE92-337C6A7C6AC7\")>,\n",
       " <selenium.webdriver.remote.webelement.WebElement (session=\"19680F18-A5F2-4883-B029-79FDE2482C72\", element=\"node-2AB2FAEC-991E-4449-9E92-A011FDF32E6C\")>,\n",
       " <selenium.webdriver.remote.webelement.WebElement (session=\"19680F18-A5F2-4883-B029-79FDE2482C72\", element=\"node-16597425-4463-4A90-A895-EDE2ED7A5704\")>,\n",
       " <selenium.webdriver.remote.webelement.WebElement (session=\"19680F18-A5F2-4883-B029-79FDE2482C72\", element=\"node-EC3A4B1F-F441-4E0C-89AA-A784A13DF240\")>,\n",
       " <selenium.webdriver.remote.webelement.WebElement (session=\"19680F18-A5F2-4883-B029-79FDE2482C72\", element=\"node-26F164AF-ECC0-45AB-AF18-3630935A33A3\")>,\n",
       " <selenium.webdriver.remote.webelement.WebElement (session=\"19680F18-A5F2-4883-B029-79FDE2482C72\", element=\"node-BDE228E0-6AC5-4F94-956F-9C9AF8B181B4\")>,\n",
       " <selenium.webdriver.remote.webelement.WebElement (session=\"19680F18-A5F2-4883-B029-79FDE2482C72\", element=\"node-D908684C-EEE5-4AE9-9F29-E99E4993499F\")>,\n",
       " <selenium.webdriver.remote.webelement.WebElement (session=\"19680F18-A5F2-4883-B029-79FDE2482C72\", element=\"node-2572C59F-8EE1-4A14-B490-1F34B685FCA7\")>,\n",
       " <selenium.webdriver.remote.webelement.WebElement (session=\"19680F18-A5F2-4883-B029-79FDE2482C72\", element=\"node-FB3CDA25-90F6-4C11-8FD9-2543827E4F03\")>,\n",
       " <selenium.webdriver.remote.webelement.WebElement (session=\"19680F18-A5F2-4883-B029-79FDE2482C72\", element=\"node-62E1A80D-09C3-40AE-82D2-F02EFCDB7870\")>,\n",
       " <selenium.webdriver.remote.webelement.WebElement (session=\"19680F18-A5F2-4883-B029-79FDE2482C72\", element=\"node-39F43C58-4C76-4F5C-A7F4-86E78742CA0D\")>,\n",
       " <selenium.webdriver.remote.webelement.WebElement (session=\"19680F18-A5F2-4883-B029-79FDE2482C72\", element=\"node-EFB525D1-9D2C-4855-B277-169CF950B621\")>,\n",
       " <selenium.webdriver.remote.webelement.WebElement (session=\"19680F18-A5F2-4883-B029-79FDE2482C72\", element=\"node-F3051548-E2A4-4789-9579-D7C59A3E8ACE\")>,\n",
       " <selenium.webdriver.remote.webelement.WebElement (session=\"19680F18-A5F2-4883-B029-79FDE2482C72\", element=\"node-83241600-5D16-4CEA-B90D-A712E79BD362\")>,\n",
       " <selenium.webdriver.remote.webelement.WebElement (session=\"19680F18-A5F2-4883-B029-79FDE2482C72\", element=\"node-0108783C-331F-492B-B870-6611BC38A332\")>,\n",
       " <selenium.webdriver.remote.webelement.WebElement (session=\"19680F18-A5F2-4883-B029-79FDE2482C72\", element=\"node-E138FD4E-F714-4EE7-9906-FE7B48282686\")>,\n",
       " <selenium.webdriver.remote.webelement.WebElement (session=\"19680F18-A5F2-4883-B029-79FDE2482C72\", element=\"node-FCC57BE5-1C82-430C-8C4D-D75AA55E30EE\")>,\n",
       " <selenium.webdriver.remote.webelement.WebElement (session=\"19680F18-A5F2-4883-B029-79FDE2482C72\", element=\"node-9FA96ADC-3244-4613-8B43-07F50EBCEA0A\")>,\n",
       " <selenium.webdriver.remote.webelement.WebElement (session=\"19680F18-A5F2-4883-B029-79FDE2482C72\", element=\"node-3C5FBFAE-3782-408F-B811-8853868DA2A8\")>,\n",
       " <selenium.webdriver.remote.webelement.WebElement (session=\"19680F18-A5F2-4883-B029-79FDE2482C72\", element=\"node-8991D287-C5FC-4B60-AC6C-4FF14D3B1880\")>,\n",
       " <selenium.webdriver.remote.webelement.WebElement (session=\"19680F18-A5F2-4883-B029-79FDE2482C72\", element=\"node-5918177F-DAA0-44D5-96FA-0FD2E1EC78FA\")>,\n",
       " <selenium.webdriver.remote.webelement.WebElement (session=\"19680F18-A5F2-4883-B029-79FDE2482C72\", element=\"node-A26EB86C-DDF7-4157-8637-5BE8FBE273DD\")>,\n",
       " <selenium.webdriver.remote.webelement.WebElement (session=\"19680F18-A5F2-4883-B029-79FDE2482C72\", element=\"node-3B6B1C66-5773-41DE-8453-B42436286790\")>,\n",
       " <selenium.webdriver.remote.webelement.WebElement (session=\"19680F18-A5F2-4883-B029-79FDE2482C72\", element=\"node-F575B0F0-88A9-4FEB-BD5B-88197EB0A6D5\")>,\n",
       " <selenium.webdriver.remote.webelement.WebElement (session=\"19680F18-A5F2-4883-B029-79FDE2482C72\", element=\"node-32702841-6A2F-4F8E-8305-9171D7E45CCB\")>,\n",
       " <selenium.webdriver.remote.webelement.WebElement (session=\"19680F18-A5F2-4883-B029-79FDE2482C72\", element=\"node-BCBBDDAE-F5E5-4C90-A66D-2A96C6B134D6\")>,\n",
       " <selenium.webdriver.remote.webelement.WebElement (session=\"19680F18-A5F2-4883-B029-79FDE2482C72\", element=\"node-D26E6FC3-02D7-4471-B5B7-3667BA2B2ABF\")>,\n",
       " <selenium.webdriver.remote.webelement.WebElement (session=\"19680F18-A5F2-4883-B029-79FDE2482C72\", element=\"node-35DB619D-06B1-4FCA-9242-72B1644FD11E\")>,\n",
       " <selenium.webdriver.remote.webelement.WebElement (session=\"19680F18-A5F2-4883-B029-79FDE2482C72\", element=\"node-4B62D50D-7E4C-4173-9288-91BE13F27202\")>,\n",
       " <selenium.webdriver.remote.webelement.WebElement (session=\"19680F18-A5F2-4883-B029-79FDE2482C72\", element=\"node-4FB1C641-F670-4D24-ABF8-4325A89546C9\")>,\n",
       " <selenium.webdriver.remote.webelement.WebElement (session=\"19680F18-A5F2-4883-B029-79FDE2482C72\", element=\"node-06C97758-DD9D-4FFC-8266-CA4015EA36D2\")>,\n",
       " <selenium.webdriver.remote.webelement.WebElement (session=\"19680F18-A5F2-4883-B029-79FDE2482C72\", element=\"node-6431643C-9D32-4CC5-B5DB-92D1F54CFCFD\")>,\n",
       " <selenium.webdriver.remote.webelement.WebElement (session=\"19680F18-A5F2-4883-B029-79FDE2482C72\", element=\"node-1527F446-370E-4721-B95C-419609E109AD\")>,\n",
       " <selenium.webdriver.remote.webelement.WebElement (session=\"19680F18-A5F2-4883-B029-79FDE2482C72\", element=\"node-81C6051E-9756-4A47-B4E8-C3C9BFB660D5\")>,\n",
       " <selenium.webdriver.remote.webelement.WebElement (session=\"19680F18-A5F2-4883-B029-79FDE2482C72\", element=\"node-6A2D2C21-64F2-4AF1-9DAA-41642DB46F6D\")>,\n",
       " <selenium.webdriver.remote.webelement.WebElement (session=\"19680F18-A5F2-4883-B029-79FDE2482C72\", element=\"node-579D5729-4239-43CC-BA3A-8CD33418C4BD\")>,\n",
       " <selenium.webdriver.remote.webelement.WebElement (session=\"19680F18-A5F2-4883-B029-79FDE2482C72\", element=\"node-D20E95F7-5EB0-4AF8-A0A9-D8BCFFC65E63\")>,\n",
       " <selenium.webdriver.remote.webelement.WebElement (session=\"19680F18-A5F2-4883-B029-79FDE2482C72\", element=\"node-3E5B4A2A-02DC-405A-9AFD-75B1C4BFDA1F\")>,\n",
       " <selenium.webdriver.remote.webelement.WebElement (session=\"19680F18-A5F2-4883-B029-79FDE2482C72\", element=\"node-5D9ACE92-4819-4F7A-AF4B-09BC3DD23650\")>,\n",
       " <selenium.webdriver.remote.webelement.WebElement (session=\"19680F18-A5F2-4883-B029-79FDE2482C72\", element=\"node-6FB42904-0986-49EC-92CF-7089C46C0B69\")>,\n",
       " <selenium.webdriver.remote.webelement.WebElement (session=\"19680F18-A5F2-4883-B029-79FDE2482C72\", element=\"node-CFA95BF2-D5B6-4A42-A67D-9EEEABBA706E\")>,\n",
       " <selenium.webdriver.remote.webelement.WebElement (session=\"19680F18-A5F2-4883-B029-79FDE2482C72\", element=\"node-BE5F426D-6DE8-4DC2-BF41-4F06162C4382\")>,\n",
       " <selenium.webdriver.remote.webelement.WebElement (session=\"19680F18-A5F2-4883-B029-79FDE2482C72\", element=\"node-D8B0B59A-C576-4210-A585-AC0DB6E7919C\")>,\n",
       " <selenium.webdriver.remote.webelement.WebElement (session=\"19680F18-A5F2-4883-B029-79FDE2482C72\", element=\"node-8C209E9E-C4E4-427A-973B-C40CD1EC133A\")>,\n",
       " <selenium.webdriver.remote.webelement.WebElement (session=\"19680F18-A5F2-4883-B029-79FDE2482C72\", element=\"node-9A5154C5-EF8B-422E-B45C-3A31088129A3\")>,\n",
       " <selenium.webdriver.remote.webelement.WebElement (session=\"19680F18-A5F2-4883-B029-79FDE2482C72\", element=\"node-A441B21D-9569-48ED-844F-6BEAC8F51C84\")>,\n",
       " <selenium.webdriver.remote.webelement.WebElement (session=\"19680F18-A5F2-4883-B029-79FDE2482C72\", element=\"node-E187AA30-7908-4BB4-AD55-4AB3932D2794\")>,\n",
       " <selenium.webdriver.remote.webelement.WebElement (session=\"19680F18-A5F2-4883-B029-79FDE2482C72\", element=\"node-5AFCB424-A5A3-4822-A084-F47B717C8C74\")>,\n",
       " <selenium.webdriver.remote.webelement.WebElement (session=\"19680F18-A5F2-4883-B029-79FDE2482C72\", element=\"node-53410A48-7FA8-49EA-8E04-48CBC38CFDCA\")>,\n",
       " <selenium.webdriver.remote.webelement.WebElement (session=\"19680F18-A5F2-4883-B029-79FDE2482C72\", element=\"node-60C0C11C-DC23-47CF-8A23-7145A792FC2F\")>,\n",
       " <selenium.webdriver.remote.webelement.WebElement (session=\"19680F18-A5F2-4883-B029-79FDE2482C72\", element=\"node-91DD7E02-C79F-45C1-AB42-3832FC706E59\")>,\n",
       " <selenium.webdriver.remote.webelement.WebElement (session=\"19680F18-A5F2-4883-B029-79FDE2482C72\", element=\"node-8794F119-AC74-4B7C-9C5A-BD7511CEAC07\")>,\n",
       " <selenium.webdriver.remote.webelement.WebElement (session=\"19680F18-A5F2-4883-B029-79FDE2482C72\", element=\"node-C17AFE59-F63A-4642-AAF3-2714B6E89142\")>,\n",
       " <selenium.webdriver.remote.webelement.WebElement (session=\"19680F18-A5F2-4883-B029-79FDE2482C72\", element=\"node-32C73BF3-494B-49A5-B17C-15F448B0728A\")>,\n",
       " <selenium.webdriver.remote.webelement.WebElement (session=\"19680F18-A5F2-4883-B029-79FDE2482C72\", element=\"node-36276E72-C63C-4608-A283-34643E8F2DD7\")>,\n",
       " <selenium.webdriver.remote.webelement.WebElement (session=\"19680F18-A5F2-4883-B029-79FDE2482C72\", element=\"node-DD73BBCC-9D36-4FA5-834D-870C422458D4\")>,\n",
       " <selenium.webdriver.remote.webelement.WebElement (session=\"19680F18-A5F2-4883-B029-79FDE2482C72\", element=\"node-A17E9575-7918-47D1-B62B-5C2C8DA62B42\")>,\n",
       " <selenium.webdriver.remote.webelement.WebElement (session=\"19680F18-A5F2-4883-B029-79FDE2482C72\", element=\"node-441346D7-4B59-43B8-9A4E-8748568E5B97\")>,\n",
       " <selenium.webdriver.remote.webelement.WebElement (session=\"19680F18-A5F2-4883-B029-79FDE2482C72\", element=\"node-93781463-9A0D-4AC8-8907-15718270F896\")>,\n",
       " <selenium.webdriver.remote.webelement.WebElement (session=\"19680F18-A5F2-4883-B029-79FDE2482C72\", element=\"node-68D70493-B891-42B1-9263-920B6179775F\")>,\n",
       " <selenium.webdriver.remote.webelement.WebElement (session=\"19680F18-A5F2-4883-B029-79FDE2482C72\", element=\"node-61E1AC43-4605-44A5-AC75-FB598BF4B022\")>,\n",
       " <selenium.webdriver.remote.webelement.WebElement (session=\"19680F18-A5F2-4883-B029-79FDE2482C72\", element=\"node-8D4E486D-FC51-4D10-B8E4-DDF37F81CCBB\")>,\n",
       " <selenium.webdriver.remote.webelement.WebElement (session=\"19680F18-A5F2-4883-B029-79FDE2482C72\", element=\"node-14BCB8D8-0615-486C-9624-6C3CF95AFDC8\")>,\n",
       " <selenium.webdriver.remote.webelement.WebElement (session=\"19680F18-A5F2-4883-B029-79FDE2482C72\", element=\"node-F86E3C60-EB65-40AC-B60E-44B26F48079C\")>,\n",
       " <selenium.webdriver.remote.webelement.WebElement (session=\"19680F18-A5F2-4883-B029-79FDE2482C72\", element=\"node-6EFFEF75-B334-4C70-9C81-EDCB2886FD9E\")>,\n",
       " <selenium.webdriver.remote.webelement.WebElement (session=\"19680F18-A5F2-4883-B029-79FDE2482C72\", element=\"node-444DBFBA-66C5-43C6-9142-613CE70CF6A1\")>,\n",
       " <selenium.webdriver.remote.webelement.WebElement (session=\"19680F18-A5F2-4883-B029-79FDE2482C72\", element=\"node-AEFFA5D6-A08D-4D0A-BE41-4E40B27BF0DD\")>,\n",
       " <selenium.webdriver.remote.webelement.WebElement (session=\"19680F18-A5F2-4883-B029-79FDE2482C72\", element=\"node-FF887A9A-BBD2-48CE-807F-ECD25B00D783\")>,\n",
       " <selenium.webdriver.remote.webelement.WebElement (session=\"19680F18-A5F2-4883-B029-79FDE2482C72\", element=\"node-21C45286-06F5-4BD0-AB79-625956450BAB\")>,\n",
       " <selenium.webdriver.remote.webelement.WebElement (session=\"19680F18-A5F2-4883-B029-79FDE2482C72\", element=\"node-468554B2-85DC-4244-91A5-C79D2376E39D\")>,\n",
       " <selenium.webdriver.remote.webelement.WebElement (session=\"19680F18-A5F2-4883-B029-79FDE2482C72\", element=\"node-F4891212-00B7-42BE-9A15-99E966CDE965\")>,\n",
       " <selenium.webdriver.remote.webelement.WebElement (session=\"19680F18-A5F2-4883-B029-79FDE2482C72\", element=\"node-C09C10B7-EC01-40F8-90A2-F6689C73D2B6\")>,\n",
       " <selenium.webdriver.remote.webelement.WebElement (session=\"19680F18-A5F2-4883-B029-79FDE2482C72\", element=\"node-5925833D-E926-446B-A94E-BFF6923D8A2B\")>,\n",
       " <selenium.webdriver.remote.webelement.WebElement (session=\"19680F18-A5F2-4883-B029-79FDE2482C72\", element=\"node-51C5F88B-A519-4CDF-89BD-EDD2A7433539\")>,\n",
       " <selenium.webdriver.remote.webelement.WebElement (session=\"19680F18-A5F2-4883-B029-79FDE2482C72\", element=\"node-2BD8DFC9-6D75-4463-92B9-FF8994544D48\")>,\n",
       " <selenium.webdriver.remote.webelement.WebElement (session=\"19680F18-A5F2-4883-B029-79FDE2482C72\", element=\"node-2B543544-882A-4EFD-97D1-4A1E1C1CB296\")>,\n",
       " <selenium.webdriver.remote.webelement.WebElement (session=\"19680F18-A5F2-4883-B029-79FDE2482C72\", element=\"node-173FC69B-8960-4A4C-9FC2-8434E83B7F70\")>,\n",
       " <selenium.webdriver.remote.webelement.WebElement (session=\"19680F18-A5F2-4883-B029-79FDE2482C72\", element=\"node-97BC5C48-9FF9-4D07-B592-660F0A75A290\")>,\n",
       " <selenium.webdriver.remote.webelement.WebElement (session=\"19680F18-A5F2-4883-B029-79FDE2482C72\", element=\"node-A2D16B6B-F22D-4251-AFC3-63D6D675E5EB\")>,\n",
       " <selenium.webdriver.remote.webelement.WebElement (session=\"19680F18-A5F2-4883-B029-79FDE2482C72\", element=\"node-9A9EBD04-8DF7-4CA5-BA5A-B290B4094F3B\")>,\n",
       " <selenium.webdriver.remote.webelement.WebElement (session=\"19680F18-A5F2-4883-B029-79FDE2482C72\", element=\"node-ADAF08E1-10DC-4BE0-944E-F344A38C11A6\")>,\n",
       " <selenium.webdriver.remote.webelement.WebElement (session=\"19680F18-A5F2-4883-B029-79FDE2482C72\", element=\"node-CEB08361-8AFF-40F3-AF80-894B76321528\")>,\n",
       " <selenium.webdriver.remote.webelement.WebElement (session=\"19680F18-A5F2-4883-B029-79FDE2482C72\", element=\"node-373FF394-D8B4-4959-B316-ABA8C842AC60\")>,\n",
       " <selenium.webdriver.remote.webelement.WebElement (session=\"19680F18-A5F2-4883-B029-79FDE2482C72\", element=\"node-D9F49F39-5FF6-4A30-A65C-E32E58A5CA35\")>,\n",
       " <selenium.webdriver.remote.webelement.WebElement (session=\"19680F18-A5F2-4883-B029-79FDE2482C72\", element=\"node-5A3E0C90-CDA7-4627-A3CA-D09A18CC54F4\")>,\n",
       " <selenium.webdriver.remote.webelement.WebElement (session=\"19680F18-A5F2-4883-B029-79FDE2482C72\", element=\"node-66579C07-0028-41A4-AD7C-C1373B34D818\")>,\n",
       " <selenium.webdriver.remote.webelement.WebElement (session=\"19680F18-A5F2-4883-B029-79FDE2482C72\", element=\"node-FA2AB380-B6AA-44E3-92F2-35D60339B37F\")>,\n",
       " <selenium.webdriver.remote.webelement.WebElement (session=\"19680F18-A5F2-4883-B029-79FDE2482C72\", element=\"node-2AD732C6-179C-445F-881A-9631038F8E6D\")>,\n",
       " <selenium.webdriver.remote.webelement.WebElement (session=\"19680F18-A5F2-4883-B029-79FDE2482C72\", element=\"node-F97FD048-3263-4EAC-86DF-98A3A2699A8F\")>,\n",
       " <selenium.webdriver.remote.webelement.WebElement (session=\"19680F18-A5F2-4883-B029-79FDE2482C72\", element=\"node-3DE6B5D4-531F-4C75-B6FE-496BAACF1C9D\")>,\n",
       " <selenium.webdriver.remote.webelement.WebElement (session=\"19680F18-A5F2-4883-B029-79FDE2482C72\", element=\"node-93414F95-B033-44F0-8D0D-E14812B66EDB\")>,\n",
       " <selenium.webdriver.remote.webelement.WebElement (session=\"19680F18-A5F2-4883-B029-79FDE2482C72\", element=\"node-17C513BF-91A2-42A3-A788-2888724BCDE1\")>,\n",
       " <selenium.webdriver.remote.webelement.WebElement (session=\"19680F18-A5F2-4883-B029-79FDE2482C72\", element=\"node-890CF772-2AD0-42BA-892C-0C16B35F3C61\")>,\n",
       " <selenium.webdriver.remote.webelement.WebElement (session=\"19680F18-A5F2-4883-B029-79FDE2482C72\", element=\"node-EB66E514-B480-43AA-9F02-9F0840D1B14F\")>,\n",
       " <selenium.webdriver.remote.webelement.WebElement (session=\"19680F18-A5F2-4883-B029-79FDE2482C72\", element=\"node-55469B68-9CCF-472E-9B42-669D453B345B\")>,\n",
       " <selenium.webdriver.remote.webelement.WebElement (session=\"19680F18-A5F2-4883-B029-79FDE2482C72\", element=\"node-31A04269-EB5F-4124-85E5-DE8C69E57F11\")>,\n",
       " <selenium.webdriver.remote.webelement.WebElement (session=\"19680F18-A5F2-4883-B029-79FDE2482C72\", element=\"node-89CC7482-112B-4A4D-953C-A09B84FD0D15\")>,\n",
       " <selenium.webdriver.remote.webelement.WebElement (session=\"19680F18-A5F2-4883-B029-79FDE2482C72\", element=\"node-6E453678-0C81-4EF7-93A0-7B2E70CCA60F\")>,\n",
       " <selenium.webdriver.remote.webelement.WebElement (session=\"19680F18-A5F2-4883-B029-79FDE2482C72\", element=\"node-7871646C-5629-44D5-8523-66FD99983B90\")>,\n",
       " <selenium.webdriver.remote.webelement.WebElement (session=\"19680F18-A5F2-4883-B029-79FDE2482C72\", element=\"node-98DFBF40-48C5-43C0-AA01-E41241D3E76F\")>,\n",
       " <selenium.webdriver.remote.webelement.WebElement (session=\"19680F18-A5F2-4883-B029-79FDE2482C72\", element=\"node-4886014C-E661-41E0-9FB0-0863F632831A\")>,\n",
       " <selenium.webdriver.remote.webelement.WebElement (session=\"19680F18-A5F2-4883-B029-79FDE2482C72\", element=\"node-EBCC6A00-6706-410D-9D58-CE542F49919D\")>,\n",
       " <selenium.webdriver.remote.webelement.WebElement (session=\"19680F18-A5F2-4883-B029-79FDE2482C72\", element=\"node-97B36359-DADF-4D6D-996B-332F0E6169DB\")>,\n",
       " <selenium.webdriver.remote.webelement.WebElement (session=\"19680F18-A5F2-4883-B029-79FDE2482C72\", element=\"node-CC41FEDA-43AD-4324-A82E-D7565B125889\")>,\n",
       " <selenium.webdriver.remote.webelement.WebElement (session=\"19680F18-A5F2-4883-B029-79FDE2482C72\", element=\"node-AE4FEC8D-8B39-4132-8BFB-6770985DA392\")>,\n",
       " <selenium.webdriver.remote.webelement.WebElement (session=\"19680F18-A5F2-4883-B029-79FDE2482C72\", element=\"node-ADF0E970-DA75-41B3-AE38-2D95A9FDD61B\")>,\n",
       " <selenium.webdriver.remote.webelement.WebElement (session=\"19680F18-A5F2-4883-B029-79FDE2482C72\", element=\"node-18BBD2B1-7F69-4D2C-9D86-27FF6FCAC157\")>,\n",
       " <selenium.webdriver.remote.webelement.WebElement (session=\"19680F18-A5F2-4883-B029-79FDE2482C72\", element=\"node-F73DC883-3BFD-46EC-9092-4D3A825C9924\")>,\n",
       " <selenium.webdriver.remote.webelement.WebElement (session=\"19680F18-A5F2-4883-B029-79FDE2482C72\", element=\"node-7CBAFB76-20C1-4202-9265-7655A39A1B42\")>,\n",
       " <selenium.webdriver.remote.webelement.WebElement (session=\"19680F18-A5F2-4883-B029-79FDE2482C72\", element=\"node-74BB10D2-8F8F-47C9-88D3-5EFEAB6042B7\")>,\n",
       " <selenium.webdriver.remote.webelement.WebElement (session=\"19680F18-A5F2-4883-B029-79FDE2482C72\", element=\"node-A6BF71D5-DBFF-4F79-8987-CDFDA565E941\")>,\n",
       " <selenium.webdriver.remote.webelement.WebElement (session=\"19680F18-A5F2-4883-B029-79FDE2482C72\", element=\"node-14F408A8-1E9F-4822-B9E0-4CF6C1406F68\")>,\n",
       " <selenium.webdriver.remote.webelement.WebElement (session=\"19680F18-A5F2-4883-B029-79FDE2482C72\", element=\"node-B26F7FE8-69FA-4656-A555-02FC64A6B503\")>,\n",
       " <selenium.webdriver.remote.webelement.WebElement (session=\"19680F18-A5F2-4883-B029-79FDE2482C72\", element=\"node-C1655212-0BE8-4005-B0EA-28F9CFC8A00E\")>,\n",
       " <selenium.webdriver.remote.webelement.WebElement (session=\"19680F18-A5F2-4883-B029-79FDE2482C72\", element=\"node-3E5BEB4A-5207-438E-981C-C1DC8A45293A\")>,\n",
       " <selenium.webdriver.remote.webelement.WebElement (session=\"19680F18-A5F2-4883-B029-79FDE2482C72\", element=\"node-4AF58E15-25BB-40EE-AE69-4F5AEC112664\")>,\n",
       " <selenium.webdriver.remote.webelement.WebElement (session=\"19680F18-A5F2-4883-B029-79FDE2482C72\", element=\"node-F52DA2CC-1C4E-4C4F-9E28-D40E629BAB52\")>,\n",
       " <selenium.webdriver.remote.webelement.WebElement (session=\"19680F18-A5F2-4883-B029-79FDE2482C72\", element=\"node-4264F979-60A6-4D49-8FCE-83DF004C47BA\")>,\n",
       " <selenium.webdriver.remote.webelement.WebElement (session=\"19680F18-A5F2-4883-B029-79FDE2482C72\", element=\"node-714153C0-AB18-468B-A9A8-D334D5BE4D24\")>,\n",
       " <selenium.webdriver.remote.webelement.WebElement (session=\"19680F18-A5F2-4883-B029-79FDE2482C72\", element=\"node-CEF2B69E-95F2-47F1-8EC6-22362FA878E6\")>,\n",
       " <selenium.webdriver.remote.webelement.WebElement (session=\"19680F18-A5F2-4883-B029-79FDE2482C72\", element=\"node-DB8C7DCD-A156-4AB9-AACE-6B4934A910B9\")>,\n",
       " <selenium.webdriver.remote.webelement.WebElement (session=\"19680F18-A5F2-4883-B029-79FDE2482C72\", element=\"node-BF302F60-E5A5-404A-A164-C2EA49CDA9D8\")>,\n",
       " <selenium.webdriver.remote.webelement.WebElement (session=\"19680F18-A5F2-4883-B029-79FDE2482C72\", element=\"node-8B4717E2-820A-4599-BB46-EAC74B8E59CA\")>,\n",
       " <selenium.webdriver.remote.webelement.WebElement (session=\"19680F18-A5F2-4883-B029-79FDE2482C72\", element=\"node-A4DB10B2-0090-4FE5-AEA1-EF81231109B9\")>,\n",
       " <selenium.webdriver.remote.webelement.WebElement (session=\"19680F18-A5F2-4883-B029-79FDE2482C72\", element=\"node-89B96D0E-76DF-43E3-B513-3E3B169CDC41\")>,\n",
       " <selenium.webdriver.remote.webelement.WebElement (session=\"19680F18-A5F2-4883-B029-79FDE2482C72\", element=\"node-8DA72895-134F-43DE-B67A-612C58AA965A\")>,\n",
       " <selenium.webdriver.remote.webelement.WebElement (session=\"19680F18-A5F2-4883-B029-79FDE2482C72\", element=\"node-40B835B6-65E8-4D66-ABE0-16B876291ECD\")>,\n",
       " <selenium.webdriver.remote.webelement.WebElement (session=\"19680F18-A5F2-4883-B029-79FDE2482C72\", element=\"node-F996207A-30D4-4E8D-A7AA-0352EA4A1FB6\")>,\n",
       " <selenium.webdriver.remote.webelement.WebElement (session=\"19680F18-A5F2-4883-B029-79FDE2482C72\", element=\"node-4315117B-314A-4E43-9AD6-4EBF1633A2FC\")>,\n",
       " <selenium.webdriver.remote.webelement.WebElement (session=\"19680F18-A5F2-4883-B029-79FDE2482C72\", element=\"node-8D220831-B298-4C64-A97B-8DB2BA3A5531\")>,\n",
       " <selenium.webdriver.remote.webelement.WebElement (session=\"19680F18-A5F2-4883-B029-79FDE2482C72\", element=\"node-3D82FE97-1537-4119-AE9E-4DF91A9D0233\")>,\n",
       " <selenium.webdriver.remote.webelement.WebElement (session=\"19680F18-A5F2-4883-B029-79FDE2482C72\", element=\"node-F91F7E89-41A6-40A7-B739-1AE1E7137E75\")>,\n",
       " <selenium.webdriver.remote.webelement.WebElement (session=\"19680F18-A5F2-4883-B029-79FDE2482C72\", element=\"node-5D31C353-B3F0-43F0-8B2C-0789FDFFEFE4\")>,\n",
       " <selenium.webdriver.remote.webelement.WebElement (session=\"19680F18-A5F2-4883-B029-79FDE2482C72\", element=\"node-14B7B6F9-9E5B-4ADC-BCB9-C6C2572E3EE2\")>,\n",
       " <selenium.webdriver.remote.webelement.WebElement (session=\"19680F18-A5F2-4883-B029-79FDE2482C72\", element=\"node-70375340-89E4-4EC1-B9A7-B316B753F12D\")>,\n",
       " <selenium.webdriver.remote.webelement.WebElement (session=\"19680F18-A5F2-4883-B029-79FDE2482C72\", element=\"node-1E3421DE-7891-46EB-8E69-E2EE08A019AE\")>,\n",
       " <selenium.webdriver.remote.webelement.WebElement (session=\"19680F18-A5F2-4883-B029-79FDE2482C72\", element=\"node-7464FE74-C40E-434C-9638-F45A90165971\")>,\n",
       " <selenium.webdriver.remote.webelement.WebElement (session=\"19680F18-A5F2-4883-B029-79FDE2482C72\", element=\"node-AF3EA377-0BEF-43DD-A283-235BCE8B094B\")>,\n",
       " <selenium.webdriver.remote.webelement.WebElement (session=\"19680F18-A5F2-4883-B029-79FDE2482C72\", element=\"node-ADBDAEAF-4530-457B-BAEF-36101A691FC7\")>,\n",
       " <selenium.webdriver.remote.webelement.WebElement (session=\"19680F18-A5F2-4883-B029-79FDE2482C72\", element=\"node-82CAA1F4-5A1C-415E-AAFF-53DE3FCCC78F\")>,\n",
       " <selenium.webdriver.remote.webelement.WebElement (session=\"19680F18-A5F2-4883-B029-79FDE2482C72\", element=\"node-32B4DEA1-8716-4075-A29D-46E11C615DB0\")>,\n",
       " <selenium.webdriver.remote.webelement.WebElement (session=\"19680F18-A5F2-4883-B029-79FDE2482C72\", element=\"node-C5F1E8D6-444D-4658-BB2A-963C74F59D92\")>,\n",
       " <selenium.webdriver.remote.webelement.WebElement (session=\"19680F18-A5F2-4883-B029-79FDE2482C72\", element=\"node-4890D62E-79D4-42EC-B4AB-58EE5FE8D12C\")>,\n",
       " <selenium.webdriver.remote.webelement.WebElement (session=\"19680F18-A5F2-4883-B029-79FDE2482C72\", element=\"node-3200CAFD-B230-496F-BC0B-08743C2D8862\")>,\n",
       " <selenium.webdriver.remote.webelement.WebElement (session=\"19680F18-A5F2-4883-B029-79FDE2482C72\", element=\"node-FCAF1C82-B316-4DF4-BB85-040A07CBA567\")>,\n",
       " <selenium.webdriver.remote.webelement.WebElement (session=\"19680F18-A5F2-4883-B029-79FDE2482C72\", element=\"node-C6C2FF6D-6C36-42DA-A447-0924DC368266\")>,\n",
       " <selenium.webdriver.remote.webelement.WebElement (session=\"19680F18-A5F2-4883-B029-79FDE2482C72\", element=\"node-3425A640-F911-4480-A5F8-45BFC5700E53\")>,\n",
       " <selenium.webdriver.remote.webelement.WebElement (session=\"19680F18-A5F2-4883-B029-79FDE2482C72\", element=\"node-665897D7-E897-4518-ABF8-9F53B2B567C7\")>,\n",
       " <selenium.webdriver.remote.webelement.WebElement (session=\"19680F18-A5F2-4883-B029-79FDE2482C72\", element=\"node-84531EA7-930E-4751-BDBA-E367120134FA\")>,\n",
       " <selenium.webdriver.remote.webelement.WebElement (session=\"19680F18-A5F2-4883-B029-79FDE2482C72\", element=\"node-BDC1B6D1-5459-4BDE-B429-CF6BD2BA892D\")>,\n",
       " <selenium.webdriver.remote.webelement.WebElement (session=\"19680F18-A5F2-4883-B029-79FDE2482C72\", element=\"node-ABE73A2E-8CD2-4D30-842F-2B28F425CAD0\")>,\n",
       " <selenium.webdriver.remote.webelement.WebElement (session=\"19680F18-A5F2-4883-B029-79FDE2482C72\", element=\"node-F3182367-3B24-4A9A-BD01-6E725630C8B7\")>,\n",
       " <selenium.webdriver.remote.webelement.WebElement (session=\"19680F18-A5F2-4883-B029-79FDE2482C72\", element=\"node-2FF8A772-6B3F-4F3A-B93D-D4AB89E3E3CE\")>,\n",
       " <selenium.webdriver.remote.webelement.WebElement (session=\"19680F18-A5F2-4883-B029-79FDE2482C72\", element=\"node-E9391303-7201-496B-8C81-90CBC6050225\")>,\n",
       " <selenium.webdriver.remote.webelement.WebElement (session=\"19680F18-A5F2-4883-B029-79FDE2482C72\", element=\"node-2338B061-2709-4A24-9C22-E7F007217E64\")>,\n",
       " <selenium.webdriver.remote.webelement.WebElement (session=\"19680F18-A5F2-4883-B029-79FDE2482C72\", element=\"node-1EB7DBDF-7C7A-4773-85F1-B06F75E133A8\")>,\n",
       " <selenium.webdriver.remote.webelement.WebElement (session=\"19680F18-A5F2-4883-B029-79FDE2482C72\", element=\"node-0DD5A460-BEDE-4EBC-B5A3-C69C9DC1A7FB\")>,\n",
       " <selenium.webdriver.remote.webelement.WebElement (session=\"19680F18-A5F2-4883-B029-79FDE2482C72\", element=\"node-144BADDF-F67E-41AB-AFBB-220ADC6BF448\")>,\n",
       " <selenium.webdriver.remote.webelement.WebElement (session=\"19680F18-A5F2-4883-B029-79FDE2482C72\", element=\"node-977939AF-53D7-4BB2-AF08-CBD53D674B81\")>,\n",
       " <selenium.webdriver.remote.webelement.WebElement (session=\"19680F18-A5F2-4883-B029-79FDE2482C72\", element=\"node-7157AC58-A0B6-412D-8807-9C16D86B70B5\")>,\n",
       " <selenium.webdriver.remote.webelement.WebElement (session=\"19680F18-A5F2-4883-B029-79FDE2482C72\", element=\"node-AA9FD8D7-9AEC-4AA1-8FF0-DBAA5A3F82D1\")>,\n",
       " <selenium.webdriver.remote.webelement.WebElement (session=\"19680F18-A5F2-4883-B029-79FDE2482C72\", element=\"node-B5BD86DE-D7DF-4E3E-B29D-5291DA1F0107\")>,\n",
       " <selenium.webdriver.remote.webelement.WebElement (session=\"19680F18-A5F2-4883-B029-79FDE2482C72\", element=\"node-DE561AB0-D83A-44E2-A59C-B17ABEFFD0BA\")>,\n",
       " <selenium.webdriver.remote.webelement.WebElement (session=\"19680F18-A5F2-4883-B029-79FDE2482C72\", element=\"node-69DB09B4-34CF-4900-9D13-D7025731B77E\")>,\n",
       " <selenium.webdriver.remote.webelement.WebElement (session=\"19680F18-A5F2-4883-B029-79FDE2482C72\", element=\"node-D4F106CB-9F66-45BA-AA31-010E064E89C0\")>,\n",
       " <selenium.webdriver.remote.webelement.WebElement (session=\"19680F18-A5F2-4883-B029-79FDE2482C72\", element=\"node-4172AF94-D5CF-4956-BA59-D5AD570210F8\")>,\n",
       " <selenium.webdriver.remote.webelement.WebElement (session=\"19680F18-A5F2-4883-B029-79FDE2482C72\", element=\"node-C834FFB8-4C6E-43D6-A611-E22B9C0D6D67\")>,\n",
       " <selenium.webdriver.remote.webelement.WebElement (session=\"19680F18-A5F2-4883-B029-79FDE2482C72\", element=\"node-B07A0924-7ED9-46B3-8D81-F5CF2A4EC869\")>,\n",
       " <selenium.webdriver.remote.webelement.WebElement (session=\"19680F18-A5F2-4883-B029-79FDE2482C72\", element=\"node-0A4EE508-5A81-47A2-A14A-5726B4E605B5\")>,\n",
       " <selenium.webdriver.remote.webelement.WebElement (session=\"19680F18-A5F2-4883-B029-79FDE2482C72\", element=\"node-3E736289-7C04-4735-A081-6E6627F8A0BE\")>,\n",
       " <selenium.webdriver.remote.webelement.WebElement (session=\"19680F18-A5F2-4883-B029-79FDE2482C72\", element=\"node-F4966E22-0144-421E-9F7E-0840C695794E\")>,\n",
       " <selenium.webdriver.remote.webelement.WebElement (session=\"19680F18-A5F2-4883-B029-79FDE2482C72\", element=\"node-3F78480B-EC5F-470A-8E0A-1BF46B850623\")>,\n",
       " <selenium.webdriver.remote.webelement.WebElement (session=\"19680F18-A5F2-4883-B029-79FDE2482C72\", element=\"node-225C1AF8-C67F-4EC5-B382-F7A33107E23F\")>,\n",
       " <selenium.webdriver.remote.webelement.WebElement (session=\"19680F18-A5F2-4883-B029-79FDE2482C72\", element=\"node-779B11FA-98AA-403A-88FE-C298E2EF5ED7\")>,\n",
       " <selenium.webdriver.remote.webelement.WebElement (session=\"19680F18-A5F2-4883-B029-79FDE2482C72\", element=\"node-8F056903-81F3-408B-9EC3-EB9D57611042\")>,\n",
       " <selenium.webdriver.remote.webelement.WebElement (session=\"19680F18-A5F2-4883-B029-79FDE2482C72\", element=\"node-CE24DBB2-744F-45A6-9597-9FF646E933C1\")>,\n",
       " <selenium.webdriver.remote.webelement.WebElement (session=\"19680F18-A5F2-4883-B029-79FDE2482C72\", element=\"node-1EDCFD32-369A-423C-A145-F0CF4035126B\")>,\n",
       " <selenium.webdriver.remote.webelement.WebElement (session=\"19680F18-A5F2-4883-B029-79FDE2482C72\", element=\"node-6CCD34A5-6434-44BC-BC5E-138D3D65E64E\")>,\n",
       " <selenium.webdriver.remote.webelement.WebElement (session=\"19680F18-A5F2-4883-B029-79FDE2482C72\", element=\"node-3147BFE1-D056-4926-8198-532121BF864D\")>,\n",
       " <selenium.webdriver.remote.webelement.WebElement (session=\"19680F18-A5F2-4883-B029-79FDE2482C72\", element=\"node-A97882E9-8265-4B6E-8A70-688070D877E1\")>,\n",
       " <selenium.webdriver.remote.webelement.WebElement (session=\"19680F18-A5F2-4883-B029-79FDE2482C72\", element=\"node-F6D1443B-B92D-4343-81D1-B00C3EE013F1\")>,\n",
       " <selenium.webdriver.remote.webelement.WebElement (session=\"19680F18-A5F2-4883-B029-79FDE2482C72\", element=\"node-7F295AE9-B055-4B98-9F1D-D61EEF3E05B3\")>,\n",
       " <selenium.webdriver.remote.webelement.WebElement (session=\"19680F18-A5F2-4883-B029-79FDE2482C72\", element=\"node-1C1B9722-75EB-4BB9-B649-F781E64CE42F\")>,\n",
       " <selenium.webdriver.remote.webelement.WebElement (session=\"19680F18-A5F2-4883-B029-79FDE2482C72\", element=\"node-18D84CC4-CC96-44FF-9001-C4D1B4E194FF\")>,\n",
       " <selenium.webdriver.remote.webelement.WebElement (session=\"19680F18-A5F2-4883-B029-79FDE2482C72\", element=\"node-7A6BDBE3-26FA-43E0-9FFA-9A845CF2966E\")>,\n",
       " <selenium.webdriver.remote.webelement.WebElement (session=\"19680F18-A5F2-4883-B029-79FDE2482C72\", element=\"node-19E169C6-07F5-440B-8C51-75B649CD1DF4\")>,\n",
       " <selenium.webdriver.remote.webelement.WebElement (session=\"19680F18-A5F2-4883-B029-79FDE2482C72\", element=\"node-1023749F-1DA9-452A-9333-29D42DD2CB99\")>,\n",
       " <selenium.webdriver.remote.webelement.WebElement (session=\"19680F18-A5F2-4883-B029-79FDE2482C72\", element=\"node-DD74E35B-48CC-473E-A8BE-11DA2D3615A3\")>,\n",
       " <selenium.webdriver.remote.webelement.WebElement (session=\"19680F18-A5F2-4883-B029-79FDE2482C72\", element=\"node-84C9B5F8-BAEA-4B5D-9297-AF0EAF7479D8\")>,\n",
       " <selenium.webdriver.remote.webelement.WebElement (session=\"19680F18-A5F2-4883-B029-79FDE2482C72\", element=\"node-A37C0605-DB62-4670-934E-08B776987833\")>,\n",
       " <selenium.webdriver.remote.webelement.WebElement (session=\"19680F18-A5F2-4883-B029-79FDE2482C72\", element=\"node-7A7D3407-4E38-4F71-B131-985B6088A4F4\")>,\n",
       " <selenium.webdriver.remote.webelement.WebElement (session=\"19680F18-A5F2-4883-B029-79FDE2482C72\", element=\"node-13519122-0EFB-4B9A-8E51-9DA2A399D9C7\")>,\n",
       " <selenium.webdriver.remote.webelement.WebElement (session=\"19680F18-A5F2-4883-B029-79FDE2482C72\", element=\"node-DE36BCA1-A4AF-402E-BC53-D686306F82EC\")>,\n",
       " <selenium.webdriver.remote.webelement.WebElement (session=\"19680F18-A5F2-4883-B029-79FDE2482C72\", element=\"node-8E8C827C-1BC6-4C14-90B3-0428C8D3C960\")>,\n",
       " <selenium.webdriver.remote.webelement.WebElement (session=\"19680F18-A5F2-4883-B029-79FDE2482C72\", element=\"node-F7E83283-2C34-40AC-B439-234AC0C225A0\")>,\n",
       " <selenium.webdriver.remote.webelement.WebElement (session=\"19680F18-A5F2-4883-B029-79FDE2482C72\", element=\"node-DCBDD1EE-CB3B-48AA-9422-C6E36DF926DE\")>,\n",
       " <selenium.webdriver.remote.webelement.WebElement (session=\"19680F18-A5F2-4883-B029-79FDE2482C72\", element=\"node-AA0E8BDB-E52A-4DB7-AF41-75B1C0E2A1CC\")>,\n",
       " <selenium.webdriver.remote.webelement.WebElement (session=\"19680F18-A5F2-4883-B029-79FDE2482C72\", element=\"node-926FEC7F-C38F-42B9-B713-BDFAB67749BA\")>,\n",
       " <selenium.webdriver.remote.webelement.WebElement (session=\"19680F18-A5F2-4883-B029-79FDE2482C72\", element=\"node-F6CD4583-0E4B-4052-9C0B-AEF41FE53FCB\")>,\n",
       " <selenium.webdriver.remote.webelement.WebElement (session=\"19680F18-A5F2-4883-B029-79FDE2482C72\", element=\"node-D836FB99-2AD3-48F8-936D-749D8B62743E\")>,\n",
       " <selenium.webdriver.remote.webelement.WebElement (session=\"19680F18-A5F2-4883-B029-79FDE2482C72\", element=\"node-A4FF6BEF-6CBD-4CFC-8520-0DED1DE39FF1\")>,\n",
       " <selenium.webdriver.remote.webelement.WebElement (session=\"19680F18-A5F2-4883-B029-79FDE2482C72\", element=\"node-1F956AA4-A1A4-456B-97B8-8CB8C93C32BB\")>,\n",
       " <selenium.webdriver.remote.webelement.WebElement (session=\"19680F18-A5F2-4883-B029-79FDE2482C72\", element=\"node-3B50FF54-445D-409C-A78D-EE24D1EF0FE5\")>,\n",
       " <selenium.webdriver.remote.webelement.WebElement (session=\"19680F18-A5F2-4883-B029-79FDE2482C72\", element=\"node-0F071EED-6513-42A5-8279-D2480A8E7679\")>,\n",
       " <selenium.webdriver.remote.webelement.WebElement (session=\"19680F18-A5F2-4883-B029-79FDE2482C72\", element=\"node-561BB97A-80B9-4A89-B21B-C57481FA03D3\")>,\n",
       " <selenium.webdriver.remote.webelement.WebElement (session=\"19680F18-A5F2-4883-B029-79FDE2482C72\", element=\"node-01C17461-264B-4BFB-B24D-B06FC6DE1091\")>,\n",
       " <selenium.webdriver.remote.webelement.WebElement (session=\"19680F18-A5F2-4883-B029-79FDE2482C72\", element=\"node-E1C7E127-A1AF-4979-850D-96B12B0F8B8E\")>,\n",
       " <selenium.webdriver.remote.webelement.WebElement (session=\"19680F18-A5F2-4883-B029-79FDE2482C72\", element=\"node-A361EF1E-3F21-43C6-9BA8-E6703C27F5E2\")>,\n",
       " <selenium.webdriver.remote.webelement.WebElement (session=\"19680F18-A5F2-4883-B029-79FDE2482C72\", element=\"node-60358EBB-90D6-403C-96A9-AF0981D9AB80\")>,\n",
       " <selenium.webdriver.remote.webelement.WebElement (session=\"19680F18-A5F2-4883-B029-79FDE2482C72\", element=\"node-FC8DC3AC-DD42-4C6F-95D5-707904F01FE8\")>,\n",
       " <selenium.webdriver.remote.webelement.WebElement (session=\"19680F18-A5F2-4883-B029-79FDE2482C72\", element=\"node-21330DCF-E597-49E8-978A-7B6DD2469BB7\")>,\n",
       " <selenium.webdriver.remote.webelement.WebElement (session=\"19680F18-A5F2-4883-B029-79FDE2482C72\", element=\"node-E1D4EEB4-7265-4850-A265-08C43EF0DB6E\")>,\n",
       " <selenium.webdriver.remote.webelement.WebElement (session=\"19680F18-A5F2-4883-B029-79FDE2482C72\", element=\"node-5B1B8497-A616-46AB-A0AD-2083DA30AC0B\")>,\n",
       " <selenium.webdriver.remote.webelement.WebElement (session=\"19680F18-A5F2-4883-B029-79FDE2482C72\", element=\"node-08E7B23F-DAA0-47B5-A0CA-9CE760D72FA3\")>,\n",
       " <selenium.webdriver.remote.webelement.WebElement (session=\"19680F18-A5F2-4883-B029-79FDE2482C72\", element=\"node-986822B6-BCE7-4410-94E0-E81A0672DE84\")>,\n",
       " <selenium.webdriver.remote.webelement.WebElement (session=\"19680F18-A5F2-4883-B029-79FDE2482C72\", element=\"node-BD12FB6E-9EE5-4BE6-9E7B-5270A3B0858F\")>,\n",
       " <selenium.webdriver.remote.webelement.WebElement (session=\"19680F18-A5F2-4883-B029-79FDE2482C72\", element=\"node-29F02146-4FE1-4361-82B4-42A87147F41E\")>,\n",
       " <selenium.webdriver.remote.webelement.WebElement (session=\"19680F18-A5F2-4883-B029-79FDE2482C72\", element=\"node-B700358C-0BFA-435A-ABEB-F1327243AB2B\")>,\n",
       " <selenium.webdriver.remote.webelement.WebElement (session=\"19680F18-A5F2-4883-B029-79FDE2482C72\", element=\"node-C167EA6F-CA77-4D54-8012-60D14162D59E\")>,\n",
       " <selenium.webdriver.remote.webelement.WebElement (session=\"19680F18-A5F2-4883-B029-79FDE2482C72\", element=\"node-536FDA29-4D1E-4D19-A469-B63C1B34F3A3\")>,\n",
       " <selenium.webdriver.remote.webelement.WebElement (session=\"19680F18-A5F2-4883-B029-79FDE2482C72\", element=\"node-9796EC5E-AD9A-42A8-BE2C-D6E661C0240A\")>,\n",
       " <selenium.webdriver.remote.webelement.WebElement (session=\"19680F18-A5F2-4883-B029-79FDE2482C72\", element=\"node-E02A5534-1858-48C8-8DEE-03EA4BFD6A29\")>,\n",
       " <selenium.webdriver.remote.webelement.WebElement (session=\"19680F18-A5F2-4883-B029-79FDE2482C72\", element=\"node-D2CE437A-C727-40E5-A9CB-EBE381C13CC6\")>,\n",
       " <selenium.webdriver.remote.webelement.WebElement (session=\"19680F18-A5F2-4883-B029-79FDE2482C72\", element=\"node-CDE22DED-1FC2-49F2-BB46-C8BA74B7AF07\")>,\n",
       " <selenium.webdriver.remote.webelement.WebElement (session=\"19680F18-A5F2-4883-B029-79FDE2482C72\", element=\"node-EEFBE2AC-74B6-457F-9DE5-68A78AEFFF19\")>,\n",
       " <selenium.webdriver.remote.webelement.WebElement (session=\"19680F18-A5F2-4883-B029-79FDE2482C72\", element=\"node-E9590FD4-C758-4C2E-90CF-93BDCF7DCC99\")>,\n",
       " <selenium.webdriver.remote.webelement.WebElement (session=\"19680F18-A5F2-4883-B029-79FDE2482C72\", element=\"node-B67FB508-C555-4CF4-9EF7-738709E6F988\")>,\n",
       " <selenium.webdriver.remote.webelement.WebElement (session=\"19680F18-A5F2-4883-B029-79FDE2482C72\", element=\"node-D784ED0D-0884-4B26-8A80-1A0E4B6BAB38\")>,\n",
       " <selenium.webdriver.remote.webelement.WebElement (session=\"19680F18-A5F2-4883-B029-79FDE2482C72\", element=\"node-6C94DB13-7B58-4EDF-BEB0-BFA89BB446B8\")>,\n",
       " <selenium.webdriver.remote.webelement.WebElement (session=\"19680F18-A5F2-4883-B029-79FDE2482C72\", element=\"node-B9807222-3F25-4F00-B9C2-3004E94ED512\")>,\n",
       " <selenium.webdriver.remote.webelement.WebElement (session=\"19680F18-A5F2-4883-B029-79FDE2482C72\", element=\"node-117C1913-A54E-427E-997C-1E33EB8734B1\")>,\n",
       " <selenium.webdriver.remote.webelement.WebElement (session=\"19680F18-A5F2-4883-B029-79FDE2482C72\", element=\"node-083482A6-D0B3-40A3-9B02-C99D6509606E\")>,\n",
       " <selenium.webdriver.remote.webelement.WebElement (session=\"19680F18-A5F2-4883-B029-79FDE2482C72\", element=\"node-ECCAACE9-2495-4312-87A9-F9103988962D\")>,\n",
       " <selenium.webdriver.remote.webelement.WebElement (session=\"19680F18-A5F2-4883-B029-79FDE2482C72\", element=\"node-D10BF4FC-80F5-455E-AC3A-BE0D73C62662\")>,\n",
       " <selenium.webdriver.remote.webelement.WebElement (session=\"19680F18-A5F2-4883-B029-79FDE2482C72\", element=\"node-EF37977C-913B-420B-97AB-B7F5A06C7DF2\")>,\n",
       " <selenium.webdriver.remote.webelement.WebElement (session=\"19680F18-A5F2-4883-B029-79FDE2482C72\", element=\"node-C59D1ADE-C1C2-4C87-8C50-E153455A5902\")>,\n",
       " <selenium.webdriver.remote.webelement.WebElement (session=\"19680F18-A5F2-4883-B029-79FDE2482C72\", element=\"node-4F63776D-FDB5-4DD1-8840-339EAFB36D1B\")>,\n",
       " <selenium.webdriver.remote.webelement.WebElement (session=\"19680F18-A5F2-4883-B029-79FDE2482C72\", element=\"node-7898EF4C-7C55-4899-B931-F25146F7CC8F\")>,\n",
       " <selenium.webdriver.remote.webelement.WebElement (session=\"19680F18-A5F2-4883-B029-79FDE2482C72\", element=\"node-5362E26A-D02E-49B9-A43C-EDB3298A3A0B\")>,\n",
       " <selenium.webdriver.remote.webelement.WebElement (session=\"19680F18-A5F2-4883-B029-79FDE2482C72\", element=\"node-18D37996-D6FA-4CD3-BC59-18F97C117705\")>,\n",
       " <selenium.webdriver.remote.webelement.WebElement (session=\"19680F18-A5F2-4883-B029-79FDE2482C72\", element=\"node-E1B73B59-9C5C-460B-A79F-4C290715B0F5\")>,\n",
       " <selenium.webdriver.remote.webelement.WebElement (session=\"19680F18-A5F2-4883-B029-79FDE2482C72\", element=\"node-2A445B43-2CD6-4EC5-9F37-A5AE278FAB7F\")>,\n",
       " <selenium.webdriver.remote.webelement.WebElement (session=\"19680F18-A5F2-4883-B029-79FDE2482C72\", element=\"node-23A1873F-476C-4166-9EA9-2D87E32BD945\")>,\n",
       " <selenium.webdriver.remote.webelement.WebElement (session=\"19680F18-A5F2-4883-B029-79FDE2482C72\", element=\"node-597AE706-FE85-4957-B5D5-8A1BC00C4DF9\")>,\n",
       " <selenium.webdriver.remote.webelement.WebElement (session=\"19680F18-A5F2-4883-B029-79FDE2482C72\", element=\"node-3F87A664-63A4-4DDE-AA7E-00C84518FD3E\")>,\n",
       " <selenium.webdriver.remote.webelement.WebElement (session=\"19680F18-A5F2-4883-B029-79FDE2482C72\", element=\"node-D94362D5-830E-494F-A0D1-A9162264D023\")>,\n",
       " <selenium.webdriver.remote.webelement.WebElement (session=\"19680F18-A5F2-4883-B029-79FDE2482C72\", element=\"node-141E466F-79DC-4B07-99B6-0844A252A1C3\")>,\n",
       " <selenium.webdriver.remote.webelement.WebElement (session=\"19680F18-A5F2-4883-B029-79FDE2482C72\", element=\"node-A4D5C5CE-DBD8-46B5-85FD-5A73D208EE9B\")>,\n",
       " <selenium.webdriver.remote.webelement.WebElement (session=\"19680F18-A5F2-4883-B029-79FDE2482C72\", element=\"node-D4843F08-48C7-45F1-B148-CB359C2CDDA7\")>,\n",
       " <selenium.webdriver.remote.webelement.WebElement (session=\"19680F18-A5F2-4883-B029-79FDE2482C72\", element=\"node-68E60E14-8649-4FB0-B237-CAB363C1BF8F\")>,\n",
       " <selenium.webdriver.remote.webelement.WebElement (session=\"19680F18-A5F2-4883-B029-79FDE2482C72\", element=\"node-60B415D3-F30B-4C37-95A9-78B6ACF51D9D\")>,\n",
       " <selenium.webdriver.remote.webelement.WebElement (session=\"19680F18-A5F2-4883-B029-79FDE2482C72\", element=\"node-87E89A86-8BEE-492F-8BC6-44B9DDB83DC3\")>,\n",
       " <selenium.webdriver.remote.webelement.WebElement (session=\"19680F18-A5F2-4883-B029-79FDE2482C72\", element=\"node-171A82E0-CC34-492A-B432-24D65EF24117\")>,\n",
       " <selenium.webdriver.remote.webelement.WebElement (session=\"19680F18-A5F2-4883-B029-79FDE2482C72\", element=\"node-3D4846E0-D0A7-435A-8DC1-BED1E3D3B760\")>,\n",
       " <selenium.webdriver.remote.webelement.WebElement (session=\"19680F18-A5F2-4883-B029-79FDE2482C72\", element=\"node-AFAE6645-7004-49A6-8CB8-7D091E3B38AF\")>,\n",
       " <selenium.webdriver.remote.webelement.WebElement (session=\"19680F18-A5F2-4883-B029-79FDE2482C72\", element=\"node-4D09EECC-8222-4347-915D-6996E1053512\")>,\n",
       " <selenium.webdriver.remote.webelement.WebElement (session=\"19680F18-A5F2-4883-B029-79FDE2482C72\", element=\"node-E75B05CD-DA40-421E-948F-68A866D7F133\")>,\n",
       " <selenium.webdriver.remote.webelement.WebElement (session=\"19680F18-A5F2-4883-B029-79FDE2482C72\", element=\"node-1F2ABBE4-7707-4E7D-BF1F-B9E8F2949D5F\")>,\n",
       " <selenium.webdriver.remote.webelement.WebElement (session=\"19680F18-A5F2-4883-B029-79FDE2482C72\", element=\"node-19D4D54E-3074-404F-80A5-6F11AE9DFE8A\")>,\n",
       " <selenium.webdriver.remote.webelement.WebElement (session=\"19680F18-A5F2-4883-B029-79FDE2482C72\", element=\"node-B42C9645-0587-4DAA-A178-CAB3716322EE\")>,\n",
       " <selenium.webdriver.remote.webelement.WebElement (session=\"19680F18-A5F2-4883-B029-79FDE2482C72\", element=\"node-961C85E2-4DEF-4751-A40E-5D7ED1FCD2B3\")>,\n",
       " <selenium.webdriver.remote.webelement.WebElement (session=\"19680F18-A5F2-4883-B029-79FDE2482C72\", element=\"node-A875E8A6-E7D6-4D9C-8B84-72E59DF79396\")>,\n",
       " <selenium.webdriver.remote.webelement.WebElement (session=\"19680F18-A5F2-4883-B029-79FDE2482C72\", element=\"node-CDE8F978-3845-469D-8867-04A1AEF66C2B\")>,\n",
       " <selenium.webdriver.remote.webelement.WebElement (session=\"19680F18-A5F2-4883-B029-79FDE2482C72\", element=\"node-45F85AE9-61DE-4DB5-AF89-60A6FDA9FA30\")>,\n",
       " <selenium.webdriver.remote.webelement.WebElement (session=\"19680F18-A5F2-4883-B029-79FDE2482C72\", element=\"node-B191A094-50A5-4F23-8620-9E7676251305\")>,\n",
       " <selenium.webdriver.remote.webelement.WebElement (session=\"19680F18-A5F2-4883-B029-79FDE2482C72\", element=\"node-D67C32F1-69B6-4648-9933-96F3B18A79FB\")>,\n",
       " <selenium.webdriver.remote.webelement.WebElement (session=\"19680F18-A5F2-4883-B029-79FDE2482C72\", element=\"node-1C559E13-0EEB-4D67-817C-413DA6E23A88\")>,\n",
       " <selenium.webdriver.remote.webelement.WebElement (session=\"19680F18-A5F2-4883-B029-79FDE2482C72\", element=\"node-AFDEC00E-3933-44B7-BC8D-D9EA3120F419\")>,\n",
       " <selenium.webdriver.remote.webelement.WebElement (session=\"19680F18-A5F2-4883-B029-79FDE2482C72\", element=\"node-D1E9EF88-BE35-43E7-B116-D0C1B7C6F0A7\")>,\n",
       " <selenium.webdriver.remote.webelement.WebElement (session=\"19680F18-A5F2-4883-B029-79FDE2482C72\", element=\"node-098B894D-6B57-4BB8-9497-640038D4900D\")>,\n",
       " <selenium.webdriver.remote.webelement.WebElement (session=\"19680F18-A5F2-4883-B029-79FDE2482C72\", element=\"node-C69D52D4-96F1-485D-BDED-77B0E1D7D837\")>,\n",
       " <selenium.webdriver.remote.webelement.WebElement (session=\"19680F18-A5F2-4883-B029-79FDE2482C72\", element=\"node-9BB0584A-E1AF-44D7-8806-2DE71A2840FE\")>,\n",
       " <selenium.webdriver.remote.webelement.WebElement (session=\"19680F18-A5F2-4883-B029-79FDE2482C72\", element=\"node-823BD1A8-099B-4E71-BA3D-57BD5DADBE1A\")>,\n",
       " <selenium.webdriver.remote.webelement.WebElement (session=\"19680F18-A5F2-4883-B029-79FDE2482C72\", element=\"node-55C7E592-1A15-4570-9682-CDA25CC2DF52\")>,\n",
       " <selenium.webdriver.remote.webelement.WebElement (session=\"19680F18-A5F2-4883-B029-79FDE2482C72\", element=\"node-5B6F5D58-79E6-4A4C-8BB7-B1C77D5D4F35\")>,\n",
       " <selenium.webdriver.remote.webelement.WebElement (session=\"19680F18-A5F2-4883-B029-79FDE2482C72\", element=\"node-DC77A87A-27F8-42A5-8E1A-87EEF20452D2\")>,\n",
       " <selenium.webdriver.remote.webelement.WebElement (session=\"19680F18-A5F2-4883-B029-79FDE2482C72\", element=\"node-EADCB60C-1FAE-47D2-B40F-AFB843E450F3\")>,\n",
       " <selenium.webdriver.remote.webelement.WebElement (session=\"19680F18-A5F2-4883-B029-79FDE2482C72\", element=\"node-7B65E675-F0AB-464E-97CD-A2D10C4FC82C\")>,\n",
       " <selenium.webdriver.remote.webelement.WebElement (session=\"19680F18-A5F2-4883-B029-79FDE2482C72\", element=\"node-4E96D64B-D4B7-4CC5-8197-9E5EDE5FFA23\")>,\n",
       " <selenium.webdriver.remote.webelement.WebElement (session=\"19680F18-A5F2-4883-B029-79FDE2482C72\", element=\"node-30360A99-22C5-4D0B-950C-6A1484AA2192\")>,\n",
       " <selenium.webdriver.remote.webelement.WebElement (session=\"19680F18-A5F2-4883-B029-79FDE2482C72\", element=\"node-46D36730-337E-4E73-B148-8F4F8DFC67DE\")>,\n",
       " <selenium.webdriver.remote.webelement.WebElement (session=\"19680F18-A5F2-4883-B029-79FDE2482C72\", element=\"node-B7A54002-FC98-4A2F-B012-8E8CA4B6D98C\")>,\n",
       " <selenium.webdriver.remote.webelement.WebElement (session=\"19680F18-A5F2-4883-B029-79FDE2482C72\", element=\"node-81182C47-F822-449E-A43E-366343221712\")>,\n",
       " <selenium.webdriver.remote.webelement.WebElement (session=\"19680F18-A5F2-4883-B029-79FDE2482C72\", element=\"node-33B35576-EE09-405A-94F8-698DFAD21565\")>,\n",
       " <selenium.webdriver.remote.webelement.WebElement (session=\"19680F18-A5F2-4883-B029-79FDE2482C72\", element=\"node-C112BC90-9919-4D0C-8651-5CBE0FCBC1B5\")>,\n",
       " <selenium.webdriver.remote.webelement.WebElement (session=\"19680F18-A5F2-4883-B029-79FDE2482C72\", element=\"node-0E03A1BE-B051-4468-B3D6-AD96CD5062A6\")>,\n",
       " <selenium.webdriver.remote.webelement.WebElement (session=\"19680F18-A5F2-4883-B029-79FDE2482C72\", element=\"node-92929C4A-D918-455C-AB52-392DD9FB6450\")>,\n",
       " <selenium.webdriver.remote.webelement.WebElement (session=\"19680F18-A5F2-4883-B029-79FDE2482C72\", element=\"node-D6411FD5-FF33-4F96-98D9-76FD54DC5D3D\")>,\n",
       " <selenium.webdriver.remote.webelement.WebElement (session=\"19680F18-A5F2-4883-B029-79FDE2482C72\", element=\"node-7481CB34-8C3C-4DBE-957B-DAC461FBBD1A\")>,\n",
       " <selenium.webdriver.remote.webelement.WebElement (session=\"19680F18-A5F2-4883-B029-79FDE2482C72\", element=\"node-BA10E9D5-7BFB-4AC9-821F-F58CF775ED21\")>,\n",
       " <selenium.webdriver.remote.webelement.WebElement (session=\"19680F18-A5F2-4883-B029-79FDE2482C72\", element=\"node-0C3B1AF5-236A-4C38-B837-BFCE57EC5C95\")>,\n",
       " <selenium.webdriver.remote.webelement.WebElement (session=\"19680F18-A5F2-4883-B029-79FDE2482C72\", element=\"node-7F269000-93EB-4198-AF92-5DC0A931BC37\")>,\n",
       " <selenium.webdriver.remote.webelement.WebElement (session=\"19680F18-A5F2-4883-B029-79FDE2482C72\", element=\"node-8BFC52A7-255C-4B38-ADD7-5BD47159DEC5\")>,\n",
       " <selenium.webdriver.remote.webelement.WebElement (session=\"19680F18-A5F2-4883-B029-79FDE2482C72\", element=\"node-593D1EB4-35F5-47A3-958D-210D1DEF7A60\")>,\n",
       " <selenium.webdriver.remote.webelement.WebElement (session=\"19680F18-A5F2-4883-B029-79FDE2482C72\", element=\"node-2AAD067F-6F0A-476F-AD19-656D3A3A8507\")>,\n",
       " <selenium.webdriver.remote.webelement.WebElement (session=\"19680F18-A5F2-4883-B029-79FDE2482C72\", element=\"node-C1BED4D7-581B-4CCE-A11F-C5D69AC64FBC\")>,\n",
       " <selenium.webdriver.remote.webelement.WebElement (session=\"19680F18-A5F2-4883-B029-79FDE2482C72\", element=\"node-44BA0514-4C69-48A3-B06A-88AC0D668F2E\")>,\n",
       " <selenium.webdriver.remote.webelement.WebElement (session=\"19680F18-A5F2-4883-B029-79FDE2482C72\", element=\"node-11C73D7E-A649-478D-8080-606E28C2B49F\")>,\n",
       " <selenium.webdriver.remote.webelement.WebElement (session=\"19680F18-A5F2-4883-B029-79FDE2482C72\", element=\"node-3F939517-DAC4-47AA-A272-3664C975FB9D\")>,\n",
       " <selenium.webdriver.remote.webelement.WebElement (session=\"19680F18-A5F2-4883-B029-79FDE2482C72\", element=\"node-0CE873C7-0047-4F5F-A2E6-87FC8215B8EA\")>,\n",
       " <selenium.webdriver.remote.webelement.WebElement (session=\"19680F18-A5F2-4883-B029-79FDE2482C72\", element=\"node-2C458508-E898-47E0-9A74-C834FA27398A\")>,\n",
       " <selenium.webdriver.remote.webelement.WebElement (session=\"19680F18-A5F2-4883-B029-79FDE2482C72\", element=\"node-CD78ACF8-3485-46E6-B1C3-41B8CD684215\")>,\n",
       " <selenium.webdriver.remote.webelement.WebElement (session=\"19680F18-A5F2-4883-B029-79FDE2482C72\", element=\"node-65B3A4FA-031A-4517-9599-C2846DDB1A07\")>,\n",
       " <selenium.webdriver.remote.webelement.WebElement (session=\"19680F18-A5F2-4883-B029-79FDE2482C72\", element=\"node-7FDFB8C4-ACDF-4865-AABF-EBD8036052CC\")>,\n",
       " <selenium.webdriver.remote.webelement.WebElement (session=\"19680F18-A5F2-4883-B029-79FDE2482C72\", element=\"node-779C8D9E-0723-4437-B2C1-A348496CDFAB\")>,\n",
       " <selenium.webdriver.remote.webelement.WebElement (session=\"19680F18-A5F2-4883-B029-79FDE2482C72\", element=\"node-F2BCF512-1072-4F3D-8167-3C7768595583\")>,\n",
       " <selenium.webdriver.remote.webelement.WebElement (session=\"19680F18-A5F2-4883-B029-79FDE2482C72\", element=\"node-36822F61-9566-45DD-AF14-610E2F9087A4\")>,\n",
       " <selenium.webdriver.remote.webelement.WebElement (session=\"19680F18-A5F2-4883-B029-79FDE2482C72\", element=\"node-FA85A3D7-098A-4BAC-BD4B-C0DCB7109C25\")>,\n",
       " <selenium.webdriver.remote.webelement.WebElement (session=\"19680F18-A5F2-4883-B029-79FDE2482C72\", element=\"node-2B4F0C4E-AA82-4BF1-986E-D52FB4E2A516\")>,\n",
       " <selenium.webdriver.remote.webelement.WebElement (session=\"19680F18-A5F2-4883-B029-79FDE2482C72\", element=\"node-3FDDA6D5-A044-4F9D-875E-B87F973168B2\")>,\n",
       " <selenium.webdriver.remote.webelement.WebElement (session=\"19680F18-A5F2-4883-B029-79FDE2482C72\", element=\"node-AD74CA10-882F-4C24-8E47-E9ECCCEA201C\")>,\n",
       " <selenium.webdriver.remote.webelement.WebElement (session=\"19680F18-A5F2-4883-B029-79FDE2482C72\", element=\"node-9D2C5302-873C-4FE7-A862-04B8377E5673\")>,\n",
       " <selenium.webdriver.remote.webelement.WebElement (session=\"19680F18-A5F2-4883-B029-79FDE2482C72\", element=\"node-76102B2F-7B19-4A12-902F-B17A76F89F51\")>,\n",
       " <selenium.webdriver.remote.webelement.WebElement (session=\"19680F18-A5F2-4883-B029-79FDE2482C72\", element=\"node-B2A6BAA8-C330-415D-B24A-892488400495\")>,\n",
       " <selenium.webdriver.remote.webelement.WebElement (session=\"19680F18-A5F2-4883-B029-79FDE2482C72\", element=\"node-0B4F48D7-67CD-432B-A6F0-238D1D6A4B61\")>,\n",
       " <selenium.webdriver.remote.webelement.WebElement (session=\"19680F18-A5F2-4883-B029-79FDE2482C72\", element=\"node-27E21EAA-82D1-4E51-ACC7-74BDBC7D0139\")>,\n",
       " <selenium.webdriver.remote.webelement.WebElement (session=\"19680F18-A5F2-4883-B029-79FDE2482C72\", element=\"node-92F7C177-AF04-4AAF-A89A-BAD00F615591\")>,\n",
       " <selenium.webdriver.remote.webelement.WebElement (session=\"19680F18-A5F2-4883-B029-79FDE2482C72\", element=\"node-AB0960A5-FA88-4018-B7D2-679A2A03B092\")>,\n",
       " <selenium.webdriver.remote.webelement.WebElement (session=\"19680F18-A5F2-4883-B029-79FDE2482C72\", element=\"node-A1A627AE-90FA-4243-BA07-9B95011C5E1A\")>,\n",
       " <selenium.webdriver.remote.webelement.WebElement (session=\"19680F18-A5F2-4883-B029-79FDE2482C72\", element=\"node-DF297424-BF80-4A65-8DB5-16B241905174\")>,\n",
       " <selenium.webdriver.remote.webelement.WebElement (session=\"19680F18-A5F2-4883-B029-79FDE2482C72\", element=\"node-456A123E-5B89-4F04-8DB0-5066DB3799FC\")>,\n",
       " <selenium.webdriver.remote.webelement.WebElement (session=\"19680F18-A5F2-4883-B029-79FDE2482C72\", element=\"node-41A484EA-E2F2-449C-88E6-B4D6062EF67A\")>,\n",
       " <selenium.webdriver.remote.webelement.WebElement (session=\"19680F18-A5F2-4883-B029-79FDE2482C72\", element=\"node-138E660E-7567-413B-8E45-63F24E65E13E\")>,\n",
       " <selenium.webdriver.remote.webelement.WebElement (session=\"19680F18-A5F2-4883-B029-79FDE2482C72\", element=\"node-227472B3-4954-4A15-80FA-BF13E4CBC647\")>,\n",
       " <selenium.webdriver.remote.webelement.WebElement (session=\"19680F18-A5F2-4883-B029-79FDE2482C72\", element=\"node-FEC43A41-721F-4D85-BC95-D0DE6C10DAED\")>,\n",
       " <selenium.webdriver.remote.webelement.WebElement (session=\"19680F18-A5F2-4883-B029-79FDE2482C72\", element=\"node-039ECB85-345A-4008-9972-4CB1331BA186\")>,\n",
       " <selenium.webdriver.remote.webelement.WebElement (session=\"19680F18-A5F2-4883-B029-79FDE2482C72\", element=\"node-BD731082-6CC2-4B99-A518-A8AF571FC6DA\")>,\n",
       " <selenium.webdriver.remote.webelement.WebElement (session=\"19680F18-A5F2-4883-B029-79FDE2482C72\", element=\"node-F711FF07-6382-402E-9F97-F34962CDFF98\")>,\n",
       " <selenium.webdriver.remote.webelement.WebElement (session=\"19680F18-A5F2-4883-B029-79FDE2482C72\", element=\"node-E068D0C0-41BB-4AE2-ADA5-76EF73A73FCB\")>,\n",
       " <selenium.webdriver.remote.webelement.WebElement (session=\"19680F18-A5F2-4883-B029-79FDE2482C72\", element=\"node-1106DC72-B178-4CFA-929E-0553E6B8C851\")>,\n",
       " <selenium.webdriver.remote.webelement.WebElement (session=\"19680F18-A5F2-4883-B029-79FDE2482C72\", element=\"node-ED2DFE63-E93B-4E09-A819-0F541933BFA9\")>,\n",
       " <selenium.webdriver.remote.webelement.WebElement (session=\"19680F18-A5F2-4883-B029-79FDE2482C72\", element=\"node-12A7C9B5-941F-4E40-95B3-4B429BB772EC\")>,\n",
       " <selenium.webdriver.remote.webelement.WebElement (session=\"19680F18-A5F2-4883-B029-79FDE2482C72\", element=\"node-23084668-0626-4C68-85F4-249B2F2C9363\")>,\n",
       " <selenium.webdriver.remote.webelement.WebElement (session=\"19680F18-A5F2-4883-B029-79FDE2482C72\", element=\"node-A27A13DE-6A85-4F1C-B42D-EA3EED332D99\")>,\n",
       " <selenium.webdriver.remote.webelement.WebElement (session=\"19680F18-A5F2-4883-B029-79FDE2482C72\", element=\"node-53A2FA50-B928-483E-A135-EE26FE448081\")>,\n",
       " <selenium.webdriver.remote.webelement.WebElement (session=\"19680F18-A5F2-4883-B029-79FDE2482C72\", element=\"node-E1843397-31D6-45B3-A7DB-7731176DB418\")>,\n",
       " <selenium.webdriver.remote.webelement.WebElement (session=\"19680F18-A5F2-4883-B029-79FDE2482C72\", element=\"node-947F75D5-1FFB-4F0C-8C42-353FD6191C36\")>,\n",
       " <selenium.webdriver.remote.webelement.WebElement (session=\"19680F18-A5F2-4883-B029-79FDE2482C72\", element=\"node-392DC604-4ACB-44A1-AE73-F48B36E1F13F\")>,\n",
       " <selenium.webdriver.remote.webelement.WebElement (session=\"19680F18-A5F2-4883-B029-79FDE2482C72\", element=\"node-8F23333E-A9E1-47CB-8052-535D7CBC01F8\")>,\n",
       " <selenium.webdriver.remote.webelement.WebElement (session=\"19680F18-A5F2-4883-B029-79FDE2482C72\", element=\"node-F0999FA0-B9DD-42EC-BA6E-7A859551DE91\")>,\n",
       " <selenium.webdriver.remote.webelement.WebElement (session=\"19680F18-A5F2-4883-B029-79FDE2482C72\", element=\"node-B0F47558-5E07-4541-AD06-E8CD05355DB5\")>,\n",
       " <selenium.webdriver.remote.webelement.WebElement (session=\"19680F18-A5F2-4883-B029-79FDE2482C72\", element=\"node-1F69E82A-C773-4989-B2DC-745C358723CD\")>,\n",
       " <selenium.webdriver.remote.webelement.WebElement (session=\"19680F18-A5F2-4883-B029-79FDE2482C72\", element=\"node-32B3C5D2-D5E8-4816-A9BC-E6351BB12847\")>,\n",
       " <selenium.webdriver.remote.webelement.WebElement (session=\"19680F18-A5F2-4883-B029-79FDE2482C72\", element=\"node-AC033ACB-E69E-4DE3-AA32-1DFCB66539B2\")>,\n",
       " <selenium.webdriver.remote.webelement.WebElement (session=\"19680F18-A5F2-4883-B029-79FDE2482C72\", element=\"node-A166DA62-D9C9-40D9-8DCD-C0F8501EFBCD\")>,\n",
       " <selenium.webdriver.remote.webelement.WebElement (session=\"19680F18-A5F2-4883-B029-79FDE2482C72\", element=\"node-72D89402-9F94-4A6D-8970-51171C4DBBA1\")>,\n",
       " <selenium.webdriver.remote.webelement.WebElement (session=\"19680F18-A5F2-4883-B029-79FDE2482C72\", element=\"node-6ADBB146-C1AA-429F-865E-56DDD3D0DED2\")>,\n",
       " <selenium.webdriver.remote.webelement.WebElement (session=\"19680F18-A5F2-4883-B029-79FDE2482C72\", element=\"node-FF3C9AAF-E69D-448A-B54A-898F88D2F474\")>,\n",
       " <selenium.webdriver.remote.webelement.WebElement (session=\"19680F18-A5F2-4883-B029-79FDE2482C72\", element=\"node-1A483589-1002-48A2-9655-156A37F9C87A\")>,\n",
       " <selenium.webdriver.remote.webelement.WebElement (session=\"19680F18-A5F2-4883-B029-79FDE2482C72\", element=\"node-C8B42882-C914-46E0-8874-02314439C37A\")>,\n",
       " <selenium.webdriver.remote.webelement.WebElement (session=\"19680F18-A5F2-4883-B029-79FDE2482C72\", element=\"node-833434AF-9BDF-4011-8BF3-FC7DB7273927\")>,\n",
       " <selenium.webdriver.remote.webelement.WebElement (session=\"19680F18-A5F2-4883-B029-79FDE2482C72\", element=\"node-AD3B3B24-EADB-4FE3-AC30-0CAAB136C405\")>,\n",
       " <selenium.webdriver.remote.webelement.WebElement (session=\"19680F18-A5F2-4883-B029-79FDE2482C72\", element=\"node-36C6F9BC-82FF-443B-AD25-90EA96F81460\")>,\n",
       " <selenium.webdriver.remote.webelement.WebElement (session=\"19680F18-A5F2-4883-B029-79FDE2482C72\", element=\"node-091CE15E-9717-4EC9-A714-6D4965311730\")>,\n",
       " <selenium.webdriver.remote.webelement.WebElement (session=\"19680F18-A5F2-4883-B029-79FDE2482C72\", element=\"node-14687857-B702-4D08-8A92-48DA743FD9EE\")>,\n",
       " <selenium.webdriver.remote.webelement.WebElement (session=\"19680F18-A5F2-4883-B029-79FDE2482C72\", element=\"node-AB062FA5-B31D-4155-8C7C-9BEF8AF4628B\")>,\n",
       " <selenium.webdriver.remote.webelement.WebElement (session=\"19680F18-A5F2-4883-B029-79FDE2482C72\", element=\"node-3C08C0C7-93DB-42D9-895E-99A418C97426\")>,\n",
       " <selenium.webdriver.remote.webelement.WebElement (session=\"19680F18-A5F2-4883-B029-79FDE2482C72\", element=\"node-20EDE652-43EA-48BB-98EF-C69A8ABF487E\")>,\n",
       " <selenium.webdriver.remote.webelement.WebElement (session=\"19680F18-A5F2-4883-B029-79FDE2482C72\", element=\"node-4FEA993F-A1F8-4977-AEA6-F3838D2D0799\")>,\n",
       " <selenium.webdriver.remote.webelement.WebElement (session=\"19680F18-A5F2-4883-B029-79FDE2482C72\", element=\"node-18D6F6DB-30F6-4A43-AB1C-23F84C27BCE6\")>,\n",
       " <selenium.webdriver.remote.webelement.WebElement (session=\"19680F18-A5F2-4883-B029-79FDE2482C72\", element=\"node-2EBEA00F-EE45-4B36-817D-12FAAC509756\")>,\n",
       " <selenium.webdriver.remote.webelement.WebElement (session=\"19680F18-A5F2-4883-B029-79FDE2482C72\", element=\"node-A7F0A727-AE78-49D1-8DAA-7B2E9945881A\")>,\n",
       " <selenium.webdriver.remote.webelement.WebElement (session=\"19680F18-A5F2-4883-B029-79FDE2482C72\", element=\"node-4037084F-5E47-42EA-BB78-4518949CC0AC\")>,\n",
       " <selenium.webdriver.remote.webelement.WebElement (session=\"19680F18-A5F2-4883-B029-79FDE2482C72\", element=\"node-BAF53E19-F6AD-49FA-8EC5-762771DF260B\")>,\n",
       " <selenium.webdriver.remote.webelement.WebElement (session=\"19680F18-A5F2-4883-B029-79FDE2482C72\", element=\"node-FA9F7CBB-363C-4C0F-8E73-61E416219145\")>,\n",
       " <selenium.webdriver.remote.webelement.WebElement (session=\"19680F18-A5F2-4883-B029-79FDE2482C72\", element=\"node-433C70A4-228A-49AB-8399-45843775D808\")>,\n",
       " <selenium.webdriver.remote.webelement.WebElement (session=\"19680F18-A5F2-4883-B029-79FDE2482C72\", element=\"node-A0F6088C-8464-45E6-8635-D7299CCD0F49\")>,\n",
       " <selenium.webdriver.remote.webelement.WebElement (session=\"19680F18-A5F2-4883-B029-79FDE2482C72\", element=\"node-9BDE7C96-1E3A-4043-8EBD-0091EA90E962\")>,\n",
       " <selenium.webdriver.remote.webelement.WebElement (session=\"19680F18-A5F2-4883-B029-79FDE2482C72\", element=\"node-8A7FBB32-D1CF-4660-9B56-7B4F72E909E9\")>,\n",
       " <selenium.webdriver.remote.webelement.WebElement (session=\"19680F18-A5F2-4883-B029-79FDE2482C72\", element=\"node-993B72B1-F582-4C5E-AC7D-519F5262F4A2\")>,\n",
       " <selenium.webdriver.remote.webelement.WebElement (session=\"19680F18-A5F2-4883-B029-79FDE2482C72\", element=\"node-ED4EC912-BA3A-43B4-819C-5C5D151A2393\")>,\n",
       " <selenium.webdriver.remote.webelement.WebElement (session=\"19680F18-A5F2-4883-B029-79FDE2482C72\", element=\"node-49CC0E1E-320F-4527-A300-5A0745EE775E\")>,\n",
       " <selenium.webdriver.remote.webelement.WebElement (session=\"19680F18-A5F2-4883-B029-79FDE2482C72\", element=\"node-A5AE6B16-4342-42A3-B2B0-3F1959EBC848\")>,\n",
       " <selenium.webdriver.remote.webelement.WebElement (session=\"19680F18-A5F2-4883-B029-79FDE2482C72\", element=\"node-2D1393FF-BF7B-4238-94FB-00B1B05C53E9\")>,\n",
       " <selenium.webdriver.remote.webelement.WebElement (session=\"19680F18-A5F2-4883-B029-79FDE2482C72\", element=\"node-7831F84A-DDF7-4426-8F02-2E76553D6025\")>,\n",
       " <selenium.webdriver.remote.webelement.WebElement (session=\"19680F18-A5F2-4883-B029-79FDE2482C72\", element=\"node-C76989C0-9520-48A6-B417-417DABC1ABD3\")>,\n",
       " <selenium.webdriver.remote.webelement.WebElement (session=\"19680F18-A5F2-4883-B029-79FDE2482C72\", element=\"node-E1F3E5A4-CC9B-4949-82BC-3C72C81483F4\")>,\n",
       " <selenium.webdriver.remote.webelement.WebElement (session=\"19680F18-A5F2-4883-B029-79FDE2482C72\", element=\"node-B13EE6BD-B61D-40B1-8F82-12E68EF882E8\")>,\n",
       " <selenium.webdriver.remote.webelement.WebElement (session=\"19680F18-A5F2-4883-B029-79FDE2482C72\", element=\"node-36F0622D-5610-451D-9103-D9354292E655\")>,\n",
       " <selenium.webdriver.remote.webelement.WebElement (session=\"19680F18-A5F2-4883-B029-79FDE2482C72\", element=\"node-FD3A76E5-0ED7-49B1-BCC6-DA9BDBE750F2\")>,\n",
       " <selenium.webdriver.remote.webelement.WebElement (session=\"19680F18-A5F2-4883-B029-79FDE2482C72\", element=\"node-B51E1A8E-8491-4F4E-ADAC-6932DD485FFD\")>,\n",
       " <selenium.webdriver.remote.webelement.WebElement (session=\"19680F18-A5F2-4883-B029-79FDE2482C72\", element=\"node-4608D164-03AF-4F5C-8893-ABD523806629\")>,\n",
       " <selenium.webdriver.remote.webelement.WebElement (session=\"19680F18-A5F2-4883-B029-79FDE2482C72\", element=\"node-12F02199-EE34-4169-B88B-49269B3F8F3F\")>,\n",
       " <selenium.webdriver.remote.webelement.WebElement (session=\"19680F18-A5F2-4883-B029-79FDE2482C72\", element=\"node-F090B0D4-8DA8-497D-8A96-54B8F1734F7B\")>,\n",
       " <selenium.webdriver.remote.webelement.WebElement (session=\"19680F18-A5F2-4883-B029-79FDE2482C72\", element=\"node-32F290B8-2F29-4BE3-91DF-56F272837653\")>,\n",
       " <selenium.webdriver.remote.webelement.WebElement (session=\"19680F18-A5F2-4883-B029-79FDE2482C72\", element=\"node-95B69BC5-6E6A-4255-807B-142A5B59B90A\")>,\n",
       " <selenium.webdriver.remote.webelement.WebElement (session=\"19680F18-A5F2-4883-B029-79FDE2482C72\", element=\"node-14D0727F-BEDC-4D4E-B293-C5886F417B6D\")>,\n",
       " <selenium.webdriver.remote.webelement.WebElement (session=\"19680F18-A5F2-4883-B029-79FDE2482C72\", element=\"node-E00F7E73-4743-4A1E-B612-1868406B3DE7\")>,\n",
       " <selenium.webdriver.remote.webelement.WebElement (session=\"19680F18-A5F2-4883-B029-79FDE2482C72\", element=\"node-7B457424-DFEC-4B67-8912-421CD21B00FB\")>,\n",
       " <selenium.webdriver.remote.webelement.WebElement (session=\"19680F18-A5F2-4883-B029-79FDE2482C72\", element=\"node-45567DE9-FA14-4569-B806-AF55629EA009\")>,\n",
       " <selenium.webdriver.remote.webelement.WebElement (session=\"19680F18-A5F2-4883-B029-79FDE2482C72\", element=\"node-825383B6-90C9-4A69-AC00-D85C903FC175\")>,\n",
       " <selenium.webdriver.remote.webelement.WebElement (session=\"19680F18-A5F2-4883-B029-79FDE2482C72\", element=\"node-811AA196-D51B-40C2-B09C-F937489BA99D\")>,\n",
       " <selenium.webdriver.remote.webelement.WebElement (session=\"19680F18-A5F2-4883-B029-79FDE2482C72\", element=\"node-3ECD1D7F-7A9D-4EA8-A6CC-2EA01D2800D6\")>,\n",
       " <selenium.webdriver.remote.webelement.WebElement (session=\"19680F18-A5F2-4883-B029-79FDE2482C72\", element=\"node-56B9820C-F156-4D93-950D-5DFF85C2F0E2\")>,\n",
       " <selenium.webdriver.remote.webelement.WebElement (session=\"19680F18-A5F2-4883-B029-79FDE2482C72\", element=\"node-0A67E42F-C108-4648-BA1D-B2F29AD16A76\")>,\n",
       " <selenium.webdriver.remote.webelement.WebElement (session=\"19680F18-A5F2-4883-B029-79FDE2482C72\", element=\"node-F0550A6D-1661-43FA-910A-26750BD35564\")>,\n",
       " <selenium.webdriver.remote.webelement.WebElement (session=\"19680F18-A5F2-4883-B029-79FDE2482C72\", element=\"node-0EDCBF7F-C2CB-409A-A68D-0615FD523057\")>,\n",
       " <selenium.webdriver.remote.webelement.WebElement (session=\"19680F18-A5F2-4883-B029-79FDE2482C72\", element=\"node-16A14D5A-56AA-4676-8F2A-1F190D378B64\")>,\n",
       " <selenium.webdriver.remote.webelement.WebElement (session=\"19680F18-A5F2-4883-B029-79FDE2482C72\", element=\"node-DE55986D-F100-479E-ABFA-2DC20E6B453C\")>,\n",
       " <selenium.webdriver.remote.webelement.WebElement (session=\"19680F18-A5F2-4883-B029-79FDE2482C72\", element=\"node-8A35E7A5-5B1D-4C97-AAE6-57763A37EA3D\")>,\n",
       " <selenium.webdriver.remote.webelement.WebElement (session=\"19680F18-A5F2-4883-B029-79FDE2482C72\", element=\"node-21F6541F-2215-4B53-B38B-46C904944BEE\")>,\n",
       " <selenium.webdriver.remote.webelement.WebElement (session=\"19680F18-A5F2-4883-B029-79FDE2482C72\", element=\"node-5CB432C2-8B80-42C1-992F-5F77FC7AAE78\")>,\n",
       " <selenium.webdriver.remote.webelement.WebElement (session=\"19680F18-A5F2-4883-B029-79FDE2482C72\", element=\"node-441E6EE8-B0BB-408E-801F-67A9854AB14F\")>,\n",
       " <selenium.webdriver.remote.webelement.WebElement (session=\"19680F18-A5F2-4883-B029-79FDE2482C72\", element=\"node-D0C841C4-C8BA-414E-8034-D8813B982A67\")>,\n",
       " <selenium.webdriver.remote.webelement.WebElement (session=\"19680F18-A5F2-4883-B029-79FDE2482C72\", element=\"node-9ABC5931-A7A9-48D6-9AE1-E70C4975BF17\")>,\n",
       " <selenium.webdriver.remote.webelement.WebElement (session=\"19680F18-A5F2-4883-B029-79FDE2482C72\", element=\"node-A5E4E88E-1634-4EE8-8CE2-BFA095637577\")>,\n",
       " <selenium.webdriver.remote.webelement.WebElement (session=\"19680F18-A5F2-4883-B029-79FDE2482C72\", element=\"node-57A19636-6964-4CC3-88A8-3E87F1AFFA4D\")>,\n",
       " <selenium.webdriver.remote.webelement.WebElement (session=\"19680F18-A5F2-4883-B029-79FDE2482C72\", element=\"node-97B38DB9-7F97-4025-8C69-6621D03BDCDD\")>,\n",
       " <selenium.webdriver.remote.webelement.WebElement (session=\"19680F18-A5F2-4883-B029-79FDE2482C72\", element=\"node-B9DD966C-AF74-4F90-A2DD-B7BEB1FE1B26\")>,\n",
       " <selenium.webdriver.remote.webelement.WebElement (session=\"19680F18-A5F2-4883-B029-79FDE2482C72\", element=\"node-3F1458BE-9B68-43E8-BBE3-0D37F82CA808\")>,\n",
       " <selenium.webdriver.remote.webelement.WebElement (session=\"19680F18-A5F2-4883-B029-79FDE2482C72\", element=\"node-E8B265D5-A945-4F50-A906-F0369A600A89\")>,\n",
       " <selenium.webdriver.remote.webelement.WebElement (session=\"19680F18-A5F2-4883-B029-79FDE2482C72\", element=\"node-99C63777-9051-42DD-A810-A11BA1366CB6\")>,\n",
       " <selenium.webdriver.remote.webelement.WebElement (session=\"19680F18-A5F2-4883-B029-79FDE2482C72\", element=\"node-B5AF4F2D-2A76-4C17-A53D-C0A97A2C0686\")>,\n",
       " <selenium.webdriver.remote.webelement.WebElement (session=\"19680F18-A5F2-4883-B029-79FDE2482C72\", element=\"node-9A5E6911-4B70-4870-AA16-10E45A031D3D\")>,\n",
       " <selenium.webdriver.remote.webelement.WebElement (session=\"19680F18-A5F2-4883-B029-79FDE2482C72\", element=\"node-F0311022-BC61-4BCA-A782-630FD004109B\")>,\n",
       " <selenium.webdriver.remote.webelement.WebElement (session=\"19680F18-A5F2-4883-B029-79FDE2482C72\", element=\"node-373C70D9-1A99-43AB-90FB-D7B4DB958E19\")>,\n",
       " <selenium.webdriver.remote.webelement.WebElement (session=\"19680F18-A5F2-4883-B029-79FDE2482C72\", element=\"node-7CBB1C92-B519-43C8-BDEE-4C9A494215CA\")>,\n",
       " <selenium.webdriver.remote.webelement.WebElement (session=\"19680F18-A5F2-4883-B029-79FDE2482C72\", element=\"node-0B6A866F-46A5-4CF9-BCAD-9A09B81D5C5B\")>,\n",
       " <selenium.webdriver.remote.webelement.WebElement (session=\"19680F18-A5F2-4883-B029-79FDE2482C72\", element=\"node-6E93B203-548D-4DD6-82DF-7BC29562B61C\")>,\n",
       " <selenium.webdriver.remote.webelement.WebElement (session=\"19680F18-A5F2-4883-B029-79FDE2482C72\", element=\"node-8A18BDDF-F190-4397-96E9-A2343B58C9BC\")>,\n",
       " <selenium.webdriver.remote.webelement.WebElement (session=\"19680F18-A5F2-4883-B029-79FDE2482C72\", element=\"node-2E59B787-0A10-47C2-A34C-9EA652C52E1B\")>,\n",
       " <selenium.webdriver.remote.webelement.WebElement (session=\"19680F18-A5F2-4883-B029-79FDE2482C72\", element=\"node-1E0C2B75-C950-46ED-A90B-0F80A7380F01\")>,\n",
       " <selenium.webdriver.remote.webelement.WebElement (session=\"19680F18-A5F2-4883-B029-79FDE2482C72\", element=\"node-4CB957FF-1DF5-4C8B-89E5-996DD652B457\")>,\n",
       " <selenium.webdriver.remote.webelement.WebElement (session=\"19680F18-A5F2-4883-B029-79FDE2482C72\", element=\"node-216A375A-7223-43D2-A558-87CEF7E20A16\")>,\n",
       " <selenium.webdriver.remote.webelement.WebElement (session=\"19680F18-A5F2-4883-B029-79FDE2482C72\", element=\"node-A05AE355-E8A9-438E-86E1-ED2BC43C18DE\")>,\n",
       " <selenium.webdriver.remote.webelement.WebElement (session=\"19680F18-A5F2-4883-B029-79FDE2482C72\", element=\"node-62EE3DB0-C451-4C68-93E1-C058173FBB68\")>,\n",
       " <selenium.webdriver.remote.webelement.WebElement (session=\"19680F18-A5F2-4883-B029-79FDE2482C72\", element=\"node-922A10E4-5464-4427-AB63-6EB2D3E2028C\")>,\n",
       " <selenium.webdriver.remote.webelement.WebElement (session=\"19680F18-A5F2-4883-B029-79FDE2482C72\", element=\"node-655A4BA6-237D-4D21-A66D-723297B4B9F4\")>,\n",
       " <selenium.webdriver.remote.webelement.WebElement (session=\"19680F18-A5F2-4883-B029-79FDE2482C72\", element=\"node-C65A0CF4-02BF-4E0B-B8AB-842F585D0EE1\")>,\n",
       " <selenium.webdriver.remote.webelement.WebElement (session=\"19680F18-A5F2-4883-B029-79FDE2482C72\", element=\"node-F586CEC2-A663-44D8-B941-E34C76D7E367\")>,\n",
       " <selenium.webdriver.remote.webelement.WebElement (session=\"19680F18-A5F2-4883-B029-79FDE2482C72\", element=\"node-AD0BD2B3-DCE7-4EFB-8ACE-1CDAADF77D40\")>,\n",
       " <selenium.webdriver.remote.webelement.WebElement (session=\"19680F18-A5F2-4883-B029-79FDE2482C72\", element=\"node-6E1D0F3D-E3E9-4168-8A55-EA3158F37F17\")>,\n",
       " <selenium.webdriver.remote.webelement.WebElement (session=\"19680F18-A5F2-4883-B029-79FDE2482C72\", element=\"node-D269291F-EAF6-4E46-9410-67062A5CB61E\")>,\n",
       " <selenium.webdriver.remote.webelement.WebElement (session=\"19680F18-A5F2-4883-B029-79FDE2482C72\", element=\"node-F672BB83-6AC2-4136-9F72-31432B114B0F\")>,\n",
       " <selenium.webdriver.remote.webelement.WebElement (session=\"19680F18-A5F2-4883-B029-79FDE2482C72\", element=\"node-E34CE649-C487-4CC9-8D0C-4A9E2103011B\")>,\n",
       " <selenium.webdriver.remote.webelement.WebElement (session=\"19680F18-A5F2-4883-B029-79FDE2482C72\", element=\"node-2CF04BD9-9B90-4B33-8768-B706F5193DEB\")>,\n",
       " <selenium.webdriver.remote.webelement.WebElement (session=\"19680F18-A5F2-4883-B029-79FDE2482C72\", element=\"node-593D04FA-EA1B-4524-8570-B39DE932516E\")>,\n",
       " <selenium.webdriver.remote.webelement.WebElement (session=\"19680F18-A5F2-4883-B029-79FDE2482C72\", element=\"node-A84C54C8-5F24-470A-BF04-7C762128629A\")>,\n",
       " <selenium.webdriver.remote.webelement.WebElement (session=\"19680F18-A5F2-4883-B029-79FDE2482C72\", element=\"node-E8C2A2F9-A620-43EA-930F-4BD1D0261346\")>,\n",
       " <selenium.webdriver.remote.webelement.WebElement (session=\"19680F18-A5F2-4883-B029-79FDE2482C72\", element=\"node-1F757421-4565-43AE-A5A1-A07105BAF625\")>,\n",
       " <selenium.webdriver.remote.webelement.WebElement (session=\"19680F18-A5F2-4883-B029-79FDE2482C72\", element=\"node-F8C43A2B-3E85-473E-A122-9FEA057E80C9\")>,\n",
       " <selenium.webdriver.remote.webelement.WebElement (session=\"19680F18-A5F2-4883-B029-79FDE2482C72\", element=\"node-BE560749-9167-4E15-B1C8-A16B92C810EA\")>,\n",
       " <selenium.webdriver.remote.webelement.WebElement (session=\"19680F18-A5F2-4883-B029-79FDE2482C72\", element=\"node-954BDF7C-8362-495B-9D70-B52F6BF4FC6D\")>,\n",
       " <selenium.webdriver.remote.webelement.WebElement (session=\"19680F18-A5F2-4883-B029-79FDE2482C72\", element=\"node-36D5CA70-6514-48EF-8461-9CFCCAB07EBB\")>,\n",
       " <selenium.webdriver.remote.webelement.WebElement (session=\"19680F18-A5F2-4883-B029-79FDE2482C72\", element=\"node-49E7B8E8-09C4-42FF-A498-FD034084D388\")>,\n",
       " <selenium.webdriver.remote.webelement.WebElement (session=\"19680F18-A5F2-4883-B029-79FDE2482C72\", element=\"node-C8E91AFA-A88D-4B5F-8E24-1A69DB993815\")>,\n",
       " <selenium.webdriver.remote.webelement.WebElement (session=\"19680F18-A5F2-4883-B029-79FDE2482C72\", element=\"node-2F911C6D-D679-48A7-8AF3-5FE2A107DFDA\")>,\n",
       " <selenium.webdriver.remote.webelement.WebElement (session=\"19680F18-A5F2-4883-B029-79FDE2482C72\", element=\"node-F4D29C9D-ABB4-44E8-BE15-6D251DA49A06\")>,\n",
       " <selenium.webdriver.remote.webelement.WebElement (session=\"19680F18-A5F2-4883-B029-79FDE2482C72\", element=\"node-BE06AAAB-1308-4910-8B95-8D7F39FE55D9\")>,\n",
       " <selenium.webdriver.remote.webelement.WebElement (session=\"19680F18-A5F2-4883-B029-79FDE2482C72\", element=\"node-A458C379-0B73-497C-968E-9F20EF18F516\")>,\n",
       " <selenium.webdriver.remote.webelement.WebElement (session=\"19680F18-A5F2-4883-B029-79FDE2482C72\", element=\"node-638621C5-052F-4DC7-805A-43C92B5B9380\")>,\n",
       " <selenium.webdriver.remote.webelement.WebElement (session=\"19680F18-A5F2-4883-B029-79FDE2482C72\", element=\"node-4356860F-5D46-4CCF-9EFE-589D79821BC9\")>,\n",
       " <selenium.webdriver.remote.webelement.WebElement (session=\"19680F18-A5F2-4883-B029-79FDE2482C72\", element=\"node-32D2DAC6-A234-42E9-87D2-583B1ABA427B\")>,\n",
       " <selenium.webdriver.remote.webelement.WebElement (session=\"19680F18-A5F2-4883-B029-79FDE2482C72\", element=\"node-CCF49641-E387-464E-81E3-C0AE923FC6FC\")>,\n",
       " <selenium.webdriver.remote.webelement.WebElement (session=\"19680F18-A5F2-4883-B029-79FDE2482C72\", element=\"node-09D397F9-5B22-4C34-A5A8-EE41C7B5D490\")>,\n",
       " <selenium.webdriver.remote.webelement.WebElement (session=\"19680F18-A5F2-4883-B029-79FDE2482C72\", element=\"node-2BBE8B81-70F5-46A0-AFA6-4C6DCD718845\")>,\n",
       " <selenium.webdriver.remote.webelement.WebElement (session=\"19680F18-A5F2-4883-B029-79FDE2482C72\", element=\"node-33840E5B-6207-4690-BB46-8879C8E902F2\")>,\n",
       " <selenium.webdriver.remote.webelement.WebElement (session=\"19680F18-A5F2-4883-B029-79FDE2482C72\", element=\"node-A0E4FB5B-450F-4C3E-9B20-4F24DAF20A29\")>,\n",
       " <selenium.webdriver.remote.webelement.WebElement (session=\"19680F18-A5F2-4883-B029-79FDE2482C72\", element=\"node-07EBC3F0-A7E2-41C7-A496-13BE1AEE1AB3\")>,\n",
       " <selenium.webdriver.remote.webelement.WebElement (session=\"19680F18-A5F2-4883-B029-79FDE2482C72\", element=\"node-D8DB54BA-66CC-4B64-BB42-70D3D47A5EE5\")>,\n",
       " <selenium.webdriver.remote.webelement.WebElement (session=\"19680F18-A5F2-4883-B029-79FDE2482C72\", element=\"node-B3A111AE-F542-4FC2-A95A-9F275EA5A0B0\")>,\n",
       " <selenium.webdriver.remote.webelement.WebElement (session=\"19680F18-A5F2-4883-B029-79FDE2482C72\", element=\"node-3E9D2B3A-9D90-4FB8-9ECC-24841A430EA3\")>,\n",
       " <selenium.webdriver.remote.webelement.WebElement (session=\"19680F18-A5F2-4883-B029-79FDE2482C72\", element=\"node-880E5DD2-15EE-47F7-8FCE-F8351F730772\")>,\n",
       " <selenium.webdriver.remote.webelement.WebElement (session=\"19680F18-A5F2-4883-B029-79FDE2482C72\", element=\"node-7CCF7613-4716-422A-9EC4-7D8381D038A5\")>,\n",
       " <selenium.webdriver.remote.webelement.WebElement (session=\"19680F18-A5F2-4883-B029-79FDE2482C72\", element=\"node-66A9924B-ACFE-4287-96A4-79F868B76213\")>,\n",
       " <selenium.webdriver.remote.webelement.WebElement (session=\"19680F18-A5F2-4883-B029-79FDE2482C72\", element=\"node-90141B22-CA78-40CE-9E26-451A56DB5AAB\")>,\n",
       " <selenium.webdriver.remote.webelement.WebElement (session=\"19680F18-A5F2-4883-B029-79FDE2482C72\", element=\"node-B871D8FA-ED3F-4B6B-9C0D-9F053B32AA7E\")>,\n",
       " <selenium.webdriver.remote.webelement.WebElement (session=\"19680F18-A5F2-4883-B029-79FDE2482C72\", element=\"node-AE8F0C81-84A2-413E-B86D-EB91D55E47DF\")>,\n",
       " <selenium.webdriver.remote.webelement.WebElement (session=\"19680F18-A5F2-4883-B029-79FDE2482C72\", element=\"node-6196485C-F2AB-4C33-8C61-CE967472F74C\")>,\n",
       " <selenium.webdriver.remote.webelement.WebElement (session=\"19680F18-A5F2-4883-B029-79FDE2482C72\", element=\"node-A7DB9E86-82C0-431B-B879-32DA887D48CD\")>,\n",
       " <selenium.webdriver.remote.webelement.WebElement (session=\"19680F18-A5F2-4883-B029-79FDE2482C72\", element=\"node-CF40E7C4-D17E-4BD9-A768-7C049D138307\")>,\n",
       " <selenium.webdriver.remote.webelement.WebElement (session=\"19680F18-A5F2-4883-B029-79FDE2482C72\", element=\"node-50F3FD98-6C75-4559-B01F-21DEFC4BAA89\")>,\n",
       " <selenium.webdriver.remote.webelement.WebElement (session=\"19680F18-A5F2-4883-B029-79FDE2482C72\", element=\"node-6FB1E1A4-9232-4BDD-950E-588809A15811\")>,\n",
       " <selenium.webdriver.remote.webelement.WebElement (session=\"19680F18-A5F2-4883-B029-79FDE2482C72\", element=\"node-B52BEEA3-EC3C-4969-9490-147541E7E392\")>,\n",
       " <selenium.webdriver.remote.webelement.WebElement (session=\"19680F18-A5F2-4883-B029-79FDE2482C72\", element=\"node-C68CE04E-7950-4E40-94E1-449758106E21\")>,\n",
       " <selenium.webdriver.remote.webelement.WebElement (session=\"19680F18-A5F2-4883-B029-79FDE2482C72\", element=\"node-91C66A92-2FA1-4110-89F9-94ACF8235AFD\")>,\n",
       " <selenium.webdriver.remote.webelement.WebElement (session=\"19680F18-A5F2-4883-B029-79FDE2482C72\", element=\"node-82CEF20C-789D-46D2-ACCB-621DA9FC99AC\")>,\n",
       " <selenium.webdriver.remote.webelement.WebElement (session=\"19680F18-A5F2-4883-B029-79FDE2482C72\", element=\"node-106AE702-C8A9-4141-9418-9968F45FECA4\")>,\n",
       " <selenium.webdriver.remote.webelement.WebElement (session=\"19680F18-A5F2-4883-B029-79FDE2482C72\", element=\"node-621A7ED1-D229-425F-B917-9743BD50AC41\")>,\n",
       " <selenium.webdriver.remote.webelement.WebElement (session=\"19680F18-A5F2-4883-B029-79FDE2482C72\", element=\"node-729F3877-F6D7-4756-B517-463EDC0131AC\")>,\n",
       " <selenium.webdriver.remote.webelement.WebElement (session=\"19680F18-A5F2-4883-B029-79FDE2482C72\", element=\"node-0C942F51-67E1-46F9-826B-9CDC99C3E782\")>,\n",
       " <selenium.webdriver.remote.webelement.WebElement (session=\"19680F18-A5F2-4883-B029-79FDE2482C72\", element=\"node-722DA87C-4E50-4880-844B-D75C5E9E8596\")>,\n",
       " <selenium.webdriver.remote.webelement.WebElement (session=\"19680F18-A5F2-4883-B029-79FDE2482C72\", element=\"node-6CA4B2D3-1FD0-480E-8814-139B16D0B429\")>,\n",
       " <selenium.webdriver.remote.webelement.WebElement (session=\"19680F18-A5F2-4883-B029-79FDE2482C72\", element=\"node-274A0C49-1D55-45AC-B9F0-069E7D34F1D9\")>,\n",
       " <selenium.webdriver.remote.webelement.WebElement (session=\"19680F18-A5F2-4883-B029-79FDE2482C72\", element=\"node-CD9F9728-1D1B-41B6-8ECB-500C446F00E4\")>,\n",
       " <selenium.webdriver.remote.webelement.WebElement (session=\"19680F18-A5F2-4883-B029-79FDE2482C72\", element=\"node-5BC4B533-6555-4FDC-B171-DEA1168B8F42\")>,\n",
       " <selenium.webdriver.remote.webelement.WebElement (session=\"19680F18-A5F2-4883-B029-79FDE2482C72\", element=\"node-2DDD4FA6-C908-473E-8FE6-13D1CE9DCF81\")>,\n",
       " <selenium.webdriver.remote.webelement.WebElement (session=\"19680F18-A5F2-4883-B029-79FDE2482C72\", element=\"node-AD665071-B036-403E-9196-2C729930CC8F\")>,\n",
       " <selenium.webdriver.remote.webelement.WebElement (session=\"19680F18-A5F2-4883-B029-79FDE2482C72\", element=\"node-7D15C563-CD23-49A2-A5F9-4DF8FB4B04A4\")>,\n",
       " <selenium.webdriver.remote.webelement.WebElement (session=\"19680F18-A5F2-4883-B029-79FDE2482C72\", element=\"node-868E63F7-FBD3-49FD-AA62-A0CA759F0F2F\")>,\n",
       " <selenium.webdriver.remote.webelement.WebElement (session=\"19680F18-A5F2-4883-B029-79FDE2482C72\", element=\"node-EFDA5FB9-AC9C-4916-B857-1A2495DCFAE7\")>,\n",
       " <selenium.webdriver.remote.webelement.WebElement (session=\"19680F18-A5F2-4883-B029-79FDE2482C72\", element=\"node-B2C91947-A497-4D9F-8781-60E510930EB4\")>,\n",
       " <selenium.webdriver.remote.webelement.WebElement (session=\"19680F18-A5F2-4883-B029-79FDE2482C72\", element=\"node-7ED5C985-89EF-4F60-9409-193958C2193F\")>,\n",
       " <selenium.webdriver.remote.webelement.WebElement (session=\"19680F18-A5F2-4883-B029-79FDE2482C72\", element=\"node-6647454B-39A6-48FE-9438-632BE97BCEE7\")>,\n",
       " <selenium.webdriver.remote.webelement.WebElement (session=\"19680F18-A5F2-4883-B029-79FDE2482C72\", element=\"node-BBE7CA26-B2E6-4F3D-8CDB-2DF66481E642\")>,\n",
       " <selenium.webdriver.remote.webelement.WebElement (session=\"19680F18-A5F2-4883-B029-79FDE2482C72\", element=\"node-3828EF14-2E06-4CFB-95B7-4FEF64C4B463\")>,\n",
       " <selenium.webdriver.remote.webelement.WebElement (session=\"19680F18-A5F2-4883-B029-79FDE2482C72\", element=\"node-076E16E9-6E22-42B7-B3C8-DFE1D9B5710D\")>,\n",
       " <selenium.webdriver.remote.webelement.WebElement (session=\"19680F18-A5F2-4883-B029-79FDE2482C72\", element=\"node-56DAC91F-1D06-4F37-A2F0-22746F7DC715\")>]"
      ]
     },
     "execution_count": 31,
     "metadata": {},
     "output_type": "execute_result"
    }
   ],
   "source": [
    "driver.find_elements_by_xpath(\"//div/text()\")"
   ]
  },
  {
   "cell_type": "code",
   "execution_count": 32,
   "metadata": {
    "collapsed": false,
    "pycharm": {
     "name": "#%%\n"
    }
   },
   "outputs": [
    {
     "data": {
      "text/plain": [
       "True"
      ]
     },
     "execution_count": 32,
     "metadata": {},
     "output_type": "execute_result"
    }
   ],
   "source": [
    "driver.save_screenshot('image.png')"
   ]
  },
  {
   "cell_type": "code",
   "execution_count": 37,
   "metadata": {},
   "outputs": [
    {
     "ename": "InvalidSessionIdException",
     "evalue": "Message: \n",
     "output_type": "error",
     "traceback": [
      "\u001b[0;31m---------------------------------------------------------------------------\u001b[0m",
      "\u001b[0;31mInvalidSessionIdException\u001b[0m                 Traceback (most recent call last)",
      "\u001b[0;32m/var/folders/g0/yt0m6mx534b6cl53216hwy940000gn/T/ipykernel_4505/2924239048.py\u001b[0m in \u001b[0;36m<module>\u001b[0;34m\u001b[0m\n\u001b[0;32m----> 1\u001b[0;31m \u001b[0mdriver\u001b[0m\u001b[0;34m.\u001b[0m\u001b[0mquit\u001b[0m\u001b[0;34m(\u001b[0m\u001b[0;34m)\u001b[0m\u001b[0;34m\u001b[0m\u001b[0;34m\u001b[0m\u001b[0m\n\u001b[0m",
      "\u001b[0;32m~/miniconda3/envs/Python_Lections_MSU/lib/python3.8/site-packages/selenium/webdriver/safari/webdriver.py\u001b[0m in \u001b[0;36mquit\u001b[0;34m(self)\u001b[0m\n\u001b[1;32m     73\u001b[0m         \"\"\"\n\u001b[1;32m     74\u001b[0m         \u001b[0;32mtry\u001b[0m\u001b[0;34m:\u001b[0m\u001b[0;34m\u001b[0m\u001b[0;34m\u001b[0m\u001b[0m\n\u001b[0;32m---> 75\u001b[0;31m             \u001b[0mRemoteWebDriver\u001b[0m\u001b[0;34m.\u001b[0m\u001b[0mquit\u001b[0m\u001b[0;34m(\u001b[0m\u001b[0mself\u001b[0m\u001b[0;34m)\u001b[0m\u001b[0;34m\u001b[0m\u001b[0;34m\u001b[0m\u001b[0m\n\u001b[0m\u001b[1;32m     76\u001b[0m         \u001b[0;32mexcept\u001b[0m \u001b[0mhttp_client\u001b[0m\u001b[0;34m.\u001b[0m\u001b[0mBadStatusLine\u001b[0m\u001b[0;34m:\u001b[0m\u001b[0;34m\u001b[0m\u001b[0;34m\u001b[0m\u001b[0m\n\u001b[1;32m     77\u001b[0m             \u001b[0;32mpass\u001b[0m\u001b[0;34m\u001b[0m\u001b[0;34m\u001b[0m\u001b[0m\n",
      "\u001b[0;32m~/miniconda3/envs/Python_Lections_MSU/lib/python3.8/site-packages/selenium/webdriver/remote/webdriver.py\u001b[0m in \u001b[0;36mquit\u001b[0;34m(self)\u001b[0m\n\u001b[1;32m    696\u001b[0m         \"\"\"\n\u001b[1;32m    697\u001b[0m         \u001b[0;32mtry\u001b[0m\u001b[0;34m:\u001b[0m\u001b[0;34m\u001b[0m\u001b[0;34m\u001b[0m\u001b[0m\n\u001b[0;32m--> 698\u001b[0;31m             \u001b[0mself\u001b[0m\u001b[0;34m.\u001b[0m\u001b[0mexecute\u001b[0m\u001b[0;34m(\u001b[0m\u001b[0mCommand\u001b[0m\u001b[0;34m.\u001b[0m\u001b[0mQUIT\u001b[0m\u001b[0;34m)\u001b[0m\u001b[0;34m\u001b[0m\u001b[0;34m\u001b[0m\u001b[0m\n\u001b[0m\u001b[1;32m    699\u001b[0m         \u001b[0;32mfinally\u001b[0m\u001b[0;34m:\u001b[0m\u001b[0;34m\u001b[0m\u001b[0;34m\u001b[0m\u001b[0m\n\u001b[1;32m    700\u001b[0m             \u001b[0mself\u001b[0m\u001b[0;34m.\u001b[0m\u001b[0mstop_client\u001b[0m\u001b[0;34m(\u001b[0m\u001b[0;34m)\u001b[0m\u001b[0;34m\u001b[0m\u001b[0;34m\u001b[0m\u001b[0m\n",
      "\u001b[0;32m~/miniconda3/envs/Python_Lections_MSU/lib/python3.8/site-packages/selenium/webdriver/remote/webdriver.py\u001b[0m in \u001b[0;36mexecute\u001b[0;34m(self, driver_command, params)\u001b[0m\n\u001b[1;32m    319\u001b[0m         \u001b[0mresponse\u001b[0m \u001b[0;34m=\u001b[0m \u001b[0mself\u001b[0m\u001b[0;34m.\u001b[0m\u001b[0mcommand_executor\u001b[0m\u001b[0;34m.\u001b[0m\u001b[0mexecute\u001b[0m\u001b[0;34m(\u001b[0m\u001b[0mdriver_command\u001b[0m\u001b[0;34m,\u001b[0m \u001b[0mparams\u001b[0m\u001b[0;34m)\u001b[0m\u001b[0;34m\u001b[0m\u001b[0;34m\u001b[0m\u001b[0m\n\u001b[1;32m    320\u001b[0m         \u001b[0;32mif\u001b[0m \u001b[0mresponse\u001b[0m\u001b[0;34m:\u001b[0m\u001b[0;34m\u001b[0m\u001b[0;34m\u001b[0m\u001b[0m\n\u001b[0;32m--> 321\u001b[0;31m             \u001b[0mself\u001b[0m\u001b[0;34m.\u001b[0m\u001b[0merror_handler\u001b[0m\u001b[0;34m.\u001b[0m\u001b[0mcheck_response\u001b[0m\u001b[0;34m(\u001b[0m\u001b[0mresponse\u001b[0m\u001b[0;34m)\u001b[0m\u001b[0;34m\u001b[0m\u001b[0;34m\u001b[0m\u001b[0m\n\u001b[0m\u001b[1;32m    322\u001b[0m             response['value'] = self._unwrap_value(\n\u001b[1;32m    323\u001b[0m                 response.get('value', None))\n",
      "\u001b[0;32m~/miniconda3/envs/Python_Lections_MSU/lib/python3.8/site-packages/selenium/webdriver/remote/errorhandler.py\u001b[0m in \u001b[0;36mcheck_response\u001b[0;34m(self, response)\u001b[0m\n\u001b[1;32m    240\u001b[0m                 \u001b[0malert_text\u001b[0m \u001b[0;34m=\u001b[0m \u001b[0mvalue\u001b[0m\u001b[0;34m[\u001b[0m\u001b[0;34m'alert'\u001b[0m\u001b[0;34m]\u001b[0m\u001b[0;34m.\u001b[0m\u001b[0mget\u001b[0m\u001b[0;34m(\u001b[0m\u001b[0;34m'text'\u001b[0m\u001b[0;34m)\u001b[0m\u001b[0;34m\u001b[0m\u001b[0;34m\u001b[0m\u001b[0m\n\u001b[1;32m    241\u001b[0m             \u001b[0;32mraise\u001b[0m \u001b[0mexception_class\u001b[0m\u001b[0;34m(\u001b[0m\u001b[0mmessage\u001b[0m\u001b[0;34m,\u001b[0m \u001b[0mscreen\u001b[0m\u001b[0;34m,\u001b[0m \u001b[0mstacktrace\u001b[0m\u001b[0;34m,\u001b[0m \u001b[0malert_text\u001b[0m\u001b[0;34m)\u001b[0m\u001b[0;34m\u001b[0m\u001b[0;34m\u001b[0m\u001b[0m\n\u001b[0;32m--> 242\u001b[0;31m         \u001b[0;32mraise\u001b[0m \u001b[0mexception_class\u001b[0m\u001b[0;34m(\u001b[0m\u001b[0mmessage\u001b[0m\u001b[0;34m,\u001b[0m \u001b[0mscreen\u001b[0m\u001b[0;34m,\u001b[0m \u001b[0mstacktrace\u001b[0m\u001b[0;34m)\u001b[0m\u001b[0;34m\u001b[0m\u001b[0;34m\u001b[0m\u001b[0m\n\u001b[0m\u001b[1;32m    243\u001b[0m \u001b[0;34m\u001b[0m\u001b[0m\n\u001b[1;32m    244\u001b[0m     \u001b[0;32mdef\u001b[0m \u001b[0m_value_or_default\u001b[0m\u001b[0;34m(\u001b[0m\u001b[0mself\u001b[0m\u001b[0;34m,\u001b[0m \u001b[0mobj\u001b[0m\u001b[0;34m,\u001b[0m \u001b[0mkey\u001b[0m\u001b[0;34m,\u001b[0m \u001b[0mdefault\u001b[0m\u001b[0;34m)\u001b[0m\u001b[0;34m:\u001b[0m\u001b[0;34m\u001b[0m\u001b[0;34m\u001b[0m\u001b[0m\n",
      "\u001b[0;31mInvalidSessionIdException\u001b[0m: Message: \n"
     ]
    }
   ],
   "source": [
    "driver.quit()"
   ]
  },
  {
   "cell_type": "markdown",
   "metadata": {
    "collapsed": false,
    "pycharm": {
     "name": "#%% md\n"
    }
   },
   "source": [
    "![](image.png)"
   ]
  },
  {
   "cell_type": "markdown",
   "metadata": {
    "collapsed": false,
    "pycharm": {
     "name": "#%% md\n"
    }
   },
   "source": [
    "## Requests"
   ]
  },
  {
   "cell_type": "code",
   "execution_count": 35,
   "metadata": {
    "collapsed": false,
    "pycharm": {
     "name": "#%%\n"
    }
   },
   "outputs": [
    {
     "name": "stderr",
     "output_type": "stream",
     "text": [
      "/Users/artem/miniconda3/envs/Python_Lections_MSU/lib/python3.8/site-packages/urllib3/connectionpool.py:1043: InsecureRequestWarning: Unverified HTTPS request is being made to host 'mai.ru'. Adding certificate verification is strongly advised. See: https://urllib3.readthedocs.io/en/1.26.x/advanced-usage.html#ssl-warnings\n",
      "  \n"
     ]
    }
   ],
   "source": [
    "import requests\n",
    "\n",
    "page = requests.get(\"https://mai.ru/education/studies/schedule/ppc.php?guid=f25361dd-1d99-11e0-9baf-1c6f65450efa&week=8\", verify=False)"
   ]
  },
  {
   "cell_type": "code",
   "execution_count": null,
   "metadata": {
    "collapsed": false,
    "pycharm": {
     "name": "#%%\n"
    }
   },
   "outputs": [],
   "source": [
    "page.text"
   ]
  },
  {
   "cell_type": "code",
   "execution_count": 38,
   "metadata": {
    "collapsed": false,
    "pycharm": {
     "name": "#%%\n"
    }
   },
   "outputs": [
    {
     "name": "stderr",
     "output_type": "stream",
     "text": [
      "/Users/artem/miniconda3/envs/Python_Lections_MSU/lib/python3.8/site-packages/urllib3/connectionpool.py:1043: InsecureRequestWarning: Unverified HTTPS request is being made to host 'mai.ru'. Adding certificate verification is strongly advised. See: https://urllib3.readthedocs.io/en/1.26.x/advanced-usage.html#ssl-warnings\n",
      "  \n"
     ]
    }
   ],
   "source": [
    "headers = {\n",
    "    'User-Agent': 'Mozilla/5.0 (Macintosh; Intel Mac OS X 10.9; rv:45.0) Gecko/20100101 Firefox/45.0'\n",
    "}\n",
    "page = requests.get(\"https://mai.ru/education/studies/schedule/ppc.php?guid=f25361dd-1d99-11e0-9baf-1c6f65450efa&week=8\", headers=headers, verify=False)"
   ]
  },
  {
   "cell_type": "code",
   "execution_count": 39,
   "metadata": {
    "collapsed": false,
    "pycharm": {
     "name": "#%%\n"
    }
   },
   "outputs": [
    {
     "data": {
      "text/plain": [
       "<Response [200]>"
      ]
     },
     "execution_count": 39,
     "metadata": {},
     "output_type": "execute_result"
    }
   ],
   "source": [
    "page"
   ]
  },
  {
   "cell_type": "code",
   "execution_count": null,
   "metadata": {
    "collapsed": false,
    "pycharm": {
     "name": "#%%\n"
    }
   },
   "outputs": [],
   "source": [
    "page.text"
   ]
  },
  {
   "cell_type": "markdown",
   "metadata": {
    "collapsed": false
   },
   "source": [
    "# Рекомендуемая литература:\n",
    "- http://wiki.python.su/Документации/BeautifulSoup\n",
    "- https://www.crummy.com/software/BeautifulSoup/bs4/doc.ru/bs4ru.html\n",
    "- http://htmlbook.ru/samhtml"
   ]
  },
  {
   "cell_type": "markdown",
   "metadata": {
    "collapsed": false
   },
   "source": [
    "# Вопросы для самостоятельного изучения:\n",
    "- \"Общение\" с веб страницей с помощью Selenium(обработка полей ввода и тд)\n",
    "- Более глубоко изучить понравившуюся библиотеку (bs4/lxml)\n",
    "- HTTP запросы и как они устроены\n",
    "- HTML(на базовом уровне)"
   ]
  },
  {
   "cell_type": "markdown",
   "metadata": {
    "collapsed": false
   },
   "source": [
    "# Вопросы к зачету"
   ]
  },
  {
   "cell_type": "markdown",
   "metadata": {
    "collapsed": false
   },
   "source": [
    "- Зачем нужен web-scraping?\n",
    "- Какие средства для web-scrapinga используются"
   ]
  },
  {
   "cell_type": "code",
   "execution_count": null,
   "metadata": {
    "collapsed": false,
    "pycharm": {
     "name": "#%%\n"
    }
   },
   "outputs": [],
   "source": []
  }
 ],
 "metadata": {
  "kernelspec": {
   "display_name": "Python 3.8.11 ('Python_Lections_MSU')",
   "language": "python",
   "name": "python3"
  },
  "language_info": {
   "codemirror_mode": {
    "name": "ipython",
    "version": 3
   },
   "file_extension": ".py",
   "mimetype": "text/x-python",
   "name": "python",
   "nbconvert_exporter": "python",
   "pygments_lexer": "ipython3",
   "version": "3.8.11"
  },
  "vscode": {
   "interpreter": {
    "hash": "67e5709e29e1e6bc7fdd9135779fe701b01d700d2c5fd90e54a32c9e879e5123"
   }
  }
 },
 "nbformat": 4,
 "nbformat_minor": 0
}
