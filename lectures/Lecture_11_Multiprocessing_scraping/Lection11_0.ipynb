{
 "cells": [
  {
   "cell_type": "markdown",
   "metadata": {
    "collapsed": false
   },
   "source": [
    "# Введение в методы анализа данных. Язык Python."
   ]
  },
  {
   "cell_type": "markdown",
   "metadata": {
    "collapsed": false
   },
   "source": [
    "## Лекция 11. Параллелизм в Python. Оптимизация программ\n",
    "<br><br><br><br>\n",
    "__Аксентьев Артем (akseart@ya.ru)__\n",
    "\n",
    "__Ксемидов Борис (nstalker.anonim@yandex.ru)__\n",
    "<br>"
   ]
  },
  {
   "cell_type": "markdown",
   "metadata": {
    "collapsed": false
   },
   "source": [
    "# Зачем необходимо?\n",
    "\n",
    "- Большие расчеты\n",
    "- Работа с вводом-выводом\n",
    "- Разделение задач между потоками"
   ]
  },
  {
   "cell_type": "markdown",
   "metadata": {
    "collapsed": false
   },
   "source": [
    "Параллелизм:\n",
    "- Конкурентности\n",
    "- Параллелизма"
   ]
  },
  {
   "cell_type": "markdown",
   "metadata": {
    "collapsed": false
   },
   "source": [
    "# Про многоядерность\n",
    "\n",
    "Многоядерный процессор — центральный процессор, содержащий два и более вычислительных ядра на одном процессорном кристалле или в одном корпусе.\n",
    "\n"
   ]
  },
  {
   "cell_type": "markdown",
   "metadata": {
    "collapsed": false
   },
   "source": [
    "# Процесс и Поток\n",
    "\n",
    "Поток(thread)-это наименьшая единица выполнения, которая может быть выполнена на компьютере. Потоки существуют как части процесса и обычно не являются независимыми друг от друга, что означает, что они совместно используют данные и память с другими потоками в рамках одного и того же процесса.\n",
    "\n",
    "Процесс(process)-это задание или экземпляр компьютерной программы, который может быть выполнен.\n",
    "\n",
    "![](Multithreaded_Process.png)"
   ]
  },
  {
   "cell_type": "markdown",
   "metadata": {
    "collapsed": false
   },
   "source": [
    "# Многопоточность"
   ]
  },
  {
   "cell_type": "code",
   "execution_count": 17,
   "metadata": {
    "collapsed": false,
    "pycharm": {
     "name": "#%%\n"
    }
   },
   "outputs": [
    {
     "name": "stdout",
     "output_type": "stream",
     "text": [
      "Thread 1: 0Main-thread: 0\n",
      "\n",
      "Main-thread: 1\n",
      "Thread 1: 1\n",
      "Thread 1: 2\n",
      "Main-thread: 2\n",
      "Thread 1: 3\n",
      "Main-thread: 3\n",
      "Thread 1: 4\n",
      "Main-thread: 4\n",
      "Main-thread: 5\n",
      "Thread 1: 5\n",
      "Main-thread: 6Thread 1: 6\n",
      "\n",
      "Main-thread: 7\n",
      "Thread 1: 7\n",
      "Main-thread: 8Thread 1: 8\n",
      "\n",
      "Thread 1: 9\n",
      "Main-thread: 9\n"
     ]
    }
   ],
   "source": [
    "from threading import Thread\n",
    "from time import sleep\n",
    "\n",
    "def func():\n",
    "    for i in range(10):\n",
    "        print(f\"Thread 1: {i}\")\n",
    "        sleep(1)\n",
    "\n",
    "th = Thread(target=func)\n",
    "th.start()\n",
    "\n",
    "for i in range(10):\n",
    "    print(f\"Main-thread: {i}\")\n",
    "    sleep(1)\n"
   ]
  },
  {
   "cell_type": "code",
   "execution_count": 18,
   "metadata": {
    "collapsed": false,
    "pycharm": {
     "name": "#%%\n"
    }
   },
   "outputs": [],
   "source": [
    "def foo1(a=10):\n",
    "    for i in range(10):\n",
    "        a = a + a ** i\n",
    "    return a\n",
    "\n",
    "def foo2(a=10):\n",
    "    for i in range(10):\n",
    "        a = a + a / (i + 1)\n",
    "    return a"
   ]
  },
  {
   "cell_type": "code",
   "execution_count": 19,
   "metadata": {
    "collapsed": false,
    "pycharm": {
     "name": "#%%\n"
    }
   },
   "outputs": [
    {
     "name": "stdout",
     "output_type": "stream",
     "text": [
      "124 ms ± 672 µs per loop (mean ± std. dev. of 7 runs, 10 loops each)\n"
     ]
    }
   ],
   "source": [
    "%%timeit\n",
    "foo1()\n",
    "foo2()\n"
   ]
  },
  {
   "cell_type": "code",
   "execution_count": 20,
   "metadata": {
    "collapsed": false,
    "pycharm": {
     "name": "#%%\n"
    }
   },
   "outputs": [],
   "source": [
    "from threading import Thread"
   ]
  },
  {
   "cell_type": "code",
   "execution_count": 21,
   "metadata": {
    "collapsed": false,
    "pycharm": {
     "name": "#%%\n"
    }
   },
   "outputs": [
    {
     "name": "stdout",
     "output_type": "stream",
     "text": [
      "123 ms ± 455 µs per loop (mean ± std. dev. of 7 runs, 10 loops each)\n"
     ]
    }
   ],
   "source": [
    "%%timeit\n",
    "\n",
    "th1 = Thread(target=foo1, name=\"**\")\n",
    "th2 = Thread(target=foo2, name=\"/\")\n",
    "\n",
    "th1.start()\n",
    "th2.start()\n",
    "\n",
    "th1.join()\n",
    "th2.join()"
   ]
  },
  {
   "cell_type": "markdown",
   "metadata": {
    "collapsed": false
   },
   "source": [
    "## Пара слов о GIL\n",
    "\n",
    "GIL -- Global Interpreter Lock. Позволяет выполнять ровно один поток в один момент времени. Это необходимо из-за сложного устройства Python для того, чтобы потоки не \"мешали\" друг другу.\n",
    "\n",
    "GIL -- некий ключ, который блокирует исполнение других потоков, в том случае, если один поток выполняется. Ключ становится открытым, когда происходит ожидание ввода вывода или же через какое-то определенное время."
   ]
  },
  {
   "cell_type": "markdown",
   "metadata": {},
   "source": [
    "![GIL](GIL.jpeg)"
   ]
  },
  {
   "cell_type": "code",
   "execution_count": 22,
   "metadata": {
    "collapsed": false,
    "pycharm": {
     "name": "#%%\n"
    }
   },
   "outputs": [
    {
     "name": "stdout",
     "output_type": "stream",
     "text": [
      "from CustomThread: 0\n",
      "from CustomThread: 1\n",
      "from CustomThread: 2\n"
     ]
    }
   ],
   "source": [
    "from time import sleep\n",
    "class CustomThread(Thread):\n",
    "    def __init__(self, limit):\n",
    "        Thread.__init__(self)\n",
    "        self._limit = limit\n",
    "\n",
    "    def run(self):\n",
    "        for i in range(self._limit):\n",
    "            print(f\"from CustomThread: {i}\")\n",
    "            sleep(0.5)\n",
    "\n",
    "cth = CustomThread(3)\n",
    "cth.start()\n",
    "cth.join()"
   ]
  },
  {
   "cell_type": "code",
   "execution_count": 25,
   "metadata": {
    "collapsed": false,
    "pycharm": {
     "name": "#%%\n"
    }
   },
   "outputs": [
    {
     "name": "stdout",
     "output_type": "stream",
     "text": [
      "from CustomThread: 0from CustomThread: 0\n",
      "\n",
      "from CustomThread: 1\n",
      "from CustomThread: 1\n",
      "from CustomThread: 2\n",
      "from CustomThread: 3\n",
      "True\n"
     ]
    },
    {
     "name": "stdout",
     "output_type": "stream",
     "text": [
      "from CustomThread: 4\n"
     ]
    }
   ],
   "source": [
    "class CustomThread(Thread):\n",
    "    def __init__(self, limit):\n",
    "        Thread.__init__(self)\n",
    "        self._limit = limit\n",
    "\n",
    "    def run(self):\n",
    "        for i in range(self._limit):\n",
    "            print(f\"from CustomThread: {i}\")\n",
    "            sleep(1)\n",
    "\n",
    "cth = CustomThread(2)\n",
    "cth1 = CustomThread(5)\n",
    "cth1.start()\n",
    "cth.start()\n",
    "\n",
    "cth.join()\n",
    "cth1.join(2)\n",
    "print(cth1.is_alive())"
   ]
  },
  {
   "cell_type": "markdown",
   "metadata": {
    "collapsed": false,
    "pycharm": {
     "name": "#%% md\n"
    }
   },
   "source": [
    "## Особенности при работе с несколькими потоками:\n",
    "### race condition\n",
    "Состояние гонки или race condition – это ошибка, возникающая при неправильном проектировании многопоточной программы. Она возникает тогда, когда несколько потоков обращаются к одним и тем же данным.\n"
   ]
  },
  {
   "cell_type": "code",
   "execution_count": 26,
   "metadata": {
    "collapsed": false,
    "pycharm": {
     "name": "#%%\n"
    }
   },
   "outputs": [],
   "source": [
    "import random\n",
    "from time import sleep\n",
    "def foo1(a=10):\n",
    "    global x\n",
    "    sleep(random.random())\n",
    "    if x == 5:\n",
    "        print(\"x == 5\")\n",
    "    else:\n",
    "        print(\"x not == 5\")\n",
    "\n",
    "def foo2(a=10):\n",
    "    global x\n",
    "    sleep(random.random())\n",
    "    x = 1"
   ]
  },
  {
   "cell_type": "code",
   "execution_count": 30,
   "metadata": {
    "collapsed": false,
    "pycharm": {
     "name": "#%%\n"
    }
   },
   "outputs": [
    {
     "name": "stdout",
     "output_type": "stream",
     "text": [
      "x not == 5\n"
     ]
    }
   ],
   "source": [
    "from threading import Thread\n",
    "x = 5\n",
    "th1 = Thread(target=foo1)\n",
    "th2 = Thread(target=foo2)\n",
    "\n",
    "th1.start()\n",
    "th2.start()\n",
    "\n",
    "th1.join()\n",
    "th2.join()"
   ]
  },
  {
   "cell_type": "markdown",
   "metadata": {
    "collapsed": false
   },
   "source": [
    "### Решение"
   ]
  },
  {
   "cell_type": "code",
   "execution_count": 33,
   "metadata": {
    "collapsed": false,
    "pycharm": {
     "name": "#%%\n"
    }
   },
   "outputs": [
    {
     "name": "stdout",
     "output_type": "stream",
     "text": [
      "x == 5\n"
     ]
    }
   ],
   "source": [
    "import random\n",
    "from time import sleep\n",
    "import threading\n",
    "x = 5\n",
    "x_locking = threading.Lock()\n",
    "\n",
    "def foo1(a=10):\n",
    "    global x\n",
    "    x_locking.acquire()\n",
    "    sleep(random.random())\n",
    "    if x == 5:\n",
    "        print(\"x == 5\")\n",
    "    else:\n",
    "        print(\"x not == 5\")\n",
    "    x_locking.release()\n",
    "\n",
    "def foo2(a=10):\n",
    "    global x\n",
    "    x_locking.acquire()\n",
    "    sleep(random.random())\n",
    "    x = 1\n",
    "    x_locking.release()\n",
    "\n",
    "th1 = Thread(target=foo1)\n",
    "th2 = Thread(target=foo2)\n",
    "\n",
    "th1.start()\n",
    "sleep(0.2)\n",
    "th2.start()\n",
    "\n",
    "th1.join()\n",
    "th2.join()"
   ]
  },
  {
   "cell_type": "code",
   "execution_count": 39,
   "metadata": {
    "collapsed": false,
    "pycharm": {
     "name": "#%%\n"
    }
   },
   "outputs": [
    {
     "name": "stdout",
     "output_type": "stream",
     "text": [
      "x == 5\n"
     ]
    }
   ],
   "source": [
    "import random\n",
    "from time import sleep\n",
    "import threading\n",
    "x = 5\n",
    "x_locking = threading.Lock()\n",
    "def foo1(a=10):\n",
    "    global x\n",
    "    with x_locking:\n",
    "        sleep(random.random())\n",
    "        if x == 5:\n",
    "            print(\"x == 5\")\n",
    "        else:\n",
    "            print(\"x not == 5\")\n",
    "    ...\n",
    "\n",
    "def foo2(a=10):\n",
    "    global x\n",
    "    with x_locking:\n",
    "        sleep(random.random())\n",
    "        x = 1\n",
    "\n",
    "th1 = Thread(target=foo1)\n",
    "th2 = Thread(target=foo2)\n",
    "\n",
    "th1.start()\n",
    "th2.start()\n",
    "\n",
    "th1.join()\n",
    "th2.join()"
   ]
  },
  {
   "cell_type": "markdown",
   "metadata": {
    "collapsed": false,
    "pycharm": {
     "name": "#%% md\n"
    }
   },
   "source": [
    "## deadlock\n",
    "deadlock -- Ожидание блокировки, которая не может быть снята"
   ]
  },
  {
   "cell_type": "code",
   "execution_count": 41,
   "metadata": {
    "collapsed": false,
    "pycharm": {
     "name": "#%%\n"
    }
   },
   "outputs": [
    {
     "name": "stdout",
     "output_type": "stream",
     "text": [
      "foo1 -- блокировка установлена\n",
      "x == 5\n"
     ]
    },
    {
     "ename": "KeyboardInterrupt",
     "evalue": "",
     "output_type": "error",
     "traceback": [
      "\u001b[0;31m---------------------------------------------------------------------------\u001b[0m",
      "\u001b[0;31mKeyboardInterrupt\u001b[0m                         Traceback (most recent call last)",
      "\u001b[1;32m/Users/artem/Documents/Work/ВМК_МГУ/course_python/lectures/Lecture_11_Multiprocessing_scraping/Lection11_0.ipynb Ячейка 24\u001b[0m in \u001b[0;36m<cell line: 37>\u001b[0;34m()\u001b[0m\n\u001b[1;32m     <a href='vscode-notebook-cell:/Users/artem/Documents/Work/%D0%92%D0%9C%D0%9A_%D0%9C%D0%93%D0%A3/course_python/lectures/Lecture_11_Multiprocessing_scraping/Lection11_0.ipynb#X32sZmlsZQ%3D%3D?line=33'>34</a>\u001b[0m th2\u001b[39m.\u001b[39mstart()\n\u001b[1;32m     <a href='vscode-notebook-cell:/Users/artem/Documents/Work/%D0%92%D0%9C%D0%9A_%D0%9C%D0%93%D0%A3/course_python/lectures/Lecture_11_Multiprocessing_scraping/Lection11_0.ipynb#X32sZmlsZQ%3D%3D?line=35'>36</a>\u001b[0m th1\u001b[39m.\u001b[39mjoin()\n\u001b[0;32m---> <a href='vscode-notebook-cell:/Users/artem/Documents/Work/%D0%92%D0%9C%D0%9A_%D0%9C%D0%93%D0%A3/course_python/lectures/Lecture_11_Multiprocessing_scraping/Lection11_0.ipynb#X32sZmlsZQ%3D%3D?line=36'>37</a>\u001b[0m th2\u001b[39m.\u001b[39;49mjoin()\n",
      "File \u001b[0;32m/opt/homebrew/Cellar/python@3.9/3.9.13_1/Frameworks/Python.framework/Versions/3.9/lib/python3.9/threading.py:1060\u001b[0m, in \u001b[0;36mThread.join\u001b[0;34m(self, timeout)\u001b[0m\n\u001b[1;32m   1057\u001b[0m     \u001b[39mraise\u001b[39;00m \u001b[39mRuntimeError\u001b[39;00m(\u001b[39m\"\u001b[39m\u001b[39mcannot join current thread\u001b[39m\u001b[39m\"\u001b[39m)\n\u001b[1;32m   1059\u001b[0m \u001b[39mif\u001b[39;00m timeout \u001b[39mis\u001b[39;00m \u001b[39mNone\u001b[39;00m:\n\u001b[0;32m-> 1060\u001b[0m     \u001b[39mself\u001b[39;49m\u001b[39m.\u001b[39;49m_wait_for_tstate_lock()\n\u001b[1;32m   1061\u001b[0m \u001b[39melse\u001b[39;00m:\n\u001b[1;32m   1062\u001b[0m     \u001b[39m# the behavior of a negative timeout isn't documented, but\u001b[39;00m\n\u001b[1;32m   1063\u001b[0m     \u001b[39m# historically .join(timeout=x) for x<0 has acted as if timeout=0\u001b[39;00m\n\u001b[1;32m   1064\u001b[0m     \u001b[39mself\u001b[39m\u001b[39m.\u001b[39m_wait_for_tstate_lock(timeout\u001b[39m=\u001b[39m\u001b[39mmax\u001b[39m(timeout, \u001b[39m0\u001b[39m))\n",
      "File \u001b[0;32m/opt/homebrew/Cellar/python@3.9/3.9.13_1/Frameworks/Python.framework/Versions/3.9/lib/python3.9/threading.py:1080\u001b[0m, in \u001b[0;36mThread._wait_for_tstate_lock\u001b[0;34m(self, block, timeout)\u001b[0m\n\u001b[1;32m   1077\u001b[0m     \u001b[39mreturn\u001b[39;00m\n\u001b[1;32m   1079\u001b[0m \u001b[39mtry\u001b[39;00m:\n\u001b[0;32m-> 1080\u001b[0m     \u001b[39mif\u001b[39;00m lock\u001b[39m.\u001b[39;49macquire(block, timeout):\n\u001b[1;32m   1081\u001b[0m         lock\u001b[39m.\u001b[39mrelease()\n\u001b[1;32m   1082\u001b[0m         \u001b[39mself\u001b[39m\u001b[39m.\u001b[39m_stop()\n",
      "\u001b[0;31mKeyboardInterrupt\u001b[0m: "
     ]
    }
   ],
   "source": [
    "import random\n",
    "from time import sleep\n",
    "import threading\n",
    "x = 5\n",
    "x_locking = threading.Lock()\n",
    "def foo1(a=10):\n",
    "    global x\n",
    "    x_locking.acquire()\n",
    "    print(\"foo1 -- блокировка установлена\")\n",
    "    sleep(random.random())\n",
    "    if x == 5:\n",
    "        print(\"x == 5\")\n",
    "    else:\n",
    "        print(\"x not == 5\")\n",
    "    return None\n",
    "    x_locking.release()\n",
    "    print(\"foo1 -- блокировка снята\")\n",
    "    print(\"Foo1 exit\")\n",
    "\n",
    "def foo2(a=10):\n",
    "    global x\n",
    "    x_locking.acquire()\n",
    "    print(\"foo2 -- блокировка установлена\")\n",
    "    sleep(random.random())\n",
    "    x = 1\n",
    "    x_locking.release()\n",
    "    print(\"foo2 -- блокировка снята\")\n",
    "    print(\"Foo2 exit\")\n",
    "\n",
    "th1 = Thread(target=foo1)\n",
    "th2 = Thread(target=foo2)\n",
    "\n",
    "th1.start()\n",
    "th2.start()\n",
    "\n",
    "th1.join()\n",
    "th2.join()"
   ]
  },
  {
   "cell_type": "markdown",
   "metadata": {
    "collapsed": false,
    "pycharm": {
     "name": "#%% md\n"
    }
   },
   "source": [
    "### Решение:"
   ]
  },
  {
   "cell_type": "code",
   "execution_count": 42,
   "metadata": {
    "collapsed": false,
    "pycharm": {
     "name": "#%%\n"
    }
   },
   "outputs": [
    {
     "name": "stderr",
     "output_type": "stream",
     "text": [
      "Exception in thread Thread-56:\n",
      "Traceback (most recent call last):\n",
      "  File \"/opt/homebrew/Cellar/python@3.9/3.9.13_1/Frameworks/Python.framework/Versions/3.9/lib/python3.9/threading.py\", line 980, in _bootstrap_inner\n",
      "    self.run()\n",
      "  File \"/opt/homebrew/Cellar/python@3.9/3.9.13_1/Frameworks/Python.framework/Versions/3.9/lib/python3.9/threading.py\", line 917, in run\n",
      "    self._target(*self._args, **self._kwargs)\n",
      "  File \"/var/folders/g0/yt0m6mx534b6cl53216hwy940000gn/T/ipykernel_3993/3693902438.py\", line 15, in foo1\n",
      "TypeError: exceptions must derive from BaseException\n"
     ]
    },
    {
     "name": "stdout",
     "output_type": "stream",
     "text": [
      "foo1 -- блокировка установлена\n",
      "x == 5\n",
      "foo2 -- блокировка установлена\n",
      "foo2 -- блокировка снята\n",
      "Foo2 exit\n"
     ]
    }
   ],
   "source": [
    "import random\n",
    "from time import sleep\n",
    "import threading\n",
    "x = 5\n",
    "x_locking = threading.Lock()\n",
    "def foo1(a=10):\n",
    "    global x\n",
    "    with x_locking:\n",
    "        print(\"foo1 -- блокировка установлена\")\n",
    "        sleep(random.random())\n",
    "        if x == 5:\n",
    "            print(\"x == 5\")\n",
    "        else:\n",
    "            print(\"x not == 5\")\n",
    "        raise None\n",
    "\n",
    "    print(\"foo1 -- блокировка снята\")\n",
    "    print(\"Foo1 exit\")\n",
    "\n",
    "def foo2(a=10):\n",
    "    global x\n",
    "    x_locking.acquire()\n",
    "    print(\"foo2 -- блокировка установлена\")\n",
    "    sleep(random.random())\n",
    "    x = 1\n",
    "    x_locking.release()\n",
    "    print(\"foo2 -- блокировка снята\")\n",
    "    print(\"Foo2 exit\")\n",
    "\n",
    "th1 = Thread(target=foo1)\n",
    "th2 = Thread(target=foo2)\n",
    "\n",
    "th1.start()\n",
    "th2.start()\n",
    "\n",
    "th1.join()\n",
    "th2.join()"
   ]
  },
  {
   "cell_type": "markdown",
   "metadata": {
    "collapsed": false,
    "pycharm": {
     "name": "#%% md\n"
    }
   },
   "source": [
    "## deadlock архитектурный"
   ]
  },
  {
   "cell_type": "code",
   "execution_count": 43,
   "metadata": {
    "collapsed": false,
    "pycharm": {
     "name": "#%%\n"
    }
   },
   "outputs": [
    {
     "name": "stdout",
     "output_type": "stream",
     "text": [
      "foo1 -- блокировка установлена\n",
      "foo1 -- блокировка установлена 2\n"
     ]
    },
    {
     "ename": "KeyboardInterrupt",
     "evalue": "",
     "output_type": "error",
     "traceback": [
      "\u001b[0;31m---------------------------------------------------------------------------\u001b[0m",
      "\u001b[0;31mKeyboardInterrupt\u001b[0m                         Traceback (most recent call last)",
      "\u001b[1;32m/Users/artem/Documents/Work/ВМК_МГУ/course_python/lectures/Lecture_11_Multiprocessing_scraping/Lection11_0.ipynb Ячейка 28\u001b[0m in \u001b[0;36m<cell line: 37>\u001b[0;34m()\u001b[0m\n\u001b[1;32m     <a href='vscode-notebook-cell:/Users/artem/Documents/Work/%D0%92%D0%9C%D0%9A_%D0%9C%D0%93%D0%A3/course_python/lectures/Lecture_11_Multiprocessing_scraping/Lection11_0.ipynb#X36sZmlsZQ%3D%3D?line=33'>34</a>\u001b[0m th1\u001b[39m.\u001b[39mstart()\n\u001b[1;32m     <a href='vscode-notebook-cell:/Users/artem/Documents/Work/%D0%92%D0%9C%D0%9A_%D0%9C%D0%93%D0%A3/course_python/lectures/Lecture_11_Multiprocessing_scraping/Lection11_0.ipynb#X36sZmlsZQ%3D%3D?line=34'>35</a>\u001b[0m th2\u001b[39m.\u001b[39mstart()\n\u001b[0;32m---> <a href='vscode-notebook-cell:/Users/artem/Documents/Work/%D0%92%D0%9C%D0%9A_%D0%9C%D0%93%D0%A3/course_python/lectures/Lecture_11_Multiprocessing_scraping/Lection11_0.ipynb#X36sZmlsZQ%3D%3D?line=36'>37</a>\u001b[0m th1\u001b[39m.\u001b[39;49mjoin()\n\u001b[1;32m     <a href='vscode-notebook-cell:/Users/artem/Documents/Work/%D0%92%D0%9C%D0%9A_%D0%9C%D0%93%D0%A3/course_python/lectures/Lecture_11_Multiprocessing_scraping/Lection11_0.ipynb#X36sZmlsZQ%3D%3D?line=37'>38</a>\u001b[0m th2\u001b[39m.\u001b[39mjoin()\n",
      "File \u001b[0;32m/opt/homebrew/Cellar/python@3.9/3.9.13_1/Frameworks/Python.framework/Versions/3.9/lib/python3.9/threading.py:1060\u001b[0m, in \u001b[0;36mThread.join\u001b[0;34m(self, timeout)\u001b[0m\n\u001b[1;32m   1057\u001b[0m     \u001b[39mraise\u001b[39;00m \u001b[39mRuntimeError\u001b[39;00m(\u001b[39m\"\u001b[39m\u001b[39mcannot join current thread\u001b[39m\u001b[39m\"\u001b[39m)\n\u001b[1;32m   1059\u001b[0m \u001b[39mif\u001b[39;00m timeout \u001b[39mis\u001b[39;00m \u001b[39mNone\u001b[39;00m:\n\u001b[0;32m-> 1060\u001b[0m     \u001b[39mself\u001b[39;49m\u001b[39m.\u001b[39;49m_wait_for_tstate_lock()\n\u001b[1;32m   1061\u001b[0m \u001b[39melse\u001b[39;00m:\n\u001b[1;32m   1062\u001b[0m     \u001b[39m# the behavior of a negative timeout isn't documented, but\u001b[39;00m\n\u001b[1;32m   1063\u001b[0m     \u001b[39m# historically .join(timeout=x) for x<0 has acted as if timeout=0\u001b[39;00m\n\u001b[1;32m   1064\u001b[0m     \u001b[39mself\u001b[39m\u001b[39m.\u001b[39m_wait_for_tstate_lock(timeout\u001b[39m=\u001b[39m\u001b[39mmax\u001b[39m(timeout, \u001b[39m0\u001b[39m))\n",
      "File \u001b[0;32m/opt/homebrew/Cellar/python@3.9/3.9.13_1/Frameworks/Python.framework/Versions/3.9/lib/python3.9/threading.py:1080\u001b[0m, in \u001b[0;36mThread._wait_for_tstate_lock\u001b[0;34m(self, block, timeout)\u001b[0m\n\u001b[1;32m   1077\u001b[0m     \u001b[39mreturn\u001b[39;00m\n\u001b[1;32m   1079\u001b[0m \u001b[39mtry\u001b[39;00m:\n\u001b[0;32m-> 1080\u001b[0m     \u001b[39mif\u001b[39;00m lock\u001b[39m.\u001b[39;49macquire(block, timeout):\n\u001b[1;32m   1081\u001b[0m         lock\u001b[39m.\u001b[39mrelease()\n\u001b[1;32m   1082\u001b[0m         \u001b[39mself\u001b[39m\u001b[39m.\u001b[39m_stop()\n",
      "\u001b[0;31mKeyboardInterrupt\u001b[0m: "
     ]
    }
   ],
   "source": [
    "import random\n",
    "from time import sleep\n",
    "import threading\n",
    "x = 5\n",
    "x_locking = threading.Lock()\n",
    "def foo1(a=10):\n",
    "    global x\n",
    "    x_locking.acquire()\n",
    "    print(\"foo1 -- блокировка установлена\")\n",
    "    sleep(random.random())\n",
    "    x_locking.release()\n",
    "    print(\"foo1 -- блокировка установлена 2\")\n",
    "    x_locking.acquire()\n",
    "    if x == 5:\n",
    "        print(\"x == 5\")\n",
    "    else:\n",
    "        print(\"x not == 5\")\n",
    "    x_locking.release()\n",
    "    print(\"foo1 -- блокировка снята\")\n",
    "    print(\"Foo1 exit\")\n",
    "\n",
    "def foo2(a=10):\n",
    "    global x\n",
    "    x_locking.acquire()\n",
    "    print(\"foo2 -- блокировка установлена\")\n",
    "    sleep(random.random())\n",
    "    x = 1\n",
    "    x_locking.release()\n",
    "    print(\"foo2 -- блокировка снята\")\n",
    "    print(\"Foo2 exit\")\n",
    "\n",
    "th1 = Thread(target=foo1)\n",
    "th2 = Thread(target=foo2)\n",
    "\n",
    "th1.start()\n",
    "th2.start()\n",
    "\n",
    "th1.join()\n",
    "th2.join()"
   ]
  },
  {
   "cell_type": "markdown",
   "metadata": {
    "collapsed": false,
    "pycharm": {
     "name": "#%% md\n"
    }
   },
   "source": [
    "### Решение"
   ]
  },
  {
   "cell_type": "markdown",
   "metadata": {
    "collapsed": false
   },
   "source": [
    "Используем Rlock. Rlock -- блокирует поток, только если заблокирован был другим потоком"
   ]
  },
  {
   "cell_type": "code",
   "execution_count": 44,
   "metadata": {
    "collapsed": false,
    "pycharm": {
     "name": "#%%\n"
    }
   },
   "outputs": [
    {
     "name": "stdout",
     "output_type": "stream",
     "text": [
      "foo1 -- блокировка установлена\n",
      "foo1 -- блокировка установлена 2\n",
      "x == 5\n",
      "foo1 -- блокировка снята\n",
      "Foo1 exit\n",
      "foo2 -- блокировка установлена\n",
      "foo2 -- блокировка снята\n",
      "Foo2 exit\n"
     ]
    }
   ],
   "source": [
    "import random\n",
    "from time import sleep\n",
    "import threading\n",
    "x = 5\n",
    "x_locking = threading.RLock()\n",
    "def foo1(a=10):\n",
    "    global x\n",
    "    x_locking.acquire()\n",
    "    print(\"foo1 -- блокировка установлена\")\n",
    "    sleep(random.random())\n",
    "    print(\"foo1 -- блокировка установлена 2\")\n",
    "    x_locking.acquire()\n",
    "    if x == 5:\n",
    "        print(\"x == 5\")\n",
    "    else:\n",
    "        print(\"x not == 5\")\n",
    "    x_locking.release()\n",
    "    x_locking.release()\n",
    "    print(\"foo1 -- блокировка снята\")\n",
    "    print(\"Foo1 exit\")\n",
    "\n",
    "def foo2(a=10):\n",
    "    global x\n",
    "    x_locking.acquire()\n",
    "    print(\"foo2 -- блокировка установлена\")\n",
    "    sleep(random.random())\n",
    "    x = 1\n",
    "    x_locking.release()\n",
    "    print(\"foo2 -- блокировка снята\")\n",
    "    print(\"Foo2 exit\")\n",
    "\n",
    "th1 = Thread(target=foo1)\n",
    "th2 = Thread(target=foo2)\n",
    "\n",
    "th1.start()\n",
    "th2.start()\n",
    "\n",
    "th1.join()\n",
    "th2.join()"
   ]
  },
  {
   "cell_type": "code",
   "execution_count": 45,
   "metadata": {
    "collapsed": false,
    "pycharm": {
     "name": "#%%\n"
    }
   },
   "outputs": [
    {
     "name": "stdout",
     "output_type": "stream",
     "text": [
      "Проверяющий 1 начал   проверять студента Андрей\n",
      "Проверяющий 2 начал   проверять студента Александр\n",
      "Проверяющий 2 закончил проверять студента Александр\n",
      "Проверяющий 2 начал   проверять студента Никита\n",
      "Проверяющий 1 закончил проверять студента Андрей\n",
      "Проверяющий 1 начал   проверять студента Евгений\n",
      "Проверяющий 2 закончил проверять студента Никита\n",
      "Проверяющий 2 начал   проверять студента Алексей\n",
      "Проверяющий 1 закончил проверять студента Евгений\n",
      "Проверяющий 1 начал   проверять студента Сергей\n",
      "Проверяющий 2 закончил проверять студента Алексей\n",
      "Проверяющий 2 начал   проверять студента Михаил\n",
      "Проверяющий 1 закончил проверять студента Сергей\n",
      "Проверяющий 2 закончил проверять студента Михаил\n"
     ]
    }
   ],
   "source": [
    "from time import sleep\n",
    "from threading import Thread\n",
    "num_of_stud = 0\n",
    "lock = threading.Lock()\n",
    "\n",
    "def foo(studs):\n",
    "    while True:\n",
    "        name = threading.currentThread().name\n",
    "        with lock:\n",
    "            global num_of_stud\n",
    "            if num_of_stud >= len(studs):\n",
    "                break\n",
    "            current_stud = studs[num_of_stud]\n",
    "            num_of_stud += 1\n",
    "\n",
    "        print(f\"{name} начал   проверять студента {current_stud[1]}\")\n",
    "        sleep(current_stud[0] / 30)\n",
    "        print(f\"{name} закончил проверять студента {current_stud[1]}\")\n",
    "\n",
    "students= [(99, \"Андрей\"),\n",
    "           (76, \"Александр\"),\n",
    "           (75, \"Никита\"),\n",
    "           (72, \"Евгений\"),\n",
    "           (66, \"Алексей\"),\n",
    "           (62, \"Сергей\"),\n",
    "           (50, \"Михаил\")]\n",
    "\n",
    "teacher1 = Thread(target=foo, args=(students,), name=\"Проверяющий 1\")\n",
    "teacher2 = Thread(target=foo, args=(students,), name=\"Проверяющий 2\")\n",
    "\n",
    "teacher1.start()\n",
    "teacher2.start()\n",
    "\n",
    "teacher1.join()\n",
    "teacher2.join()\n"
   ]
  },
  {
   "cell_type": "code",
   "execution_count": 51,
   "metadata": {},
   "outputs": [
    {
     "data": {
      "text/plain": [
       "([(99, 'Андрей'),\n",
       "  (76, 'Александр'),\n",
       "  (75, 'Никита'),\n",
       "  (72, 'Евгений'),\n",
       "  (66, 'Алексей'),\n",
       "  (62, 'Сергей'),\n",
       "  (50, 'Михаил')],)"
      ]
     },
     "execution_count": 51,
     "metadata": {},
     "output_type": "execute_result"
    }
   ],
   "source": [
    "(students,)"
   ]
  },
  {
   "cell_type": "markdown",
   "metadata": {
    "collapsed": false,
    "pycharm": {
     "name": "#%% md\n"
    }
   },
   "source": [
    "# Многопроцессность"
   ]
  },
  {
   "cell_type": "markdown",
   "metadata": {
    "collapsed": false
   },
   "source": [
    "В отличии от многопоточности действительно параллельна.\n",
    "\n",
    "Создаются новые экземпляры программы и выполняются какие-то действия"
   ]
  },
  {
   "cell_type": "code",
   "execution_count": 46,
   "metadata": {
    "collapsed": false,
    "pycharm": {
     "name": "#%%\n"
    }
   },
   "outputs": [],
   "source": [
    "import multiprocessing"
   ]
  },
  {
   "cell_type": "code",
   "execution_count": 47,
   "metadata": {
    "collapsed": false,
    "pycharm": {
     "name": "#%%\n"
    }
   },
   "outputs": [
    {
     "data": {
      "text/plain": [
       "10"
      ]
     },
     "execution_count": 47,
     "metadata": {},
     "output_type": "execute_result"
    }
   ],
   "source": [
    "multiprocessing.cpu_count()"
   ]
  },
  {
   "cell_type": "code",
   "execution_count": 54,
   "metadata": {
    "collapsed": false,
    "pycharm": {
     "name": "#%%\n"
    }
   },
   "outputs": [
    {
     "name": "stdout",
     "output_type": "stream",
     "text": [
      "Overwriting worker.py\n"
     ]
    }
   ],
   "source": [
    "%%writefile worker.py\n",
    "def f(x):\n",
    "    a = 10\n",
    "    for i in range(x):\n",
    "        a += a ** i \n",
    "    return a\n"
   ]
  },
  {
   "cell_type": "code",
   "execution_count": 55,
   "metadata": {
    "collapsed": false,
    "pycharm": {
     "name": "#%%\n"
    }
   },
   "outputs": [
    {
     "name": "stdout",
     "output_type": "stream",
     "text": [
      "[10, 11, 22, 506, 129554722]\n",
      "CPU times: user 5.86 ms, sys: 22.1 ms, total: 28 ms\n",
      "Wall time: 45.5 ms\n"
     ]
    }
   ],
   "source": [
    "%%time\n",
    "from multiprocessing import Pool\n",
    "from worker import f\n",
    "\n",
    "if __name__ == '__main__':\n",
    "    with Pool(6) as p:\n",
    "        print(p.map(f, list(range(5))))"
   ]
  },
  {
   "cell_type": "code",
   "execution_count": null,
   "metadata": {},
   "outputs": [],
   "source": [
    "import worker"
   ]
  },
  {
   "cell_type": "code",
   "execution_count": 57,
   "metadata": {
    "collapsed": false,
    "pycharm": {
     "name": "#%%\n"
    }
   },
   "outputs": [
    {
     "name": "stderr",
     "output_type": "stream",
     "text": [
      "/var/folders/g0/yt0m6mx534b6cl53216hwy940000gn/T/ipykernel_3993/233349976.py:1: DeprecationWarning: the imp module is deprecated in favour of importlib; see the module's documentation for alternative uses\n",
      "  from imp import reload\n"
     ]
    },
    {
     "data": {
      "text/plain": [
       "<module 'worker' from '/Users/artem/Documents/Work/ВМК_МГУ/course_python/lectures/Lecture_11_Multiprocessing_scraping/worker.py'>"
      ]
     },
     "execution_count": 57,
     "metadata": {},
     "output_type": "execute_result"
    }
   ],
   "source": [
    "from imp import reload\n",
    "import worker\n",
    "reload(worker)"
   ]
  },
  {
   "cell_type": "code",
   "execution_count": 58,
   "metadata": {
    "collapsed": false,
    "pycharm": {
     "name": "#%%\n"
    }
   },
   "outputs": [
    {
     "name": "stdout",
     "output_type": "stream",
     "text": [
      "CPU times: user 8 µs, sys: 1e+03 ns, total: 9 µs\n",
      "Wall time: 10 µs\n"
     ]
    }
   ],
   "source": [
    "%%time\n",
    "result = []\n",
    "for i in range(5):\n",
    "    result.append(worker.f(i))"
   ]
  },
  {
   "cell_type": "code",
   "execution_count": 59,
   "metadata": {
    "collapsed": false,
    "pycharm": {
     "name": "#%%\n"
    }
   },
   "outputs": [
    {
     "data": {
      "text/plain": [
       "[10, 11, 22, 506, 129554722]"
      ]
     },
     "execution_count": 59,
     "metadata": {},
     "output_type": "execute_result"
    }
   ],
   "source": [
    "result"
   ]
  },
  {
   "cell_type": "code",
   "execution_count": 60,
   "metadata": {
    "collapsed": false,
    "pycharm": {
     "name": "#%%\n"
    }
   },
   "outputs": [
    {
     "name": "stdout",
     "output_type": "stream",
     "text": [
      "Writing test1.py\n"
     ]
    }
   ],
   "source": [
    "%%writefile test1.py\n",
    "import os\n",
    "\n",
    "def info(title):\n",
    "    print(title)\n",
    "    print('module name:', __name__)\n",
    "    print('parent process:', os.getppid())\n",
    "    print('process id:', os.getpid())\n",
    "\n",
    "def f(name):\n",
    "    info('function f')\n",
    "    print('hello', name)\n"
   ]
  },
  {
   "cell_type": "code",
   "execution_count": 61,
   "metadata": {
    "collapsed": false,
    "pycharm": {
     "name": "#%%\n"
    }
   },
   "outputs": [
    {
     "name": "stdout",
     "output_type": "stream",
     "text": [
      "main line\n",
      "module name: test1\n",
      "parent process: 3584\n",
      "process id: 3993\n",
      "function f\n",
      "module name: test1\n",
      "parent process: 3993\n",
      "process id: 9811\n",
      "hello bob\n"
     ]
    }
   ],
   "source": [
    "from multiprocessing import Process\n",
    "import test1\n",
    "\n",
    "test1.info('main line')\n",
    "p = Process(target=test1.f, args=('bob',))\n",
    "p.start()\n",
    "p.join()"
   ]
  },
  {
   "cell_type": "markdown",
   "metadata": {
    "collapsed": false
   },
   "source": [
    "## Средства межпроцессного взаимодействия"
   ]
  },
  {
   "cell_type": "markdown",
   "metadata": {
    "collapsed": false
   },
   "source": [
    "### Очереди"
   ]
  },
  {
   "cell_type": "code",
   "execution_count": 62,
   "metadata": {
    "collapsed": false,
    "pycharm": {
     "name": "#%%\n"
    }
   },
   "outputs": [
    {
     "name": "stdout",
     "output_type": "stream",
     "text": [
      "Writing queue_test.py\n"
     ]
    }
   ],
   "source": [
    "%%writefile queue_test.py\n",
    "from time import sleep\n",
    "def f(q):\n",
    "    sleep(1)\n",
    "    q.put([42, None, 'hello'])\n",
    "    sleep(1)\n",
    "    q.put([21, None, 'hell'])"
   ]
  },
  {
   "cell_type": "code",
   "execution_count": 63,
   "metadata": {
    "collapsed": false,
    "pycharm": {
     "name": "#%%\n"
    }
   },
   "outputs": [
    {
     "name": "stdout",
     "output_type": "stream",
     "text": [
      "[42, None, 'hello']\n",
      "[21, None, 'hell']\n"
     ]
    }
   ],
   "source": [
    "from multiprocessing import Process, Queue\n",
    "import queue_test\n",
    "\n",
    "if __name__ == '__main__':\n",
    "    q = Queue()\n",
    "    p = Process(target=queue_test.f, args=(q,))\n",
    "    p.start()\n",
    "    print(q.get())    # распечатает \"[42, None, 'hello']\"\n",
    "    print(q.get())\n",
    "    p.join()"
   ]
  },
  {
   "cell_type": "markdown",
   "metadata": {
    "collapsed": false,
    "pycharm": {
     "name": "#%% md\n"
    }
   },
   "source": [
    "### Конвейеры"
   ]
  },
  {
   "cell_type": "code",
   "execution_count": 64,
   "metadata": {
    "collapsed": false,
    "pycharm": {
     "name": "#%%\n"
    }
   },
   "outputs": [
    {
     "name": "stdout",
     "output_type": "stream",
     "text": [
      "Writing pipe_test.py\n"
     ]
    }
   ],
   "source": [
    "%%writefile pipe_test.py\n",
    "from time import sleep\n",
    "def f(conn):\n",
    "    sleep(1)\n",
    "    conn.send([42, None, 'hello'])\n",
    "    sleep(1)\n",
    "    print(conn.recv())\n",
    "    conn.close()"
   ]
  },
  {
   "cell_type": "code",
   "execution_count": 65,
   "metadata": {
    "collapsed": false,
    "pycharm": {
     "name": "#%%\n"
    }
   },
   "outputs": [
    {
     "name": "stdout",
     "output_type": "stream",
     "text": [
      "[42, None, 'hello']\n",
      "[21, 'hell']\n"
     ]
    }
   ],
   "source": [
    "from multiprocessing import Process, Pipe\n",
    "import pipe_test\n",
    "\n",
    "if __name__ == '__main__':\n",
    "    parent_conn, child_conn = Pipe()\n",
    "    p = Process(target=pipe_test.f, args=(child_conn,))\n",
    "    p.start()\n",
    "    print(parent_conn.recv())\n",
    "    parent_conn.send([21, 'hell'])\n",
    "    p.join()"
   ]
  },
  {
   "cell_type": "markdown",
   "metadata": {
    "collapsed": false,
    "pycharm": {
     "name": "#%% md\n"
    }
   },
   "source": [
    "## Средства синхронизации\n",
    "\n",
    "Такие же как и в threading"
   ]
  },
  {
   "cell_type": "code",
   "execution_count": 69,
   "metadata": {
    "collapsed": false,
    "pycharm": {
     "name": "#%%\n"
    }
   },
   "outputs": [
    {
     "name": "stdout",
     "output_type": "stream",
     "text": [
      "Overwriting lock_test.py\n"
     ]
    }
   ],
   "source": [
    "%%writefile lock_test.py\n",
    "import time\n",
    "import random\n",
    "def f(l, i):\n",
    "    l.acquire()\n",
    "    try:\n",
    "        print('hello world', i)\n",
    "        time.sleep(random.random())\n",
    "    finally:\n",
    "        l.release()"
   ]
  },
  {
   "cell_type": "code",
   "execution_count": 70,
   "metadata": {
    "collapsed": false,
    "pycharm": {
     "name": "#%%\n"
    }
   },
   "outputs": [
    {
     "name": "stdout",
     "output_type": "stream",
     "text": [
      "hello world 0\n",
      "hello world 1\n",
      "hello world 3\n",
      "hello world 2\n",
      "hello world 4\n",
      "hello world 5\n",
      "hello world 6\n",
      "hello world 7\n",
      "hello world 8\n",
      "hello world 9\n"
     ]
    }
   ],
   "source": [
    "from multiprocessing import Process, Lock\n",
    "import lock_test\n",
    "from imp import reload\n",
    "reload(lock_test)\n",
    "\n",
    "lock = Lock()\n",
    "\n",
    "proc = []\n",
    "for num in range(10):\n",
    "    proc.append(Process(target=lock_test.f, args=(lock, num)))\n",
    "\n",
    "for p in proc:\n",
    "    p.start()\n",
    "\n",
    "for p in proc:\n",
    "    p.join()\n"
   ]
  },
  {
   "cell_type": "markdown",
   "metadata": {
    "collapsed": false
   },
   "source": [
    "## Пример"
   ]
  },
  {
   "cell_type": "code",
   "execution_count": 71,
   "metadata": {
    "collapsed": false,
    "pycharm": {
     "name": "#%%\n"
    }
   },
   "outputs": [
    {
     "name": "stdout",
     "output_type": "stream",
     "text": [
      "Writing teacher.py\n"
     ]
    }
   ],
   "source": [
    "%%writefile teacher.py\n",
    "from multiprocessing import current_process\n",
    "from time import sleep\n",
    "def foo(studs, result):\n",
    "    while True:\n",
    "        current_stud = studs.get()\n",
    "        name = current_process().name\n",
    "        result.put(f\"{name} начал    проверять студента {current_stud[1]}\")\n",
    "        sleep(current_stud[0] / 20)\n",
    "        result.put(f\"{name} закончил проверять студента {current_stud[1]}\")\n",
    "        if studs.empty():\n",
    "            break"
   ]
  },
  {
   "cell_type": "code",
   "execution_count": 72,
   "metadata": {
    "collapsed": false,
    "pycharm": {
     "name": "#%%\n"
    }
   },
   "outputs": [
    {
     "name": "stdout",
     "output_type": "stream",
     "text": [
      "Проверяющий 1 начал    проверять студента Андрей\n",
      "Проверяющий 2 начал    проверять студента Александр\n",
      "Проверяющий 2 закончил проверять студента Александр\n",
      "Проверяющий 2 начал    проверять студента Никита\n",
      "Проверяющий 1 закончил проверять студента Андрей\n",
      "Проверяющий 1 начал    проверять студента Евгений\n",
      "Проверяющий 2 закончил проверять студента Никита\n",
      "Проверяющий 2 начал    проверять студента Алексей\n",
      "Проверяющий 1 закончил проверять студента Евгений\n",
      "Проверяющий 1 начал    проверять студента Сергей\n",
      "Проверяющий 2 закончил проверять студента Алексей\n",
      "Проверяющий 2 начал    проверять студента Михаил\n",
      "Проверяющий 1 закончил проверять студента Сергей\n",
      "Проверяющий 2 закончил проверять студента Михаил\n"
     ]
    }
   ],
   "source": [
    "from time import sleep\n",
    "from multiprocessing import Process, Queue\n",
    "\n",
    "import teacher\n",
    "\n",
    "students= [(99, \"Андрей\"),\n",
    "           (76, \"Александр\"),\n",
    "           (75, \"Никита\"),\n",
    "           (72, \"Евгений\"),\n",
    "           (66, \"Алексей\"),\n",
    "           (62, \"Сергей\"),\n",
    "           (50, \"Михаил\")]\n",
    "\n",
    "q_stud = Queue()\n",
    "for i in students:\n",
    "    q_stud.put(i)\n",
    "\n",
    "result = Queue()\n",
    "teacher1 = Process(target=teacher.foo, args=(q_stud, result), name=\"Проверяющий 1\")\n",
    "# sleep(10)\n",
    "teacher2 = Process(target=teacher.foo, args=(q_stud, result), name=\"Проверяющий 2\")\n",
    "\n",
    "teacher1.start()\n",
    "teacher2.start()\n",
    "\n",
    "teacher1.join()\n",
    "teacher2.join()\n",
    "\n",
    "while not result.empty():\n",
    "    print(result.get())"
   ]
  },
  {
   "cell_type": "markdown",
   "metadata": {
    "collapsed": false
   },
   "source": [
    "# Рекомендуемая литература:\n",
    "- Современные операционные системы | Таненбаум Эндрю, Бос Х.\n"
   ]
  },
  {
   "cell_type": "markdown",
   "metadata": {
    "collapsed": false
   },
   "source": [
    "# Вопросы для самостоятельного изучения:\n",
    "\n",
    "- Различные средства синхронизации потоков/процессов\n",
    "- Средства межпроцессного взаимодействия\n",
    "- Устройство потоков и процессов в Unix\n",
    "- Асинхронность в Python(*)\n"
   ]
  },
  {
   "cell_type": "markdown",
   "metadata": {
    "collapsed": false
   },
   "source": [
    "# Вопросы к зачету"
   ]
  },
  {
   "cell_type": "markdown",
   "metadata": {
    "collapsed": false,
    "pycharm": {
     "name": "#%% md\n"
    }
   },
   "source": [
    "- Чем отличается поток и процесс в Python, когда лучше использовать тот или иной подход?\n",
    "- Какие средства межпроцессного взаимодействия Вы занаете?\n",
    "- Примитивы синхронизации\n",
    "- Зачем нужна синхронизация?\n",
    "- Что такое race condition и deadlock. Как бороться?"
   ]
  }
 ],
 "metadata": {
  "kernelspec": {
   "display_name": "Python 3.9.13 64-bit",
   "language": "python",
   "name": "python3"
  },
  "language_info": {
   "codemirror_mode": {
    "name": "ipython",
    "version": 3
   },
   "file_extension": ".py",
   "mimetype": "text/x-python",
   "name": "python",
   "nbconvert_exporter": "python",
   "pygments_lexer": "ipython3",
   "version": "3.9.13"
  },
  "vscode": {
   "interpreter": {
    "hash": "b0fa6594d8f4cbf19f97940f81e996739fb7646882a419484c72d19e05852a7e"
   }
  }
 },
 "nbformat": 4,
 "nbformat_minor": 0
}
