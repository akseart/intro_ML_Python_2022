{
 "cells": [
  {
   "cell_type": "markdown",
   "id": "b2fceb6b",
   "metadata": {},
   "source": [
    "# Введение в методы анализа данных. Язык Python."
   ]
  },
  {
   "cell_type": "markdown",
   "id": "atomic-cyprus",
   "metadata": {},
   "source": [
    "# Лекция 5. Обзор стандартных библиотек Python\n",
    "<br><br><br><br>\n",
    "__Аксентьев Артем (akseart@ya.ru)__\n",
    "\n",
    "__Ксемидов Борис (nstalker.anonim@yandex.ru)__\n",
    "<br>"
   ]
  },
  {
   "cell_type": "markdown",
   "id": "falling-algeria",
   "metadata": {},
   "source": [
    "## Модуль collections"
   ]
  },
  {
   "cell_type": "markdown",
   "id": "funny-disability",
   "metadata": {},
   "source": [
    "- Документация: https://docs.python.org/3/library/collections.html"
   ]
  },
  {
   "cell_type": "markdown",
   "id": "heard-equality",
   "metadata": {},
   "source": [
    "### Counter"
   ]
  },
  {
   "cell_type": "code",
   "execution_count": 1,
   "id": "iraqi-guarantee",
   "metadata": {},
   "outputs": [
    {
     "name": "stdout",
     "output_type": "stream",
     "text": [
      "['Hello', 'My', 'name', 'is', 'Jack', 'What', 'is', 'your', 'name']\n"
     ]
    }
   ],
   "source": [
    "text = \"Hello! My name is Jack. What is your name?\"\n",
    "text = text.replace(\"!\", \"\").replace(\"?\", \"\").replace(\".\", \"\")\n",
    "l_words = text.split()\n",
    "print(l_words)"
   ]
  },
  {
   "cell_type": "code",
   "execution_count": 2,
   "id": "alert-olive",
   "metadata": {},
   "outputs": [
    {
     "name": "stdout",
     "output_type": "stream",
     "text": [
      "Counter({'name': 2, 'is': 2, 'Hello': 1, 'My': 1, 'Jack': 1, 'What': 1, 'your': 1})\n"
     ]
    }
   ],
   "source": [
    "from collections import Counter\n",
    "\n",
    "counter_words = Counter(l_words)\n",
    "print(counter_words)"
   ]
  },
  {
   "cell_type": "code",
   "execution_count": 198,
   "id": "accomplished-interest",
   "metadata": {},
   "outputs": [
    {
     "data": {
      "text/plain": [
       "Counter({'H': 1,\n",
       "         'e': 3,\n",
       "         'l': 2,\n",
       "         'o': 2,\n",
       "         ' ': 8,\n",
       "         'M': 1,\n",
       "         'y': 2,\n",
       "         'n': 2,\n",
       "         'a': 4,\n",
       "         'm': 2,\n",
       "         'i': 2,\n",
       "         's': 2,\n",
       "         'J': 1,\n",
       "         'c': 1,\n",
       "         'k': 1,\n",
       "         'W': 1,\n",
       "         'h': 1,\n",
       "         't': 1,\n",
       "         'u': 1,\n",
       "         'r': 1})"
      ]
     },
     "execution_count": 198,
     "metadata": {},
     "output_type": "execute_result"
    }
   ],
   "source": [
    "Counter(text)"
   ]
  },
  {
   "cell_type": "code",
   "execution_count": 3,
   "id": "latin-monroe",
   "metadata": {},
   "outputs": [
    {
     "name": "stdout",
     "output_type": "stream",
     "text": [
      "Counter({2: 3, 3: 2, 1: 1})\n"
     ]
    }
   ],
   "source": [
    "counter_words = Counter([1, 2, 3, 3, 2, 2])\n",
    "print(counter_words)"
   ]
  },
  {
   "cell_type": "markdown",
   "id": "portable-border",
   "metadata": {},
   "source": [
    "### Defaultdict"
   ]
  },
  {
   "cell_type": "code",
   "execution_count": 7,
   "id": "4ce8b045",
   "metadata": {},
   "outputs": [
    {
     "ename": "KeyError",
     "evalue": "1",
     "output_type": "error",
     "traceback": [
      "\u001b[0;31m---------------------------------------------------------------------------\u001b[0m",
      "\u001b[0;31mKeyError\u001b[0m                                  Traceback (most recent call last)",
      "\u001b[0;32m/var/folders/lm/0j0v2m453ks57mmwdnjfvz700000gn/T/ipykernel_62819/4130707532.py\u001b[0m in \u001b[0;36m<module>\u001b[0;34m\u001b[0m\n\u001b[1;32m      1\u001b[0m \u001b[0md\u001b[0m \u001b[0;34m=\u001b[0m \u001b[0mdict\u001b[0m\u001b[0;34m(\u001b[0m\u001b[0;34m)\u001b[0m\u001b[0;34m\u001b[0m\u001b[0;34m\u001b[0m\u001b[0m\n\u001b[0;32m----> 2\u001b[0;31m \u001b[0md\u001b[0m\u001b[0;34m[\u001b[0m\u001b[0;36m1\u001b[0m\u001b[0;34m]\u001b[0m\u001b[0;34m\u001b[0m\u001b[0;34m\u001b[0m\u001b[0m\n\u001b[0m",
      "\u001b[0;31mKeyError\u001b[0m: 1"
     ]
    }
   ],
   "source": [
    "d = dict()\n",
    "d[1]"
   ]
  },
  {
   "cell_type": "code",
   "execution_count": 9,
   "id": "cardiac-taylor",
   "metadata": {},
   "outputs": [
    {
     "name": "stdout",
     "output_type": "stream",
     "text": [
      "0 0\n",
      "3\n",
      "1\n"
     ]
    }
   ],
   "source": [
    "from collections import defaultdict\n",
    "\n",
    "d = defaultdict(lambda: 0)\n",
    "\n",
    "print(d[0], d[\"123\"])\n",
    "\n",
    "d[0] = 3\n",
    "print(d[0])\n",
    "\n",
    "d[1] += 1\n",
    "print(d[1])"
   ]
  },
  {
   "cell_type": "markdown",
   "id": "genuine-reception",
   "metadata": {},
   "source": [
    "### Именованные кортежи"
   ]
  },
  {
   "cell_type": "code",
   "execution_count": 5,
   "id": "strange-damage",
   "metadata": {},
   "outputs": [],
   "source": [
    "from collections import namedtuple\n",
    "\n",
    "Point = namedtuple(\"Point\", \"x y\")\n",
    "\n",
    "p = Point(1, 2)"
   ]
  },
  {
   "cell_type": "code",
   "execution_count": 11,
   "id": "acoustic-secretariat",
   "metadata": {},
   "outputs": [
    {
     "name": "stdout",
     "output_type": "stream",
     "text": [
      "1 2\n"
     ]
    }
   ],
   "source": [
    "print(p.x, p.y)"
   ]
  },
  {
   "cell_type": "code",
   "execution_count": 12,
   "id": "horizontal-reservation",
   "metadata": {},
   "outputs": [
    {
     "name": "stdout",
     "output_type": "stream",
     "text": [
      "1 2\n"
     ]
    }
   ],
   "source": [
    "print(p[0], p[1])"
   ]
  },
  {
   "cell_type": "markdown",
   "id": "moving-visitor",
   "metadata": {},
   "source": [
    "## Модуль sys"
   ]
  },
  {
   "cell_type": "markdown",
   "id": "dimensional-being",
   "metadata": {},
   "source": [
    "Этот модуль обеспечивает доступ к некоторым переменным, используемым или поддерживаемым интерпретатором, а также к функциям, которые взаимодействуют с интерпретатором."
   ]
  },
  {
   "cell_type": "markdown",
   "id": "naked-department",
   "metadata": {},
   "source": [
    "- Документация: https://docs.python.org/3/library/sys.html"
   ]
  },
  {
   "cell_type": "code",
   "execution_count": 25,
   "id": "grateful-hunger",
   "metadata": {},
   "outputs": [
    {
     "name": "stdout",
     "output_type": "stream",
     "text": [
      "darwin\n"
     ]
    }
   ],
   "source": [
    "import sys\n",
    "\n",
    "print(sys.platform)"
   ]
  },
  {
   "cell_type": "code",
   "execution_count": 29,
   "id": "casual-staff",
   "metadata": {},
   "outputs": [
    {
     "name": "stdout",
     "output_type": "stream",
     "text": [
      "['/Users/donsangre/Documents/Chillers/Python/ML/Modules', '/usr/local/Caskroom/miniconda/base/lib/python38.zip', '/usr/local/Caskroom/miniconda/base/lib/python3.8', '/usr/local/Caskroom/miniconda/base/lib/python3.8/lib-dynload', '', '/usr/local/Caskroom/miniconda/base/lib/python3.8/site-packages', '/usr/local/Caskroom/miniconda/base/lib/python3.8/site-packages/IPython/extensions', '/Users/donsangre/.ipython']\n"
     ]
    }
   ],
   "source": [
    "print(sys.path)"
   ]
  },
  {
   "cell_type": "code",
   "execution_count": 44,
   "id": "bright-graphic",
   "metadata": {},
   "outputs": [
    {
     "name": "stdout",
     "output_type": "stream",
     "text": [
      "['/usr/local/Caskroom/miniconda/base/lib/python3.8/site-packages/ipykernel_launcher.py', '-f', '/Users/donsangre/Library/Jupyter/runtime/kernel-9ba465a1-85ac-4616-b621-1a654d7029d6.json']\n"
     ]
    }
   ],
   "source": [
    "print(sys.argv)"
   ]
  },
  {
   "cell_type": "markdown",
   "id": "clinical-yorkshire",
   "metadata": {},
   "source": [
    "## Модуль os"
   ]
  },
  {
   "cell_type": "markdown",
   "id": "timely-imaging",
   "metadata": {},
   "source": [
    "Этот модуль обеспечивает кроссплатформенный способ использования функций, зависящих от операционной системы."
   ]
  },
  {
   "cell_type": "markdown",
   "id": "initial-oklahoma",
   "metadata": {},
   "source": [
    "- Документация: https://docs.python.org/3/library/os.html"
   ]
  },
  {
   "cell_type": "code",
   "execution_count": 14,
   "id": "exclusive-opera",
   "metadata": {},
   "outputs": [
    {
     "name": "stdout",
     "output_type": "stream",
     "text": [
      "['file_1.2022-03-04_22-27-32_892795.log.zip', 'Untitled-1 copy.ipynb', 'filename.xml', 'file_2.2021-09-05_13-23-40_000000.log', 'freq_word.json', '.DS_Store', 'file_1.2021-09-05_13-06-40_378104.log.zip', 'test', 'file_1.2022-03-04_22-27-32_891682.log.zip', 'Untitled-1.ipynb', 'file_1.2022-03-04_22-24-23_179090.log.zip', 'example3.txt', 'file_1.2022-03-04_22-24-31_156119.log.zip', 'input.json', 'Modules.ipynb', 'file_1.2022-03-04_22-27-32_894099.log.zip', 'file_1.2021-09-05_13-23-38_534439.log.zip', '11-0.txt', 'example.json', 'input2.json', 'file_1.2021-09-05_13-06-10_568016.log.zip', 'file_1.2022-03-04_22-24-31_159785.log.zip', 'file_1.2021-09-05_12-56-58_542907.log', 'another_image.png', 'input.txt', 'file_1.2022-03-04_22-24-31_157323.log.zip', 'output.xml', 'file_1.log', 'file_1.2022-03-04_22-24-31_154947.log.zip', 'file_1.2022-03-04_22-27-32_895345.log.zip', 'file_2.log', '.ipynb_checkpoints', 'archive.zip', 'example.pkl', 'arhive', 'encoded_text.txt', 'file_1.2022-03-04_22-24-31_158593.log.zip', 'Example.jpg', 'example.xml']\n"
     ]
    }
   ],
   "source": [
    "import os\n",
    "\n",
    "print(os.listdir())"
   ]
  },
  {
   "cell_type": "code",
   "execution_count": 16,
   "id": "shared-coach",
   "metadata": {},
   "outputs": [
    {
     "data": {
      "text/plain": [
       "'root'"
      ]
     },
     "execution_count": 16,
     "metadata": {},
     "output_type": "execute_result"
    }
   ],
   "source": [
    "os.getlogin()"
   ]
  },
  {
   "cell_type": "code",
   "execution_count": 19,
   "id": "final-minute",
   "metadata": {},
   "outputs": [
    {
     "name": "stdout",
     "output_type": "stream",
     "text": [
      "['Note Keeper', '.DS_Store', 'lesson_modules', 'test', 'note-keeper-web-python', 'note-keeper', 'course-python']\n"
     ]
    }
   ],
   "source": [
    "os.chdir(\"..\")\n",
    "print(os.listdir())"
   ]
  },
  {
   "cell_type": "code",
   "execution_count": 20,
   "id": "severe-australia",
   "metadata": {},
   "outputs": [
    {
     "name": "stdout",
     "output_type": "stream",
     "text": [
      "/Users/donsangre/PycharmProjects\n"
     ]
    }
   ],
   "source": [
    "abs_path = os.path.abspath(\".\")\n",
    "print(abs_path)"
   ]
  },
  {
   "cell_type": "code",
   "execution_count": 21,
   "id": "paperback-capture",
   "metadata": {},
   "outputs": [
    {
     "name": "stdout",
     "output_type": "stream",
     "text": [
      "/Users/donsangre/PycharmProjects/Modules\n"
     ]
    }
   ],
   "source": [
    "curr_path = os.path.join(abs_path, \"Modules\")\n",
    "print(curr_path)"
   ]
  },
  {
   "cell_type": "markdown",
   "id": "growing-pendant",
   "metadata": {},
   "source": [
    "## Модуль subprocess"
   ]
  },
  {
   "cell_type": "markdown",
   "id": "fatty-climb",
   "metadata": {},
   "source": [
    "- Документация: https://docs.python.org/3/library/subprocess.html"
   ]
  },
  {
   "cell_type": "code",
   "execution_count": 29,
   "id": "possible-particle",
   "metadata": {},
   "outputs": [
    {
     "name": "stdout",
     "output_type": "stream",
     "text": [
      "Note Keeper\n",
      "course-python\n",
      "lesson_modules\n",
      "note-keeper\n",
      "note-keeper-web-python\n",
      "test\n",
      "\n"
     ]
    }
   ],
   "source": [
    "import subprocess\n",
    "\n",
    "p = subprocess.Popen([\"ls\"], stdout=subprocess.PIPE)\n",
    "print(p.stdout.read().decode())"
   ]
  },
  {
   "cell_type": "code",
   "execution_count": 28,
   "id": "informal-grant",
   "metadata": {},
   "outputs": [
    {
     "name": "stdout",
     "output_type": "stream",
     "text": [
      "Note Keeper\n",
      "course-python\n",
      "lesson_modules\n",
      "note-keeper\n",
      "note-keeper-web-python\n",
      "test\n",
      "\n"
     ]
    }
   ],
   "source": [
    "print(subprocess.check_output([\"ls\"]).decode())"
   ]
  },
  {
   "cell_type": "code",
   "execution_count": 31,
   "id": "supported-swiss",
   "metadata": {},
   "outputs": [
    {
     "name": "stderr",
     "output_type": "stream",
     "text": [
      "ls: 22: No such file or directory\n"
     ]
    },
    {
     "data": {
      "text/plain": [
       "1"
      ]
     },
     "execution_count": 31,
     "metadata": {},
     "output_type": "execute_result"
    }
   ],
   "source": [
    "subprocess.call([\"ls\", \"22\"])"
   ]
  },
  {
   "cell_type": "markdown",
   "id": "collaborative-vegetarian",
   "metadata": {},
   "source": [
    "## Модуль re"
   ]
  },
  {
   "cell_type": "markdown",
   "id": "southwest-knitting",
   "metadata": {},
   "source": [
    "- Регулярные выражения в Python: https://tproger.ru/translations/regular-expression-python/\n",
    "- Документация: https://docs.python.org/3/library/re.html"
   ]
  },
  {
   "cell_type": "code",
   "execution_count": 6,
   "id": "connected-inspection",
   "metadata": {},
   "outputs": [
    {
     "name": "stdout",
     "output_type": "stream",
     "text": [
      "['21', '32', '28']\n"
     ]
    }
   ],
   "source": [
    "import re\n",
    "\n",
    "text = \"I'm 21. He's 32. She's 28.\"\n",
    "pattern = r\"\\d+\"\n",
    "\n",
    "print(re.findall(pattern, text))"
   ]
  },
  {
   "cell_type": "code",
   "execution_count": 7,
   "id": "chicken-straight",
   "metadata": {},
   "outputs": [
    {
     "name": "stdout",
     "output_type": "stream",
     "text": [
      "Как же много запятых\n"
     ]
    }
   ],
   "source": [
    "text = \"Как, же, много,,, запятых\"\n",
    "pattern = r\",\"\n",
    "\n",
    "print(re.sub(pattern, \"\", text))"
   ]
  },
  {
   "cell_type": "code",
   "execution_count": 8,
   "id": "amateur-packet",
   "metadata": {},
   "outputs": [
    {
     "name": "stdout",
     "output_type": "stream",
     "text": [
      "Hello,\n"
     ]
    }
   ],
   "source": [
    "text = \"Hello, my friend.\\nGoodbye.\"\n",
    "pattern = r\"H[^,]*,\"\n",
    "\n",
    "print(re.match(pattern, text).group(0))"
   ]
  },
  {
   "cell_type": "code",
   "execution_count": 9,
   "id": "black-windows",
   "metadata": {},
   "outputs": [
    {
     "name": "stdout",
     "output_type": "stream",
     "text": [
      "None\n"
     ]
    }
   ],
   "source": [
    "pattern = r\"my\"\n",
    "\n",
    "print(re.match(pattern, text))"
   ]
  },
  {
   "cell_type": "code",
   "execution_count": 10,
   "id": "apart-family",
   "metadata": {},
   "outputs": [
    {
     "name": "stdout",
     "output_type": "stream",
     "text": [
      "<re.Match object; span=(7, 9), match='my'>\n"
     ]
    }
   ],
   "source": [
    "print(re.search(pattern, text))"
   ]
  },
  {
   "cell_type": "code",
   "execution_count": 11,
   "id": "d1dd913b",
   "metadata": {},
   "outputs": [
    {
     "data": {
      "text/plain": [
       "['1', '2', '3']"
      ]
     },
     "execution_count": 11,
     "metadata": {},
     "output_type": "execute_result"
    }
   ],
   "source": [
    "a = \"1k9k2k9k3\"\n",
    "a.split()"
   ]
  },
  {
   "cell_type": "code",
   "execution_count": 37,
   "id": "photographic-grain",
   "metadata": {},
   "outputs": [
    {
     "name": "stdout",
     "output_type": "stream",
     "text": [
      "['hello', 'my', 'friend']\n"
     ]
    }
   ],
   "source": [
    "text = \"hello,my.friend\"\n",
    "print(re.split(r\",|\\.\", text))"
   ]
  },
  {
   "cell_type": "code",
   "execution_count": 14,
   "id": "surprised-burke",
   "metadata": {},
   "outputs": [
    {
     "name": "stdout",
     "output_type": "stream",
     "text": [
      "['boris@gmail.com', 'another@yandex.ru']\n"
     ]
    }
   ],
   "source": [
    "text = \"My email is boris@gmail.com. His email is another@yandex.ru.\"\n",
    "\n",
    "print(re.findall(r\"\\w+@\\w+\\.\\w+\", text))"
   ]
  },
  {
   "cell_type": "markdown",
   "id": "mexican-harvard",
   "metadata": {},
   "source": [
    "## Модуль logging"
   ]
  },
  {
   "cell_type": "markdown",
   "id": "valid-ranking",
   "metadata": {},
   "source": [
    "- Документация: https://docs.python.org/3/library/logging.html"
   ]
  },
  {
   "cell_type": "markdown",
   "id": "comparative-window",
   "metadata": {},
   "source": [
    "Уровни:\n",
    "- CRITICAL\n",
    "- ERROR\n",
    "- WARNING\n",
    "- INFO\n",
    "- DEBUG"
   ]
  },
  {
   "cell_type": "code",
   "execution_count": 1,
   "id": "alternative-ukraine",
   "metadata": {},
   "outputs": [
    {
     "name": "stdout",
     "output_type": "stream",
     "text": [
      "DEBUG:root:Debug message\n",
      "INFO:root:Info message\n",
      "CRITICAL:root:Critical message\n"
     ]
    }
   ],
   "source": [
    "import logging\n",
    "import sys\n",
    "\n",
    "logging.basicConfig(stream=sys.stdout,\n",
    "                    level=logging.DEBUG)\n",
    "\n",
    "def func():\n",
    "    logging.debug(\"Debug message\")\n",
    "    logging.info(\"Info message\")\n",
    "    logging.critical(\"Critical message\")\n",
    "\n",
    "\n",
    "func()"
   ]
  },
  {
   "cell_type": "markdown",
   "id": "incident-genre",
   "metadata": {},
   "source": [
    "## Модуль random"
   ]
  },
  {
   "cell_type": "markdown",
   "id": "differential-advisory",
   "metadata": {},
   "source": [
    "- Документация: https://docs.python.org/3/library/random.html"
   ]
  },
  {
   "cell_type": "code",
   "execution_count": 21,
   "id": "foster-configuration",
   "metadata": {},
   "outputs": [
    {
     "name": "stdout",
     "output_type": "stream",
     "text": [
      "1\n"
     ]
    }
   ],
   "source": [
    "import random\n",
    "\n",
    "print(random.randint(1, 10))"
   ]
  },
  {
   "cell_type": "code",
   "execution_count": 9,
   "id": "significant-relaxation",
   "metadata": {},
   "outputs": [
    {
     "name": "stdout",
     "output_type": "stream",
     "text": [
      "0.7951288487305497\n"
     ]
    }
   ],
   "source": [
    "print(random.random())"
   ]
  },
  {
   "cell_type": "code",
   "execution_count": 15,
   "id": "appreciated-criticism",
   "metadata": {
    "scrolled": true
   },
   "outputs": [
    {
     "name": "stdout",
     "output_type": "stream",
     "text": [
      "Yes\n"
     ]
    }
   ],
   "source": [
    "print(random.choice([\"Yes\", \"No\"]))"
   ]
  },
  {
   "cell_type": "code",
   "execution_count": 27,
   "id": "serial-netscape",
   "metadata": {},
   "outputs": [
    {
     "name": "stdout",
     "output_type": "stream",
     "text": [
      "1\n"
     ]
    }
   ],
   "source": [
    "random.seed(3)\n",
    "\n",
    "print(random.randint(0, 4))"
   ]
  },
  {
   "cell_type": "code",
   "execution_count": 36,
   "id": "minute-jewel",
   "metadata": {},
   "outputs": [
    {
     "name": "stdout",
     "output_type": "stream",
     "text": [
      "4\n"
     ]
    }
   ],
   "source": [
    "random.seed(None)\n",
    "\n",
    "print(random.randint(0, 4))"
   ]
  },
  {
   "cell_type": "markdown",
   "id": "alive-plasma",
   "metadata": {},
   "source": [
    "## Модуль math"
   ]
  },
  {
   "cell_type": "markdown",
   "id": "everyday-japanese",
   "metadata": {},
   "source": [
    "- Документация: https://docs.python.org/3/library/math.html"
   ]
  },
  {
   "cell_type": "code",
   "execution_count": 76,
   "id": "destroyed-ballot",
   "metadata": {},
   "outputs": [
    {
     "name": "stdout",
     "output_type": "stream",
     "text": [
      "3.141592653589793\n"
     ]
    }
   ],
   "source": [
    "import math\n",
    "\n",
    "print(math.pi)"
   ]
  },
  {
   "cell_type": "code",
   "execution_count": 80,
   "id": "monetary-potential",
   "metadata": {},
   "outputs": [
    {
     "name": "stdout",
     "output_type": "stream",
     "text": [
      "1.0\n"
     ]
    }
   ],
   "source": [
    "print(math.sin(math.pi / 2))"
   ]
  },
  {
   "cell_type": "code",
   "execution_count": 81,
   "id": "wicked-edwards",
   "metadata": {},
   "outputs": [
    {
     "name": "stdout",
     "output_type": "stream",
     "text": [
      "180.0\n"
     ]
    }
   ],
   "source": [
    "print(math.degrees(math.pi))"
   ]
  },
  {
   "cell_type": "code",
   "execution_count": 82,
   "id": "genetic-victorian",
   "metadata": {},
   "outputs": [
    {
     "name": "stdout",
     "output_type": "stream",
     "text": [
      "1.5707963267948966\n"
     ]
    }
   ],
   "source": [
    "print(math.radians(90))"
   ]
  },
  {
   "cell_type": "code",
   "execution_count": 83,
   "id": "insured-annual",
   "metadata": {},
   "outputs": [
    {
     "name": "stdout",
     "output_type": "stream",
     "text": [
      "3.0\n"
     ]
    }
   ],
   "source": [
    "print(math.sqrt(9))"
   ]
  },
  {
   "cell_type": "code",
   "execution_count": 85,
   "id": "prescribed-edward",
   "metadata": {},
   "outputs": [
    {
     "name": "stdout",
     "output_type": "stream",
     "text": [
      "9.0\n"
     ]
    }
   ],
   "source": [
    "print(math.pow(3, 2))"
   ]
  },
  {
   "cell_type": "markdown",
   "id": "joined-belarus",
   "metadata": {},
   "source": [
    "## Модуль functools"
   ]
  },
  {
   "cell_type": "markdown",
   "id": "dirty-forwarding",
   "metadata": {},
   "source": [
    "- Документация: https://docs.python.org/3/library/functools.html"
   ]
  },
  {
   "cell_type": "code",
   "execution_count": 1,
   "id": "utility-peace",
   "metadata": {},
   "outputs": [
    {
     "name": "stdout",
     "output_type": "stream",
     "text": [
      "4\n"
     ]
    }
   ],
   "source": [
    "import functools\n",
    "\n",
    "def func(a, b):\n",
    "    return a + b\n",
    "\n",
    "ffunc = functools.partial(func, b=2)\n",
    "print(ffunc(2))"
   ]
  },
  {
   "cell_type": "code",
   "execution_count": 41,
   "id": "demanding-immunology",
   "metadata": {},
   "outputs": [
    {
     "name": "stdout",
     "output_type": "stream",
     "text": [
      "6\n"
     ]
    }
   ],
   "source": [
    "print(functools.reduce(lambda x, y: x + y, [1, 2, 3], 0))"
   ]
  },
  {
   "cell_type": "markdown",
   "id": "creative-seller",
   "metadata": {},
   "source": [
    "## Модуль itertools"
   ]
  },
  {
   "cell_type": "markdown",
   "id": "productive-glasgow",
   "metadata": {},
   "source": [
    "- Документация: https://docs.python.org/3/library/itertools.html"
   ]
  },
  {
   "cell_type": "code",
   "execution_count": 43,
   "id": "noticed-possible",
   "metadata": {},
   "outputs": [
    {
     "name": "stdout",
     "output_type": "stream",
     "text": [
      "[(1, 2), (1, 3), (2, 2), (2, 3)]\n"
     ]
    }
   ],
   "source": [
    "import itertools\n",
    "\n",
    "prod = list(itertools.product([1, 2], [2, 3]))\n",
    "print(prod)"
   ]
  },
  {
   "cell_type": "code",
   "execution_count": 44,
   "id": "minus-january",
   "metadata": {},
   "outputs": [
    {
     "name": "stdout",
     "output_type": "stream",
     "text": [
      "[(1, 2, 3), (1, 2, 4), (1, 3, 4), (2, 3, 4)]\n"
     ]
    }
   ],
   "source": [
    "combinations = list(itertools.combinations([1, 2, 3, 4], 3))\n",
    "print(combinations)"
   ]
  },
  {
   "cell_type": "code",
   "execution_count": 45,
   "id": "nervous-ordering",
   "metadata": {},
   "outputs": [
    {
     "name": "stdout",
     "output_type": "stream",
     "text": [
      "[(1, 2), (1, 3), (2, 1), (2, 3), (3, 1), (3, 2)]\n"
     ]
    }
   ],
   "source": [
    "permutations = list(itertools.permutations([1, 2, 3], 2))\n",
    "print(permutations)"
   ]
  },
  {
   "cell_type": "markdown",
   "id": "moderate-pride",
   "metadata": {},
   "source": [
    "## Модуль pathlib"
   ]
  },
  {
   "cell_type": "markdown",
   "id": "african-aside",
   "metadata": {},
   "source": [
    "- Документация: https://docs.python.org/3/library/pathlib.html"
   ]
  },
  {
   "cell_type": "code",
   "execution_count": 46,
   "id": "invisible-andrews",
   "metadata": {},
   "outputs": [
    {
     "name": "stdout",
     "output_type": "stream",
     "text": [
      "/Users/donsangre/PycharmProjects/course-python/lectures/Lection_4_Modules\n"
     ]
    }
   ],
   "source": [
    "import pathlib\n",
    "\n",
    "p = pathlib.Path(\".\")\n",
    "print(p.resolve())"
   ]
  },
  {
   "cell_type": "code",
   "execution_count": 47,
   "id": "plastic-monaco",
   "metadata": {},
   "outputs": [
    {
     "name": "stdout",
     "output_type": "stream",
     "text": [
      "/Users/donsangre/PycharmProjects/course-python/lectures\n"
     ]
    }
   ],
   "source": [
    "new_path = p / \"..\"\n",
    "print(new_path.resolve())"
   ]
  },
  {
   "cell_type": "code",
   "execution_count": 95,
   "id": "gross-joseph",
   "metadata": {},
   "outputs": [
    {
     "name": "stdout",
     "output_type": "stream",
     "text": [
      "True\n"
     ]
    }
   ],
   "source": [
    "print(new_path.is_dir())"
   ]
  },
  {
   "cell_type": "code",
   "execution_count": 48,
   "id": "blind-culture",
   "metadata": {},
   "outputs": [
    {
     "name": "stdout",
     "output_type": "stream",
     "text": [
      "file_1.2022-03-04_22-27-32_892795.log.zip\n",
      "Untitled-1 copy.ipynb\n",
      "filename.xml\n",
      "file_2.2021-09-05_13-23-40_000000.log\n",
      "freq_word.json\n",
      ".DS_Store\n",
      "file_1.2021-09-05_13-06-40_378104.log.zip\n",
      "test\n",
      "file_1.2022-03-04_22-27-32_891682.log.zip\n",
      "Untitled-1.ipynb\n",
      "file_1.2022-03-04_22-24-23_179090.log.zip\n",
      "example3.txt\n",
      "file_1.2022-03-04_22-24-31_156119.log.zip\n",
      "input.json\n",
      "Modules.ipynb\n",
      "file_1.2022-03-04_22-27-32_894099.log.zip\n",
      "file_1.2021-09-05_13-23-38_534439.log.zip\n",
      "11-0.txt\n",
      "example.json\n",
      "input2.json\n",
      "file_1.2021-09-05_13-06-10_568016.log.zip\n",
      "file_1.2022-03-04_22-24-31_159785.log.zip\n",
      "file_1.2021-09-05_12-56-58_542907.log\n",
      "another_image.png\n",
      "input.txt\n",
      "file_1.2022-03-04_22-24-31_157323.log.zip\n",
      "output.xml\n",
      "file_1.log\n",
      "file_1.2022-03-04_22-24-31_154947.log.zip\n",
      "file_1.2022-03-04_22-27-32_895345.log.zip\n",
      "file_2.log\n",
      ".ipynb_checkpoints\n",
      "archive.zip\n",
      "example.pkl\n",
      "arhive\n",
      "encoded_text.txt\n",
      "file_1.2022-03-04_22-24-31_158593.log.zip\n",
      "Example.jpg\n",
      "example.xml\n"
     ]
    }
   ],
   "source": [
    "for path in p.iterdir():\n",
    "    print(path.name)"
   ]
  },
  {
   "cell_type": "code",
   "execution_count": 49,
   "id": "fatal-mistake",
   "metadata": {},
   "outputs": [],
   "source": [
    "file = p / \"example.xml\"\n",
    "file.unlink()"
   ]
  },
  {
   "cell_type": "code",
   "execution_count": 50,
   "id": "embedded-irrigation",
   "metadata": {},
   "outputs": [
    {
     "name": "stdout",
     "output_type": "stream",
     "text": [
      "file_1.2022-03-04_22-27-32_892795.log.zip\n",
      "Untitled-1 copy.ipynb\n",
      "filename.xml\n",
      "file_2.2021-09-05_13-23-40_000000.log\n",
      "freq_word.json\n",
      ".DS_Store\n",
      "file_1.2021-09-05_13-06-40_378104.log.zip\n",
      "test\n",
      "file_1.2022-03-04_22-27-32_891682.log.zip\n",
      "Untitled-1.ipynb\n",
      "file_1.2022-03-04_22-24-23_179090.log.zip\n",
      "example3.txt\n",
      "file_1.2022-03-04_22-24-31_156119.log.zip\n",
      "input.json\n",
      "Modules.ipynb\n",
      "file_1.2022-03-04_22-27-32_894099.log.zip\n",
      "file_1.2021-09-05_13-23-38_534439.log.zip\n",
      "11-0.txt\n",
      "example.json\n",
      "input2.json\n",
      "file_1.2021-09-05_13-06-10_568016.log.zip\n",
      "file_1.2022-03-04_22-24-31_159785.log.zip\n",
      "file_1.2021-09-05_12-56-58_542907.log\n",
      "another_image.png\n",
      "input.txt\n",
      "file_1.2022-03-04_22-24-31_157323.log.zip\n",
      "output.xml\n",
      "file_1.log\n",
      "file_1.2022-03-04_22-24-31_154947.log.zip\n",
      "file_1.2022-03-04_22-27-32_895345.log.zip\n",
      "file_2.log\n",
      ".ipynb_checkpoints\n",
      "archive.zip\n",
      "example.pkl\n",
      "arhive\n",
      "encoded_text.txt\n",
      "file_1.2022-03-04_22-24-31_158593.log.zip\n",
      "Example.jpg\n"
     ]
    }
   ],
   "source": [
    "for path in p.iterdir():\n",
    "    print(path.name)"
   ]
  },
  {
   "cell_type": "code",
   "execution_count": null,
   "id": "e9790ce5",
   "metadata": {},
   "outputs": [],
   "source": [
    "/folder1/folder2/temp_dir"
   ]
  },
  {
   "cell_type": "code",
   "execution_count": 51,
   "id": "italic-volleyball",
   "metadata": {},
   "outputs": [],
   "source": [
    "dir_path = p / \"temp_dir\"\n",
    "dir_path.mkdir(exist_ok=True)"
   ]
  },
  {
   "cell_type": "code",
   "execution_count": 52,
   "id": "spare-davis",
   "metadata": {},
   "outputs": [
    {
     "name": "stdout",
     "output_type": "stream",
     "text": [
      "file_1.2022-03-04_22-27-32_892795.log.zip\n",
      "Untitled-1 copy.ipynb\n",
      "filename.xml\n",
      "file_2.2021-09-05_13-23-40_000000.log\n",
      "freq_word.json\n",
      ".DS_Store\n",
      "file_1.2021-09-05_13-06-40_378104.log.zip\n",
      "test\n",
      "file_1.2022-03-04_22-27-32_891682.log.zip\n",
      "Untitled-1.ipynb\n",
      "file_1.2022-03-04_22-24-23_179090.log.zip\n",
      "example3.txt\n",
      "file_1.2022-03-04_22-24-31_156119.log.zip\n",
      "input.json\n",
      "Modules.ipynb\n",
      "file_1.2022-03-04_22-27-32_894099.log.zip\n",
      "file_1.2021-09-05_13-23-38_534439.log.zip\n",
      "11-0.txt\n",
      "example.json\n",
      "input2.json\n",
      "file_1.2021-09-05_13-06-10_568016.log.zip\n",
      "file_1.2022-03-04_22-24-31_159785.log.zip\n",
      "file_1.2021-09-05_12-56-58_542907.log\n",
      "another_image.png\n",
      "input.txt\n",
      "file_1.2022-03-04_22-24-31_157323.log.zip\n",
      "output.xml\n",
      "file_1.log\n",
      "file_1.2022-03-04_22-24-31_154947.log.zip\n",
      "file_1.2022-03-04_22-27-32_895345.log.zip\n",
      "file_2.log\n",
      ".ipynb_checkpoints\n",
      "archive.zip\n",
      "example.pkl\n",
      "temp_dir\n",
      "arhive\n",
      "encoded_text.txt\n",
      "file_1.2022-03-04_22-24-31_158593.log.zip\n",
      "Example.jpg\n"
     ]
    }
   ],
   "source": [
    "for path in p.iterdir():\n",
    "    print(path.name)"
   ]
  },
  {
   "cell_type": "code",
   "execution_count": 236,
   "id": "defensive-colleague",
   "metadata": {},
   "outputs": [],
   "source": [
    "dir_path = p / \"temp_dir\"\n",
    "dir_path.rmdir()"
   ]
  },
  {
   "cell_type": "code",
   "execution_count": 238,
   "id": "unnecessary-practitioner",
   "metadata": {},
   "outputs": [
    {
     "name": "stdout",
     "output_type": "stream",
     "text": [
      ".DS_Store\n",
      "file_1.2021-09-05_13-06-40_378104.log.zip\n",
      "input.json\n",
      "Modules.ipynb\n",
      "file_1.2021-09-05_13-23-38_534439.log.zip\n",
      "file_1.2021-09-05_13-06-10_568016.log.zip\n",
      "file_1.2021-09-05_12-56-58_542907.log\n",
      "another_image.png\n",
      "example.txt\n",
      "file_2.log\n",
      ".ipynb_checkpoints\n",
      "archive.zip\n",
      "example.pkl\n",
      "arhive\n",
      "Example.jpg\n",
      "example.xml\n"
     ]
    }
   ],
   "source": [
    "for path in p.iterdir():\n",
    "    print(path.name)"
   ]
  },
  {
   "cell_type": "markdown",
   "id": "dressed-citizenship",
   "metadata": {},
   "source": [
    "## Модуль shutil"
   ]
  },
  {
   "cell_type": "markdown",
   "id": "graduate-flash",
   "metadata": {},
   "source": [
    "- Документация: https://docs.python.org/3/library/shutil.html"
   ]
  },
  {
   "cell_type": "code",
   "execution_count": 53,
   "id": "typical-language",
   "metadata": {},
   "outputs": [
    {
     "name": "stdout",
     "output_type": "stream",
     "text": [
      "11-0.txt\n",
      "Example.jpg\n",
      "Modules.ipynb\n",
      "Untitled-1 copy.ipynb\n",
      "Untitled-1.ipynb\n",
      "another_image.png\n",
      "archive.zip\n",
      "\u001b[1m\u001b[36marhive\u001b[m\u001b[m\n",
      "encoded_text.txt\n",
      "example.json\n",
      "example.pkl\n",
      "example.txt\n",
      "example3.txt\n",
      "file_1.2021-09-05_12-56-58_542907.log\n",
      "file_1.2021-09-05_13-06-10_568016.log.zip\n",
      "file_1.2021-09-05_13-06-40_378104.log.zip\n",
      "file_1.2021-09-05_13-23-38_534439.log.zip\n",
      "file_1.2022-03-04_22-24-23_179090.log.zip\n",
      "file_1.2022-03-04_22-24-31_154947.log.zip\n",
      "file_1.2022-03-04_22-24-31_156119.log.zip\n",
      "file_1.2022-03-04_22-24-31_157323.log.zip\n",
      "file_1.2022-03-04_22-24-31_158593.log.zip\n",
      "file_1.2022-03-04_22-24-31_159785.log.zip\n",
      "file_1.2022-03-04_22-27-32_891682.log.zip\n",
      "file_1.2022-03-04_22-27-32_892795.log.zip\n",
      "file_1.2022-03-04_22-27-32_894099.log.zip\n",
      "file_1.2022-03-04_22-27-32_895345.log.zip\n",
      "file_1.log\n",
      "file_2.2021-09-05_13-23-40_000000.log\n",
      "file_2.log\n",
      "filename.xml\n",
      "freq_word.json\n",
      "input.json\n",
      "input.txt\n",
      "input2.json\n",
      "output.xml\n",
      "\u001b[1m\u001b[36mshutil_example\u001b[m\u001b[m\n",
      "\u001b[1m\u001b[36mtemp_dir\u001b[m\u001b[m\n",
      "\u001b[1m\u001b[36mtest\u001b[m\u001b[m\n"
     ]
    }
   ],
   "source": [
    "!echo \"123\" > example.txt\n",
    "!mkdir shutil_example\n",
    "!ls"
   ]
  },
  {
   "cell_type": "code",
   "execution_count": 54,
   "id": "optical-columbia",
   "metadata": {},
   "outputs": [
    {
     "data": {
      "text/plain": [
       "'shutil_example/example.txt'"
      ]
     },
     "execution_count": 54,
     "metadata": {},
     "output_type": "execute_result"
    }
   ],
   "source": [
    "import shutil\n",
    "\n",
    "shutil.move(\"example.txt\", \"shutil_example/\")"
   ]
  },
  {
   "cell_type": "code",
   "execution_count": 99,
   "id": "standing-implementation",
   "metadata": {},
   "outputs": [
    {
     "name": "stdout",
     "output_type": "stream",
     "text": [
      "example.txt\n"
     ]
    }
   ],
   "source": [
    "!ls shutil_example/"
   ]
  },
  {
   "cell_type": "code",
   "execution_count": 55,
   "id": "patient-romania",
   "metadata": {},
   "outputs": [
    {
     "data": {
      "text/plain": [
       "'shutil_example/copy.txt'"
      ]
     },
     "execution_count": 55,
     "metadata": {},
     "output_type": "execute_result"
    }
   ],
   "source": [
    "shutil.copy(\"shutil_example/example.txt\", \"shutil_example/copy.txt\")"
   ]
  },
  {
   "cell_type": "code",
   "execution_count": 56,
   "id": "academic-marsh",
   "metadata": {},
   "outputs": [
    {
     "name": "stdout",
     "output_type": "stream",
     "text": [
      "copy.txt    example.txt\n"
     ]
    }
   ],
   "source": [
    "!ls shutil_example/"
   ]
  },
  {
   "cell_type": "code",
   "execution_count": 57,
   "id": "rough-holiday",
   "metadata": {},
   "outputs": [],
   "source": [
    "shutil.rmtree(\"shutil_example/\")"
   ]
  },
  {
   "cell_type": "code",
   "execution_count": 58,
   "id": "japanese-herald",
   "metadata": {},
   "outputs": [
    {
     "name": "stdout",
     "output_type": "stream",
     "text": [
      "11-0.txt\n",
      "Example.jpg\n",
      "Modules.ipynb\n",
      "Untitled-1 copy.ipynb\n",
      "Untitled-1.ipynb\n",
      "another_image.png\n",
      "archive.zip\n",
      "\u001b[1m\u001b[36marhive\u001b[m\u001b[m\n",
      "encoded_text.txt\n",
      "example.json\n",
      "example.pkl\n",
      "example3.txt\n",
      "file_1.2021-09-05_12-56-58_542907.log\n",
      "file_1.2021-09-05_13-06-10_568016.log.zip\n",
      "file_1.2021-09-05_13-06-40_378104.log.zip\n",
      "file_1.2021-09-05_13-23-38_534439.log.zip\n",
      "file_1.2022-03-04_22-24-23_179090.log.zip\n",
      "file_1.2022-03-04_22-24-31_154947.log.zip\n",
      "file_1.2022-03-04_22-24-31_156119.log.zip\n",
      "file_1.2022-03-04_22-24-31_157323.log.zip\n",
      "file_1.2022-03-04_22-24-31_158593.log.zip\n",
      "file_1.2022-03-04_22-24-31_159785.log.zip\n",
      "file_1.2022-03-04_22-27-32_891682.log.zip\n",
      "file_1.2022-03-04_22-27-32_892795.log.zip\n",
      "file_1.2022-03-04_22-27-32_894099.log.zip\n",
      "file_1.2022-03-04_22-27-32_895345.log.zip\n",
      "file_1.log\n",
      "file_2.2021-09-05_13-23-40_000000.log\n",
      "file_2.log\n",
      "filename.xml\n",
      "freq_word.json\n",
      "input.json\n",
      "input.txt\n",
      "input2.json\n",
      "output.xml\n",
      "\u001b[1m\u001b[36mtemp_dir\u001b[m\u001b[m\n",
      "\u001b[1m\u001b[36mtest\u001b[m\u001b[m\n"
     ]
    }
   ],
   "source": [
    "!ls"
   ]
  },
  {
   "cell_type": "markdown",
   "id": "productive-nitrogen",
   "metadata": {},
   "source": [
    "## Модуль zipfile"
   ]
  },
  {
   "cell_type": "markdown",
   "id": "intense-conservation",
   "metadata": {},
   "source": [
    "- Документация: https://docs.python.org/3/library/zipfile.html"
   ]
  },
  {
   "cell_type": "code",
   "execution_count": 59,
   "id": "entire-wesley",
   "metadata": {},
   "outputs": [
    {
     "name": "stdout",
     "output_type": "stream",
     "text": [
      "['file_1.2022-03-04_22-27-32_892795.log.zip', 'Untitled-1 copy.ipynb', 'filename.xml', 'file_2.2021-09-05_13-23-40_000000.log', 'freq_word.json', '.DS_Store', 'file_1.2021-09-05_13-06-40_378104.log.zip', 'test', 'file_1.2022-03-04_22-27-32_891682.log.zip', 'Untitled-1.ipynb', 'file_1.2022-03-04_22-24-23_179090.log.zip', 'example3.txt', 'file_1.2022-03-04_22-24-31_156119.log.zip', 'input.json', 'Modules.ipynb', 'file_1.2022-03-04_22-27-32_894099.log.zip', 'file_1.2021-09-05_13-23-38_534439.log.zip', '11-0.txt', 'example.json', 'input2.json', 'file_1.2021-09-05_13-06-10_568016.log.zip', 'file_1.2022-03-04_22-24-31_159785.log.zip', 'file_1.2021-09-05_12-56-58_542907.log', 'another_image.png', 'input.txt', 'file_1.2022-03-04_22-24-31_157323.log.zip', 'output.xml', 'file_1.log', 'file_1.2022-03-04_22-24-31_154947.log.zip', 'file_1.2022-03-04_22-27-32_895345.log.zip', 'file_2.log', '.ipynb_checkpoints', 'archive.zip', 'example.pkl', 'temp_dir', 'arhive', 'encoded_text.txt', 'file_1.2022-03-04_22-24-31_158593.log.zip', 'Example.jpg']\n"
     ]
    }
   ],
   "source": [
    "import os\n",
    "\n",
    "print(os.listdir())"
   ]
  },
  {
   "cell_type": "code",
   "execution_count": 60,
   "id": "sealed-williams",
   "metadata": {},
   "outputs": [],
   "source": [
    "import zipfile\n",
    "\n",
    "zipFile = zipfile.ZipFile('archive.zip', 'w', zipfile.ZIP_DEFLATED)\n",
    "zipFile.write(\"Modules.ipynb\")\n",
    "zipFile.close()"
   ]
  },
  {
   "cell_type": "code",
   "execution_count": 61,
   "id": "toxic-draft",
   "metadata": {},
   "outputs": [
    {
     "name": "stdout",
     "output_type": "stream",
     "text": [
      "['file_1.2022-03-04_22-27-32_892795.log.zip', 'Untitled-1 copy.ipynb', 'filename.xml', 'file_2.2021-09-05_13-23-40_000000.log', 'freq_word.json', '.DS_Store', 'file_1.2021-09-05_13-06-40_378104.log.zip', 'test', 'file_1.2022-03-04_22-27-32_891682.log.zip', 'Untitled-1.ipynb', 'file_1.2022-03-04_22-24-23_179090.log.zip', 'example3.txt', 'file_1.2022-03-04_22-24-31_156119.log.zip', 'input.json', 'Modules.ipynb', 'file_1.2022-03-04_22-27-32_894099.log.zip', 'file_1.2021-09-05_13-23-38_534439.log.zip', '11-0.txt', 'example.json', 'input2.json', 'file_1.2021-09-05_13-06-10_568016.log.zip', 'file_1.2022-03-04_22-24-31_159785.log.zip', 'file_1.2021-09-05_12-56-58_542907.log', 'another_image.png', 'input.txt', 'file_1.2022-03-04_22-24-31_157323.log.zip', 'output.xml', 'file_1.log', 'file_1.2022-03-04_22-24-31_154947.log.zip', 'file_1.2022-03-04_22-27-32_895345.log.zip', 'file_2.log', '.ipynb_checkpoints', 'archive.zip', 'example.pkl', 'temp_dir', 'arhive', 'encoded_text.txt', 'file_1.2022-03-04_22-24-31_158593.log.zip', 'Example.jpg']\n"
     ]
    }
   ],
   "source": [
    "print(os.listdir())"
   ]
  },
  {
   "cell_type": "code",
   "execution_count": 153,
   "id": "portuguese-employment",
   "metadata": {},
   "outputs": [],
   "source": [
    "zipFile = zipfile.ZipFile('archive.zip', 'r')\n",
    "zipFile.extractall(\"arhive\")\n",
    "zipFile.close()"
   ]
  },
  {
   "cell_type": "code",
   "execution_count": 107,
   "id": "distributed-ceremony",
   "metadata": {},
   "outputs": [
    {
     "name": "stdout",
     "output_type": "stream",
     "text": [
      "['freq_word.json', 'file_1.2021-09-05_13-06-40_378104.log.zip', 'test', 'Untitled-1.ipynb', 'example3.txt', 'input.json', 'Modules.ipynb', 'file_1.2021-09-05_13-23-38_534439.log.zip', '11-0.txt', 'example.json', 'file_1.2021-09-05_13-06-10_568016.log.zip', 'file_1.2021-09-05_12-56-58_542907.log', 'another_image.png', 'input.txt', 'file_2.log', '.ipynb_checkpoints', 'archive.zip', 'example.pkl', 'arhive', 'encoded_text.txt', 'Example.jpg', 'example.xml']\n"
     ]
    }
   ],
   "source": [
    "print(os.listdir())"
   ]
  },
  {
   "cell_type": "code",
   "execution_count": 108,
   "id": "economic-recall",
   "metadata": {},
   "outputs": [
    {
     "name": "stdout",
     "output_type": "stream",
     "text": [
      "['Modules.ipynb']\n"
     ]
    }
   ],
   "source": [
    "print(os.listdir(\"arhive/\"))"
   ]
  },
  {
   "cell_type": "markdown",
   "id": "hearing-influence",
   "metadata": {},
   "source": [
    "# Сторонние библиотеки"
   ]
  },
  {
   "cell_type": "markdown",
   "id": "strong-application",
   "metadata": {},
   "source": [
    "## requests"
   ]
  },
  {
   "cell_type": "markdown",
   "id": "dimensional-methodology",
   "metadata": {},
   "source": [
    "- Документация: https://docs.python-requests.org/en/master/"
   ]
  },
  {
   "cell_type": "code",
   "execution_count": 3,
   "id": "banner-synthetic",
   "metadata": {},
   "outputs": [
    {
     "name": "stdout",
     "output_type": "stream",
     "text": [
      "Status: 200\n",
      "Text: <!doctype html><html itemscope=\"\" itemtype=\"http://schema.org/WebPage\" lang=\"ru\"><head><meta content=\"&#1055;&#1086;&#1080;&#1089;&#1082; &#1080;&#1085;&#1092;&#1086;&#1088;&#1084;&#1072;&#1094;&#1080;&#1080; &#1074; &#1080;&#1085;&#1090;&#1077;&#1088;&#1085;&#1077;&#1090;&#1077;: &#1074;&#1077;&#1073; &#1089;&#1090;&#1088;&#1072;&#1085;&#1080;&#1094;&#1099;, &#1082;&#1072;&#1088;&#1090;&#1080;&#1085;&#1082;&#1080;, &#1074;&#1080;&#1076;&#1077;&#1086; &#1080; &#1084;&#1085;&#1086;&#1075;&#1086;&#1077; &#1076;&#1088;&#1091;&#1075;&#1086;&#1077;.\" name=\"description\"><meta content=\"noodp\" name=\"robots\"><meta content=\"text/html; charset=UTF-8\" http-equiv=\"Content-Type\"><meta content=\"/images/branding/googleg/1x/googleg_standard_color_128dp.png\" itemprop=\"image\"><title>Google</title><script nonce=\"cH9gRfFndnhVsxj3Z4H+Ig==\">(function(){window.google={kEI:'SqojYoetJI3-rgTEmZToCA',kEXPI:'0,1302536,56873,6058,207,4804,2316,383,246,5,1354,4013,1238,1122515,1197733,689,380069,16114,17444,1954,9286,17572,4859,1361,9291,3022,2821,1931,12834,4998,13228,3847,4192,6430,22741,5081,1593,1279,2742,149,1103,840,2197,4100,3514,606,2023,1777,520,14670,3227,2845,7,17450,16320,1851,2614,13142,3,346,230,6460,148,13975,4,1528,2304,7039,20309,4764,2658,7357,30,13628,13795,7428,5791,2566,4094,4052,3,3541,1,16807,38,10338,14971,2,14022,1931,4317,1272,744,5852,10463,1160,5679,1021,2377,2721,18234,27,2,6,7754,4569,6255,6726,14077,2618,830,422,5835,14968,1538,2794,4677,1412,1395,445,2,2,1,1509,4886,6104,4813,309,2856,969,2303,27,754,248,1407,10,1,436,288,759,7108,113,625,5,4894,945,798,1,187,2,1948,312,593,859,2692,3878,421,881,1041,847,269,750,1008,5542,791,14,351,1850,1071,117,2,6,1896,764,2,1,466,142,161,40,1153,1539,2325,69,97,288,593,2,322,896,393,124,1461,239,2,92,208,239,229,1153,218,85,656,634,6,1,420,329,971,941,188,250,1789,5466128,1873,2031,930,8795758,1323,882,444,3,1877,1,2562,1,889,795,2,561,1,4265,1,1,2,1331,4142,2609,155,17,13,72,139,4,2,20,2,169,13,19,46,5,39,96,548,29,2,2,1,2,1,2,2,7,4,1,2,2,2,2,2,2,353,513,186,1,1,158,3,2,2,2,2,2,4,2,3,3,269,1601,141,577,327,56,3,2,36,1,30,21,6,4,7,7,13,20731887,3220004,4041689,3,450,1964,1491,9,1435,159,1358,4726,3,923,32,3,1215,489,1799,97,1023,2404,3,33,924',kBL:'pI3-'};google.sn='webhp';google.kHL='ru';})();(function(){\n",
      "var f=this||self;var h,k=[];function l(a){for(var b;a&&(!a.getAttribute||!(b=a.getAttribute(\"eid\")));)a=a.parentNode;return b||h}function m(a){for(var b=null;a&&(!a.getAttribute||!(b=a.getAttribute(\"leid\")));)a=a.parentNode;return b}\n",
      "function n(a,b,c,d,g){var e=\"\";c||-1!==b.search(\"&ei=\")||(e=\"&ei=\"+l(d),-1===b.search(\"&lei=\")&&(d=m(d))&&(e+=\"&lei=\"+d));d=\"\";!c&&f._cshid&&-1===b.search(\"&cshid=\")&&\"slh\"!==a&&(d=\"&cshid=\"+f._cshid);c=c||\"/\"+(g||\"gen_204\")+\"?atyp=i&ct=\"+a+\"&cad=\"+b+e+\"&zx=\"+Date.now()+d;/^http:/i.test(c)&&\"https:\"===window.location.protocol&&(google.ml&&google.ml(Error(\"a\"),!1,{src:c,glmm:1}),c=\"\");return c};h=google.kEI;google.getEI=l;google.getLEI=m;google.ml=function(){return null};google.log=function(a,b,c,d,g){if(c=n(a,b,c,d,g)){a=new Image;var e=k.length;k[e]=a;a.onerror=a.onload=a.onabort=function(){delete k[e]};a.src=c}};google.logUrl=n;}).call(this);(function(){\n",
      "google.y={};google.sy=[];google.x=function(a,b){if(a)var c=a.id;else{do c=Math.random();while(google.y[c])}google.y[c]=[a,b];return!1};google.sx=function(a){google.sy.push(a)};google.lm=[];google.plm=function(a){google.lm.push.apply(google.lm,a)};google.lq=[];google.load=function(a,b,c){google.lq.push([[a],b,c])};google.loadAll=function(a,b){google.lq.push([a,b])};google.bx=!1;google.lx=function(){};}).call(this);google.f={};(function(){\n",
      "document.documentElement.addEventListener(\"submit\",function(b){var a;if(a=b.target){var c=a.getAttribute(\"data-submitfalse\");a=\"1\"===c||\"q\"===c&&!a.elements.q.value?!0:!1}else a=!1;a&&(b.preventDefault(),b.stopPropagation())},!0);document.documentElement.addEventListener(\"click\",function(b){var a;a:{for(a=b.target;a&&a!==document.documentElement;a=a.parentElement)if(\"A\"===a.tagName){a=\"1\"===a.getAttribute(\"data-nohref\");break a}a=!1}a&&b.preventDefault()},!0);}).call(this);</script><style>#gbar,#guser{font-size:13px;padding-top:1px !important;}#gbar{height:22px}#guser{padding-bottom:7px !important;text-align:right}.gbh,.gbd{border-top:1px solid #c9d7f1;font-size:1px}.gbh{height:0;position:absolute;top:24px;width:100%}@media all{.gb1{height:22px;margin-right:.5em;vertical-align:top}#gbar{float:left}}a.gb1,a.gb4{text-decoration:underline !important}a.gb1,a.gb4{color:#00c !important}.gbi .gb4{color:#dd8e27 !important}.gbf .gb4{color:#900 !important}\n",
      "</style><style>body,td,a,p,.h{font-family:arial,sans-serif}body{margin:0;overflow-y:scroll}#gog{padding:3px 8px 0}td{line-height:.8em}.gac_m td{line-height:17px}form{margin-bottom:20px}.h{color:#1558d6}em{font-weight:bold;font-style:normal}.lst{height:25px;width:496px}.gsfi,.lst{font:18px arial,sans-serif}.gsfs{font:17px arial,sans-serif}.ds{display:inline-box;display:inline-block;margin:3px 0 4px;margin-left:4px}input{font-family:inherit}body{background:#fff;color:#000}a{color:#4b11a8;text-decoration:none}a:hover,a:active{text-decoration:underline}.fl a{color:#1558d6}a:visited{color:#4b11a8}.sblc{padding-top:5px}.sblc a{display:block;margin:2px 0;margin-left:13px;font-size:11px}.lsbb{background:#f8f9fa;border:solid 1px;border-color:#dadce0 #70757a #70757a #dadce0;height:30px}.lsbb{display:block}#WqQANb a{display:inline-block;margin:0 12px}.lsb{background:url(/images/nav_logo229.png) 0 -261px repeat-x;border:none;color:#000;cursor:pointer;height:30px;margin:0;outline:0;font:15px arial,sans-serif;vertical-align:top}.lsb:active{background:#dadce0}.lst:focus{outline:none}.tiah{width:458px}</style><script nonce=\"cH9gRfFndnhVsxj3Z4H+Ig==\">(function(){window.google.erd={jsr:1,bv:1542,de:true};\n",
      "var f=this||self;var g,h,k=null!==(g=f.mei)&&void 0!==g?g:1,l=null!==(h=f.sdo)&&void 0!==h?h:!0,p=0,q,r=google.erd,u=r.jsr;google.ml=function(a,b,d,m,c){c=void 0===c?2:c;b&&(q=a&&a.message);if(google.dl)return google.dl(a,c,d),null;if(0>u){window.console&&console.error(a,d);if(-2===u)throw a;b=!1}else b=!a||!a.message||\"Error loading script\"===a.message||p>=k&&!m?!1:!0;if(!b)return null;p++;d=d||{};var e=c;c=encodeURIComponent;b=\"/gen_204?atyp=i&ei=\"+c(google.kEI);google.kEXPI&&(b+=\"&jexpid=\"+c(google.kEXPI));b+=\"&srcpg=\"+c(google.sn)+\"&jsr=\"+c(r.jsr)+\"&bver=\"+c(r.bv)+(\"&jsel=\"+e);e=a.lineNumber;void 0!==e&&(b+=\"&line=\"+\n",
      "e);var n=a.fileName;n&&(b+=\"&script=\"+c(n),e&&n===window.location.href&&(e=document.documentElement.outerHTML.split(\"\\n\")[e],b+=\"&cad=\"+c(e?e.substring(0,300):\"No script found.\")));for(var t in d)b+=\"&\",b+=c(t),b+=\"=\",b+=c(d[t]);b=b+\"&emsg=\"+c(a.name+\": \"+a.message);b=b+\"&jsst=\"+c(a.stack||\"N/A\");12288<=b.length&&(b=b.substr(0,12288));a=b;m||google.log(0,\"\",a);return a};window.onerror=function(a,b,d,m,c){q!==a&&(a=c instanceof Error?c:Error(a),void 0===d||\"lineNumber\"in a||(a.lineNumber=d),void 0===b||\"fileName\"in a||(a.fileName=b),google.ml(a,!1,void 0,!1,\"SyntaxError\"===a.name||\"SyntaxError\"===a.message.substring(0,11)?2:0));q=null;l&&p>=k&&(window.onerror=null)};})();</script></head><body bgcolor=\"#fff\"><script nonce=\"cH9gRfFndnhVsxj3Z4H+Ig==\">(function(){var src='/images/nav_logo229.png';var iesg=false;document.body.onload = function(){window.n && window.n();if (document.images){new Image().src=src;}\n",
      "if (!iesg){document.f&&document.f.q.focus();document.gbqf&&document.gbqf.q.focus();}\n",
      "}\n",
      "})();</script><div id=\"mngb\"><div id=gbar><nobr><b class=gb1>&#1055;&#1086;&#1080;&#1089;&#1082;</b> <a class=gb1 href=\"https://www.google.ru/imghp?hl=ru&tab=wi\">&#1050;&#1072;&#1088;&#1090;&#1080;&#1085;&#1082;&#1080;</a> <a class=gb1 href=\"https://maps.google.ru/maps?hl=ru&tab=wl\">&#1050;&#1072;&#1088;&#1090;&#1099;</a> <a class=gb1 href=\"https://play.google.com/?hl=ru&tab=w8\">Play</a> <a class=gb1 href=\"https://www.youtube.com/?gl=RU&tab=w1\">YouTube</a> <a class=gb1 href=\"https://news.google.com/?tab=wn\">&#1053;&#1086;&#1074;&#1086;&#1089;&#1090;&#1080;</a> <a class=gb1 href=\"https://mail.google.com/mail/?tab=wm\">&#1055;&#1086;&#1095;&#1090;&#1072;</a> <a class=gb1 href=\"https://drive.google.com/?tab=wo\">&#1044;&#1080;&#1089;&#1082;</a> <a class=gb1 style=\"text-decoration:none\" href=\"https://www.google.ru/intl/ru/about/products?tab=wh\"><u>&#1045;&#1097;&#1105;</u> &raquo;</a></nobr></div><div id=guser width=100%><nobr><span id=gbn class=gbi></span><span id=gbf class=gbf></span><span id=gbe></span><a href=\"http://www.google.ru/history/optout?hl=ru\" class=gb4>&#1048;&#1089;&#1090;&#1086;&#1088;&#1080;&#1103; &#1074;&#1077;&#1073;-&#1087;&#1086;&#1080;&#1089;&#1082;&#1072;</a> | <a  href=\"/preferences?hl=ru\" class=gb4>&#1053;&#1072;&#1089;&#1090;&#1088;&#1086;&#1081;&#1082;&#1080;</a> | <a target=_top id=gb_70 href=\"https://accounts.google.com/ServiceLogin?hl=ru&passive=true&continue=https://www.google.com/&ec=GAZAAQ\" class=gb4>&#1042;&#1086;&#1081;&#1090;&#1080;</a></nobr></div><div class=gbh style=left:0></div><div class=gbh style=right:0></div></div><center><br clear=\"all\" id=\"lgpd\"><div id=\"lga\"><img alt=\"Google\" height=\"92\" src=\"/images/branding/googlelogo/1x/googlelogo_white_background_color_272x92dp.png\" style=\"padding:28px 0 14px\" width=\"272\" id=\"hplogo\"><br><br></div><form action=\"/search\" name=\"f\"><table cellpadding=\"0\" cellspacing=\"0\"><tr valign=\"top\"><td width=\"25%\">&nbsp;</td><td align=\"center\" nowrap=\"\"><input name=\"ie\" value=\"ISO-8859-1\" type=\"hidden\"><input value=\"ru\" name=\"hl\" type=\"hidden\"><input name=\"source\" type=\"hidden\" value=\"hp\"><input name=\"biw\" type=\"hidden\"><input name=\"bih\" type=\"hidden\"><div class=\"ds\" style=\"height:32px;margin:4px 0\"><div style=\"position:relative;zoom:1\"><input class=\"lst tiah\" style=\"margin:0;padding:5px 8px 0 6px;vertical-align:top;color:#000;padding-right:38px\" autocomplete=\"off\" value=\"\" title=\"&#1055;&#1086;&#1080;&#1089;&#1082; &#1074; Google\" maxlength=\"2048\" name=\"q\" size=\"57\"><img src=\"/textinputassistant/tia.png\" style=\"position:absolute;cursor:pointer;right:5px;top:4px;z-index:300\" data-script-url=\"/textinputassistant/11/ru_tia.js\" id=\"tsuid1\" alt=\"\" height=\"23\" width=\"27\"><script nonce=\"cH9gRfFndnhVsxj3Z4H+Ig==\">(function(){var id='tsuid1';document.getElementById(id).onclick = function(){var s = document.createElement('script');s.src = this.getAttribute('data-script-url');(document.getElementById('xjsc')||document.body).appendChild(s);};})();</script></div></div><br style=\"line-height:0\"><span class=\"ds\"><span class=\"lsbb\"><input class=\"lsb\" value=\"&#1055;&#1086;&#1080;&#1089;&#1082; &#1074; Google\" name=\"btnG\" type=\"submit\"></span></span><span class=\"ds\"><span class=\"lsbb\"><input class=\"lsb\" id=\"tsuid2\" value=\"&#1052;&#1085;&#1077; &#1087;&#1086;&#1074;&#1077;&#1079;&#1105;&#1090;!\" name=\"btnI\" type=\"submit\"><script nonce=\"cH9gRfFndnhVsxj3Z4H+Ig==\">(function(){var id='tsuid2';document.getElementById(id).onclick = function(){if (this.form.q.value){this.checked = 1;if (this.form.iflsig)this.form.iflsig.disabled = false;}\n",
      "else top.location='/doodles/';};})();</script><input value=\"AHkkrS4AAAAAYiO4WqqOLQy-EkBY0UgZHAnOdO5KpmAs\" name=\"iflsig\" type=\"hidden\"></span></span></td><td class=\"fl sblc\" align=\"left\" nowrap=\"\" width=\"25%\"><a href=\"/advanced_search?hl=ru&amp;authuser=0\">&#1056;&#1072;&#1089;&#1096;&#1080;&#1088;&#1077;&#1085;&#1085;&#1099;&#1081; &#1087;&#1086;&#1080;&#1089;&#1082;</a></td></tr></table><input id=\"gbv\" name=\"gbv\" type=\"hidden\" value=\"1\"><script nonce=\"cH9gRfFndnhVsxj3Z4H+Ig==\">(function(){\n",
      "var a,b=\"1\";if(document&&document.getElementById)if(\"undefined\"!=typeof XMLHttpRequest)b=\"2\";else if(\"undefined\"!=typeof ActiveXObject){var c,d,e=[\"MSXML2.XMLHTTP.6.0\",\"MSXML2.XMLHTTP.3.0\",\"MSXML2.XMLHTTP\",\"Microsoft.XMLHTTP\"];for(c=0;d=e[c++];)try{new ActiveXObject(d),b=\"2\"}catch(h){}}a=b;if(\"2\"==a&&-1==location.search.indexOf(\"&gbv=2\")){var f=google.gbvu,g=document.getElementById(\"gbv\");g&&(g.value=a);f&&window.setTimeout(function(){location.href=f},0)};}).call(this);</script></form><div id=\"gac_scont\"></div><div style=\"font-size:83%;min-height:3.5em\"><br></div><span id=\"footer\"><div style=\"font-size:10pt\"><div style=\"margin:19px auto;text-align:center\" id=\"WqQANb\"><a href=\"http://www.google.ru/intl/ru/services/\">&#1056;&#1077;&#1096;&#1077;&#1085;&#1080;&#1103; &#1076;&#1083;&#1103; &#1073;&#1080;&#1079;&#1085;&#1077;&#1089;&#1072;</a><a href=\"/intl/ru/about.html\">&#1042;&#1089;&#1105; &#1086; Google</a><a href=\"https://www.google.com/setprefdomain?prefdom=RU&amp;prev=https://www.google.ru/&amp;sig=K_JXCHPSWvL2I6mVvU_ILV86E9NPs%3D\">Google.ru</a></div></div><p style=\"font-size:8pt;color:#70757a\">&copy; 2022 - <a href=\"/intl/ru/policies/privacy/\">&#1050;&#1086;&#1085;&#1092;&#1080;&#1076;&#1077;&#1085;&#1094;&#1080;&#1072;&#1083;&#1100;&#1085;&#1086;&#1089;&#1090;&#1100;</a> - <a href=\"/intl/ru/policies/terms/\">&#1059;&#1089;&#1083;&#1086;&#1074;&#1080;&#1103;</a></p></span></center><script nonce=\"cH9gRfFndnhVsxj3Z4H+Ig==\">(function(){window.google.cdo={height:757,width:1440};(function(){\n",
      "var a=window.innerWidth,b=window.innerHeight;if(!a||!b){var c=window.document,d=\"CSS1Compat\"==c.compatMode?c.documentElement:c.body;a=d.clientWidth;b=d.clientHeight}a&&b&&(a!=google.cdo.width||b!=google.cdo.height)&&google.log(\"\",\"\",\"/client_204?&atyp=i&biw=\"+a+\"&bih=\"+b+\"&ei=\"+google.kEI);}).call(this);})();</script> <script nonce=\"cH9gRfFndnhVsxj3Z4H+Ig==\">(function(){google.xjs={ck:'',cs:'',excm:[]};})();</script>  <script nonce=\"cH9gRfFndnhVsxj3Z4H+Ig==\">(function(){var u='/xjs/_/js/k\\x3dxjs.hp.en.RKOd6gk3_Fk.O/am\\x3dAOAJAIAEIAE/d\\x3d1/ed\\x3d1/esmo\\x3d1/rs\\x3dACT90oENw-zZeZy0SaEE27NR-xZzsMHyWQ/m\\x3dsb_he,d';\n",
      "var e=this||self,f=function(a){return a};var g;var l=function(a,b){this.g=b===h?a:\"\"};l.prototype.toString=function(){return this.g+\"\"};var h={};\n",
      "function m(){var a=u;google.lx=function(){n(a);google.lx=function(){}};google.bx||google.lx()}\n",
      "function n(a){google.timers&&google.timers.load&&google.tick&&google.tick(\"load\",\"xjsls\");var b=document;var c=\"SCRIPT\";\"application/xhtml+xml\"===b.contentType&&(c=c.toLowerCase());c=b.createElement(c);if(void 0===g){b=null;var k=e.trustedTypes;if(k&&k.createPolicy){try{b=k.createPolicy(\"goog#html\",{createHTML:f,createScript:f,createScriptURL:f})}catch(p){e.console&&e.console.error(p.message)}g=b}else g=b}a=(b=g)?b.createScriptURL(a):a;a=new l(a,h);c.src=a instanceof l&&a.constructor===l?a.g:\"type_error:TrustedResourceUrl\";var d;a=(c.ownerDocument&&c.ownerDocument.defaultView||window).document;(d=(b=null===(d=a.querySelector)||void 0===d?void 0:d.call(a,\"script[nonce]\"))?b.nonce||b.getAttribute(\"nonce\")||\"\":\"\")&&c.setAttribute(\"nonce\",d);document.body.appendChild(c);google.psa=!0};google.xjsu=u;setTimeout(function(){m()},0);})();function _DumpException(e){throw e;}\n",
      "function _F_installCss(c){}\n",
      "(function(){google.jl={attn:false,blt:'none',chnk:0,dw:false,dwu:true,emtn:0,end:0,ine:false,injs:'none',injt:0,lls:'default',pdt:0,rep:0,snet:true,strt:0,ubm:false,uwp:true};})();(function(){var pmc='{\\x22d\\x22:{},\\x22sb_he\\x22:{\\x22agen\\x22:true,\\x22cgen\\x22:true,\\x22client\\x22:\\x22heirloom-hp\\x22,\\x22dh\\x22:true,\\x22dhqt\\x22:true,\\x22ds\\x22:\\x22\\x22,\\x22ffql\\x22:\\x22ru\\x22,\\x22fl\\x22:true,\\x22host\\x22:\\x22google.com\\x22,\\x22isbh\\x22:28,\\x22jsonp\\x22:true,\\x22msgs\\x22:{\\x22cibl\\x22:\\x22&#1059;&#1076;&#1072;&#1083;&#1080;&#1090;&#1100; &#1087;&#1086;&#1080;&#1089;&#1082;&#1086;&#1074;&#1099;&#1081; &#1079;&#1072;&#1087;&#1088;&#1086;&#1089;\\x22,\\x22dym\\x22:\\x22&#1042;&#1086;&#1079;&#1084;&#1086;&#1078;&#1085;&#1086;, &#1074;&#1099; &#1080;&#1084;&#1077;&#1083;&#1080; &#1074; &#1074;&#1080;&#1076;&#1091;:\\x22,\\x22lcky\\x22:\\x22&#1052;&#1085;&#1077; &#1087;&#1086;&#1074;&#1077;&#1079;&#1105;&#1090;!\\x22,\\x22lml\\x22:\\x22&#1055;&#1086;&#1076;&#1088;&#1086;&#1073;&#1085;&#1077;&#1077;...\\x22,\\x22oskt\\x22:\\x22&#1069;&#1082;&#1088;&#1072;&#1085;&#1085;&#1072;&#1103; &#1082;&#1083;&#1072;&#1074;&#1080;&#1072;&#1090;&#1091;&#1088;&#1072;\\x22,\\x22psrc\\x22:\\x22&#1069;&#1090;&#1086;&#1090; &#1079;&#1072;&#1087;&#1088;&#1086;&#1089; &#1073;&#1099;&#1083; &#1091;&#1076;&#1072;&#1083;&#1077;&#1085; &#1080;&#1079; &#1074;&#1072;&#1096;&#1077;&#1081; \\\\u003Ca href\\x3d\\\\\\x22/history\\\\\\x22\\\\u003E&#1080;&#1089;&#1090;&#1086;&#1088;&#1080;&#1080; &#1074;&#1077;&#1073;-&#1087;&#1086;&#1080;&#1089;&#1082;&#1072;\\\\u003C/a\\\\u003E\\x22,\\x22psrl\\x22:\\x22&#1059;&#1076;&#1072;&#1083;&#1080;&#1090;&#1100;\\x22,\\x22sbit\\x22:\\x22&#1055;&#1086;&#1080;&#1089;&#1082; &#1087;&#1086; &#1082;&#1072;&#1088;&#1090;&#1080;&#1085;&#1082;&#1077;\\x22,\\x22srch\\x22:\\x22&#1055;&#1086;&#1080;&#1089;&#1082; &#1074; Google\\x22},\\x22ovr\\x22:{},\\x22pq\\x22:\\x22\\x22,\\x22refpd\\x22:true,\\x22rfs\\x22:[],\\x22sbas\\x22:\\x220 3px 8px 0 rgba(0,0,0,0.2),0 0 0 1px rgba(0,0,0,0.08)\\x22,\\x22sbpl\\x22:16,\\x22sbpr\\x22:16,\\x22scd\\x22:10,\\x22stok\\x22:\\x22hzMu3UN-B6Q_9rbcqbHe_MEuQ30\\x22,\\x22uhde\\x22:false}}';google.pmc=JSON.parse(pmc);})();</script>        </body></html>\n"
     ]
    }
   ],
   "source": [
    "import requests\n",
    "\n",
    "r = requests.get('https://www.google.com/')\n",
    "\n",
    "print(\"Status:\", r.status_code)\n",
    "print(\"Text:\", r.text)"
   ]
  },
  {
   "cell_type": "code",
   "execution_count": 4,
   "id": "immune-salad",
   "metadata": {},
   "outputs": [
    {
     "name": "stdout",
     "output_type": "stream",
     "text": [
      "Status: 200\n",
      "Text: \n"
     ]
    }
   ],
   "source": [
    "# https://webhook.site/\n",
    "\n",
    "r = requests.post('https://webhook.site/4ece6b45-2279-4f45-a85c-7ccbd9e35566',\n",
    "                  data={\"key\": \"value\"})\n",
    "\n",
    "print(\"Status:\", r.status_code)\n",
    "print(\"Text:\", r.text)"
   ]
  },
  {
   "cell_type": "code",
   "execution_count": 5,
   "id": "twelve-engineer",
   "metadata": {},
   "outputs": [
    {
     "name": "stdout",
     "output_type": "stream",
     "text": [
      "Status: 200\n"
     ]
    }
   ],
   "source": [
    "payload = {'key1': 'value1', 'key2': 'value2'}\n",
    "\n",
    "r = requests.get('https://webhook.site/4ece6b45-2279-4f45-a85c-7ccbd9e35566',\n",
    "                 params=payload)\n",
    "\n",
    "print(\"Status:\", r.status_code)"
   ]
  },
  {
   "cell_type": "markdown",
   "id": "executive-sword",
   "metadata": {},
   "source": [
    "## Pillow"
   ]
  },
  {
   "cell_type": "markdown",
   "id": "surrounded-mercy",
   "metadata": {},
   "source": [
    "- Документация: https://pillow.readthedocs.io/en/stable/"
   ]
  },
  {
   "cell_type": "code",
   "execution_count": 6,
   "id": "devoted-triumph",
   "metadata": {},
   "outputs": [],
   "source": [
    "from PIL import Image, ImageFilter\n",
    "\n",
    "try:  \n",
    "    original = Image.open(\"Example.jpg\")  \n",
    "except FileNotFoundError:\n",
    "    print(\"Файл не найден\")\n",
    "    \n",
    "original.show()"
   ]
  },
  {
   "cell_type": "code",
   "execution_count": 7,
   "id": "fourth-scanner",
   "metadata": {},
   "outputs": [],
   "source": [
    "blur = original.filter(ImageFilter.BLUR)\n",
    "blur.show()"
   ]
  },
  {
   "cell_type": "code",
   "execution_count": 8,
   "id": "lucky-ancient",
   "metadata": {},
   "outputs": [],
   "source": [
    "blur = blur.resize((300, 300))\n",
    "blur.save(\"another_image.png\", \"PNG\")"
   ]
  },
  {
   "cell_type": "markdown",
   "id": "weighted-singing",
   "metadata": {},
   "source": [
    "# Сериализация и хранение данных"
   ]
  },
  {
   "cell_type": "markdown",
   "id": "organic-portrait",
   "metadata": {},
   "source": [
    "## Модуль json"
   ]
  },
  {
   "cell_type": "markdown",
   "id": "weighted-drain",
   "metadata": {},
   "source": [
    "- Документация: https://docs.python.org/3/library/json.html"
   ]
  },
  {
   "cell_type": "markdown",
   "id": "hollow-tampa",
   "metadata": {},
   "source": [
    "```\n",
    "{\n",
    "    \"firstName\": \"Jane\",\n",
    "    \"lastName\": \"Doe\",\n",
    "    \"hobbies\": [\"running\", \"sky diving\", \"singing\"],\n",
    "    \"age\": 35,\n",
    "    \"children\": [\n",
    "        {\n",
    "            \"firstName\": \"Alice\",\n",
    "            \"age\": 6\n",
    "        },\n",
    "        {\n",
    "            \"firstName\": \"Bob\",\n",
    "            \"age\": 8\n",
    "        }\n",
    "    ]\n",
    "}\n",
    "```"
   ]
  },
  {
   "cell_type": "code",
   "execution_count": null,
   "id": "b2ce5dbe",
   "metadata": {},
   "outputs": [],
   "source": []
  },
  {
   "cell_type": "code",
   "execution_count": 37,
   "id": "objective-clear",
   "metadata": {},
   "outputs": [],
   "source": [
    "import json\n",
    "\n",
    "d = {\"val\": 1}\n",
    "\n",
    "with open(\"input.json\", \"w\") as file:\n",
    "    json.dump(d, file)"
   ]
  },
  {
   "cell_type": "code",
   "execution_count": 38,
   "id": "musical-scoop",
   "metadata": {},
   "outputs": [
    {
     "name": "stdout",
     "output_type": "stream",
     "text": [
      "{'val': 1}\n"
     ]
    }
   ],
   "source": [
    "with open(\"input.json\") as file:\n",
    "    json_parsed = json.load(file)\n",
    "    \n",
    "print(json_parsed)"
   ]
  },
  {
   "cell_type": "code",
   "execution_count": 39,
   "id": "immune-humanitarian",
   "metadata": {},
   "outputs": [
    {
     "name": "stdout",
     "output_type": "stream",
     "text": [
      "Writing example.json\n"
     ]
    }
   ],
   "source": [
    "%%writefile example.json\n",
    "{\n",
    "    \"firstName\": \"Jane\",\n",
    "    \"lastName\": \"Doe\",\n",
    "    \"hobbies\": [\"running\", \"sky diving\", \"singing\"],\n",
    "    \"age\": 35,\n",
    "    \"children\": [\n",
    "        {\n",
    "            \"firstName\": \"Alice\",\n",
    "            \"age\": 6\n",
    "        },\n",
    "        {\n",
    "            \"firstName\": \"Bob\",\n",
    "            \"age\": 8\n",
    "        }\n",
    "    ]\n",
    "}"
   ]
  },
  {
   "cell_type": "code",
   "execution_count": 40,
   "id": "spatial-feelings",
   "metadata": {},
   "outputs": [
    {
     "name": "stdout",
     "output_type": "stream",
     "text": [
      "{'firstName': 'Jane', 'lastName': 'Doe', 'hobbies': ['running', 'sky diving', 'singing'], 'age': 35, 'children': [{'firstName': 'Alice', 'age': 6}, {'firstName': 'Bob', 'age': 8}]}\n"
     ]
    }
   ],
   "source": [
    "with open(\"example.json\") as file:\n",
    "    json_parsed = json.load(file)\n",
    "    \n",
    "print(json_parsed)"
   ]
  },
  {
   "cell_type": "code",
   "execution_count": 41,
   "id": "stone-server",
   "metadata": {},
   "outputs": [
    {
     "name": "stdout",
     "output_type": "stream",
     "text": [
      "Alice\n"
     ]
    }
   ],
   "source": [
    "print(json_parsed[\"children\"][0][\"firstName\"])"
   ]
  },
  {
   "cell_type": "code",
   "execution_count": 42,
   "id": "8e4a0d33",
   "metadata": {},
   "outputs": [],
   "source": [
    "l = [1, 2, 3]\n",
    "\n",
    "with open(\"input2.json\", \"w\") as file:\n",
    "    json.dump(l, file)"
   ]
  },
  {
   "cell_type": "markdown",
   "id": "particular-worth",
   "metadata": {},
   "source": [
    "## Модуль xml"
   ]
  },
  {
   "cell_type": "markdown",
   "id": "adolescent-temple",
   "metadata": {},
   "source": [
    "- Документация: https://docs.python.org/3/library/xml.etree.elementtree.html\n",
    "- Документация XML: https://www.w3.org/TR/xml/ "
   ]
  },
  {
   "cell_type": "code",
   "execution_count": 15,
   "id": "binary-momentum",
   "metadata": {},
   "outputs": [
    {
     "name": "stdout",
     "output_type": "stream",
     "text": [
      "Writing example.xml\n"
     ]
    }
   ],
   "source": [
    "%%writefile example.xml\n",
    "<form>\n",
    "    <field attr=\"first name\">Jack</field>\n",
    "    <field attr=\"second name\">Mad</field>\n",
    "    <field attr=\"age\">23</field>\n",
    "</form>"
   ]
  },
  {
   "cell_type": "code",
   "execution_count": 136,
   "id": "particular-paper",
   "metadata": {},
   "outputs": [
    {
     "name": "stdout",
     "output_type": "stream",
     "text": [
      "field {'attr': 'first name'} Jack\n",
      "field {'attr': 'second name'} Mad\n",
      "field {'attr': 'age'} 23\n"
     ]
    }
   ],
   "source": [
    "import xml.etree.ElementTree as ET\n",
    "\n",
    "tree = ET.parse('example.xml')\n",
    "root = tree.getroot()\n",
    "\n",
    "for elem in root:\n",
    "    print(elem.tag, elem.attrib, elem.text)"
   ]
  },
  {
   "cell_type": "code",
   "execution_count": 141,
   "id": "particular-happening",
   "metadata": {},
   "outputs": [],
   "source": [
    "import xml.etree.ElementTree as ET\n",
    "\n",
    "a = ET.Element('a')\n",
    "b = ET.SubElement(a, 'b')\n",
    "b.text = \"1\"\n",
    "c = ET.SubElement(a, 'c')\n",
    "c.text = \"2\"\n",
    "d = ET.SubElement(a, 'd')\n",
    "d.text = \"3\"\n",
    "\n",
    "tree = ET.ElementTree(a)\n",
    "tree.write(\"filename.xml\")"
   ]
  },
  {
   "cell_type": "markdown",
   "id": "upset-advantage",
   "metadata": {},
   "source": [
    "## Модуль pickle"
   ]
  },
  {
   "cell_type": "markdown",
   "id": "streaming-toner",
   "metadata": {},
   "source": [
    "- Документация: https://docs.python.org/3/library/pickle.html"
   ]
  },
  {
   "cell_type": "code",
   "execution_count": 16,
   "id": "static-newspaper",
   "metadata": {},
   "outputs": [],
   "source": [
    "import pickle\n",
    "\n",
    "example_dict = {\"val1\": 1, \"val2\": 10}\n",
    "\n",
    "with open(\"example.pkl\", \"wb\") as file:\n",
    "    pickle.dump(example_dict, file)"
   ]
  },
  {
   "cell_type": "code",
   "execution_count": 17,
   "id": "decimal-diagnosis",
   "metadata": {},
   "outputs": [
    {
     "name": "stdout",
     "output_type": "stream",
     "text": [
      "{'val1': 1, 'val2': 10}\n"
     ]
    }
   ],
   "source": [
    "with open(\"example.pkl\", \"rb\") as file:\n",
    "    loaded_dict = pickle.load(file)\n",
    "    \n",
    "print(loaded_dict)"
   ]
  },
  {
   "cell_type": "code",
   "execution_count": 18,
   "id": "subject-proceeding",
   "metadata": {},
   "outputs": [],
   "source": [
    "class A:\n",
    "    def __init__(self):\n",
    "        self.a = 1\n",
    "        self.s = \"sdf\"\n",
    "        \n",
    "    def __str__(self):\n",
    "        return f\"a={self.a},s={self.s}\"\n",
    "\n",
    "a = A()\n",
    "\n",
    "with open(\"example.pkl\", \"wb\") as file:\n",
    "    pickle.dump(a, file)"
   ]
  },
  {
   "cell_type": "code",
   "execution_count": 20,
   "id": "optimum-resolution",
   "metadata": {},
   "outputs": [
    {
     "name": "stdout",
     "output_type": "stream",
     "text": [
      "a=1,s=sdf\n"
     ]
    }
   ],
   "source": [
    "with open(\"example.pkl\", \"rb\") as file:\n",
    "    loaded_a = pickle.load(file)\n",
    "    \n",
    "print(loaded_a)"
   ]
  }
 ],
 "metadata": {
  "kernelspec": {
   "display_name": "Python 3.8.9 64-bit",
   "language": "python",
   "name": "python3"
  },
  "language_info": {
   "codemirror_mode": {
    "name": "ipython",
    "version": 3
   },
   "file_extension": ".py",
   "mimetype": "text/x-python",
   "name": "python",
   "nbconvert_exporter": "python",
   "pygments_lexer": "ipython3",
   "version": "3.8.9"
  },
  "vscode": {
   "interpreter": {
    "hash": "31f2aee4e71d21fbe5cf8b01ff0e069b9275f58929596ceb00d14d90e3e16cd6"
   }
  }
 },
 "nbformat": 4,
 "nbformat_minor": 5
}
