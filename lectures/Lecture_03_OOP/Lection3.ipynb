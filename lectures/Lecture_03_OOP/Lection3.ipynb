{
 "cells": [
  {
   "cell_type": "markdown",
   "metadata": {
    "collapsed": false
   },
   "source": [
    "# Введение в методы анализа данных. Язык Python."
   ]
  },
  {
   "cell_type": "markdown",
   "metadata": {
    "collapsed": false
   },
   "source": [
    "## Лекция 3. Объектно-ориентированное программирование\n",
    "<br><br><br><br>\n",
    "__Аксентьев Артем (akseart@ya.ru)__\n",
    "\n",
    "__Ксемидов Борис (nstalker.anonim@yandex.ru)__\n",
    "<br>"
   ]
  },
  {
   "cell_type": "markdown",
   "id": "concerned-zoning",
   "metadata": {},
   "source": [
    "ООП - методология программирования, основанная на представлении программы в виде совокупности взаимодействующих объектов, каждый из которых является экземпляром определённого класса. "
   ]
  },
  {
   "cell_type": "markdown",
   "id": "adapted-burst",
   "metadata": {},
   "source": [
    "## Пример класса"
   ]
  },
  {
   "cell_type": "code",
   "execution_count": 17,
   "id": "compact-generator",
   "metadata": {},
   "outputs": [
    {
     "name": "stdout",
     "output_type": "stream",
     "text": [
      "0\n",
      "1\n"
     ]
    }
   ],
   "source": [
    "class Basket:\n",
    "    def __init__(self):\n",
    "        self.num_apple = 0\n",
    "\n",
    "    def method_1(self):\n",
    "        self.num_apple += 1\n",
    "\n",
    "    def method_2(self):\n",
    "        if self.num_apple > 0:\n",
    "            self.num_apple -= 1\n",
    "        \n",
    "b = Basket()\n",
    "print(b.num_apple)\n",
    "b.method_1()\n",
    "print(b.num_apple)"
   ]
  },
  {
   "cell_type": "markdown",
   "id": "wrapped-poker",
   "metadata": {},
   "source": [
    "## Принципы ООП"
   ]
  },
  {
   "cell_type": "markdown",
   "id": "arbitrary-script",
   "metadata": {},
   "source": [
    "- абстракция (выделение существенных характеристик объекта и игнорирование остальных);\n",
    "- инкапсуляция (хранение данных и методов, которые работают с ними);\n",
    "- наследование (возможность наследовать данные и методы, то есть создание наследников, наследующих данные и методы, для переопределения или для расширения функционала);\n",
    "- полиморфизм (позволяет использовать один и тот же участок программы с различными типами)."
   ]
  },
  {
   "cell_type": "code",
   "execution_count": 5,
   "id": "dad0c2e8",
   "metadata": {},
   "outputs": [],
   "source": [
    "class Person:\n",
    "    def __init__(self, name):\n",
    "        self.set_name(name)\n",
    "\n",
    "    def set_name(self, name):\n",
    "        if len(name) != 0:\n",
    "            self.name = name\n",
    "        else:\n",
    "            raise ValueError(\"Некорректное имя\")\n",
    "\n",
    "    def name(self):\n",
    "        return self.name"
   ]
  },
  {
   "cell_type": "code",
   "execution_count": 6,
   "id": "2a09cb16",
   "metadata": {},
   "outputs": [
    {
     "name": "stdout",
     "output_type": "stream",
     "text": [
      "Jack\n"
     ]
    }
   ],
   "source": [
    "p = Person(\"Jack\")\n",
    "print(p.name)"
   ]
  },
  {
   "cell_type": "code",
   "execution_count": 7,
   "id": "ec8ed507",
   "metadata": {},
   "outputs": [],
   "source": [
    "class Person:\n",
    "    def __init__(self, name):\n",
    "        self.set_name(name)\n",
    "\n",
    "    def set_name(self, name):\n",
    "        if len(name) != 0:\n",
    "            self.__name = name\n",
    "        else:\n",
    "            raise ValueError(\"Некорректное имя\")\n",
    "\n",
    "    def name(self):\n",
    "        return self.__name"
   ]
  },
  {
   "cell_type": "code",
   "execution_count": 8,
   "id": "ff566cb3",
   "metadata": {},
   "outputs": [
    {
     "ename": "AttributeError",
     "evalue": "'Person' object has no attribute '__name'",
     "output_type": "error",
     "traceback": [
      "\u001b[0;31m---------------------------------------------------------------------------\u001b[0m",
      "\u001b[0;31mAttributeError\u001b[0m                            Traceback (most recent call last)",
      "\u001b[1;32m/Users/donsangre/intro_ML_Python/lectures/Lection_2_OOP/Lection2.ipynb Ячейка 11\u001b[0m in \u001b[0;36m<cell line: 2>\u001b[0;34m()\u001b[0m\n\u001b[1;32m      <a href='vscode-notebook-cell:/Users/donsangre/intro_ML_Python/lectures/Lection_2_OOP/Lection2.ipynb#X13sZmlsZQ%3D%3D?line=0'>1</a>\u001b[0m p \u001b[39m=\u001b[39m Person(\u001b[39m\"\u001b[39m\u001b[39mJack\u001b[39m\u001b[39m\"\u001b[39m)\n\u001b[0;32m----> <a href='vscode-notebook-cell:/Users/donsangre/intro_ML_Python/lectures/Lection_2_OOP/Lection2.ipynb#X13sZmlsZQ%3D%3D?line=1'>2</a>\u001b[0m p\u001b[39m.\u001b[39;49m__name\n",
      "\u001b[0;31mAttributeError\u001b[0m: 'Person' object has no attribute '__name'"
     ]
    }
   ],
   "source": [
    "p = Person(\"Jack\")\n",
    "p.__name"
   ]
  },
  {
   "cell_type": "code",
   "execution_count": null,
   "id": "d96f8ae5",
   "metadata": {},
   "outputs": [
    {
     "name": "stdout",
     "output_type": "stream",
     "text": [
      "Old name: Jack\n",
      "New name: \n"
     ]
    }
   ],
   "source": [
    "print(\"Old name:\", p._Person__name)\n",
    "p._Person__name = \"\"\n",
    "print(\"New name:\", p._Person__name)\n"
   ]
  },
  {
   "cell_type": "code",
   "execution_count": null,
   "id": "d852d1b7",
   "metadata": {},
   "outputs": [],
   "source": [
    "p._Person__name = \"Jack\""
   ]
  },
  {
   "cell_type": "code",
   "execution_count": null,
   "id": "6fbfb61a",
   "metadata": {},
   "outputs": [
    {
     "name": "stdout",
     "output_type": "stream",
     "text": [
      "__name\n",
      "Jack\n"
     ]
    }
   ],
   "source": [
    "p.__name = \"__name\"\n",
    "print(p.__name)\n",
    "print(p._Person__name)"
   ]
  },
  {
   "cell_type": "markdown",
   "id": "driving-bunny",
   "metadata": {},
   "source": [
    "## Отношения между классами"
   ]
  },
  {
   "cell_type": "markdown",
   "id": "vietnamese-encounter",
   "metadata": {},
   "source": [
    "### Наследование"
   ]
  },
  {
   "cell_type": "code",
   "execution_count": null,
   "id": "modular-involvement",
   "metadata": {},
   "outputs": [],
   "source": [
    "class Student(Person):\n",
    "    def __init__(self, name, num_class, type_class):\n",
    "        super(Student, self).__init__(name)\n",
    "        self.set_class(num_class, type_class)\n",
    "        \n",
    "    def set_class(self, num_class, type_class):\n",
    "        type_class = type_class.upper()\n",
    "        if (num_class > 0 and num_class < 12):\n",
    "            if (type_class >= \"А\" and type_class <= \"Я\" and len(type_class) == 1):\n",
    "                self._num_class = num_class\n",
    "                self._type_class = type_class\n",
    "            else:\n",
    "                raise ValueError(\"Некорректная буква класса - {}\".format(type_class))\n",
    "        else:\n",
    "            raise ValueError(\"Некорректный номер класса - {}\".format(num_class))\n",
    "            \n",
    "    def get_class(self):\n",
    "        return \"{}-{}\".format(self._num_class, self._type_class)\n",
    "\n",
    "\n",
    "class Teacher(Person):\n",
    "    def __init__(self, name, subject):\n",
    "        super(Teacher, self).__init__(name)\n",
    "        self.set_subject(subject)\n",
    "\n",
    "    def set_subject(self, subject):\n",
    "        if len(subject) != 0:\n",
    "            self._subject = subject\n",
    "        else:\n",
    "            raise TypeError(\"Некорректное название предмета\")\n",
    "            \n",
    "    def subject(self):\n",
    "        return self._subject"
   ]
  },
  {
   "cell_type": "code",
   "execution_count": null,
   "id": "aquatic-flower",
   "metadata": {},
   "outputs": [
    {
     "name": "stdout",
     "output_type": "stream",
     "text": [
      "Петя 5-А\n",
      "Мария Николаевна Литература\n"
     ]
    }
   ],
   "source": [
    "student = Student(\"Петя\", 5, \"А\")\n",
    "print(student.name(),\n",
    "      student.get_class())\n",
    "teacher = Teacher(\"Мария Николаевна\", \"Литература\")\n",
    "print(teacher.name(),\n",
    "      teacher.subject())"
   ]
  },
  {
   "cell_type": "markdown",
   "id": "yellow-mapping",
   "metadata": {},
   "source": [
    "### Интерфейсы"
   ]
  },
  {
   "cell_type": "markdown",
   "id": "victorian-audit",
   "metadata": {},
   "source": [
    "Интерфейс - класс, описывающий поведение (множество методов, которые каждый класс, использующий интерфейс, должен реализовывать)."
   ]
  },
  {
   "cell_type": "code",
   "execution_count": null,
   "id": "formed-somalia",
   "metadata": {},
   "outputs": [],
   "source": [
    "def run(vehicle):\n",
    "    print(\"Садимся в транспорт.\")\n",
    "    print(\"Заводим его.\")\n",
    "    vehicle.start_engine()\n",
    "    print(\"Поехали.\")"
   ]
  },
  {
   "cell_type": "code",
   "execution_count": null,
   "id": "modified-vinyl",
   "metadata": {},
   "outputs": [],
   "source": [
    "from abc import ABC, abstractmethod\n",
    "\n",
    "class IVehicle(ABC):\n",
    "    @abstractmethod\n",
    "    def start_engine():\n",
    "        pass"
   ]
  },
  {
   "cell_type": "code",
   "execution_count": null,
   "id": "streaming-lindsay",
   "metadata": {},
   "outputs": [
    {
     "ename": "TypeError",
     "evalue": "Can't instantiate abstract class IVehicle with abstract methods start_engine",
     "output_type": "error",
     "traceback": [
      "\u001b[0;31m---------------------------------------------------------------------------\u001b[0m",
      "\u001b[0;31mTypeError\u001b[0m                                 Traceback (most recent call last)",
      "\u001b[0;32m<ipython-input-173-f833a3fb7030>\u001b[0m in \u001b[0;36m<module>\u001b[0;34m\u001b[0m\n\u001b[0;32m----> 1\u001b[0;31m \u001b[0mvehicle\u001b[0m \u001b[0;34m=\u001b[0m \u001b[0mIVehicle\u001b[0m\u001b[0;34m(\u001b[0m\u001b[0;34m)\u001b[0m\u001b[0;34m\u001b[0m\u001b[0;34m\u001b[0m\u001b[0m\n\u001b[0m",
      "\u001b[0;31mTypeError\u001b[0m: Can't instantiate abstract class IVehicle with abstract methods start_engine"
     ]
    }
   ],
   "source": [
    "vehicle = IVehicle()"
   ]
  },
  {
   "cell_type": "code",
   "execution_count": null,
   "id": "sixth-nirvana",
   "metadata": {},
   "outputs": [
    {
     "name": "stdout",
     "output_type": "stream",
     "text": [
      "Садимся в транспорт.\n",
      "Заводим его.\n",
      "Машина завелась.\n",
      "Поехали.\n"
     ]
    }
   ],
   "source": [
    "class Bus(IVehicle):\n",
    "    def start_engine(self):\n",
    "        print(\"Автобус завелся.\")\n",
    "\n",
    "class Auto(IVehicle):\n",
    "    def start_engine(self):\n",
    "        print(\"Машина завелась.\")\n",
    "    \n",
    "vehicle = Auto()\n",
    "run(vehicle)"
   ]
  },
  {
   "cell_type": "markdown",
   "id": "statistical-sellers",
   "metadata": {},
   "source": [
    "### Абстрактный класс"
   ]
  },
  {
   "cell_type": "markdown",
   "id": "included-gibraltar",
   "metadata": {},
   "source": [
    "Абстрактный класс - класс, содержащий методы, которые не имеют реализации."
   ]
  },
  {
   "cell_type": "code",
   "execution_count": null,
   "id": "injured-receptor",
   "metadata": {},
   "outputs": [],
   "source": [
    "from abc import ABC, abstractmethod\n",
    "\n",
    "class Object(ABC):\n",
    "    def __init__(self, x, y):\n",
    "        self._x = x\n",
    "        self._y = y\n",
    "        \n",
    "    def x(self):\n",
    "        return self._x\n",
    "    \n",
    "    def y(self):\n",
    "        return self._y\n",
    "    \n",
    "    def move_to(self, x, y):\n",
    "        self._x = x\n",
    "        self._y = y\n",
    "        \n",
    "    @abstractmethod\n",
    "    def draw(self):\n",
    "        pass"
   ]
  },
  {
   "cell_type": "code",
   "execution_count": null,
   "id": "adequate-behalf",
   "metadata": {},
   "outputs": [
    {
     "ename": "TypeError",
     "evalue": "Can't instantiate abstract class Object with abstract methods draw",
     "output_type": "error",
     "traceback": [
      "\u001b[0;31m---------------------------------------------------------------------------\u001b[0m",
      "\u001b[0;31mTypeError\u001b[0m                                 Traceback (most recent call last)",
      "\u001b[0;32m<ipython-input-311-37e5194963f1>\u001b[0m in \u001b[0;36m<module>\u001b[0;34m\u001b[0m\n\u001b[0;32m----> 1\u001b[0;31m \u001b[0mobj\u001b[0m \u001b[0;34m=\u001b[0m \u001b[0mObject\u001b[0m\u001b[0;34m(\u001b[0m\u001b[0;34m)\u001b[0m\u001b[0;34m\u001b[0m\u001b[0;34m\u001b[0m\u001b[0m\n\u001b[0m",
      "\u001b[0;31mTypeError\u001b[0m: Can't instantiate abstract class Object with abstract methods draw"
     ]
    }
   ],
   "source": [
    "obj = Object()"
   ]
  },
  {
   "cell_type": "markdown",
   "id": "chinese-queen",
   "metadata": {},
   "source": [
    "### Реализация"
   ]
  },
  {
   "cell_type": "code",
   "execution_count": null,
   "id": "trying-freight",
   "metadata": {},
   "outputs": [],
   "source": [
    "from abc import ABC, abstractmethod\n",
    "\n",
    "class Movable(ABC):\n",
    "    @abstractmethod\n",
    "    def move(self):\n",
    "        pass"
   ]
  },
  {
   "cell_type": "code",
   "execution_count": null,
   "id": "variable-humidity",
   "metadata": {},
   "outputs": [],
   "source": [
    "class Car(Movable):\n",
    "    def __init__(self):\n",
    "        self._speed = 10\n",
    "        self._x = 0\n",
    "\n",
    "    def move(self):\n",
    "        self._x += self._speed\n",
    "        \n",
    "    def pos(self):\n",
    "        return self._x\n",
    "    \n",
    "    def speed(self):\n",
    "        return self._speed"
   ]
  },
  {
   "cell_type": "code",
   "execution_count": null,
   "id": "worst-merit",
   "metadata": {},
   "outputs": [
    {
     "name": "stdout",
     "output_type": "stream",
     "text": [
      "0\n",
      "10\n"
     ]
    }
   ],
   "source": [
    "car = Car()\n",
    "print(car.pos())\n",
    "car.move()\n",
    "print(car.pos())"
   ]
  },
  {
   "cell_type": "markdown",
   "id": "japanese-collaboration",
   "metadata": {},
   "source": [
    "### Композиция"
   ]
  },
  {
   "cell_type": "code",
   "execution_count": null,
   "id": "bridal-basic",
   "metadata": {},
   "outputs": [],
   "source": [
    "class Faculty:\n",
    "    def __init__(self, name):\n",
    "        self._name = name\n",
    "        \n",
    "    def name(self):\n",
    "        return self._name\n",
    "    "
   ]
  },
  {
   "cell_type": "code",
   "execution_count": null,
   "id": "cheap-winter",
   "metadata": {},
   "outputs": [],
   "source": [
    "class University:\n",
    "    def __init__(self, name):\n",
    "        self._name = name\n",
    "        self._faculties = [Faculty(\"Math\"), Faculty(\"Philosophy\")]\n",
    "    \n",
    "    def faculties(self):\n",
    "        return self._faculties\n",
    "    \n",
    "    def name(self):\n",
    "        return self._name"
   ]
  },
  {
   "cell_type": "code",
   "execution_count": null,
   "id": "excess-mustang",
   "metadata": {},
   "outputs": [
    {
     "name": "stdout",
     "output_type": "stream",
     "text": [
      "Math\n",
      "Philosophy\n"
     ]
    }
   ],
   "source": [
    "university = University(\"University\")\n",
    "\n",
    "for fac in university.faculties():\n",
    "    print(fac.name())"
   ]
  },
  {
   "cell_type": "markdown",
   "id": "dress-milan",
   "metadata": {},
   "source": [
    "### Агрегация"
   ]
  },
  {
   "cell_type": "code",
   "execution_count": null,
   "id": "spread-receiver",
   "metadata": {},
   "outputs": [],
   "source": [
    "class Faculty:\n",
    "    def __init__(self, name, teachers):\n",
    "        self._name = name\n",
    "        self._teachers = teachers"
   ]
  },
  {
   "cell_type": "code",
   "execution_count": null,
   "id": "hungarian-professor",
   "metadata": {},
   "outputs": [],
   "source": [
    "class Teacher:\n",
    "    def __init__(self, name):\n",
    "        self._name = name"
   ]
  },
  {
   "cell_type": "code",
   "execution_count": null,
   "id": "effective-beach",
   "metadata": {},
   "outputs": [],
   "source": [
    "teacher1 = Teacher(\"John\")\n",
    "teacher2 = Teacher(\"Jack\")\n",
    "\n",
    "faculty_math = Faculty(\"Math\", [teacher1, teacher2])\n",
    "faculty_philosophy = Faculty(\"Philosophy\", [teacher1])"
   ]
  },
  {
   "cell_type": "markdown",
   "id": "immune-position",
   "metadata": {},
   "source": [
    "## Проектирование"
   ]
  },
  {
   "cell_type": "markdown",
   "id": "assisted-speaking",
   "metadata": {},
   "source": [
    "- Проектирование - определение наборов интерфейсов, классов, функций, их свойств и взаимных отношений<br><br>\n",
    "\n",
    "- Система для решения одной и той же задачи может спроектирована многими способами<br><br>\n",
    "\n",
    "- Задача в том, чтобы спроектировать систему, которая будет<br><br>\n",
    "    - понятной\n",
    "    - неизбыточной\n",
    "    - несложно модифицируемой и расширяемой\n",
    "    - эффективной<br><br>\n",
    "\n",
    "- Для этого нужны собственный опыт, знания, основанные на опыте предшественников и владение возможностями языка"
   ]
  },
  {
   "cell_type": "markdown",
   "id": "particular-tenant",
   "metadata": {},
   "source": [
    "#### SOLID"
   ]
  },
  {
   "cell_type": "markdown",
   "id": "analyzed-machinery",
   "metadata": {},
   "source": [
    "#### Принцип единственной ответственности"
   ]
  },
  {
   "cell_type": "markdown",
   "id": "sharp-tomato",
   "metadata": {},
   "source": [
    "Каждый класс должен решать лишь одну задачу."
   ]
  },
  {
   "cell_type": "code",
   "execution_count": null,
   "id": "immune-arbitration",
   "metadata": {},
   "outputs": [],
   "source": [
    "class WidgetTable:\n",
    "    def __init__(self, columns):\n",
    "        self._table = dict()\n",
    "        self._headers = columns\n",
    "\n",
    "        for col in columns:\n",
    "            self._table[col] = list()\n",
    "\n",
    "    def add_item(self, item):\n",
    "        for i, el in enumerate(item):\n",
    "            header = self._headers[i]\n",
    "            self._table[header] = el\n",
    "    \n",
    "    def show(self):\n",
    "        pass"
   ]
  },
  {
   "cell_type": "code",
   "execution_count": null,
   "id": "respiratory-acoustic",
   "metadata": {},
   "outputs": [],
   "source": [
    "class Data:\n",
    "    def __init__(self, columns):\n",
    "        self._table = dict()\n",
    "        self._headers = columns\n",
    "        \n",
    "        for col in columns:\n",
    "            self._table[col] = list()\n",
    "        \n",
    "    def add_item(self, item):\n",
    "        for i, el in enumerate(item):\n",
    "            header = self._headers[i]\n",
    "            self._table[header] = el\n",
    "\n",
    "\n",
    "class WidgetTable:\n",
    "    def __init__(self, data):\n",
    "        self._data = data\n",
    "\n",
    "    def show(self):\n",
    "        pass"
   ]
  },
  {
   "cell_type": "markdown",
   "id": "clean-cookie",
   "metadata": {},
   "source": [
    "#### Принцип открытости/закрытости"
   ]
  },
  {
   "cell_type": "markdown",
   "id": "exciting-penetration",
   "metadata": {},
   "source": [
    "Класс должен быть открыт для расширения функциональности и закрыт для изменения."
   ]
  },
  {
   "cell_type": "markdown",
   "id": "dirty-fantasy",
   "metadata": {},
   "source": [
    "##### Пример"
   ]
  },
  {
   "cell_type": "code",
   "execution_count": null,
   "id": "threaded-ukraine",
   "metadata": {},
   "outputs": [],
   "source": [
    "import sys\n",
    "\n",
    "\n",
    "class Widget:\n",
    "    def show(self):\n",
    "        if sys.platform == \"darwin\":\n",
    "            print(\"MacOS widget\")\n",
    "        elif sys.platform == \"linux\":\n",
    "            print(\"Linux widget\")"
   ]
  },
  {
   "cell_type": "code",
   "execution_count": null,
   "id": "baking-happening",
   "metadata": {},
   "outputs": [
    {
     "name": "stdout",
     "output_type": "stream",
     "text": [
      "MacOS widget\n"
     ]
    }
   ],
   "source": [
    "widget = Widget()\n",
    "widget.show()"
   ]
  },
  {
   "cell_type": "code",
   "execution_count": null,
   "id": "spanish-scratch",
   "metadata": {},
   "outputs": [],
   "source": [
    "from abc import ABC, abstractmethod\n",
    "\n",
    "class Widget(ABC):\n",
    "    @abstractmethod\n",
    "    def show(self):\n",
    "        pass"
   ]
  },
  {
   "cell_type": "code",
   "execution_count": null,
   "id": "transparent-occupation",
   "metadata": {},
   "outputs": [],
   "source": [
    "class LinuxWidget(Widget):\n",
    "    def show(self):\n",
    "        print(\"Linux widget\")\n",
    "        \n",
    "class MacOSWidget(Widget):\n",
    "    def show(self):\n",
    "        print(\"MacOS widget\")"
   ]
  },
  {
   "cell_type": "markdown",
   "id": "false-netherlands",
   "metadata": {},
   "source": [
    "#### Принцип подстановки Барбары Лисков"
   ]
  },
  {
   "cell_type": "markdown",
   "id": "parliamentary-browse",
   "metadata": {},
   "source": [
    "Наследник класса должен только дополнять родительский класс, а не менять в нём что-либо, таким образом подклассы могут служить заменой для своих родителей."
   ]
  },
  {
   "cell_type": "markdown",
   "id": "fundamental-rogers",
   "metadata": {},
   "source": [
    "##### Пример"
   ]
  },
  {
   "cell_type": "code",
   "execution_count": null,
   "id": "infectious-unemployment",
   "metadata": {},
   "outputs": [],
   "source": [
    "from abc import ABC, abstractmethod\n",
    "\n",
    "\n",
    "class Rectangle:\n",
    "    def set_w(self, w):\n",
    "        self._w = w\n",
    "        \n",
    "    def set_h(self, h):\n",
    "        self._h = h\n",
    "        \n",
    "    def area(self):\n",
    "        return self._w * self._h\n",
    "\n",
    "\n",
    "class Square(Rectangle):\n",
    "    def set_w(self, w):\n",
    "        self._w = w\n",
    "        self._h = w\n",
    "        \n",
    "    def set_h(self, h):\n",
    "        self._h = h\n",
    "        self._w = h\n",
    "        \n",
    "        \n",
    "def test_area(r):\n",
    "    r.set_w(5)\n",
    "    r.set_h(4)\n",
    "    if (r.area() != 20):\n",
    "        print(\"Неверно\")\n",
    "    else:\n",
    "        print(\"Верно\")"
   ]
  },
  {
   "cell_type": "code",
   "execution_count": null,
   "id": "pressed-dublin",
   "metadata": {},
   "outputs": [
    {
     "name": "stdout",
     "output_type": "stream",
     "text": [
      "Верно\n"
     ]
    }
   ],
   "source": [
    "r = Rectangle()\n",
    "test_area(r)"
   ]
  },
  {
   "cell_type": "code",
   "execution_count": null,
   "id": "multiple-bookmark",
   "metadata": {},
   "outputs": [
    {
     "name": "stdout",
     "output_type": "stream",
     "text": [
      "Неверно\n"
     ]
    }
   ],
   "source": [
    "s = Square()\n",
    "test_area(s)"
   ]
  },
  {
   "cell_type": "markdown",
   "id": "agricultural-relevance",
   "metadata": {},
   "source": [
    "#### Принцип разделения интерфейса"
   ]
  },
  {
   "cell_type": "markdown",
   "id": "secondary-maryland",
   "metadata": {},
   "source": [
    "Интерфейсы не должны покрывать много задач (класс не должен реализовывать методы, которые ему не нужны из-за слишком большого базового интерфейса)."
   ]
  },
  {
   "cell_type": "markdown",
   "id": "three-fleet",
   "metadata": {},
   "source": [
    "##### Пример"
   ]
  },
  {
   "cell_type": "code",
   "execution_count": null,
   "id": "integral-township",
   "metadata": {},
   "outputs": [],
   "source": [
    "from abc import ABC, abstractmethod\n",
    "\n",
    "class Data(ABC):\n",
    "    @abstractmethod\n",
    "    def col_count(self):\n",
    "        pass\n",
    "    \n",
    "    @abstractmethod\n",
    "    def row_count(self):\n",
    "        pass\n",
    "    \n",
    "    @abstractmethod\n",
    "    def add_item(self):\n",
    "        pass\n",
    "\n",
    "    \n",
    "class DataTable(Data):\n",
    "    def add_item(self):\n",
    "        pass\n",
    "            \n",
    "    def col_count(self):\n",
    "        pass\n",
    "\n",
    "    def row_count(self):\n",
    "        pass\n",
    "    \n",
    "\n",
    "class DataList(Data):\n",
    "    def add_item(self):\n",
    "        pass\n",
    "            \n",
    "    def col_count(self):\n",
    "        pass\n",
    "\n",
    "    def row_count(self):\n",
    "        pass"
   ]
  },
  {
   "cell_type": "code",
   "execution_count": null,
   "id": "opponent-subdivision",
   "metadata": {},
   "outputs": [],
   "source": [
    "class Data(ABC):\n",
    "    @abstractmethod\n",
    "    def shape(self):\n",
    "        pass\n",
    "    \n",
    "    @abstractmethod\n",
    "    def add_item(self):\n",
    "        pass"
   ]
  },
  {
   "cell_type": "markdown",
   "id": "consistent-committee",
   "metadata": {},
   "source": [
    "#### Принцип инверсии зависимостей"
   ]
  },
  {
   "cell_type": "markdown",
   "id": "portable-church",
   "metadata": {},
   "source": [
    "Нижестоящее в иерархии зависит от вышестоящего, а не наоборот.  Объектом зависимости должна быть абстракция, а не что-то конкретное. Под вышестоящим понимается компонент, который требует каких-то внешних зависимостей/сервисов."
   ]
  },
  {
   "cell_type": "markdown",
   "id": "historic-slovak",
   "metadata": {},
   "source": [
    "##### Пример"
   ]
  },
  {
   "cell_type": "code",
   "execution_count": null,
   "id": "unnecessary-awareness",
   "metadata": {},
   "outputs": [],
   "source": [
    "class JsonService:\n",
    "    def request(self, url, method):\n",
    "        pass\n",
    "\n",
    "\n",
    "class Protocol:\n",
    "    def __init__(self, json_service):\n",
    "        self._service = json_service\n",
    "\n",
    "    def get(self, url):\n",
    "        self._service.request(url, \"GET\")\n",
    "\n",
    "    def post(self, url):\n",
    "        self._service.request(url, \"POST\")"
   ]
  },
  {
   "cell_type": "code",
   "execution_count": null,
   "id": "ambient-india",
   "metadata": {},
   "outputs": [],
   "source": [
    "from abc import ABC, abstractmethod\n",
    "\n",
    "\n",
    "class Connection(ABC):\n",
    "    @abstractmethod\n",
    "    def request(self, url, method):\n",
    "        pass\n",
    "\n",
    "class JsonService(Connection):\n",
    "    def request(self, url, method):\n",
    "        pass\n",
    "    \n",
    "class XmlService(Connection):\n",
    "    def request(self, url, method):\n",
    "        pass\n",
    "\n",
    "class Protocol:\n",
    "    def __init__(self, connection):\n",
    "        self._service = connection\n",
    "        \n",
    "    def get(self, url):\n",
    "        self._service.request(url, \"GET\")\n",
    "        \n",
    "    def post(self):\n",
    "        self._service.request(url, \"POST\")"
   ]
  },
  {
   "cell_type": "markdown",
   "id": "ahead-reform",
   "metadata": {},
   "source": [
    "## Встроенные функции для работы с классами"
   ]
  },
  {
   "cell_type": "code",
   "execution_count": null,
   "id": "874be8a3",
   "metadata": {},
   "outputs": [],
   "source": [
    "class P:\n",
    "    pass"
   ]
  },
  {
   "cell_type": "code",
   "execution_count": null,
   "id": "dense-lodge",
   "metadata": {},
   "outputs": [
    {
     "data": {
      "text/plain": [
       "__main__.P"
      ]
     },
     "execution_count": 72,
     "metadata": {},
     "output_type": "execute_result"
    }
   ],
   "source": [
    "p = P()\n",
    "\n",
    "# type возвращает тип переданного аргумента.\n",
    "type(p)"
   ]
  },
  {
   "cell_type": "code",
   "execution_count": null,
   "id": "optional-salmon",
   "metadata": {},
   "outputs": [
    {
     "data": {
      "text/plain": [
       "True"
      ]
     },
     "execution_count": 73,
     "metadata": {},
     "output_type": "execute_result"
    }
   ],
   "source": [
    "type(p) == P"
   ]
  },
  {
   "cell_type": "code",
   "execution_count": null,
   "id": "otherwise-bandwidth",
   "metadata": {},
   "outputs": [
    {
     "data": {
      "text/plain": [
       "True"
      ]
     },
     "execution_count": 74,
     "metadata": {},
     "output_type": "execute_result"
    }
   ],
   "source": [
    "type([]) == list"
   ]
  },
  {
   "cell_type": "code",
   "execution_count": null,
   "id": "auburn-developer",
   "metadata": {},
   "outputs": [
    {
     "data": {
      "text/plain": [
       "True"
      ]
     },
     "execution_count": 75,
     "metadata": {},
     "output_type": "execute_result"
    }
   ],
   "source": [
    "# isinstance специально создана для проверки принадлежности данных определенному классу (типу данных)\n",
    "isinstance(p, P)"
   ]
  },
  {
   "cell_type": "code",
   "execution_count": null,
   "id": "contained-facility",
   "metadata": {},
   "outputs": [
    {
     "data": {
      "text/plain": [
       "True"
      ]
     },
     "execution_count": 76,
     "metadata": {},
     "output_type": "execute_result"
    }
   ],
   "source": [
    "isinstance(p, (P, int, list))"
   ]
  },
  {
   "cell_type": "code",
   "execution_count": null,
   "id": "latter-howard",
   "metadata": {},
   "outputs": [
    {
     "data": {
      "text/plain": [
       "True"
      ]
     },
     "execution_count": 77,
     "metadata": {},
     "output_type": "execute_result"
    }
   ],
   "source": [
    "isinstance(2, (P, int, list))"
   ]
  },
  {
   "cell_type": "code",
   "execution_count": null,
   "id": "comparable-destination",
   "metadata": {},
   "outputs": [
    {
     "data": {
      "text/plain": [
       "True"
      ]
     },
     "metadata": {},
     "output_type": "display_data"
    }
   ],
   "source": [
    "# isinstance также поддерживает наследование\n",
    "# для isinstance() экземпляр производного класса также является экземпляром базового класса\n",
    "isinstance(2, object)"
   ]
  },
  {
   "cell_type": "code",
   "execution_count": null,
   "id": "chief-poverty",
   "metadata": {},
   "outputs": [
    {
     "data": {
      "text/plain": [
       "True"
      ]
     },
     "metadata": {},
     "output_type": "display_data"
    }
   ],
   "source": [
    "# issubclass для проверки является ли данный класс подкласс другого класса (прямого или косвенного типа)\n",
    "issubclass(int, object)"
   ]
  },
  {
   "cell_type": "code",
   "execution_count": null,
   "id": "compressed-tuning",
   "metadata": {},
   "outputs": [
    {
     "data": {
      "text/plain": [
       "False"
      ]
     },
     "execution_count": 78,
     "metadata": {},
     "output_type": "execute_result"
    }
   ],
   "source": [
    "issubclass(P, int)"
   ]
  },
  {
   "cell_type": "code",
   "execution_count": null,
   "id": "respected-showcase",
   "metadata": {},
   "outputs": [
    {
     "data": {
      "text/plain": [
       "True"
      ]
     },
     "execution_count": 79,
     "metadata": {},
     "output_type": "execute_result"
    }
   ],
   "source": [
    "class L(P):\n",
    "    pass\n",
    "\n",
    "issubclass(L, object)"
   ]
  },
  {
   "cell_type": "code",
   "execution_count": null,
   "id": "apparent-cowboy",
   "metadata": {},
   "outputs": [
    {
     "data": {
      "text/plain": [
       "True"
      ]
     },
     "execution_count": 80,
     "metadata": {},
     "output_type": "execute_result"
    }
   ],
   "source": [
    "issubclass(P, (int, object))"
   ]
  },
  {
   "cell_type": "markdown",
   "id": "desperate-reader",
   "metadata": {},
   "source": [
    "## Области видимости и пространства имен"
   ]
  },
  {
   "cell_type": "markdown",
   "id": "front-veteran",
   "metadata": {},
   "source": [
    "Пространство имён представляет собой соответствия имён и их объектов. Большинство пространств имен в настоящее время реализованы как словари Python."
   ]
  },
  {
   "cell_type": "code",
   "execution_count": null,
   "id": "elder-profile",
   "metadata": {},
   "outputs": [
    {
     "data": {
      "text/plain": [
       "'word'"
      ]
     },
     "execution_count": 32,
     "metadata": {},
     "output_type": "execute_result"
    }
   ],
   "source": [
    "globals()[\"word4\"]"
   ]
  },
  {
   "cell_type": "code",
   "execution_count": null,
   "id": "activated-practice",
   "metadata": {},
   "outputs": [
    {
     "data": {
      "text/plain": [
       "'word'"
      ]
     },
     "execution_count": 33,
     "metadata": {},
     "output_type": "execute_result"
    }
   ],
   "source": [
    "globals()[\"word1\"]"
   ]
  },
  {
   "cell_type": "code",
   "execution_count": null,
   "id": "featured-laugh",
   "metadata": {},
   "outputs": [
    {
     "data": {
      "text/plain": [
       "True"
      ]
     },
     "execution_count": 34,
     "metadata": {},
     "output_type": "execute_result"
    }
   ],
   "source": [
    "globals()[\"word1\"] is globals()[\"word4\"]"
   ]
  },
  {
   "cell_type": "code",
   "execution_count": null,
   "id": "double-bangladesh",
   "metadata": {},
   "outputs": [
    {
     "data": {
      "text/plain": [
       "{'__name__': '__main__',\n",
       " '__doc__': 'Automatically created module for IPython interactive environment',\n",
       " '__package__': None,\n",
       " '__loader__': None,\n",
       " '__spec__': None,\n",
       " '__builtin__': <module 'builtins' (built-in)>,\n",
       " '__builtins__': <module 'builtins' (built-in)>,\n",
       " '_ih': ['',\n",
       "  'from abc import ABC, abstractmethod\\n\\n\\nclass Rectangle:\\n    def set_w(self, w):\\n        self._w = w\\n        \\n    def set_h(self, h):\\n        self._h = h\\n        \\n    def area(self):\\n        return self._w * self._h\\n\\n\\nclass Square(Rectangle):\\n    def set_w(self, w):\\n        self._w = w\\n        self._h = w\\n        \\n    def set_h(self, h):\\n        self._h = h\\n        self._w = h\\n        \\n        \\ndef test_area(r):\\n    r.set_w(5)\\n    r.set_h(4)\\n    if (r.area() != 20):\\n        print(\"Неверно\")\\n    else:\\n        print(\"Верно\")',\n",
       "  'r = Rectangle()\\ntest_area(r)',\n",
       "  's = Square()\\ntest_area(s)',\n",
       "  'class MyClass:\\n    _instances = dict()\\n    _init = False\\n\\n    def __new__(class_, *args, **kwargs):\\n        if class_ not in class_._instances:\\n            class_._instances[class_] = super(MyClass, class_).__new__(class_, *args, **kwargs)\\n        return class_._instances[class_]\\n    \\n    def __init__(self):\\n        if self._init:\\n            return\\n        super(MyClass, self).__init__()\\n        self._num = 0\\n        self._init = True\\n\\n    def set_num(self, num):\\n        self._num = num\\n        \\n    def get_num(self):\\n        return self._num',\n",
       "  'print(MyClass().get_num())\\nMyClass().set_num(3)\\nprint(MyClass().get_num())',\n",
       "  'from abc import ABC, abstractmethod\\n\\n\\nclass AbstractHandler:\\n    _next_handler = None\\n\\n    def set_next(self, handler):\\n        self._next_handler = handler\\n\\n    @abstractmethod\\n    def handle(self, request):\\n        if self._next_handler:\\n            return self._next_handler.handle(request)\\n\\n        return \"I don\\'t understand\"\\n\\n\\nclass HelloHandler(AbstractHandler):\\n    def handle(self, request):\\n        if request.lower() == \"hello\":\\n            return \"Hello, friend\"\\n        else:\\n#             if self._next_handler:\\n#                 return self._next_handler.handle(request)\\n            return super().handle(request)\\n\\n\\nclass ByeHandler(AbstractHandler):\\n    def handle(self, request):\\n        if request.lower() == \"bye\":\\n            return \"Bye, friend\"\\n        else:\\n            return super().handle(request)',\n",
       "  'handler = HelloHandler()\\nhandler.set_next(ByeHandler())\\n\\nprint(handler.handle(\"Hello\"))',\n",
       "  'handler = HelloHandler()\\nhandler.set_next(ByeHandler())\\n\\nprint(handler.handle(\"Bye\"))',\n",
       "  'handler = HelloHandler()\\nhandler.set_next(ByeHandler())\\n\\nprint(handler.handle(\"sdfsdfdsf\"))',\n",
       "  'from abc import ABC, abstractmethod\\n\\n# https://refactoring.guru/ru/design-patterns/command/python/example\\n# + в книге game patterns\\n\\ntexts = [\\n    \"First message\",\\n    \"Second message\",\\n    \"Third message\"\\n]\\n\\nclass Command(ABC):\\n    @abstractmethod\\n    def execute(self):\\n        pass\\n    \\n    @abstractmethod\\n    def cancel(self):\\n        pass\\n\\nclass DelCommand(Command):\\n    def __init__(self, idx):\\n        self._idx = idx\\n        self._text = None\\n    \\n    def execute(self):\\n        if self._idx > len(texts) - 1:\\n            raise Exception(\"Text isn\\'t found\")\\n        self._text = texts[self._idx]\\n        del texts[self._idx]\\n\\n    def cancel(self):\\n        if self._text is None:\\n            raise Exception(\"Command isn\\'t executed\")\\n        texts.insert(self._idx, self._text)\\n        \\n\\nprint(texts)\\ncommand = DelCommand(1)\\nprint(texts)\\ncommand.execute()\\nprint(texts)\\ncommand.cancel()\\nprint(texts)',\n",
       "  '# https://refactoring.guru/ru/design-patterns/observer/python/example\\n\\nclass Subscriber:\\n    def __init__(self, name):\\n        self._name = name\\n\\n    def update(self):\\n        print(\"{} получил уведомление\".format(self._name))\\n\\nclass Publisher:\\n    def __init__(self):\\n        self._subscribers = []\\n    \\n    def add_subscriber(self, subscriber):\\n        self._subscribers.append(subscriber)\\n    \\n    def notify(self):\\n        for subscriber in self._subscribers:\\n            subscriber.update()\\n            \\n    def do(self):\\n        print(\"Издаём новую книгу\")\\n        self.notify()',\n",
       "  'publ = Publisher()\\nsubs1 = Subscriber(\"John\")\\nsubs2 = Subscriber(\"Jack\")\\n\\npubl.add_subscriber(subs1)\\npubl.add_subscriber(subs2)\\n\\npubl.do()',\n",
       "  'class A:\\n    def __pos__(self):\\n        return \"Унарный плюс\"\\n    \\n    def __neg__(self):\\n        return \"Унарный минус\"\\n    \\n    def __add__(self, other):\\n        return \"Сложение с {}\".format(other)\\n    \\n    def __sub__(self, other):\\n        return \"Вычитание с {}\".format(other)\\n    \\n    def __mul__(self, other):\\n        return \"Умножение с {}\".format(other)\\n    \\n    def __floordiv__(self, other):\\n        return \"Целочисленное деление с {}\".format(other)\\n    \\n    def __div__(self, other):\\n        return \"Деление с {}\".format(other)\\n    \\n    def __mod__(self, other):\\n        return \"Остаток от деления с {}\".format(other)\\n    \\n    def __pow__(self, val):\\n        return \"Возведение в степень с {}\".format(other)',\n",
       "  'a = A()\\na + 1',\n",
       "  'a = A()\\na + 1',\n",
       "  '1 + a',\n",
       "  'class rA:\\n    # отраженное сложение\\n    def __radd__(self, other):\\n        return \"Отраженное сложение c {}\".format(other)\\n    \\n    # отраженное вычитание \\n    def __rsub__(self, other):\\n        return \"Отраженное вычитание c {}\".format(other)\\n    \\n    #  отраженное умножение\\n    def __rmul__(self, other):\\n        return \"Отраженное умножение c {}\".format(other)\\n    \\n    # отраженное целочисленное деление\\n    def __rfloordiv__(self, other):\\n        return \"Отраженное целочисленное деление c {}\".format(other)\\n    \\n    # отраженное деление\\n    def __rdiv__(self, other):\\n        return \"Отраженное деление c {}\".format(other)',\n",
       "  'a = rA()\\n1 + a',\n",
       "  'c1 = CustomComplex(1, 2)\\nc2 = CustomComplex(1, 4)\\n\\nc1 + c2',\n",
       "  'class CustomComplex:\\n    def __init__(self, real, im):\\n        self._real = real\\n        self._im = im\\n\\n    def __add__(self, other):\\n        return CustomComplex(self.real() + other.real(),\\n                             self.im() + other.im())\\n    \\n    def __str__(self):\\n        return \"{} + i{}\".format(self._real, self._im) \\n\\n    def __repr__(self):\\n        return str(self)\\n    \\n    def real(self):\\n        return self._real\\n    \\n    def im(self):\\n        return self._im',\n",
       "  'c1 = CustomComplex(1, 2)\\nc2 = CustomComplex(1, 4)\\n\\nc1 + c2',\n",
       "  'class D:\\n    def __eq__(self, other):\\n        return \"Равенство\"\\n    \\n    def __ne__(self, other):\\n        return \"Неравенство\"\\n    \\n    def __lt__(self, other):\\n        return \"Меньше\"\\n    \\n    def __gt__(self, other):\\n        return \"Больше\"\\n    \\n    def __le__(self, other):\\n        return \"Меньше или равно\"\\n    \\n    def __ge__(self, other):\\n        return \"Больше или равно\"',\n",
       "  'class ComparedStr(str):\\n    def __gt__(self, other):\\n        return len(self) > len(other)\\n    def __lt__(self, other):\\n        return len(self) < len(other)\\n    def __ge__(self, other):\\n        return len(self) >= len(other)\\n    def __le__(self, other):\\n        return len(self) <= len(other)\\n    def __eq__(self, other):\\n        return len(self) == len(other)',\n",
       "  'class ComparedStr(str):\\n    def __gt__(self, other):\\n        return len(self) > len(other)\\n    def __lt__(self, other):\\n        return len(self) < len(other)\\n    def __ge__(self, other):\\n        return len(self) >= len(other)\\n    def __le__(self, other):\\n        return len(self) <= len(other)\\n    def __eq__(self, other):\\n        return len(self) == len(other)',\n",
       "  'word1 = ComparedStr(\"word\")\\nword2 = ComparedStr(\"anotherWord\")\\nword2 > word1',\n",
       "  '# Запускает __eq__\\nword3 = ComparedStr(\"home\")\\nword1 == word3',\n",
       "  'word4 = word1',\n",
       "  'word4 is word1',\n",
       "  'class E:\\n    def __call__(self, arg):\\n        return \"Вызов объекта с аргументов {}\".format(arg)',\n",
       "  'e = E()\\ne(1)',\n",
       "  'globals[\"word4\"]',\n",
       "  'globals()[\"word4\"]',\n",
       "  'globals()[\"word1\"]',\n",
       "  'globals()[\"word1\"] is globals()[\"word4\"]',\n",
       "  '# Глобальное пространство имен\\nglobals()'],\n",
       " '_oh': {14: 'Сложение с 1',\n",
       "  15: 'Сложение с 1',\n",
       "  18: 'Отраженное сложение c 1',\n",
       "  21: 2 + i6,\n",
       "  25: True,\n",
       "  26: True,\n",
       "  28: True,\n",
       "  30: 'Вызов объекта с аргументов 1',\n",
       "  32: 'word',\n",
       "  33: 'word',\n",
       "  34: True},\n",
       " '_dh': ['/Users/donsangre/Documents/Chillers/Python/ML/OOP'],\n",
       " 'In': ['',\n",
       "  'from abc import ABC, abstractmethod\\n\\n\\nclass Rectangle:\\n    def set_w(self, w):\\n        self._w = w\\n        \\n    def set_h(self, h):\\n        self._h = h\\n        \\n    def area(self):\\n        return self._w * self._h\\n\\n\\nclass Square(Rectangle):\\n    def set_w(self, w):\\n        self._w = w\\n        self._h = w\\n        \\n    def set_h(self, h):\\n        self._h = h\\n        self._w = h\\n        \\n        \\ndef test_area(r):\\n    r.set_w(5)\\n    r.set_h(4)\\n    if (r.area() != 20):\\n        print(\"Неверно\")\\n    else:\\n        print(\"Верно\")',\n",
       "  'r = Rectangle()\\ntest_area(r)',\n",
       "  's = Square()\\ntest_area(s)',\n",
       "  'class MyClass:\\n    _instances = dict()\\n    _init = False\\n\\n    def __new__(class_, *args, **kwargs):\\n        if class_ not in class_._instances:\\n            class_._instances[class_] = super(MyClass, class_).__new__(class_, *args, **kwargs)\\n        return class_._instances[class_]\\n    \\n    def __init__(self):\\n        if self._init:\\n            return\\n        super(MyClass, self).__init__()\\n        self._num = 0\\n        self._init = True\\n\\n    def set_num(self, num):\\n        self._num = num\\n        \\n    def get_num(self):\\n        return self._num',\n",
       "  'print(MyClass().get_num())\\nMyClass().set_num(3)\\nprint(MyClass().get_num())',\n",
       "  'from abc import ABC, abstractmethod\\n\\n\\nclass AbstractHandler:\\n    _next_handler = None\\n\\n    def set_next(self, handler):\\n        self._next_handler = handler\\n\\n    @abstractmethod\\n    def handle(self, request):\\n        if self._next_handler:\\n            return self._next_handler.handle(request)\\n\\n        return \"I don\\'t understand\"\\n\\n\\nclass HelloHandler(AbstractHandler):\\n    def handle(self, request):\\n        if request.lower() == \"hello\":\\n            return \"Hello, friend\"\\n        else:\\n#             if self._next_handler:\\n#                 return self._next_handler.handle(request)\\n            return super().handle(request)\\n\\n\\nclass ByeHandler(AbstractHandler):\\n    def handle(self, request):\\n        if request.lower() == \"bye\":\\n            return \"Bye, friend\"\\n        else:\\n            return super().handle(request)',\n",
       "  'handler = HelloHandler()\\nhandler.set_next(ByeHandler())\\n\\nprint(handler.handle(\"Hello\"))',\n",
       "  'handler = HelloHandler()\\nhandler.set_next(ByeHandler())\\n\\nprint(handler.handle(\"Bye\"))',\n",
       "  'handler = HelloHandler()\\nhandler.set_next(ByeHandler())\\n\\nprint(handler.handle(\"sdfsdfdsf\"))',\n",
       "  'from abc import ABC, abstractmethod\\n\\n# https://refactoring.guru/ru/design-patterns/command/python/example\\n# + в книге game patterns\\n\\ntexts = [\\n    \"First message\",\\n    \"Second message\",\\n    \"Third message\"\\n]\\n\\nclass Command(ABC):\\n    @abstractmethod\\n    def execute(self):\\n        pass\\n    \\n    @abstractmethod\\n    def cancel(self):\\n        pass\\n\\nclass DelCommand(Command):\\n    def __init__(self, idx):\\n        self._idx = idx\\n        self._text = None\\n    \\n    def execute(self):\\n        if self._idx > len(texts) - 1:\\n            raise Exception(\"Text isn\\'t found\")\\n        self._text = texts[self._idx]\\n        del texts[self._idx]\\n\\n    def cancel(self):\\n        if self._text is None:\\n            raise Exception(\"Command isn\\'t executed\")\\n        texts.insert(self._idx, self._text)\\n        \\n\\nprint(texts)\\ncommand = DelCommand(1)\\nprint(texts)\\ncommand.execute()\\nprint(texts)\\ncommand.cancel()\\nprint(texts)',\n",
       "  '# https://refactoring.guru/ru/design-patterns/observer/python/example\\n\\nclass Subscriber:\\n    def __init__(self, name):\\n        self._name = name\\n\\n    def update(self):\\n        print(\"{} получил уведомление\".format(self._name))\\n\\nclass Publisher:\\n    def __init__(self):\\n        self._subscribers = []\\n    \\n    def add_subscriber(self, subscriber):\\n        self._subscribers.append(subscriber)\\n    \\n    def notify(self):\\n        for subscriber in self._subscribers:\\n            subscriber.update()\\n            \\n    def do(self):\\n        print(\"Издаём новую книгу\")\\n        self.notify()',\n",
       "  'publ = Publisher()\\nsubs1 = Subscriber(\"John\")\\nsubs2 = Subscriber(\"Jack\")\\n\\npubl.add_subscriber(subs1)\\npubl.add_subscriber(subs2)\\n\\npubl.do()',\n",
       "  'class A:\\n    def __pos__(self):\\n        return \"Унарный плюс\"\\n    \\n    def __neg__(self):\\n        return \"Унарный минус\"\\n    \\n    def __add__(self, other):\\n        return \"Сложение с {}\".format(other)\\n    \\n    def __sub__(self, other):\\n        return \"Вычитание с {}\".format(other)\\n    \\n    def __mul__(self, other):\\n        return \"Умножение с {}\".format(other)\\n    \\n    def __floordiv__(self, other):\\n        return \"Целочисленное деление с {}\".format(other)\\n    \\n    def __div__(self, other):\\n        return \"Деление с {}\".format(other)\\n    \\n    def __mod__(self, other):\\n        return \"Остаток от деления с {}\".format(other)\\n    \\n    def __pow__(self, val):\\n        return \"Возведение в степень с {}\".format(other)',\n",
       "  'a = A()\\na + 1',\n",
       "  'a = A()\\na + 1',\n",
       "  '1 + a',\n",
       "  'class rA:\\n    # отраженное сложение\\n    def __radd__(self, other):\\n        return \"Отраженное сложение c {}\".format(other)\\n    \\n    # отраженное вычитание \\n    def __rsub__(self, other):\\n        return \"Отраженное вычитание c {}\".format(other)\\n    \\n    #  отраженное умножение\\n    def __rmul__(self, other):\\n        return \"Отраженное умножение c {}\".format(other)\\n    \\n    # отраженное целочисленное деление\\n    def __rfloordiv__(self, other):\\n        return \"Отраженное целочисленное деление c {}\".format(other)\\n    \\n    # отраженное деление\\n    def __rdiv__(self, other):\\n        return \"Отраженное деление c {}\".format(other)',\n",
       "  'a = rA()\\n1 + a',\n",
       "  'c1 = CustomComplex(1, 2)\\nc2 = CustomComplex(1, 4)\\n\\nc1 + c2',\n",
       "  'class CustomComplex:\\n    def __init__(self, real, im):\\n        self._real = real\\n        self._im = im\\n\\n    def __add__(self, other):\\n        return CustomComplex(self.real() + other.real(),\\n                             self.im() + other.im())\\n    \\n    def __str__(self):\\n        return \"{} + i{}\".format(self._real, self._im) \\n\\n    def __repr__(self):\\n        return str(self)\\n    \\n    def real(self):\\n        return self._real\\n    \\n    def im(self):\\n        return self._im',\n",
       "  'c1 = CustomComplex(1, 2)\\nc2 = CustomComplex(1, 4)\\n\\nc1 + c2',\n",
       "  'class D:\\n    def __eq__(self, other):\\n        return \"Равенство\"\\n    \\n    def __ne__(self, other):\\n        return \"Неравенство\"\\n    \\n    def __lt__(self, other):\\n        return \"Меньше\"\\n    \\n    def __gt__(self, other):\\n        return \"Больше\"\\n    \\n    def __le__(self, other):\\n        return \"Меньше или равно\"\\n    \\n    def __ge__(self, other):\\n        return \"Больше или равно\"',\n",
       "  'class ComparedStr(str):\\n    def __gt__(self, other):\\n        return len(self) > len(other)\\n    def __lt__(self, other):\\n        return len(self) < len(other)\\n    def __ge__(self, other):\\n        return len(self) >= len(other)\\n    def __le__(self, other):\\n        return len(self) <= len(other)\\n    def __eq__(self, other):\\n        return len(self) == len(other)',\n",
       "  'class ComparedStr(str):\\n    def __gt__(self, other):\\n        return len(self) > len(other)\\n    def __lt__(self, other):\\n        return len(self) < len(other)\\n    def __ge__(self, other):\\n        return len(self) >= len(other)\\n    def __le__(self, other):\\n        return len(self) <= len(other)\\n    def __eq__(self, other):\\n        return len(self) == len(other)',\n",
       "  'word1 = ComparedStr(\"word\")\\nword2 = ComparedStr(\"anotherWord\")\\nword2 > word1',\n",
       "  '# Запускает __eq__\\nword3 = ComparedStr(\"home\")\\nword1 == word3',\n",
       "  'word4 = word1',\n",
       "  'word4 is word1',\n",
       "  'class E:\\n    def __call__(self, arg):\\n        return \"Вызов объекта с аргументов {}\".format(arg)',\n",
       "  'e = E()\\ne(1)',\n",
       "  'globals[\"word4\"]',\n",
       "  'globals()[\"word4\"]',\n",
       "  'globals()[\"word1\"]',\n",
       "  'globals()[\"word1\"] is globals()[\"word4\"]',\n",
       "  '# Глобальное пространство имен\\nglobals()'],\n",
       " 'Out': {14: 'Сложение с 1',\n",
       "  15: 'Сложение с 1',\n",
       "  18: 'Отраженное сложение c 1',\n",
       "  21: 2 + i6,\n",
       "  25: True,\n",
       "  26: True,\n",
       "  28: True,\n",
       "  30: 'Вызов объекта с аргументов 1',\n",
       "  32: 'word',\n",
       "  33: 'word',\n",
       "  34: True},\n",
       " 'get_ipython': <bound method InteractiveShell.get_ipython of <ipykernel.zmqshell.ZMQInteractiveShell object at 0x7fd8e8dfbf10>>,\n",
       " 'exit': <IPython.core.autocall.ZMQExitAutocall at 0x7fd8e8e5cd00>,\n",
       " 'quit': <IPython.core.autocall.ZMQExitAutocall at 0x7fd8e8e5cd00>,\n",
       " '_': True,\n",
       " '__': 'word',\n",
       " '___': 'word',\n",
       " '_i': 'globals()[\"word1\"] is globals()[\"word4\"]',\n",
       " '_ii': 'globals()[\"word1\"]',\n",
       " '_iii': 'globals()[\"word4\"]',\n",
       " '_i1': 'from abc import ABC, abstractmethod\\n\\n\\nclass Rectangle:\\n    def set_w(self, w):\\n        self._w = w\\n        \\n    def set_h(self, h):\\n        self._h = h\\n        \\n    def area(self):\\n        return self._w * self._h\\n\\n\\nclass Square(Rectangle):\\n    def set_w(self, w):\\n        self._w = w\\n        self._h = w\\n        \\n    def set_h(self, h):\\n        self._h = h\\n        self._w = h\\n        \\n        \\ndef test_area(r):\\n    r.set_w(5)\\n    r.set_h(4)\\n    if (r.area() != 20):\\n        print(\"Неверно\")\\n    else:\\n        print(\"Верно\")',\n",
       " 'ABC': abc.ABC,\n",
       " 'abstractmethod': <function abc.abstractmethod(funcobj)>,\n",
       " 'Rectangle': __main__.Rectangle,\n",
       " 'Square': __main__.Square,\n",
       " 'test_area': <function __main__.test_area(r)>,\n",
       " '_i2': 'r = Rectangle()\\ntest_area(r)',\n",
       " 'r': <__main__.Rectangle at 0x7fd8ea3225e0>,\n",
       " '_i3': 's = Square()\\ntest_area(s)',\n",
       " 's': <__main__.Square at 0x7fd8ea322c10>,\n",
       " '_i4': 'class MyClass:\\n    _instances = dict()\\n    _init = False\\n\\n    def __new__(class_, *args, **kwargs):\\n        if class_ not in class_._instances:\\n            class_._instances[class_] = super(MyClass, class_).__new__(class_, *args, **kwargs)\\n        return class_._instances[class_]\\n    \\n    def __init__(self):\\n        if self._init:\\n            return\\n        super(MyClass, self).__init__()\\n        self._num = 0\\n        self._init = True\\n\\n    def set_num(self, num):\\n        self._num = num\\n        \\n    def get_num(self):\\n        return self._num',\n",
       " 'MyClass': __main__.MyClass,\n",
       " '_i5': 'print(MyClass().get_num())\\nMyClass().set_num(3)\\nprint(MyClass().get_num())',\n",
       " '_i6': 'from abc import ABC, abstractmethod\\n\\n\\nclass AbstractHandler:\\n    _next_handler = None\\n\\n    def set_next(self, handler):\\n        self._next_handler = handler\\n\\n    @abstractmethod\\n    def handle(self, request):\\n        if self._next_handler:\\n            return self._next_handler.handle(request)\\n\\n        return \"I don\\'t understand\"\\n\\n\\nclass HelloHandler(AbstractHandler):\\n    def handle(self, request):\\n        if request.lower() == \"hello\":\\n            return \"Hello, friend\"\\n        else:\\n#             if self._next_handler:\\n#                 return self._next_handler.handle(request)\\n            return super().handle(request)\\n\\n\\nclass ByeHandler(AbstractHandler):\\n    def handle(self, request):\\n        if request.lower() == \"bye\":\\n            return \"Bye, friend\"\\n        else:\\n            return super().handle(request)',\n",
       " 'AbstractHandler': __main__.AbstractHandler,\n",
       " 'HelloHandler': __main__.HelloHandler,\n",
       " 'ByeHandler': __main__.ByeHandler,\n",
       " '_i7': 'handler = HelloHandler()\\nhandler.set_next(ByeHandler())\\n\\nprint(handler.handle(\"Hello\"))',\n",
       " 'handler': <__main__.HelloHandler at 0x7fd8ea4e6970>,\n",
       " '_i8': 'handler = HelloHandler()\\nhandler.set_next(ByeHandler())\\n\\nprint(handler.handle(\"Bye\"))',\n",
       " '_i9': 'handler = HelloHandler()\\nhandler.set_next(ByeHandler())\\n\\nprint(handler.handle(\"sdfsdfdsf\"))',\n",
       " '_i10': 'from abc import ABC, abstractmethod\\n\\n# https://refactoring.guru/ru/design-patterns/command/python/example\\n# + в книге game patterns\\n\\ntexts = [\\n    \"First message\",\\n    \"Second message\",\\n    \"Third message\"\\n]\\n\\nclass Command(ABC):\\n    @abstractmethod\\n    def execute(self):\\n        pass\\n    \\n    @abstractmethod\\n    def cancel(self):\\n        pass\\n\\nclass DelCommand(Command):\\n    def __init__(self, idx):\\n        self._idx = idx\\n        self._text = None\\n    \\n    def execute(self):\\n        if self._idx > len(texts) - 1:\\n            raise Exception(\"Text isn\\'t found\")\\n        self._text = texts[self._idx]\\n        del texts[self._idx]\\n\\n    def cancel(self):\\n        if self._text is None:\\n            raise Exception(\"Command isn\\'t executed\")\\n        texts.insert(self._idx, self._text)\\n        \\n\\nprint(texts)\\ncommand = DelCommand(1)\\nprint(texts)\\ncommand.execute()\\nprint(texts)\\ncommand.cancel()\\nprint(texts)',\n",
       " 'texts': ['First message', 'Second message', 'Third message'],\n",
       " 'Command': __main__.Command,\n",
       " 'DelCommand': __main__.DelCommand,\n",
       " 'command': <__main__.DelCommand at 0x7fd8eb0c86a0>,\n",
       " '_i11': '# https://refactoring.guru/ru/design-patterns/observer/python/example\\n\\nclass Subscriber:\\n    def __init__(self, name):\\n        self._name = name\\n\\n    def update(self):\\n        print(\"{} получил уведомление\".format(self._name))\\n\\nclass Publisher:\\n    def __init__(self):\\n        self._subscribers = []\\n    \\n    def add_subscriber(self, subscriber):\\n        self._subscribers.append(subscriber)\\n    \\n    def notify(self):\\n        for subscriber in self._subscribers:\\n            subscriber.update()\\n            \\n    def do(self):\\n        print(\"Издаём новую книгу\")\\n        self.notify()',\n",
       " 'Subscriber': __main__.Subscriber,\n",
       " 'Publisher': __main__.Publisher,\n",
       " '_i12': 'publ = Publisher()\\nsubs1 = Subscriber(\"John\")\\nsubs2 = Subscriber(\"Jack\")\\n\\npubl.add_subscriber(subs1)\\npubl.add_subscriber(subs2)\\n\\npubl.do()',\n",
       " 'publ': <__main__.Publisher at 0x7fd8eb0bd970>,\n",
       " 'subs1': <__main__.Subscriber at 0x7fd8eb0bd850>,\n",
       " 'subs2': <__main__.Subscriber at 0x7fd8eb0bd580>,\n",
       " '_i13': 'class A:\\n    def __pos__(self):\\n        return \"Унарный плюс\"\\n    \\n    def __neg__(self):\\n        return \"Унарный минус\"\\n    \\n    def __add__(self, other):\\n        return \"Сложение с {}\".format(other)\\n    \\n    def __sub__(self, other):\\n        return \"Вычитание с {}\".format(other)\\n    \\n    def __mul__(self, other):\\n        return \"Умножение с {}\".format(other)\\n    \\n    def __floordiv__(self, other):\\n        return \"Целочисленное деление с {}\".format(other)\\n    \\n    def __div__(self, other):\\n        return \"Деление с {}\".format(other)\\n    \\n    def __mod__(self, other):\\n        return \"Остаток от деления с {}\".format(other)\\n    \\n    def __pow__(self, val):\\n        return \"Возведение в степень с {}\".format(other)',\n",
       " 'A': __main__.A,\n",
       " '_i14': 'a = A()\\na + 1',\n",
       " 'a': <__main__.rA at 0x7fd8eb143e20>,\n",
       " '_14': 'Сложение с 1',\n",
       " '_i15': 'a = A()\\na + 1',\n",
       " '_15': 'Сложение с 1',\n",
       " '_i16': '1 + a',\n",
       " '_i17': 'class rA:\\n    # отраженное сложение\\n    def __radd__(self, other):\\n        return \"Отраженное сложение c {}\".format(other)\\n    \\n    # отраженное вычитание \\n    def __rsub__(self, other):\\n        return \"Отраженное вычитание c {}\".format(other)\\n    \\n    #  отраженное умножение\\n    def __rmul__(self, other):\\n        return \"Отраженное умножение c {}\".format(other)\\n    \\n    # отраженное целочисленное деление\\n    def __rfloordiv__(self, other):\\n        return \"Отраженное целочисленное деление c {}\".format(other)\\n    \\n    # отраженное деление\\n    def __rdiv__(self, other):\\n        return \"Отраженное деление c {}\".format(other)',\n",
       " 'rA': __main__.rA,\n",
       " '_i18': 'a = rA()\\n1 + a',\n",
       " '_18': 'Отраженное сложение c 1',\n",
       " '_i19': 'c1 = CustomComplex(1, 2)\\nc2 = CustomComplex(1, 4)\\n\\nc1 + c2',\n",
       " '_i20': 'class CustomComplex:\\n    def __init__(self, real, im):\\n        self._real = real\\n        self._im = im\\n\\n    def __add__(self, other):\\n        return CustomComplex(self.real() + other.real(),\\n                             self.im() + other.im())\\n    \\n    def __str__(self):\\n        return \"{} + i{}\".format(self._real, self._im) \\n\\n    def __repr__(self):\\n        return str(self)\\n    \\n    def real(self):\\n        return self._real\\n    \\n    def im(self):\\n        return self._im',\n",
       " 'CustomComplex': __main__.CustomComplex,\n",
       " '_i21': 'c1 = CustomComplex(1, 2)\\nc2 = CustomComplex(1, 4)\\n\\nc1 + c2',\n",
       " 'c1': 1 + i2,\n",
       " 'c2': 1 + i4,\n",
       " '_21': 2 + i6,\n",
       " '_i22': 'class D:\\n    def __eq__(self, other):\\n        return \"Равенство\"\\n    \\n    def __ne__(self, other):\\n        return \"Неравенство\"\\n    \\n    def __lt__(self, other):\\n        return \"Меньше\"\\n    \\n    def __gt__(self, other):\\n        return \"Больше\"\\n    \\n    def __le__(self, other):\\n        return \"Меньше или равно\"\\n    \\n    def __ge__(self, other):\\n        return \"Больше или равно\"',\n",
       " 'D': __main__.D,\n",
       " '_i23': 'class ComparedStr(str):\\n    def __gt__(self, other):\\n        return len(self) > len(other)\\n    def __lt__(self, other):\\n        return len(self) < len(other)\\n    def __ge__(self, other):\\n        return len(self) >= len(other)\\n    def __le__(self, other):\\n        return len(self) <= len(other)\\n    def __eq__(self, other):\\n        return len(self) == len(other)',\n",
       " 'ComparedStr': __main__.ComparedStr,\n",
       " '_i24': 'class ComparedStr(str):\\n    def __gt__(self, other):\\n        return len(self) > len(other)\\n    def __lt__(self, other):\\n        return len(self) < len(other)\\n    def __ge__(self, other):\\n        return len(self) >= len(other)\\n    def __le__(self, other):\\n        return len(self) <= len(other)\\n    def __eq__(self, other):\\n        return len(self) == len(other)',\n",
       " '_i25': 'word1 = ComparedStr(\"word\")\\nword2 = ComparedStr(\"anotherWord\")\\nword2 > word1',\n",
       " 'word1': 'word',\n",
       " 'word2': 'anotherWord',\n",
       " '_25': True,\n",
       " '_i26': '# Запускает __eq__\\nword3 = ComparedStr(\"home\")\\nword1 == word3',\n",
       " 'word3': 'home',\n",
       " '_26': True,\n",
       " '_i27': 'word4 = word1',\n",
       " 'word4': 'word',\n",
       " '_i28': 'word4 is word1',\n",
       " '_28': True,\n",
       " '_i29': 'class E:\\n    def __call__(self, arg):\\n        return \"Вызов объекта с аргументов {}\".format(arg)',\n",
       " 'E': __main__.E,\n",
       " '_i30': 'e = E()\\ne(1)',\n",
       " 'e': <__main__.E at 0x7fd8e9699460>,\n",
       " '_30': 'Вызов объекта с аргументов 1',\n",
       " '_i31': 'globals[\"word4\"]',\n",
       " '_i32': 'globals()[\"word4\"]',\n",
       " '_32': 'word',\n",
       " '_i33': 'globals()[\"word1\"]',\n",
       " '_33': 'word',\n",
       " '_i34': 'globals()[\"word1\"] is globals()[\"word4\"]',\n",
       " '_34': True,\n",
       " '_i35': '# Глобальное пространство имен\\nglobals()'}"
      ]
     },
     "execution_count": 35,
     "metadata": {},
     "output_type": "execute_result"
    }
   ],
   "source": [
    "# Глобальное пространство имен\n",
    "globals()"
   ]
  },
  {
   "cell_type": "code",
   "execution_count": null,
   "id": "color-sending",
   "metadata": {},
   "outputs": [
    {
     "data": {
      "text/plain": [
       "__main__.MyClass"
      ]
     },
     "execution_count": 227,
     "metadata": {},
     "output_type": "execute_result"
    }
   ],
   "source": [
    "globals()[\"MyClass\"]"
   ]
  },
  {
   "cell_type": "code",
   "execution_count": null,
   "id": "brown-scratch",
   "metadata": {},
   "outputs": [
    {
     "data": {
      "text/plain": [
       "__main__.MyClass"
      ]
     },
     "execution_count": 229,
     "metadata": {},
     "output_type": "execute_result"
    }
   ],
   "source": [
    "MyClass"
   ]
  },
  {
   "cell_type": "code",
   "execution_count": null,
   "id": "lasting-monitoring",
   "metadata": {},
   "outputs": [],
   "source": [
    "# Глобальное пространство имен и пространство имен функции \n",
    "# \"а\" после функции не меняется\n",
    "\n",
    "a = 3\n",
    "\n",
    "def func():\n",
    "    a = 4"
   ]
  },
  {
   "cell_type": "code",
   "execution_count": null,
   "id": "likely-elizabeth",
   "metadata": {},
   "outputs": [
    {
     "name": "stdout",
     "output_type": "stream",
     "text": [
      "3\n",
      "3\n"
     ]
    }
   ],
   "source": [
    "print(a)\n",
    "func()\n",
    "print(a)"
   ]
  },
  {
   "cell_type": "markdown",
   "id": "southeast-skill",
   "metadata": {},
   "source": [
    "Область видимости представляет собой область в коде программы Python, где к пространству имен имеется прямой доступ. ”Прямой доступ” означает попытку найти имя в пространстве имен, используя ”чистую” ссылку без точек."
   ]
  },
  {
   "cell_type": "code",
   "execution_count": null,
   "id": "hairy-princess",
   "metadata": {},
   "outputs": [
    {
     "name": "stdout",
     "output_type": "stream",
     "text": [
      "3\n"
     ]
    }
   ],
   "source": [
    "a = 3\n",
    "\n",
    "def func():\n",
    "    print(a)\n",
    "\n",
    "func()"
   ]
  },
  {
   "cell_type": "code",
   "execution_count": null,
   "id": "reverse-details",
   "metadata": {},
   "outputs": [
    {
     "name": "stdout",
     "output_type": "stream",
     "text": [
      "5\n"
     ]
    }
   ],
   "source": [
    "a = 4\n",
    "\n",
    "def func():\n",
    "    global a\n",
    "    a = 5\n",
    "    \n",
    "func()\n",
    "print(a)"
   ]
  },
  {
   "cell_type": "code",
   "execution_count": null,
   "id": "unsigned-harassment",
   "metadata": {},
   "outputs": [
    {
     "name": "stdout",
     "output_type": "stream",
     "text": [
      "2\n"
     ]
    }
   ],
   "source": [
    "a = 1\n",
    "\n",
    "def func():\n",
    "    a = 2\n",
    "    def another_func():\n",
    "        print(a)\n",
    "    another_func()\n",
    "    \n",
    "func()"
   ]
  },
  {
   "cell_type": "code",
   "execution_count": null,
   "id": "5c3e1ccb",
   "metadata": {},
   "outputs": [
    {
     "name": "stdout",
     "output_type": "stream",
     "text": [
      "10\n"
     ]
    }
   ],
   "source": [
    "a = 1\n",
    "\n",
    "def func():\n",
    "    a = 2\n",
    "    def another_func():\n",
    "        nonlocal a\n",
    "        a = 10\n",
    "    another_func()\n",
    "    print(a)\n",
    "    \n",
    "func()"
   ]
  },
  {
   "cell_type": "code",
   "execution_count": null,
   "id": "internal-awareness",
   "metadata": {},
   "outputs": [
    {
     "name": "stdout",
     "output_type": "stream",
     "text": [
      "1\n"
     ]
    }
   ],
   "source": [
    "a = 1\n",
    "\n",
    "class N:\n",
    "    a = None\n",
    "    \n",
    "    def func(self):\n",
    "        print(a)\n",
    "        \n",
    "n = N()\n",
    "n.func()"
   ]
  },
  {
   "cell_type": "code",
   "execution_count": null,
   "id": "separate-advantage",
   "metadata": {},
   "outputs": [
    {
     "name": "stdout",
     "output_type": "stream",
     "text": [
      "None\n"
     ]
    }
   ],
   "source": [
    "a = 1\n",
    "\n",
    "class N:\n",
    "    a = None\n",
    "    \n",
    "    def func(self):\n",
    "        print(self.a)\n",
    "        \n",
    "n = N()\n",
    "n.func()"
   ]
  },
  {
   "cell_type": "code",
   "execution_count": null,
   "id": "photographic-merit",
   "metadata": {},
   "outputs": [
    {
     "name": "stdout",
     "output_type": "stream",
     "text": [
      "3\n"
     ]
    }
   ],
   "source": [
    "a = 1\n",
    "\n",
    "class N:\n",
    "    a = None\n",
    "    \n",
    "    def __init__(self):\n",
    "        self.a = 3\n",
    "    \n",
    "    def func(self):\n",
    "        print(self.a)\n",
    "        \n",
    "n = N()\n",
    "n.func()"
   ]
  },
  {
   "cell_type": "markdown",
   "id": "51edd6e5",
   "metadata": {},
   "source": [
    "# Вопросы для самостоятельного изучения\n",
    "\n",
    "1. Статические методы - \"Изучаем Python\" Лутца\n",
    "2. MRO (Method Resolution Order) - https://www.python.org/download/releases/2.3/mro/ и/или \"Python. Лучшие практики и инструменты\"\n",
    "3. Паттерны - https://refactoring.guru/ru/design-patterns/catalog и/или \"Приемы объектно-ориентированного проектирования. Паттерны проектирования\"\n",
    "4. Классовые методы - \"Изучаем Python\" Лутца\n",
    "5. Метаклассы (*) - https://docs.python.org/3/reference/datamodel.html#metaclasses и/или \"Изучаем Python\" Лутца"
   ]
  },
  {
   "cell_type": "markdown",
   "id": "3349ce78",
   "metadata": {},
   "source": [
    "# Вопросы для закрепления\n",
    "1. Что такое ООП? Пример.\n",
    "2. Принципы ООП. \n",
    "3. Отношения между классами.\n",
    "4. SOLID.\n",
    "5. Встроенные функции для работы с классами.\n"
   ]
  }
 ],
 "metadata": {
  "_draft": {
   "nbviewer_url": "https://gist.github.com/8f534c888df48f2788266763ba67e85a"
  },
  "gist": {
   "data": {
    "description": "OOP.ipynb",
    "public": false
   },
   "id": "8f534c888df48f2788266763ba67e85a"
  },
  "kernelspec": {
   "display_name": "Python 3.8.13 ('base')",
   "language": "python",
   "name": "python3"
  },
  "language_info": {
   "codemirror_mode": {
    "name": "ipython",
    "version": 3
   },
   "file_extension": ".py",
   "mimetype": "text/x-python",
   "name": "python",
   "nbconvert_exporter": "python",
   "pygments_lexer": "ipython3",
   "version": "3.8.13"
  },
  "vscode": {
   "interpreter": {
    "hash": "e7cb1b9ae4d417fedf7f40a8eec98f7cfbd359e096bd857395a915f4609834ce"
   }
  }
 },
 "nbformat": 4,
 "nbformat_minor": 5
}
