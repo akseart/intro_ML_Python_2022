{
 "cells": [
  {
   "cell_type": "markdown",
   "id": "e1c02ece",
   "metadata": {},
   "source": [
    "# Введение в методы анализа данных. Язык Python."
   ]
  },
  {
   "cell_type": "markdown",
   "id": "fe4f0986",
   "metadata": {},
   "source": [
    "## Лекция 4:  Элементы функционального программирования в Python. Работа с пакетами\n",
    "\n"
   ]
  },
  {
   "cell_type": "markdown",
   "id": "749e4b11",
   "metadata": {},
   "source": [
    "Аксентьев Артем (akseart@ya.ru)\n",
    "\n",
    "Ксемидов Борис (nstalker.anonim@yandex.ru) "
   ]
  },
  {
   "cell_type": "markdown",
   "id": "2003c3a8",
   "metadata": {},
   "source": [
    "# Элементы функционального программирования"
   ]
  },
  {
   "cell_type": "markdown",
   "id": "5af50746",
   "metadata": {},
   "source": [
    "## Lambda функции"
   ]
  },
  {
   "cell_type": "markdown",
   "id": "c4669dd1",
   "metadata": {},
   "source": [
    "- Из-за сходства с аналогичной возможностью в языке LISP она получила название lambda. \n",
    "- lambda-выражения иногда называют анонимными (то есть безымянными) функциями."
   ]
  },
  {
   "cell_type": "code",
   "execution_count": 7,
   "id": "1884c0e2",
   "metadata": {},
   "outputs": [
    {
     "data": {
      "text/plain": [
       "[184, 205, 226, 170]"
      ]
     },
     "execution_count": 7,
     "metadata": {},
     "output_type": "execute_result"
    }
   ],
   "source": [
    "def func(x):\n",
    "    return x^2 + 8 * x + 10\n",
    "\n",
    "x_list = [20, 25, 30, 22]\n",
    "\n",
    "out_list = []\n",
    "\n",
    "for i in x_list:\n",
    "    out_list.append(func(i))\n",
    "    \n",
    "out_list"
   ]
  },
  {
   "cell_type": "code",
   "execution_count": 8,
   "id": "6d86a5cb",
   "metadata": {},
   "outputs": [
    {
     "data": {
      "text/plain": [
       "[184, 205, 226, 170]"
      ]
     },
     "execution_count": 8,
     "metadata": {},
     "output_type": "execute_result"
    }
   ],
   "source": [
    "x_list = [20, 25, 30, 22]\n",
    "\n",
    "out_list = []\n",
    "\n",
    "for i in x_list:\n",
    "    out_list.append((lambda x: x^2 + 8 * x + 10)(i))\n",
    "    \n",
    "out_list"
   ]
  },
  {
   "cell_type": "code",
   "execution_count": 9,
   "id": "32336009",
   "metadata": {
    "pycharm": {
     "name": "#%%\n"
    }
   },
   "outputs": [
    {
     "data": {
      "text/plain": [
       "[1, 5, 2, -1, 50, 100]"
      ]
     },
     "execution_count": 9,
     "metadata": {},
     "output_type": "execute_result"
    }
   ],
   "source": [
    "sorted([1, -1, 100, 5, 50, 2], key=lambda x: len(str(x)))"
   ]
  },
  {
   "cell_type": "code",
   "execution_count": 10,
   "id": "144c7821",
   "metadata": {},
   "outputs": [],
   "source": [
    "f = lambda x, y: x if x > y else y\n",
    "\n",
    "f = lambda x, y: (x if x > y else y) if x > 10 else 10\n",
    "\n",
    "f = lambda a, b, c: (a and b) or c"
   ]
  },
  {
   "cell_type": "code",
   "execution_count": 11,
   "id": "753a3976",
   "metadata": {},
   "outputs": [
    {
     "data": {
      "text/plain": [
       "2"
      ]
     },
     "execution_count": 11,
     "metadata": {},
     "output_type": "execute_result"
    }
   ],
   "source": [
    "f(1, 2, 3)"
   ]
  },
  {
   "cell_type": "markdown",
   "id": "85955ae3",
   "metadata": {},
   "source": [
    "## Map функции\n",
    "\n",
    "Применяют функцию к последовательности"
   ]
  },
  {
   "cell_type": "code",
   "execution_count": 13,
   "id": "1bc0772a",
   "metadata": {
    "pycharm": {
     "name": "#%%\n"
    }
   },
   "outputs": [
    {
     "data": {
      "text/plain": [
       "[10, 20, 30]"
      ]
     },
     "execution_count": 13,
     "metadata": {},
     "output_type": "execute_result"
    }
   ],
   "source": [
    "list(map(int, input().split()))"
   ]
  },
  {
   "cell_type": "code",
   "execution_count": 14,
   "id": "1d8facd1",
   "metadata": {
    "pycharm": {
     "name": "#%%\n"
    }
   },
   "outputs": [
    {
     "data": {
      "text/plain": [
       "[10, 20, 30]"
      ]
     },
     "execution_count": 14,
     "metadata": {},
     "output_type": "execute_result"
    }
   ],
   "source": [
    "def my_map(seq, func):\n",
    "    res = []\n",
    "    for i in seq:\n",
    "        res.append(func(i))\n",
    "    return res\n",
    "\n",
    "my_map(input().split(), int)"
   ]
  },
  {
   "cell_type": "code",
   "execution_count": 15,
   "id": "b89146d4",
   "metadata": {},
   "outputs": [
    {
     "data": {
      "text/plain": [
       "[184, 205, 226, 170]"
      ]
     },
     "execution_count": 15,
     "metadata": {},
     "output_type": "execute_result"
    }
   ],
   "source": [
    "x_list = [20, 25, 30, 22]\n",
    "\n",
    "out_list = list(map(lambda x: x^2 + 8 * x + 10, x_list))\n",
    "\n",
    "out_list"
   ]
  },
  {
   "cell_type": "code",
   "execution_count": 16,
   "id": "3ff69830",
   "metadata": {
    "pycharm": {
     "name": "#%%\n"
    }
   },
   "outputs": [
    {
     "data": {
      "text/plain": [
       "8.0"
      ]
     },
     "execution_count": 16,
     "metadata": {},
     "output_type": "execute_result"
    }
   ],
   "source": [
    "pow(2, 3)"
   ]
  },
  {
   "cell_type": "code",
   "execution_count": 17,
   "id": "7f5ca5d4",
   "metadata": {},
   "outputs": [
    {
     "data": {
      "text/plain": [
       "[1.0, 16.0, 243.0]"
      ]
     },
     "execution_count": 17,
     "metadata": {},
     "output_type": "execute_result"
    }
   ],
   "source": [
    "list(map(pow, [1, 2, 3], [3, 4, 5]))"
   ]
  },
  {
   "cell_type": "code",
   "execution_count": 18,
   "id": "ac8ef668",
   "metadata": {},
   "outputs": [
    {
     "data": {
      "text/plain": [
       "243"
      ]
     },
     "execution_count": 18,
     "metadata": {},
     "output_type": "execute_result"
    }
   ],
   "source": [
    "3 ** 5"
   ]
  },
  {
   "cell_type": "code",
   "execution_count": 21,
   "id": "ffe98f41",
   "metadata": {},
   "outputs": [
    {
     "name": "stdout",
     "output_type": "stream",
     "text": [
      "[11, 13, 33, 42, 7, 70, 53, 71, 63, 36, 90, 47, 29, 76, 67, 58, 87, 78, 79, 99]\n",
      "[7, 11, 13, 29, 33, 36, 42, 47, 53, 58, 63, 67, 70, 71, 76, 78, 79, 87, 90, 99]\n"
     ]
    }
   ],
   "source": [
    "a = [53, 33, 76, 42, 87, 47, 11, 67, 58, 79, 78, 13, 63, 29, 71, 36, 90, 7, 99, 70]\n",
    "# Сортируем по сумме цифр числа\n",
    "print(sorted(a, key = lambda x: sum(list(map(int, list(str(x)))))))\n",
    "print(sorted(a))"
   ]
  },
  {
   "cell_type": "markdown",
   "id": "562dbd25",
   "metadata": {},
   "source": [
    "## Filter"
   ]
  },
  {
   "cell_type": "code",
   "execution_count": 22,
   "id": "3f114c26",
   "metadata": {},
   "outputs": [
    {
     "data": {
      "text/plain": [
       "[53, 33, 76, 42, 87, 47, 11, 67, 58, 79, 78, 13, 63, 29, 71, 36, 90, 99, 70]"
      ]
     },
     "execution_count": 22,
     "metadata": {},
     "output_type": "execute_result"
    }
   ],
   "source": [
    "a = [53, 33, 76, 42, 87, 47, 11, 67, 58, 79, 78, 13, 63, 29, 71, 36, 90, 7, 99, 70]\n",
    "\n",
    "list(filter(lambda x: x > 10, a))"
   ]
  },
  {
   "cell_type": "markdown",
   "id": "744d2990",
   "metadata": {},
   "source": [
    "## Reduce"
   ]
  },
  {
   "cell_type": "markdown",
   "id": "1e3ea81b",
   "metadata": {},
   "source": [
    "\"Накапливаемый\" map"
   ]
  },
  {
   "cell_type": "code",
   "execution_count": 28,
   "id": "782ead8a",
   "metadata": {},
   "outputs": [
    {
     "data": {
      "text/plain": [
       "(1109, 1109)"
      ]
     },
     "execution_count": 28,
     "metadata": {},
     "output_type": "execute_result"
    }
   ],
   "source": [
    "from functools import reduce\n",
    "a = [53, 33, 76, 42, 87, 47, 11, 67, 58, 79, 78, 13, 63, 29, 71, 36, 90, 7, 99, 70]\n",
    "\n",
    "reduce(lambda x, y: x+y, a), sum(a)"
   ]
  },
  {
   "cell_type": "markdown",
   "id": "c77441d8",
   "metadata": {},
   "source": [
    "## Агрегирующие функции"
   ]
  },
  {
   "cell_type": "code",
   "execution_count": 29,
   "id": "4bf0e506",
   "metadata": {},
   "outputs": [
    {
     "data": {
      "text/plain": [
       "10"
      ]
     },
     "execution_count": 29,
     "metadata": {},
     "output_type": "execute_result"
    }
   ],
   "source": [
    "sum([1, 2, 3, 4])"
   ]
  },
  {
   "cell_type": "code",
   "execution_count": 2,
   "id": "64499537",
   "metadata": {},
   "outputs": [
    {
     "data": {
      "text/plain": [
       "False"
      ]
     },
     "execution_count": 2,
     "metadata": {},
     "output_type": "execute_result"
    }
   ],
   "source": [
    "all([True, False, True])"
   ]
  },
  {
   "cell_type": "code",
   "execution_count": 3,
   "id": "99e4d4f9",
   "metadata": {},
   "outputs": [
    {
     "data": {
      "text/plain": [
       "True"
      ]
     },
     "execution_count": 3,
     "metadata": {},
     "output_type": "execute_result"
    }
   ],
   "source": [
    "any([True, False, False])"
   ]
  },
  {
   "cell_type": "markdown",
   "id": "4a29fddb",
   "metadata": {},
   "source": [
    "# Итераторы"
   ]
  },
  {
   "cell_type": "code",
   "execution_count": 30,
   "id": "8ece1eeb",
   "metadata": {},
   "outputs": [
    {
     "name": "stdout",
     "output_type": "stream",
     "text": [
      "0\n",
      "1\n",
      "2\n",
      "3\n",
      "4\n"
     ]
    }
   ],
   "source": [
    "r = range(5)\n",
    "\n",
    "for i in r:\n",
    "    print(i)"
   ]
  },
  {
   "cell_type": "code",
   "execution_count": 31,
   "id": "a142ecd9",
   "metadata": {},
   "outputs": [
    {
     "name": "stdout",
     "output_type": "stream",
     "text": [
      "0\n",
      "1\n",
      "2\n",
      "3\n",
      "4\n"
     ]
    },
    {
     "ename": "StopIteration",
     "evalue": "",
     "output_type": "error",
     "traceback": [
      "\u001b[0;31m---------------------------------------------------------------------------\u001b[0m",
      "\u001b[0;31mStopIteration\u001b[0m                             Traceback (most recent call last)",
      "\u001b[0;32m/var/folders/g0/yt0m6mx534b6cl53216hwy940000gn/T/ipykernel_94085/4208178700.py\u001b[0m in \u001b[0;36m<module>\u001b[0;34m\u001b[0m\n\u001b[1;32m      6\u001b[0m \u001b[0mprint\u001b[0m\u001b[0;34m(\u001b[0m\u001b[0mnext\u001b[0m\u001b[0;34m(\u001b[0m\u001b[0mit\u001b[0m\u001b[0;34m)\u001b[0m\u001b[0;34m)\u001b[0m\u001b[0;34m\u001b[0m\u001b[0;34m\u001b[0m\u001b[0m\n\u001b[1;32m      7\u001b[0m \u001b[0mprint\u001b[0m\u001b[0;34m(\u001b[0m\u001b[0mnext\u001b[0m\u001b[0;34m(\u001b[0m\u001b[0mit\u001b[0m\u001b[0;34m)\u001b[0m\u001b[0;34m)\u001b[0m\u001b[0;34m\u001b[0m\u001b[0;34m\u001b[0m\u001b[0m\n\u001b[0;32m----> 8\u001b[0;31m \u001b[0mprint\u001b[0m\u001b[0;34m(\u001b[0m\u001b[0mnext\u001b[0m\u001b[0;34m(\u001b[0m\u001b[0mit\u001b[0m\u001b[0;34m)\u001b[0m\u001b[0;34m)\u001b[0m\u001b[0;34m\u001b[0m\u001b[0;34m\u001b[0m\u001b[0m\n\u001b[0m",
      "\u001b[0;31mStopIteration\u001b[0m: "
     ]
    }
   ],
   "source": [
    "it = iter(r)\n",
    "\n",
    "print(next(it))\n",
    "print(it.__next__())\n",
    "print(next(it))\n",
    "print(next(it))\n",
    "print(next(it))\n",
    "print(next(it))"
   ]
  },
  {
   "cell_type": "code",
   "execution_count": 32,
   "id": "69154b34",
   "metadata": {},
   "outputs": [
    {
     "name": "stdout",
     "output_type": "stream",
     "text": [
      "H\n",
      "e\n",
      "l\n",
      "l\n",
      "o\n",
      " \n",
      "w\n",
      "o\n",
      "r\n",
      "l\n",
      "d\n"
     ]
    }
   ],
   "source": [
    "for i in \"Hello world\":\n",
    "    print(i)\n",
    "    ..."
   ]
  },
  {
   "cell_type": "code",
   "execution_count": 33,
   "id": "f0c56c29",
   "metadata": {},
   "outputs": [
    {
     "name": "stdout",
     "output_type": "stream",
     "text": [
      "H\n",
      "e\n",
      "l\n",
      "l\n",
      "o\n",
      " \n",
      "w\n",
      "o\n",
      "r\n",
      "l\n",
      "d\n"
     ]
    }
   ],
   "source": [
    "it = iter(\"Hello world\")\n",
    "while True:\n",
    "    try:\n",
    "        i = next(it)\n",
    "        print(i)\n",
    "        ...\n",
    "    except StopIteration:\n",
    "        break"
   ]
  },
  {
   "cell_type": "code",
   "execution_count": 34,
   "id": "bc4e2184",
   "metadata": {
    "pycharm": {
     "name": "#%%\n"
    }
   },
   "outputs": [],
   "source": [
    "class Data:\n",
    "    def __init__(self):\n",
    "        self._data = [1, 2, 3, 4]\n",
    "        self._data_len = len(self._data)\n",
    "\n",
    "    def __iter__(self):\n",
    "        self._index = 0\n",
    "        return self\n",
    "\n",
    "    def __next__(self):\n",
    "        if self._index > self._data_len - 1:\n",
    "            raise StopIteration\n",
    "        result =  self._data[self._index]\n",
    "        self._index += 1\n",
    "        return result\n",
    "\n",
    "my_iter = Data()"
   ]
  },
  {
   "cell_type": "code",
   "execution_count": 35,
   "id": "f4d9da28",
   "metadata": {
    "pycharm": {
     "name": "#%%\n"
    }
   },
   "outputs": [
    {
     "name": "stdout",
     "output_type": "stream",
     "text": [
      "1\n",
      "2\n",
      "3\n",
      "4\n"
     ]
    }
   ],
   "source": [
    "for i in my_iter:\n",
    "    print(i)"
   ]
  },
  {
   "cell_type": "markdown",
   "id": "65a1308b",
   "metadata": {
    "heading_collapsed": true
   },
   "source": [
    "# Генераторы"
   ]
  },
  {
   "cell_type": "markdown",
   "id": "5c2f6ca0",
   "metadata": {
    "hidden": true
   },
   "source": [
    "- В генераторе вместо return используется ключевое слово yield\n",
    "- yield используется для возвращения очередного значения коллекции\n",
    "- Генератор автоматически хранит своё внутреннее состояние"
   ]
  },
  {
   "cell_type": "code",
   "execution_count": 36,
   "id": "49cf9fae",
   "metadata": {
    "hidden": true
   },
   "outputs": [
    {
     "name": "stdout",
     "output_type": "stream",
     "text": [
      "Start \"Hello world!\"\n",
      "Hello world!\n",
      "Hello world!\n",
      "Hello world!\n",
      "Hello world!\n",
      "Hello world!\n",
      "Hello world!\n",
      "Hello world!\n",
      "Hello world!\n",
      "Hello world!\n",
      "Hello world!\n",
      "Stop \"Hello world!\"\n"
     ]
    }
   ],
   "source": [
    "def my_hello(n):\n",
    "    yield 'Start \"Hello world!\"'\n",
    "    i = 1\n",
    "    for i in range(n):\n",
    "        yield 'Hello world!'\n",
    "    yield 'Stop \"Hello world!\"'\n",
    "        \n",
    "gen = my_hello(10)\n",
    "\n",
    "for s in gen:\n",
    "    print(s)"
   ]
  },
  {
   "cell_type": "code",
   "execution_count": 80,
   "id": "6679fd98",
   "metadata": {},
   "outputs": [
    {
     "data": {
      "text/plain": [
       "'Start \"Hello world!\"'"
      ]
     },
     "execution_count": 80,
     "metadata": {},
     "output_type": "execute_result"
    }
   ],
   "source": [
    "gen = my_hello(10)\n",
    "next(gen)"
   ]
  },
  {
   "cell_type": "code",
   "execution_count": 82,
   "id": "7c5bf6fc",
   "metadata": {},
   "outputs": [
    {
     "ename": "TypeError",
     "evalue": "object of type 'generator' has no len()",
     "output_type": "error",
     "traceback": [
      "\u001b[0;31m---------------------------------------------------------------------------\u001b[0m",
      "\u001b[0;31mTypeError\u001b[0m                                 Traceback (most recent call last)",
      "\u001b[0;32m/var/folders/g0/yt0m6mx534b6cl53216hwy940000gn/T/ipykernel_94085/3739539351.py\u001b[0m in \u001b[0;36m<module>\u001b[0;34m\u001b[0m\n\u001b[0;32m----> 1\u001b[0;31m \u001b[0mlen\u001b[0m\u001b[0;34m(\u001b[0m\u001b[0mgen\u001b[0m\u001b[0;34m)\u001b[0m\u001b[0;34m\u001b[0m\u001b[0;34m\u001b[0m\u001b[0m\n\u001b[0m",
      "\u001b[0;31mTypeError\u001b[0m: object of type 'generator' has no len()"
     ]
    }
   ],
   "source": [
    "len(gen)"
   ]
  },
  {
   "cell_type": "code",
   "execution_count": 49,
   "id": "54682d59",
   "metadata": {},
   "outputs": [
    {
     "ename": "StopIteration",
     "evalue": "",
     "output_type": "error",
     "traceback": [
      "\u001b[0;31m---------------------------------------------------------------------------\u001b[0m",
      "\u001b[0;31mStopIteration\u001b[0m                             Traceback (most recent call last)",
      "\u001b[0;32m/var/folders/g0/yt0m6mx534b6cl53216hwy940000gn/T/ipykernel_94085/4293081279.py\u001b[0m in \u001b[0;36m<module>\u001b[0;34m\u001b[0m\n\u001b[0;32m----> 1\u001b[0;31m \u001b[0mnext\u001b[0m\u001b[0;34m(\u001b[0m\u001b[0mgen\u001b[0m\u001b[0;34m)\u001b[0m\u001b[0;34m\u001b[0m\u001b[0;34m\u001b[0m\u001b[0m\n\u001b[0m",
      "\u001b[0;31mStopIteration\u001b[0m: "
     ]
    }
   ],
   "source": [
    "next(gen)"
   ]
  },
  {
   "cell_type": "markdown",
   "id": "f4ffa020",
   "metadata": {},
   "source": [
    "## Зачем?\n",
    "Для экономии памяти, ведь мы не загружаем в память весь набор данных, а лишь одну формулу для вычисления элементов этого набора данных"
   ]
  },
  {
   "cell_type": "markdown",
   "id": "030accf3",
   "metadata": {},
   "source": [
    "# Механизм comprehensions (Генератор коллекций)\n"
   ]
  },
  {
   "cell_type": "code",
   "execution_count": null,
   "id": "9d955739",
   "metadata": {
    "pycharm": {
     "name": "#%%\n"
    }
   },
   "outputs": [],
   "source": [
    "gen = my_hello(10)\n",
    "it = iter(gen)\n"
   ]
  },
  {
   "cell_type": "code",
   "execution_count": null,
   "id": "49547cb6",
   "metadata": {
    "pycharm": {
     "name": "#%%\n"
    }
   },
   "outputs": [],
   "source": [
    "next(it)"
   ]
  },
  {
   "cell_type": "markdown",
   "id": "ea8bc091",
   "metadata": {},
   "source": [
    "## list comprehension"
   ]
  },
  {
   "cell_type": "code",
   "execution_count": 50,
   "id": "40374f4a",
   "metadata": {},
   "outputs": [
    {
     "data": {
      "text/plain": [
       "[1, 2, 3, 4, 5, 6, 7, 8, 9]"
      ]
     },
     "execution_count": 50,
     "metadata": {},
     "output_type": "execute_result"
    }
   ],
   "source": [
    "[i for i in range(1, 10)]"
   ]
  },
  {
   "cell_type": "code",
   "execution_count": 51,
   "id": "2b866026",
   "metadata": {},
   "outputs": [
    {
     "data": {
      "text/plain": [
       "[2, 4, 6, 8]"
      ]
     },
     "execution_count": 51,
     "metadata": {},
     "output_type": "execute_result"
    }
   ],
   "source": [
    "[i for i in range(1, 10) if i % 2 == 0]"
   ]
  },
  {
   "cell_type": "code",
   "execution_count": 52,
   "id": "4d06670c",
   "metadata": {},
   "outputs": [
    {
     "data": {
      "text/plain": [
       "[2, 4, 6]"
      ]
     },
     "execution_count": 52,
     "metadata": {},
     "output_type": "execute_result"
    }
   ],
   "source": [
    "[i for i in range(1, 10) if i % 2 == 0 and i < 7]"
   ]
  },
  {
   "cell_type": "code",
   "execution_count": 53,
   "id": "cd5c5694",
   "metadata": {},
   "outputs": [
    {
     "data": {
      "text/plain": [
       "[4, 16, 36]"
      ]
     },
     "execution_count": 53,
     "metadata": {},
     "output_type": "execute_result"
    }
   ],
   "source": [
    "[i ** 2 for i in range(1, 10) if i % 2 == 0 and i < 7]"
   ]
  },
  {
   "cell_type": "code",
   "execution_count": 54,
   "id": "f6188d1b",
   "metadata": {},
   "outputs": [
    {
     "data": {
      "text/plain": [
       "[4, 4, 6]"
      ]
     },
     "execution_count": 54,
     "metadata": {},
     "output_type": "execute_result"
    }
   ],
   "source": [
    "[i ** 2 if i < 4 else i for i in range(1, 10) if i % 2 == 0 and i < 7]"
   ]
  },
  {
   "cell_type": "markdown",
   "id": "f8c2671b",
   "metadata": {},
   "source": [
    "## set comprehension "
   ]
  },
  {
   "cell_type": "code",
   "execution_count": 55,
   "id": "b2ac1de0",
   "metadata": {},
   "outputs": [
    {
     "data": {
      "text/plain": [
       "{2, 4, 6, 8, 10, 12, 14, 16, 18, 20, 22, 24}"
      ]
     },
     "execution_count": 55,
     "metadata": {},
     "output_type": "execute_result"
    }
   ],
   "source": [
    "{i for i in range(1, 25) if i % 2 == 0}"
   ]
  },
  {
   "cell_type": "markdown",
   "id": "182cc733",
   "metadata": {},
   "source": [
    "## dictionary comprehension"
   ]
  },
  {
   "cell_type": "code",
   "execution_count": 57,
   "id": "7e28b12e",
   "metadata": {},
   "outputs": [
    {
     "data": {
      "text/plain": [
       "{2: 4,\n",
       " 4: 16,\n",
       " 6: 36,\n",
       " 8: 64,\n",
       " 10: 100,\n",
       " 12: 144,\n",
       " 14: 196,\n",
       " 16: 256,\n",
       " 18: 324,\n",
       " 20: 400,\n",
       " 22: 484,\n",
       " 24: 576}"
      ]
     },
     "execution_count": 57,
     "metadata": {},
     "output_type": "execute_result"
    }
   ],
   "source": [
    "{i : i**2 for i in range(1, 25) if i % 2 == 0}"
   ]
  },
  {
   "cell_type": "markdown",
   "id": "5336b320",
   "metadata": {},
   "source": [
    "# Декораторы"
   ]
  },
  {
   "cell_type": "code",
   "execution_count": 58,
   "id": "2fba641f",
   "metadata": {},
   "outputs": [
    {
     "name": "stdout",
     "output_type": "stream",
     "text": [
      "Hello world\n"
     ]
    }
   ],
   "source": [
    "def my_decorator(func_to_decorate):\n",
    "    def wrapper_func():\n",
    "        print(\"Можно выполнить что-то до функции\")\n",
    "        func_to_decorate()\n",
    "        print(\"Можно что-то после\")\n",
    "    return wrapper_func\n",
    "\n",
    "def hello():\n",
    "    print(\"Hello world\")\n",
    "\n",
    "hello()"
   ]
  },
  {
   "cell_type": "code",
   "execution_count": 59,
   "id": "dfdd282d",
   "metadata": {},
   "outputs": [
    {
     "name": "stdout",
     "output_type": "stream",
     "text": [
      "Можно выполнить что-то до функции\n",
      "Hello world\n",
      "Можно что-то после\n"
     ]
    }
   ],
   "source": [
    "def hello():\n",
    "    print(\"Hello world\")\n",
    "    \n",
    "hello_with_decorate = my_decorator(hello)\n",
    "hello_with_decorate()"
   ]
  },
  {
   "cell_type": "code",
   "execution_count": 60,
   "id": "9ba00a03",
   "metadata": {},
   "outputs": [],
   "source": [
    "@my_decorator\n",
    "def hello():\n",
    "    print(\"Hello world\")"
   ]
  },
  {
   "cell_type": "code",
   "execution_count": 61,
   "id": "7090be4d",
   "metadata": {},
   "outputs": [
    {
     "name": "stdout",
     "output_type": "stream",
     "text": [
      "Можно выполнить что-то до функции\n",
      "Hello world\n",
      "Можно что-то после\n"
     ]
    }
   ],
   "source": [
    "hello()"
   ]
  },
  {
   "cell_type": "code",
   "execution_count": 62,
   "id": "a9630fc8",
   "metadata": {},
   "outputs": [],
   "source": [
    "import time\n",
    "def times_for_func(func_to_decorate):\n",
    "    def wrapper():\n",
    "        before = time.time()\n",
    "        func_to_decorate()\n",
    "        print(time.time() - before)\n",
    "    \n",
    "    return wrapper"
   ]
  },
  {
   "cell_type": "code",
   "execution_count": 69,
   "id": "a14f00df",
   "metadata": {},
   "outputs": [],
   "source": [
    "@times_for_func\n",
    "def hello(a):\n",
    "    time.sleep(1)\n",
    "    print(\"Hello world\" + a)"
   ]
  },
  {
   "cell_type": "code",
   "execution_count": 70,
   "id": "39ab5af8",
   "metadata": {},
   "outputs": [
    {
     "ename": "TypeError",
     "evalue": "wrapper() takes 0 positional arguments but 1 was given",
     "output_type": "error",
     "traceback": [
      "\u001b[0;31m---------------------------------------------------------------------------\u001b[0m",
      "\u001b[0;31mTypeError\u001b[0m                                 Traceback (most recent call last)",
      "\u001b[0;32m/var/folders/g0/yt0m6mx534b6cl53216hwy940000gn/T/ipykernel_94085/2156363632.py\u001b[0m in \u001b[0;36m<module>\u001b[0;34m\u001b[0m\n\u001b[0;32m----> 1\u001b[0;31m \u001b[0mhello\u001b[0m\u001b[0;34m(\u001b[0m\u001b[0;34m\"1\"\u001b[0m\u001b[0;34m)\u001b[0m\u001b[0;34m\u001b[0m\u001b[0;34m\u001b[0m\u001b[0m\n\u001b[0m",
      "\u001b[0;31mTypeError\u001b[0m: wrapper() takes 0 positional arguments but 1 was given"
     ]
    }
   ],
   "source": [
    "hello(\"1\")"
   ]
  },
  {
   "cell_type": "code",
   "execution_count": 71,
   "id": "6b90db75",
   "metadata": {},
   "outputs": [],
   "source": [
    "import time\n",
    "def times_for_func(func_to_decorate):\n",
    "    def wrapper(*args, **kwargs):\n",
    "        before = time.time()\n",
    "        func_to_decorate(*args, **kwargs)\n",
    "        print(time.time() - before)\n",
    "    \n",
    "    return wrapper\n",
    "\n",
    "\n",
    "@times_for_func\n",
    "def hello(a, b):\n",
    "    print(\"Hello world\", a + b)\n"
   ]
  },
  {
   "cell_type": "code",
   "execution_count": 72,
   "id": "13b5f622",
   "metadata": {},
   "outputs": [
    {
     "name": "stdout",
     "output_type": "stream",
     "text": [
      "Hello world 40\n",
      "2.193450927734375e-05\n"
     ]
    }
   ],
   "source": [
    "hello(10, 30)"
   ]
  },
  {
   "cell_type": "markdown",
   "id": "6a197e5e",
   "metadata": {},
   "source": [
    "# Функторы\n",
    "\n",
    "Объекты, похожие на функции"
   ]
  },
  {
   "cell_type": "code",
   "execution_count": 73,
   "id": "7885c0aa",
   "metadata": {
    "pycharm": {
     "name": "#%%\n"
    }
   },
   "outputs": [
    {
     "name": "stdout",
     "output_type": "stream",
     "text": [
      "3 3\n"
     ]
    }
   ],
   "source": [
    "def foo_functor(val1):\n",
    "    def closure(val2):\n",
    "        return val1 + val2\n",
    "    return closure\n",
    "\n",
    "class clsFunctor(object):\n",
    "    def __init__(self, val1):\n",
    "        self.val1 = val1\n",
    "    def __call__(self, val2):\n",
    "        return self.val1 + val2\n",
    "\n",
    "cl = clsFunctor(2)\n",
    "fn = foo_functor(2)\n",
    "\n",
    "print(cl(1), fn(1))"
   ]
  },
  {
   "cell_type": "markdown",
   "id": "e14284a1",
   "metadata": {},
   "source": [
    "# Функция zip"
   ]
  },
  {
   "cell_type": "code",
   "execution_count": 74,
   "id": "e44f9892",
   "metadata": {
    "pycharm": {
     "name": "#%%\n"
    }
   },
   "outputs": [
    {
     "name": "stdout",
     "output_type": "stream",
     "text": [
      "11\n",
      "22\n",
      "33\n",
      "44\n",
      "55\n"
     ]
    }
   ],
   "source": [
    "a = [1, 2, 3, 4, 5]\n",
    "b = [10, 20, 30, 40, 50]\n",
    "for (x, y) in zip(a, b):\n",
    "    print(x + y)"
   ]
  },
  {
   "cell_type": "code",
   "execution_count": 75,
   "id": "03b38c55",
   "metadata": {
    "pycharm": {
     "name": "#%%\n"
    }
   },
   "outputs": [
    {
     "data": {
      "text/plain": [
       "[(1, 10), (2, 20), (3, 30), (4, 40), (5, 50)]"
      ]
     },
     "execution_count": 75,
     "metadata": {},
     "output_type": "execute_result"
    }
   ],
   "source": [
    "a = [1, 2, 3, 4, 5]\n",
    "b = [10, 20, 30, 40, 50]\n",
    "c = list(zip(a, b))\n",
    "c"
   ]
  },
  {
   "cell_type": "code",
   "execution_count": 76,
   "id": "a289494f",
   "metadata": {
    "pycharm": {
     "name": "#%%\n"
    }
   },
   "outputs": [
    {
     "data": {
      "text/plain": [
       "[(1, 10, 100), (2, 20, 200), (3, 30, 300), (4, 40, 400)]"
      ]
     },
     "execution_count": 76,
     "metadata": {},
     "output_type": "execute_result"
    }
   ],
   "source": [
    "a = [1, 2, 3, 4, 5]\n",
    "b = [10, 20, 30, 40, 50]\n",
    "c = [100, 200, 300, 400]\n",
    "d = list(zip(a, b, c))\n",
    "d"
   ]
  },
  {
   "cell_type": "markdown",
   "id": "5f83207c",
   "metadata": {
    "pycharm": {
     "name": "#%% md\n"
    }
   },
   "source": [
    "range -- генератор или нет?"
   ]
  },
  {
   "cell_type": "markdown",
   "id": "85588bf0",
   "metadata": {
    "pycharm": {
     "name": "#%% md\n"
    }
   },
   "source": [
    "1. range имеет дополнительные атрибуты:\n",
    "    - range неизменяемы\n",
    "    - имеют полезные атрибуты (len, index, __getitem__)\n",
    "    - Можно итерироваться многократно\n",
    "2. Не хранит всю последдовательность в памяти"
   ]
  },
  {
   "cell_type": "code",
   "execution_count": 90,
   "id": "e42bca49",
   "metadata": {},
   "outputs": [
    {
     "data": {
      "text/plain": [
       "4"
      ]
     },
     "execution_count": 90,
     "metadata": {},
     "output_type": "execute_result"
    }
   ],
   "source": [
    "range(-1, 10)[5]"
   ]
  },
  {
   "cell_type": "code",
   "execution_count": 88,
   "id": "7ab47338",
   "metadata": {},
   "outputs": [
    {
     "data": {
      "text/plain": [
       "[0, 1, 2, 3, 4, 5, 6, 7, 8, 9]"
      ]
     },
     "execution_count": 88,
     "metadata": {},
     "output_type": "execute_result"
    }
   ],
   "source": [
    "list(range(10))"
   ]
  },
  {
   "cell_type": "markdown",
   "id": "b7649d12",
   "metadata": {},
   "source": [
    "# Интересные трюки"
   ]
  },
  {
   "cell_type": "markdown",
   "id": "eda8b6d6",
   "metadata": {},
   "source": [
    "Идет обработка большого массива данных, есть список стоп слов, если в строке встречается какое-либо стоп слово, то эта строка никак не обрабатывается"
   ]
  },
  {
   "cell_type": "code",
   "execution_count": 4,
   "id": "eead6eac",
   "metadata": {},
   "outputs": [],
   "source": [
    "temp = [\"Hello\", \"World\", \"Test string\", \"Logs\", \"Debug Loggers\"]\n",
    "stop_words = [\"Test\", \"debug\"]\n",
    "res = []\n",
    "for i in temp:\n",
    "    # Do something\n",
    "    for word in stop_words:\n",
    "        if word in i:\n",
    "            break\n",
    "    else:\n",
    "        ...\n",
    "        # Do something\n",
    "    \n"
   ]
  },
  {
   "cell_type": "code",
   "execution_count": 99,
   "id": "3f49a6b2",
   "metadata": {},
   "outputs": [
    {
     "name": "stdout",
     "output_type": "stream",
     "text": [
      "1. Hello\n",
      "2. Hello\n",
      "1. World\n",
      "2. World\n",
      "1. Test string\n",
      "1. Logs\n",
      "2. Logs\n",
      "1. Debug Loggers\n"
     ]
    }
   ],
   "source": [
    "temp = [\"Hello\", \"World\", \"Test string\", \"Logs\", \"Debug Loggers\"]\n",
    "stop_words = [\"Test\", \"Debug\"]\n",
    "res = []\n",
    "for i in temp:\n",
    "    print(f\"1. {i}\")\n",
    "    if any([word in i for word in stop_words]):\n",
    "        continue\n",
    "    print(f\"2. {i}\")"
   ]
  },
  {
   "cell_type": "markdown",
   "id": "caf12c77",
   "metadata": {
    "collapsed": false,
    "pycharm": {
     "name": "#%% md\n"
    }
   },
   "source": [
    "# PyPi"
   ]
  },
  {
   "cell_type": "markdown",
   "id": "63f4e3a2",
   "metadata": {
    "collapsed": false,
    "pycharm": {
     "name": "#%% md\n"
    }
   },
   "source": [
    "PyPI (аббр. от англ. Python Package Index — «каталог пакетов Python») — каталог программного обеспечения, написанного на языке программирования"
   ]
  },
  {
   "cell_type": "markdown",
   "id": "c58934be",
   "metadata": {
    "collapsed": false,
    "pycharm": {
     "name": "#%% md\n"
    }
   },
   "source": [
    "## PIP\n",
    "pip — это система управления пакетами(библиотеками), которая на данный момент по умолчанию включена в дистрибутив языка. Она используется для установки и управления программными пакетами, написанными на Python.\n",
    "\n",
    "pip может брать пакеты из двух типов источников:\n",
    "- PyPi\n",
    "- Git-репозиторий"
   ]
  },
  {
   "cell_type": "markdown",
   "id": "0f530c53",
   "metadata": {
    "collapsed": false,
    "pycharm": {
     "name": "#%% md\n"
    }
   },
   "source": [
    "## Зачем это нужно?\n",
    "1. Избежать изобретения \"велосипедов\"\n",
    "2. В крупных коммерческих проектах избежать повторяемости одного и того же кода в различных продуктах"
   ]
  },
  {
   "cell_type": "markdown",
   "id": "37253b50",
   "metadata": {
    "collapsed": false
   },
   "source": [
    "## Как работать с pip?\n",
    "\n",
    "Установка нового пакета:"
   ]
  },
  {
   "cell_type": "code",
   "execution_count": null,
   "id": "f4692b19",
   "metadata": {
    "collapsed": false,
    "pycharm": {
     "name": "#%%\n"
    }
   },
   "outputs": [],
   "source": [
    "%pip install numpy"
   ]
  },
  {
   "cell_type": "markdown",
   "id": "66e14ca9",
   "metadata": {
    "collapsed": false
   },
   "source": [
    "Установка конкретной версии пакета:"
   ]
  },
  {
   "cell_type": "code",
   "execution_count": null,
   "id": "9c5dd5e7",
   "metadata": {
    "collapsed": false,
    "pycharm": {
     "name": "#%%\n"
    }
   },
   "outputs": [],
   "source": [
    "%pip install numpy==1.22.1"
   ]
  },
  {
   "cell_type": "markdown",
   "id": "ef5f485e",
   "metadata": {
    "collapsed": false
   },
   "source": [
    "Удаление пакета:"
   ]
  },
  {
   "cell_type": "code",
   "execution_count": null,
   "id": "da52f6b5",
   "metadata": {
    "collapsed": false,
    "pycharm": {
     "name": "#%%\n"
    }
   },
   "outputs": [],
   "source": [
    "!pip uninstall numpy"
   ]
  },
  {
   "cell_type": "markdown",
   "id": "40cd1815",
   "metadata": {
    "collapsed": false,
    "pycharm": {
     "name": "#%% md\n"
    }
   },
   "source": [
    "Вывод всех установленных пакетов:"
   ]
  },
  {
   "cell_type": "code",
   "execution_count": null,
   "id": "b1aaf36d",
   "metadata": {
    "collapsed": false,
    "pycharm": {
     "name": "#%%\n"
    }
   },
   "outputs": [],
   "source": [
    "!pip list"
   ]
  },
  {
   "cell_type": "markdown",
   "id": "8ed163d3",
   "metadata": {
    "collapsed": false
   },
   "source": [
    "Сохранение пакетов для других разработчиков:"
   ]
  },
  {
   "cell_type": "code",
   "execution_count": null,
   "id": "547ba835",
   "metadata": {
    "collapsed": false,
    "pycharm": {
     "name": "#%%\n"
    }
   },
   "outputs": [],
   "source": [
    "!pip freeze > requirements.txt"
   ]
  },
  {
   "cell_type": "code",
   "execution_count": null,
   "id": "0dbb2381",
   "metadata": {
    "collapsed": false,
    "pycharm": {
     "name": "#%%\n"
    }
   },
   "outputs": [],
   "source": [
    "!pip list --local"
   ]
  },
  {
   "cell_type": "markdown",
   "id": "30485f86",
   "metadata": {
    "collapsed": false,
    "pycharm": {
     "name": "#%% md\n"
    }
   },
   "source": [
    "Установка пакетов из requirements.txt"
   ]
  },
  {
   "cell_type": "code",
   "execution_count": null,
   "id": "3e3bc60e",
   "metadata": {
    "collapsed": false,
    "pycharm": {
     "name": "#%%\n"
    }
   },
   "outputs": [],
   "source": [
    "!pip install -r requirements_1.txt"
   ]
  },
  {
   "cell_type": "markdown",
   "id": "a5b7b807",
   "metadata": {
    "collapsed": false,
    "pycharm": {
     "name": "#%% md\n"
    }
   },
   "source": [
    "## Conda"
   ]
  },
  {
   "cell_type": "markdown",
   "id": "dc5f040d",
   "metadata": {
    "collapsed": false,
    "pycharm": {
     "name": "#%% md\n"
    }
   },
   "source": [
    "Список установленных пакетов"
   ]
  },
  {
   "cell_type": "code",
   "execution_count": null,
   "id": "31cd70bd",
   "metadata": {
    "collapsed": false,
    "pycharm": {
     "name": "#%%\n"
    }
   },
   "outputs": [],
   "source": [
    "!conda list"
   ]
  },
  {
   "cell_type": "markdown",
   "id": "f94b9cc6",
   "metadata": {
    "collapsed": false,
    "pycharm": {
     "name": "#%% md\n"
    }
   },
   "source": [
    "Установка пакетов:"
   ]
  },
  {
   "cell_type": "code",
   "execution_count": null,
   "id": "7dbd29d0",
   "metadata": {
    "collapsed": false,
    "pycharm": {
     "name": "#%%\n"
    }
   },
   "outputs": [],
   "source": [
    "!conda install numpy"
   ]
  },
  {
   "cell_type": "code",
   "execution_count": null,
   "id": "5da94f17",
   "metadata": {
    "collapsed": false,
    "pycharm": {
     "name": "#%%\n"
    }
   },
   "outputs": [],
   "source": [
    "!conda uninstall numpy"
   ]
  },
  {
   "cell_type": "markdown",
   "id": "81871e56",
   "metadata": {
    "collapsed": false
   },
   "source": [
    "Установка из дополнительного репозитория"
   ]
  },
  {
   "cell_type": "code",
   "execution_count": null,
   "id": "ae82c61f",
   "metadata": {
    "collapsed": false,
    "pycharm": {
     "name": "#%%\n"
    }
   },
   "outputs": [],
   "source": [
    "!conda install -c conda-forge opencv"
   ]
  },
  {
   "cell_type": "markdown",
   "id": "c66658d4",
   "metadata": {
    "collapsed": false,
    "pycharm": {
     "name": "#%% md\n"
    }
   },
   "source": [
    "Просмотр всех доступных виртуальных сред"
   ]
  },
  {
   "cell_type": "code",
   "execution_count": null,
   "id": "3b633bf9",
   "metadata": {
    "collapsed": false,
    "pycharm": {
     "name": "#%%\n"
    }
   },
   "outputs": [],
   "source": [
    "!conda env list\n"
   ]
  },
  {
   "cell_type": "markdown",
   "id": "c18505b9",
   "metadata": {
    "collapsed": false,
    "pycharm": {
     "name": "#%% md\n"
    }
   },
   "source": [
    "Воспроизводимость среды:"
   ]
  },
  {
   "cell_type": "code",
   "execution_count": null,
   "id": "783b74e0",
   "metadata": {
    "collapsed": false,
    "pycharm": {
     "name": "#%%\n"
    }
   },
   "outputs": [],
   "source": [
    "!conda env export > environment.yml"
   ]
  },
  {
   "cell_type": "code",
   "execution_count": null,
   "id": "6c4ad1aa",
   "metadata": {
    "collapsed": false,
    "pycharm": {
     "name": "#%%\n"
    }
   },
   "outputs": [],
   "source": [
    "!conda env create -f environment.yml"
   ]
  },
  {
   "cell_type": "markdown",
   "id": "eb257727",
   "metadata": {
    "collapsed": false,
    "pycharm": {
     "name": "#%% md\n"
    }
   },
   "source": [
    "# Работа с пакетами"
   ]
  },
  {
   "cell_type": "code",
   "execution_count": 100,
   "id": "3d77760b",
   "metadata": {
    "collapsed": false,
    "pycharm": {
     "name": "#%%\n"
    }
   },
   "outputs": [],
   "source": [
    "import math"
   ]
  },
  {
   "cell_type": "code",
   "execution_count": 101,
   "id": "26024477",
   "metadata": {
    "collapsed": false,
    "pycharm": {
     "name": "#%%\n"
    }
   },
   "outputs": [
    {
     "data": {
      "text/plain": [
       "3.141592653589793"
      ]
     },
     "execution_count": 101,
     "metadata": {},
     "output_type": "execute_result"
    }
   ],
   "source": [
    "math.pi"
   ]
  },
  {
   "cell_type": "code",
   "execution_count": 102,
   "id": "7daa9368",
   "metadata": {
    "collapsed": false,
    "pycharm": {
     "name": "#%%\n"
    }
   },
   "outputs": [
    {
     "data": {
      "text/plain": [
       "3.141592653589793"
      ]
     },
     "execution_count": 102,
     "metadata": {},
     "output_type": "execute_result"
    }
   ],
   "source": [
    "from math import pi\n",
    "pi"
   ]
  },
  {
   "cell_type": "markdown",
   "id": "bbcaeb8c",
   "metadata": {
    "collapsed": false
   },
   "source": [
    "Так делать не надо. Ни в коем случае"
   ]
  },
  {
   "cell_type": "code",
   "execution_count": 103,
   "id": "ee050078",
   "metadata": {
    "collapsed": false,
    "pycharm": {
     "name": "#%%\n"
    }
   },
   "outputs": [],
   "source": [
    "from math import *"
   ]
  },
  {
   "cell_type": "code",
   "execution_count": 104,
   "id": "ba13defe",
   "metadata": {
    "collapsed": false,
    "pycharm": {
     "name": "#%%\n"
    }
   },
   "outputs": [
    {
     "data": {
      "text/plain": [
       "-0.9899924966004454"
      ]
     },
     "execution_count": 104,
     "metadata": {},
     "output_type": "execute_result"
    }
   ],
   "source": [
    "cos(3)"
   ]
  },
  {
   "cell_type": "code",
   "execution_count": 105,
   "id": "8b566ed2",
   "metadata": {},
   "outputs": [],
   "source": [
    "from math import *\n",
    "from numpy import *\n",
    "import sys"
   ]
  },
  {
   "cell_type": "code",
   "execution_count": 106,
   "id": "aa71609a",
   "metadata": {},
   "outputs": [
    {
     "data": {
      "text/plain": [
       "-0.4161468365471424"
      ]
     },
     "execution_count": 106,
     "metadata": {},
     "output_type": "execute_result"
    }
   ],
   "source": [
    "cos(2)"
   ]
  },
  {
   "cell_type": "code",
   "execution_count": 107,
   "id": "a63cc56f",
   "metadata": {},
   "outputs": [
    {
     "name": "stdout",
     "output_type": "stream",
     "text": [
      "/Users/artem/Documents/Lections/course_in_work/course-python/lectures/Lecture_04_functional_prog\n"
     ]
    }
   ],
   "source": [
    "!pwd"
   ]
  },
  {
   "cell_type": "code",
   "execution_count": 108,
   "id": "7549a070",
   "metadata": {},
   "outputs": [
    {
     "ename": "ModuleNotFoundError",
     "evalue": "No module named 'mymodul'",
     "output_type": "error",
     "traceback": [
      "\u001b[0;31m---------------------------------------------------------------------------\u001b[0m",
      "\u001b[0;31mModuleNotFoundError\u001b[0m                       Traceback (most recent call last)",
      "\u001b[0;32m/var/folders/g0/yt0m6mx534b6cl53216hwy940000gn/T/ipykernel_94085/2475537755.py\u001b[0m in \u001b[0;36m<module>\u001b[0;34m\u001b[0m\n\u001b[0;32m----> 1\u001b[0;31m \u001b[0;32mimport\u001b[0m \u001b[0mmymodul\u001b[0m\u001b[0;34m\u001b[0m\u001b[0;34m\u001b[0m\u001b[0m\n\u001b[0m",
      "\u001b[0;31mModuleNotFoundError\u001b[0m: No module named 'mymodul'"
     ]
    }
   ],
   "source": [
    "import mymodul"
   ]
  },
  {
   "cell_type": "markdown",
   "id": "7e4524c3",
   "metadata": {
    "collapsed": false,
    "pycharm": {
     "name": "#%% md\n"
    }
   },
   "source": [
    "## Как это работает изнутри?"
   ]
  },
  {
   "cell_type": "markdown",
   "id": "3b830f36",
   "metadata": {
    "collapsed": false,
    "pycharm": {
     "name": "#%% md\n"
    }
   },
   "source": [
    "Импорт модуля:\n",
    "- поиск модуля;\n",
    "- компиляция;\n",
    "- запуск.\n",
    "\n",
    "Поиска модуля, указанного в импорте, интерпретатор Python, выполняет последовательно в ряде директорий(Module Search Path):\n",
    "\n",
    "- домашняя директория(там где лежит скрипт);\n",
    "- директории, указанные в переменной окружения PYTHONPATH(можно задать самому);\n",
    "- директории Standard library(интерпретатор);\n",
    "- пути прописанные в .pth файлах(обычный текстовый файл с путями);\n",
    "- пакеты сторонних разработчиков(устанавливаются через pip).\n",
    "\n",
    "В Python 3 на этапе компиляции создается каталог с именем __pycache__, в нем располагаются файлы с расширением .pyc, в них содержится байт-код.\n",
    "\n",
    "Запуск модуля -- выполнение строк кода в соответствующем модуле.\n",
    "\n",
    "__ВАЖНО:__ модуль импортируется только один раз.  Перезагрузить модуль можно с помощью команды imp.reload."
   ]
  },
  {
   "cell_type": "markdown",
   "id": "af401f3b",
   "metadata": {
    "collapsed": false,
    "pycharm": {
     "name": "#%% md\n"
    }
   },
   "source": [
    "## Ещё интересные вещи про модули:"
   ]
  },
  {
   "cell_type": "markdown",
   "id": "00384454",
   "metadata": {
    "collapsed": false
   },
   "source": [
    "### Импорт модуля в зависимости от условий"
   ]
  },
  {
   "cell_type": "code",
   "execution_count": null,
   "id": "b4f88c16",
   "metadata": {
    "collapsed": false,
    "pycharm": {
     "name": "#%%\n"
    }
   },
   "outputs": [],
   "source": [
    "val = int(input(\"simple math lib [1], adv math lib [2]: \"))\n",
    "if val==1:\n",
    "    import simplemath as user_math\n",
    "elif val==2:\n",
    "    import advmath as user_math\n",
    "\n",
    "user_math.add(3, 4)"
   ]
  },
  {
   "cell_type": "markdown",
   "id": "9a31f62a",
   "metadata": {
    "collapsed": false,
    "pycharm": {
     "name": "#%% md\n"
    }
   },
   "source": [
    "Изменение атрибутов пакетов:"
   ]
  },
  {
   "cell_type": "code",
   "execution_count": 109,
   "id": "c88740ba",
   "metadata": {
    "collapsed": false,
    "pycharm": {
     "name": "#%%\n"
    }
   },
   "outputs": [
    {
     "data": {
      "text/plain": [
       "5"
      ]
     },
     "execution_count": 109,
     "metadata": {},
     "output_type": "execute_result"
    }
   ],
   "source": [
    "import math\n",
    "from math import pi\n",
    "\n",
    "math.pi = 5\n",
    "math.pi"
   ]
  },
  {
   "cell_type": "code",
   "execution_count": 110,
   "id": "5fd8dabe",
   "metadata": {
    "collapsed": false,
    "pycharm": {
     "name": "#%%\n"
    }
   },
   "outputs": [
    {
     "data": {
      "text/plain": [
       "3.141592653589793"
      ]
     },
     "execution_count": 110,
     "metadata": {},
     "output_type": "execute_result"
    }
   ],
   "source": [
    "pi"
   ]
  },
  {
   "cell_type": "markdown",
   "id": "75b2eaad",
   "metadata": {
    "collapsed": false,
    "pycharm": {
     "name": "#%% md\n"
    }
   },
   "source": [
    "### Как перезагрузить модуль?"
   ]
  },
  {
   "cell_type": "code",
   "execution_count": 112,
   "id": "64abb162",
   "metadata": {
    "collapsed": false,
    "pycharm": {
     "name": "#%%\n"
    }
   },
   "outputs": [
    {
     "data": {
      "text/plain": [
       "3.14"
      ]
     },
     "execution_count": 112,
     "metadata": {},
     "output_type": "execute_result"
    }
   ],
   "source": [
    "import user_module\n",
    "user_module.pi"
   ]
  },
  {
   "cell_type": "code",
   "execution_count": 114,
   "id": "b75bbc3d",
   "metadata": {
    "collapsed": false,
    "pycharm": {
     "name": "#%%\n"
    }
   },
   "outputs": [
    {
     "data": {
      "text/plain": [
       "<module 'user_module' from '/Users/artem/Documents/Lections/course_in_work/course-python/lectures/Lecture_04_functional_prog/user_module.py'>"
      ]
     },
     "execution_count": 114,
     "metadata": {},
     "output_type": "execute_result"
    }
   ],
   "source": [
    "from imp import reload\n",
    "reload(user_module)"
   ]
  },
  {
   "cell_type": "code",
   "execution_count": 115,
   "id": "acbc28b7",
   "metadata": {
    "collapsed": false,
    "pycharm": {
     "name": "#%%\n"
    }
   },
   "outputs": [
    {
     "data": {
      "text/plain": [
       "3.1415"
      ]
     },
     "execution_count": 115,
     "metadata": {},
     "output_type": "execute_result"
    }
   ],
   "source": [
    "user_module.pi"
   ]
  },
  {
   "cell_type": "markdown",
   "id": "e9c4cd04",
   "metadata": {
    "collapsed": false,
    "pycharm": {
     "name": "#%% md\n"
    }
   },
   "source": [
    "Что загружено из модуля:"
   ]
  },
  {
   "cell_type": "code",
   "execution_count": 116,
   "id": "a2156a02",
   "metadata": {
    "collapsed": false,
    "pycharm": {
     "name": "#%%\n"
    }
   },
   "outputs": [
    {
     "data": {
      "text/plain": [
       "['__builtins__',\n",
       " '__cached__',\n",
       " '__doc__',\n",
       " '__file__',\n",
       " '__loader__',\n",
       " '__name__',\n",
       " '__package__',\n",
       " '__spec__',\n",
       " 'pi']"
      ]
     },
     "execution_count": 116,
     "metadata": {},
     "output_type": "execute_result"
    }
   ],
   "source": [
    "dir(user_module)"
   ]
  },
  {
   "cell_type": "markdown",
   "id": "b602991b",
   "metadata": {
    "collapsed": false,
    "pycharm": {
     "name": "#%% md\n"
    }
   },
   "source": [
    "## Пакеты"
   ]
  },
  {
   "cell_type": "markdown",
   "id": "79ee9bc1",
   "metadata": {
    "collapsed": false,
    "pycharm": {
     "name": "#%% md\n"
    }
   },
   "source": [
    "Пакеты -- модули сгруппированные в одной директории"
   ]
  },
  {
   "cell_type": "code",
   "execution_count": null,
   "id": "404d9c12",
   "metadata": {
    "collapsed": false,
    "pycharm": {
     "name": "#%%\n"
    }
   },
   "outputs": [],
   "source": [
    "import mymath.constants"
   ]
  },
  {
   "cell_type": "code",
   "execution_count": null,
   "id": "48f90028",
   "metadata": {
    "collapsed": false,
    "pycharm": {
     "name": "#%%\n"
    }
   },
   "outputs": [],
   "source": [
    "mymath.constants.pi"
   ]
  },
  {
   "cell_type": "markdown",
   "id": "fff98e5f",
   "metadata": {
    "collapsed": false,
    "pycharm": {
     "name": "#%% md\n"
    }
   },
   "source": [
    "# PEP-8 и модули"
   ]
  },
  {
   "cell_type": "markdown",
   "id": "1dec1806",
   "metadata": {
    "collapsed": false,
    "pycharm": {
     "name": "#%% md\n"
    }
   },
   "source": [
    "Импортировать модули желательно по одному в строке:"
   ]
  },
  {
   "cell_type": "code",
   "execution_count": null,
   "id": "6820e987",
   "metadata": {
    "collapsed": false,
    "pycharm": {
     "name": "#%%\n"
    }
   },
   "outputs": [],
   "source": [
    "import os\n",
    "import math"
   ]
  },
  {
   "cell_type": "code",
   "execution_count": null,
   "id": "55aff3af",
   "metadata": {
    "collapsed": false,
    "pycharm": {
     "name": "#%%\n"
    }
   },
   "outputs": [],
   "source": [
    "# wrong\n",
    "import os, math"
   ]
  },
  {
   "cell_type": "markdown",
   "id": "c2d48c4c",
   "metadata": {
    "collapsed": false,
    "pycharm": {
     "name": "#%% md\n"
    }
   },
   "source": [
    "Однако допустимо:"
   ]
  },
  {
   "cell_type": "code",
   "execution_count": null,
   "id": "b93dd2d9",
   "metadata": {
    "collapsed": false,
    "pycharm": {
     "name": "#%%\n"
    }
   },
   "outputs": [],
   "source": [
    "from subprocess import Popen, PIPE"
   ]
  },
  {
   "cell_type": "markdown",
   "id": "ec287bfc",
   "metadata": {
    "collapsed": false,
    "pycharm": {
     "name": "#%% md\n"
    }
   },
   "source": [
    "Импорт модулей всегда помещается в начало файла, сразу после любых комментариев модуля и строк документации, а также перед глобальными параметрами и константами модуля.\n",
    "\n",
    "Импорт модулей должен быть сгруппирован в следующем порядке:\n",
    "\n",
    "- импорт стандартной библиотеки\n",
    "- импорт библиотек сторонних разработчиков\n",
    "- локальный импорт приложения/библиотеки\n",
    "Вы должны поместить пустую строку между каждой группой импорта."
   ]
  },
  {
   "cell_type": "code",
   "execution_count": null,
   "id": "8d836b1f",
   "metadata": {
    "collapsed": false,
    "pycharm": {
     "name": "#%%\n"
    }
   },
   "outputs": [],
   "source": [
    "import math\n",
    "\n",
    "import numpy\n",
    "\n",
    "import mymath.constants"
   ]
  },
  {
   "cell_type": "markdown",
   "id": "5860e66e",
   "metadata": {
    "collapsed": false,
    "pycharm": {
     "name": "#%% md\n"
    }
   },
   "source": [
    "Рекомендуется использовать абсолютный импорт, так как он обычно более удобочитаем и, как правило, ведет себя лучше (или, по крайней мере, дает более качественные сообщения об ошибках), если система импорта настроена неправильно:"
   ]
  },
  {
   "cell_type": "code",
   "execution_count": null,
   "id": "26955d58",
   "metadata": {
    "collapsed": false,
    "pycharm": {
     "name": "#%%\n"
    }
   },
   "outputs": [],
   "source": [
    "import mypkg.sibling\n",
    "from mypkg import sibling\n",
    "from mypkg.sibling import example"
   ]
  },
  {
   "cell_type": "markdown",
   "id": "5333a4c5",
   "metadata": {
    "collapsed": false,
    "pycharm": {
     "name": "#%% md\n"
    }
   },
   "source": [
    "Импорта с подстановочными знаками (from <module> import *) следует избегать, так как он делает неясным, какие имена присутствуют в пространстве имен, что сбивает с толку как читателей, так и многие автоматизированные инструменты."
   ]
  },
  {
   "cell_type": "markdown",
   "id": "d69e71ea",
   "metadata": {
    "collapsed": false,
    "pycharm": {
     "name": "#%% md\n"
    }
   },
   "source": [
    "## Dunder names"
   ]
  },
  {
   "cell_type": "markdown",
   "id": "de29a471",
   "metadata": {
    "collapsed": false,
    "pycharm": {
     "name": "#%% md\n"
    }
   },
   "source": [
    "\"Dunders\" уровня модуля (т. е. имена с двумя начальными и двумя конечными символами подчеркивания), такие как ```__all__, __author__, __version__``` и т.д., следует размещать после строки документации модуля, но перед любыми операторами импорта, за исключением ```from __future__ imports ... ```\n",
    "\n",
    "Python требует, чтобы будущие импорты появлялись в модуле перед любым другим кодом, кроме строк документации."
   ]
  },
  {
   "cell_type": "code",
   "execution_count": 6,
   "id": "31e593cb",
   "metadata": {
    "collapsed": false,
    "pycharm": {
     "name": "#%%\n"
    }
   },
   "outputs": [],
   "source": [
    "\"\"\"This is the example module.\n",
    "\n",
    "This module does stuff.\n",
    "\"\"\"\n",
    "\n",
    "from __future__ import barry_as_FLUFL\n",
    "\n",
    "__all__ = ['a', 'b', 'c']\n",
    "__version__ = '0.1'\n",
    "__author__ = 'Cardinal Biggles'\n",
    "\n",
    "import os\n",
    "import sys"
   ]
  },
  {
   "cell_type": "markdown",
   "id": "fe6df511",
   "metadata": {
    "collapsed": false,
    "pycharm": {
     "name": "#%% md\n"
    }
   },
   "source": [
    "# Как разбивать на модули:"
   ]
  },
  {
   "cell_type": "markdown",
   "id": "989af380",
   "metadata": {
    "collapsed": false,
    "pycharm": {
     "name": "#%% md\n"
    }
   },
   "source": [
    "1. Разделить код на осмысленные части, например:\n",
    "    - Работа с БД\n",
    "    - Работа с GUI\n",
    "    - Вычисления\n",
    "    - Работа с пользователем\n",
    "    - Работа с файлами\n",
    "2. Вынести конфигурационные файлы в отдельный файл:\n",
    "    - Токены, авторизация и т.д.(Лучше использовать механизм переменных окружения)\n",
    "    - Параметры(например, прокси)"
   ]
  },
  {
   "cell_type": "markdown",
   "id": "1147f2bc",
   "metadata": {},
   "source": [
    "# Вопросы для самостоятельного изучения:\n",
    " - Рефакторинг: https://refactoring.guru/ru/refactoring\n",
    "# Вопросы к зачету\n",
    "- Понятие итератора и генератора и их отличия?\n",
    "- Зачем нужны генераторы\n",
    "- Что такое декоратор? Зачем он нужен?\n",
    "- Механизм генерации коллекций. Какие особенности? В чем отличие от генераторов?\n",
    "- Пакеты и модули отличия\n",
    "- Как импортировать модуль\n",
    "<!-- - Зачем нужен ```__name__``` и ```__all__``` -->\n",
    "- Общая схема импорта"
   ]
  }
 ],
 "metadata": {
  "kernelspec": {
   "display_name": "Python 3.8.11 ('Python_Lections_MSU')",
   "language": "python",
   "name": "python3"
  },
  "language_info": {
   "codemirror_mode": {
    "name": "ipython",
    "version": 3
   },
   "file_extension": ".py",
   "mimetype": "text/x-python",
   "name": "python",
   "nbconvert_exporter": "python",
   "pygments_lexer": "ipython3",
   "version": "3.8.11"
  },
  "vscode": {
   "interpreter": {
    "hash": "67e5709e29e1e6bc7fdd9135779fe701b01d700d2c5fd90e54a32c9e879e5123"
   }
  }
 },
 "nbformat": 4,
 "nbformat_minor": 5
}
