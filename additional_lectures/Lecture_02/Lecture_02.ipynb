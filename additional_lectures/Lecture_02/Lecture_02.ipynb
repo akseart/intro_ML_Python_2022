{
 "cells": [
  {
   "cell_type": "markdown",
   "id": "e1c02ece",
   "metadata": {},
   "source": [
    "# Введение в методы анализа данных. Язык Python."
   ]
  },
  {
   "cell_type": "markdown",
   "id": "fe4f0986",
   "metadata": {},
   "source": [
    "## Дополнительное занятие 2\n"
   ]
  },
  {
   "cell_type": "markdown",
   "id": "749e4b11",
   "metadata": {},
   "source": [
    "Аксентьев Артем (akseart@ya.ru)\n",
    "\n",
    "Ксемидов Борис (nstalker.anonim@yandex.ru) "
   ]
  },
  {
   "cell_type": "markdown",
   "id": "a44aa941",
   "metadata": {},
   "source": [
    "# Задание 1\n",
    "\n",
    "Зашифровать строку с помощью шифра Цезаря\n",
    "\n",
    "Шифр Цезаря — шифр, в котором каждый символ в тексте заменяется символом, находящимся на некотором постоянном числе позиций левее или правее него в алфавите. Например, в шифре со сдвигом вправо на 3, А была бы заменена на Г, Б станет Д, и так далее."
   ]
  },
  {
   "cell_type": "markdown",
   "id": "d879966e",
   "metadata": {},
   "source": [
    "АБВ -> БВГ"
   ]
  },
  {
   "cell_type": "code",
   "execution_count": 9,
   "id": "daf85de5",
   "metadata": {},
   "outputs": [],
   "source": [
    "def caeser(text, shift):\n",
    "    alphabet=['A', 'B', 'C', 'D', 'E', 'F', 'G', 'H', 'I', 'J', 'K', 'L', 'M', 'N', 'O', 'P', 'Q', 'R', 'S', 'T', 'U', 'V', 'W', 'X', 'Y', 'Z']\n",
    "    cipher_text = []\n",
    "    for char in text:\n",
    "        cipher_char = alphabet[(alphabet.index(char) + shift) % len(alphabet)] if char in alphabet else char\n",
    "        cipher_text.append(cipher_char)\n",
    "    return \"\".join(cipher_text)"
   ]
  },
  {
   "cell_type": "code",
   "execution_count": 10,
   "id": "e3748152",
   "metadata": {},
   "outputs": [
    {
     "data": {
      "text/plain": [
       "'АБГ'"
      ]
     },
     "execution_count": 10,
     "metadata": {},
     "output_type": "execute_result"
    }
   ],
   "source": [
    "caeser(\"АБГ\", 3)"
   ]
  },
  {
   "cell_type": "code",
   "execution_count": 11,
   "id": "70508db1",
   "metadata": {},
   "outputs": [
    {
     "data": {
      "text/plain": [
       "70"
      ]
     },
     "execution_count": 11,
     "metadata": {},
     "output_type": "execute_result"
    }
   ],
   "source": [
    "ord(\"F\")"
   ]
  },
  {
   "cell_type": "code",
   "execution_count": 13,
   "id": "261f98a9",
   "metadata": {},
   "outputs": [
    {
     "data": {
      "text/plain": [
       "'I'"
      ]
     },
     "execution_count": 13,
     "metadata": {},
     "output_type": "execute_result"
    }
   ],
   "source": [
    "chr(70 + 3)"
   ]
  },
  {
   "cell_type": "code",
   "execution_count": 15,
   "id": "b1c921de",
   "metadata": {},
   "outputs": [],
   "source": [
    "def caeser_v1(text, shift):\n",
    "    cipher_text = []\n",
    "    for char in text:\n",
    "        cipher_char = chr(ord(char) + shift)\n",
    "        cipher_text.append(cipher_char)\n",
    "    return \"\".join(cipher_text)"
   ]
  },
  {
   "cell_type": "code",
   "execution_count": 20,
   "id": "95f0b351",
   "metadata": {},
   "outputs": [
    {
     "data": {
      "text/plain": [
       "'АБВ'"
      ]
     },
     "execution_count": 20,
     "metadata": {},
     "output_type": "execute_result"
    }
   ],
   "source": [
    "caeser_v1(\"БВГ\", -1)"
   ]
  },
  {
   "cell_type": "code",
   "execution_count": 21,
   "id": "b488d707",
   "metadata": {},
   "outputs": [
    {
     "data": {
      "text/plain": [
       "'БВГ'"
      ]
     },
     "execution_count": 21,
     "metadata": {},
     "output_type": "execute_result"
    }
   ],
   "source": [
    "caeser_v1(\"АБВ\", 1)"
   ]
  },
  {
   "cell_type": "markdown",
   "id": "e71eaa2b",
   "metadata": {
    "collapsed": false,
    "pycharm": {
     "name": "#%% md\n"
    }
   },
   "source": [
    "# Задание 2\n",
    "\n",
    "Написать класс для шифрования с помощью шифра Цезаря\n",
    "\n",
    "Шифр Цезаря — шифр, в котором каждый символ в тексте заменяется символом, находящимся на некотором постоянном числе позиций левее или правее него в алфавите. Например, в шифре со сдвигом вправо на 3, А была бы заменена на Г, Б станет Д, и так далее."
   ]
  },
  {
   "cell_type": "code",
   "execution_count": 33,
   "id": "9cbd3846",
   "metadata": {},
   "outputs": [],
   "source": [
    "class Caesar:\n",
    "    def __init__(self, shift):\n",
    "        self.shift = shift\n",
    "    \n",
    "    def coding(self, text):\n",
    "        return self._caeser(text, self.shift)\n",
    "    \n",
    "    def encoding(self, text):\n",
    "        return self._caeser(text, -self.shift)\n",
    "\n",
    "    @staticmethod\n",
    "    def _caeser(text, shift):\n",
    "        cipher_text = []\n",
    "        for char in text:\n",
    "            cipher_char = chr(ord(char) + shift)\n",
    "            cipher_text.append(cipher_char)\n",
    "        return \"\".join(cipher_text)"
   ]
  },
  {
   "cell_type": "code",
   "execution_count": 34,
   "id": "d57f5137",
   "metadata": {},
   "outputs": [
    {
     "data": {
      "text/plain": [
       "'Ногффлъифнлм#хинфх#Oruhp#Lsvxp/#лфтсоякципюм#ф#[YL#еинг/#тулеизєр#рлйи1#Хгнйи#згрю#угкзиою#4143165#л#4143166#%gh#Ilqlexv#Erqruxp#hw#Pdoruxp%#Щлщиусрг#л#лш#гржолмфнлм#тиуиесз/#фзиогррюм#K1#Udfnkdp/#4<47#жсз1'"
      ]
     },
     "execution_count": 34,
     "metadata": {},
     "output_type": "execute_result"
    }
   ],
   "source": [
    "caesar = Caesar(3)\n",
    "text = 'Классический текст Lorem Ipsum, используемый с XVI века, приведён ниже. Также даны разделы 1.10.32 и 1.10.33 \"de Finibus Bonorum et Malorum\" Цицерона и их английский перевод, сделанный H. Rackham, 1914 год.'\n",
    "\n",
    "p = caesar.coding(text)\n",
    "p"
   ]
  },
  {
   "cell_type": "code",
   "execution_count": 35,
   "id": "53c9b047",
   "metadata": {},
   "outputs": [
    {
     "data": {
      "text/plain": [
       "'Классический текст Lorem Ipsum, используемый с XVI века, приведён ниже. Также даны разделы 1.10.32 и 1.10.33 \"de Finibus Bonorum et Malorum\" Цицерона и их английский перевод, сделанный H. Rackham, 1914 год.'"
      ]
     },
     "execution_count": 35,
     "metadata": {},
     "output_type": "execute_result"
    }
   ],
   "source": [
    "caesar.encoding(p)"
   ]
  },
  {
   "cell_type": "markdown",
   "id": "7d0d9dec",
   "metadata": {
    "collapsed": false,
    "pycharm": {
     "name": "#%% md\n"
    }
   },
   "source": [
    "# Задание 3\n",
    "\n",
    "Дана строка, содержащая полный путь к файлу (например, 'c:\\WebServers\\home\\testsite\\www\\myfile.txt'). Выделите из этой строки имя файла без расширения."
   ]
  },
  {
   "cell_type": "code",
   "execution_count": 51,
   "id": "71891cb4",
   "metadata": {},
   "outputs": [
    {
     "data": {
      "text/plain": [
       "['myfile', 'txt']"
      ]
     },
     "execution_count": 51,
     "metadata": {},
     "output_type": "execute_result"
    }
   ],
   "source": [
    "def get_file_name(path):\n",
    "    return path.split('\\\\')[-1].split('.')[:-1]\n",
    "\n",
    "get_file_name(r'c:\\WebServers\\home\\testsite\\www\\myfile.txt.ipynb')"
   ]
  },
  {
   "cell_type": "code",
   "execution_count": 50,
   "id": "4c45fabd",
   "metadata": {},
   "outputs": [
    {
     "data": {
      "text/plain": [
       "'myfile'"
      ]
     },
     "execution_count": 50,
     "metadata": {},
     "output_type": "execute_result"
    }
   ],
   "source": [
    "get_file_name(r'c:\\WebServers\\home\\testsite\\www\\myfile.ipynb')"
   ]
  },
  {
   "cell_type": "markdown",
   "id": "19adbc7d",
   "metadata": {
    "collapsed": false
   },
   "source": [
    "# Задача 4. Скобочные последовательности\n",
    "\n",
    "Дана строка, состоящая из скобок. Необходимо разбить её на максимальное количество строк сбалансированных по скобкам.\n",
    "\n",
    "Сбалансированность в данном случае означает, что количество открытых и закрытых скобок в строке равно.\n",
    "\n",
    "\"()(())((()))\" -> (\"()\", \"(())\", \"((()))\")"
   ]
  },
  {
   "cell_type": "code",
   "execution_count": 53,
   "id": "21cbab7a",
   "metadata": {},
   "outputs": [
    {
     "name": "stdout",
     "output_type": "stream",
     "text": [
      "['()', '(())', '((()))']\n",
      "['(())', '(())', '((()))']\n",
      "['()']\n",
      "['(F<F<F<F)']\n"
     ]
    }
   ],
   "source": [
    "def scobki(text):\n",
    "    num_open = 0\n",
    "    result = []\n",
    "    tmp_str = \"\"\n",
    "    for char in text:\n",
    "        if char == '(':\n",
    "            num_open += 1\n",
    "        elif char == ')':\n",
    "            num_open -= 1\n",
    "        tmp_str += char\n",
    "        if num_open == 0:\n",
    "            result.append(tmp_str)\n",
    "            tmp_str = \"\"\n",
    "    return result\n",
    "\n",
    "print(scobki(\"()(())((()))\"))\n",
    "print(scobki(\"(())(())((()))\"))\n",
    "print(scobki(\"()\"))\n",
    "print(scobki(\"(F<F<F<F)\"))"
   ]
  },
  {
   "cell_type": "markdown",
   "id": "024e5b85",
   "metadata": {
    "collapsed": false,
    "pycharm": {
     "name": "#%% md\n"
    }
   },
   "source": [
    "# Задача 5. Куча камней\n",
    "\n",
    "В неком саду есть несколько куч камней. Нам предоставлены результаты подсчета камней в каждой куче утром и вечером. Известно, что за день прошло \"неограниченное\" количество посетителей, каждый из которых мог забрать себе камень или же переложить его между кучами. Ваша задача по двум записям(утро и вечер) определить правильно ли был проведен подсчет."
   ]
  },
  {
   "cell_type": "markdown",
   "id": "842ab8e9",
   "metadata": {},
   "source": [
    "[1, 2, 3, 4], [2, 3, 4, 1] -> True\n",
    "[1, 2, 3, 4], [2, 3, 1, 1] -> True\n",
    "[1, 2, 3, 4], [5, 5, 5, 5] -> False\n",
    "[1, 2, 3, 4, 5], [1, 2, 3, 4] -> False"
   ]
  },
  {
   "cell_type": "code",
   "execution_count": 58,
   "id": "7973d918",
   "metadata": {},
   "outputs": [
    {
     "name": "stdout",
     "output_type": "stream",
     "text": [
      "True\n",
      "True\n",
      "False\n",
      "False\n"
     ]
    }
   ],
   "source": [
    "def is_correct_counting(morn, evnenig):\n",
    "    # return True if sum(morn) >= sum(even) else False\n",
    "    return sum(morn) >= sum(evnenig) and len(morn) == len(evnenig)\n",
    "\n",
    "print(is_correct_counting([1, 2, 3, 4], [2, 3, 4, 1])) #True\n",
    "print(is_correct_counting([1, 2, 3, 4], [2, 3, 1, 1])) #True\n",
    "print(is_correct_counting([1, 2, 3, 4], [5, 5, 5, 5])) #False\n",
    "print(is_correct_counting([1, 2, 3, 4, 5], [1, 2, 3, 4])) #False"
   ]
  },
  {
   "cell_type": "markdown",
   "id": "da5e655d",
   "metadata": {
    "collapsed": false,
    "pycharm": {
     "name": "#%% md\n"
    }
   },
   "source": [
    "# Задние 6\n",
    "\n",
    "Дан массив высот местности. Определить те точки, которые невидимы для наблюдателя, который находится в одной из точек(h_i)"
   ]
  },
  {
   "cell_type": "markdown",
   "id": "24e43ad9",
   "metadata": {},
   "source": [
    "[10, 9, 8, 7, 5, 4, 10, 6] -> [10, 9, 8, 7, 4, 10]"
   ]
  },
  {
   "cell_type": "code",
   "execution_count": 34,
   "id": "993c88a8",
   "metadata": {},
   "outputs": [],
   "source": [
    "def func(h, h_i):\n",
    "    def func_(seq, h_i, step = 1):\n",
    "        res = []\n",
    "        max_height = None\n",
    "        for i, num in enumerate(seq):\n",
    "            if max_height is None or num > max_height:\n",
    "                max_height = num\n",
    "                res.append(h_i + step + i * step)\n",
    "        return res\n",
    "    \n",
    "\n",
    "    res = list(reversed(func_(h[h_i-1::-1], h_i, -1))) + func_(h[h_i+1:], h_i)\n",
    "    \n",
    "    return res\n"
   ]
  },
  {
   "cell_type": "code",
   "execution_count": 35,
   "id": "80ac7db2",
   "metadata": {},
   "outputs": [
    {
     "data": {
      "text/plain": [
       "[0, 1, 2, 3, 5, 6, 8]"
      ]
     },
     "execution_count": 35,
     "metadata": {},
     "output_type": "execute_result"
    }
   ],
   "source": [
    "func(h, h_i)"
   ]
  },
  {
   "cell_type": "code",
   "execution_count": 10,
   "id": "4bf7c6a6",
   "metadata": {},
   "outputs": [
    {
     "data": {
      "text/plain": [
       "[7, 8, 9, 10]"
      ]
     },
     "execution_count": 10,
     "metadata": {},
     "output_type": "execute_result"
    }
   ],
   "source": [
    "h = [10, 9, 8, 7, 5, 4, 10, 6, 15]\n",
    "h_i = 4\n",
    "h[h_i-1::-1]"
   ]
  },
  {
   "cell_type": "code",
   "execution_count": 4,
   "id": "77b7dd59",
   "metadata": {},
   "outputs": [
    {
     "name": "stdout",
     "output_type": "stream",
     "text": [
      "\u001b[33mDEPRECATION: Configuring installation scheme with distutils config files is deprecated and will no longer work in the near future. If you are using a Homebrew or Linuxbrew Python, please see discussion at https://github.com/Homebrew/homebrew-core/issues/76621\u001b[0m\u001b[33m\n",
      "\u001b[0mCollecting pandas\n",
      "  Downloading pandas-1.5.0-cp39-cp39-macosx_11_0_arm64.whl (10.9 MB)\n",
      "\u001b[2K     \u001b[90m━━━━━━━━━━━━━━━━━━━━━━━━━━━━━━━━━━━━━━━━\u001b[0m \u001b[32m10.9/10.9 MB\u001b[0m \u001b[31m2.6 MB/s\u001b[0m eta \u001b[36m0:00:00\u001b[0m00:01\u001b[0m00:01\u001b[0m\n",
      "\u001b[?25hRequirement already satisfied: python-dateutil>=2.8.1 in /opt/homebrew/lib/python3.9/site-packages (from pandas) (2.8.2)\n",
      "Collecting pytz>=2020.1\n",
      "  Downloading pytz-2022.4-py2.py3-none-any.whl (500 kB)\n",
      "\u001b[2K     \u001b[90m━━━━━━━━━━━━━━━━━━━━━━━━━━━━━━━━━━━━━━━\u001b[0m \u001b[32m500.8/500.8 kB\u001b[0m \u001b[31m1.1 MB/s\u001b[0m eta \u001b[36m0:00:00\u001b[0ma \u001b[36m0:00:01\u001b[0m\n",
      "\u001b[?25hCollecting numpy>=1.20.3\n",
      "  Downloading numpy-1.23.3-cp39-cp39-macosx_11_0_arm64.whl (13.4 MB)\n",
      "\u001b[2K     \u001b[90m━━━━━━━━━━━━━━━━━━━━━━━━━━━━━━━━━━━━━━━━\u001b[0m \u001b[32m13.4/13.4 MB\u001b[0m \u001b[31m9.4 MB/s\u001b[0m eta \u001b[36m0:00:00\u001b[0m00:01\u001b[0m00:01\u001b[0m\n",
      "\u001b[?25hRequirement already satisfied: six>=1.5 in /Users/artem/Library/Python/3.9/lib/python/site-packages (from python-dateutil>=2.8.1->pandas) (1.16.0)\n",
      "Installing collected packages: pytz, numpy, pandas\n",
      "\u001b[33m  DEPRECATION: Configuring installation scheme with distutils config files is deprecated and will no longer work in the near future. If you are using a Homebrew or Linuxbrew Python, please see discussion at https://github.com/Homebrew/homebrew-core/issues/76621\u001b[0m\u001b[33m\n",
      "\u001b[0m\u001b[33m  DEPRECATION: Configuring installation scheme with distutils config files is deprecated and will no longer work in the near future. If you are using a Homebrew or Linuxbrew Python, please see discussion at https://github.com/Homebrew/homebrew-core/issues/76621\u001b[0m\u001b[33m\n",
      "\u001b[0m\u001b[33m  DEPRECATION: Configuring installation scheme with distutils config files is deprecated and will no longer work in the near future. If you are using a Homebrew or Linuxbrew Python, please see discussion at https://github.com/Homebrew/homebrew-core/issues/76621\u001b[0m\u001b[33m\n",
      "\u001b[0m\u001b[33mDEPRECATION: Configuring installation scheme with distutils config files is deprecated and will no longer work in the near future. If you are using a Homebrew or Linuxbrew Python, please see discussion at https://github.com/Homebrew/homebrew-core/issues/76621\u001b[0m\u001b[33m\n",
      "\u001b[0mSuccessfully installed numpy-1.23.3 pandas-1.5.0 pytz-2022.4\n",
      "\u001b[33mWARNING: There was an error checking the latest version of pip.\u001b[0m\u001b[33m\n",
      "\u001b[0mNote: you may need to restart the kernel to use updated packages.\n"
     ]
    }
   ],
   "source": [
    "%pip install pandas"
   ]
  },
  {
   "cell_type": "markdown",
   "id": "2ec4a059",
   "metadata": {},
   "source": []
  }
 ],
 "metadata": {
  "kernelspec": {
   "display_name": "Python 3.8.11 ('Python_Lections_MSU')",
   "language": "python",
   "name": "python3"
  },
  "language_info": {
   "codemirror_mode": {
    "name": "ipython",
    "version": 3
   },
   "file_extension": ".py",
   "mimetype": "text/x-python",
   "name": "python",
   "nbconvert_exporter": "python",
   "pygments_lexer": "ipython3",
   "version": "3.8.11"
  },
  "vscode": {
   "interpreter": {
    "hash": "67e5709e29e1e6bc7fdd9135779fe701b01d700d2c5fd90e54a32c9e879e5123"
   }
  }
 },
 "nbformat": 4,
 "nbformat_minor": 5
}
