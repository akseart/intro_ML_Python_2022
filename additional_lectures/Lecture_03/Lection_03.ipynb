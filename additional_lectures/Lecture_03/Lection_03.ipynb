{
 "cells": [
  {
   "cell_type": "markdown",
   "metadata": {},
   "source": [
    "# Дополнительное занятие №3"
   ]
  },
  {
   "cell_type": "markdown",
   "metadata": {},
   "source": [
    "**Задание 1.** Для заданного списка целых чисел получить такой же список, но только с неотрицательными числами."
   ]
  },
  {
   "cell_type": "code",
   "execution_count": 2,
   "metadata": {},
   "outputs": [
    {
     "name": "stdout",
     "output_type": "stream",
     "text": [
      "[0, 3]\n"
     ]
    }
   ],
   "source": [
    "# Входные данные\n",
    "a = [-1, -2, 0, 3]\n",
    "\n",
    "# Алгоритм\n",
    "result = []\n",
    "for item in a:\n",
    "    if item >= 0:\n",
    "        result.append(item)\n",
    "\n",
    "# Выходные\n",
    "# [0, 3]\n",
    "print(result)"
   ]
  },
  {
   "cell_type": "code",
   "execution_count": 1,
   "metadata": {},
   "outputs": [
    {
     "name": "stdout",
     "output_type": "stream",
     "text": [
      "[0, 3]\n"
     ]
    }
   ],
   "source": [
    "# Входные данные\n",
    "a = [-1, -2, 0, 3]\n",
    "\n",
    "# Алгоритм\n",
    "result = list(filter(lambda e: e >= 0, a))\n",
    "\n",
    "# Выходные\n",
    "# [0, 3]\n",
    "print(result)"
   ]
  },
  {
   "cell_type": "markdown",
   "metadata": {},
   "source": [
    "**Задание 2.** Для заданного списка создать новый с квадратами чисел первого."
   ]
  },
  {
   "cell_type": "code",
   "execution_count": 8,
   "metadata": {},
   "outputs": [
    {
     "name": "stdout",
     "output_type": "stream",
     "text": [
      "[1, 4, 9, 16]\n"
     ]
    }
   ],
   "source": [
    "# Входные данные\n",
    "a = [1, 2, 3, -4]\n",
    "\n",
    "# Алгоритм\n",
    "result = []\n",
    "for item in a:\n",
    "    result.append(item * item)\n",
    "\n",
    "# Выходные данные\n",
    "# [1, 4, 9, 16]\n",
    "print(result)"
   ]
  },
  {
   "cell_type": "code",
   "execution_count": 9,
   "metadata": {},
   "outputs": [
    {
     "name": "stdout",
     "output_type": "stream",
     "text": [
      "[1, 4, 9, 16]\n"
     ]
    }
   ],
   "source": [
    "# Входные данные\n",
    "a = [1, 2, 3, -4]\n",
    "\n",
    "# Алгоритм\n",
    "result = list(map(lambda e: e * e, a))\n",
    "\n",
    "# Выходные данные\n",
    "# [1, 4, 9, 16]\n",
    "print(result)"
   ]
  },
  {
   "cell_type": "markdown",
   "metadata": {},
   "source": [
    "**Задание 3.** Определить являются ли все числа в списке неотрицательными."
   ]
  },
  {
   "cell_type": "code",
   "execution_count": 13,
   "metadata": {},
   "outputs": [],
   "source": [
    "def is_pos(a):\n",
    "    for item in a:\n",
    "        if item < 0:\n",
    "            return False\n",
    "\n",
    "    return True"
   ]
  },
  {
   "cell_type": "code",
   "execution_count": 12,
   "metadata": {},
   "outputs": [
    {
     "name": "stdout",
     "output_type": "stream",
     "text": [
      "False\n"
     ]
    }
   ],
   "source": [
    "# Входные данные\n",
    "a = [-1, 2, 3, 4]\n",
    "\n",
    "\n",
    "# Алгоритм\n",
    "is_positive = True\n",
    "for item in a:\n",
    "    if item < 0:\n",
    "        is_positive = False\n",
    "        break\n",
    "\n",
    "\n",
    "# Выходные данные\n",
    "# True или False\n",
    "print(is_positive)"
   ]
  },
  {
   "cell_type": "code",
   "execution_count": 14,
   "metadata": {},
   "outputs": [
    {
     "name": "stdout",
     "output_type": "stream",
     "text": [
      "False\n"
     ]
    }
   ],
   "source": [
    "print(is_pos(a))"
   ]
  },
  {
   "cell_type": "code",
   "execution_count": 15,
   "metadata": {},
   "outputs": [
    {
     "data": {
      "text/plain": [
       "[False, True, True, True]"
      ]
     },
     "execution_count": 15,
     "metadata": {},
     "output_type": "execute_result"
    }
   ],
   "source": [
    "list(map(lambda e: e >= 0, a))"
   ]
  },
  {
   "cell_type": "code",
   "execution_count": 17,
   "metadata": {},
   "outputs": [
    {
     "name": "stdout",
     "output_type": "stream",
     "text": [
      "False\n"
     ]
    }
   ],
   "source": [
    "# Входные данные\n",
    "a = [-1, 2, 3, 4]\n",
    "\n",
    "# Алгоритм\n",
    "is_positive = all(map(lambda e: e >= 0, a))\n",
    "\n",
    "# Выходные данные\n",
    "# True или False\n",
    "print(is_positive)"
   ]
  },
  {
   "cell_type": "markdown",
   "metadata": {},
   "source": [
    "**Задание 4.** Даны два списка целых чисел, необходимо получить новый список, каждый элемент в котором будет суммой соответсвующих элементов в первых двух списках.\n",
    "\n",
    "Пример:\n",
    "[1, 2, 3] + [2, 2, 2] = [3, 4, 5]"
   ]
  },
  {
   "cell_type": "code",
   "execution_count": 21,
   "metadata": {},
   "outputs": [
    {
     "name": "stdout",
     "output_type": "stream",
     "text": [
      "[3, 4, 5]\n"
     ]
    }
   ],
   "source": [
    "# Входные данные \n",
    "a = [1, 2, 3]\n",
    "b = [2, 2, 2]\n",
    "\n",
    "result = []\n",
    "for i in range(len(a)):\n",
    "    result.append(a[i] + b[i])\n",
    "\n",
    "# Выходные данные\n",
    "# [3, 4, 5]\n",
    "print(result)"
   ]
  },
  {
   "cell_type": "code",
   "execution_count": 22,
   "metadata": {},
   "outputs": [
    {
     "name": "stdout",
     "output_type": "stream",
     "text": [
      "[3, 4, 5]\n"
     ]
    }
   ],
   "source": [
    "# Входные данные \n",
    "a = [1, 2, 3]\n",
    "b = [2, 2, 2]\n",
    "\n",
    "result = []\n",
    "for item_1, item_2 in zip(a, b):\n",
    "    result.append(item_1 + item_2)\n",
    "\n",
    "# Выходные данные\n",
    "# [3, 4, 5]\n",
    "print(result)"
   ]
  },
  {
   "cell_type": "markdown",
   "metadata": {},
   "source": [
    "**Задание 5.** Реализуйте класс для одномерного вектора целых чисел (int). [1, 2, 3]"
   ]
  },
  {
   "cell_type": "code",
   "execution_count": null,
   "metadata": {},
   "outputs": [],
   "source": [
    "[1, 2, 3]"
   ]
  },
  {
   "cell_type": "code",
   "execution_count": 24,
   "metadata": {},
   "outputs": [
    {
     "data": {
      "text/plain": [
       "False"
      ]
     },
     "execution_count": 24,
     "metadata": {},
     "output_type": "execute_result"
    }
   ],
   "source": [
    "vec = [1, 2, 3.0]\n",
    "\n",
    "all(map(lambda x: isinstance(x, int), vec))"
   ]
  },
  {
   "cell_type": "code",
   "execution_count": 27,
   "metadata": {},
   "outputs": [
    {
     "name": "stdout",
     "output_type": "stream",
     "text": [
      "[1, 2, 3]\n",
      "[10, 2, 3]\n"
     ]
    }
   ],
   "source": [
    "a = [1, 2, 3]\n",
    "\n",
    "def p(l):\n",
    "    l[0] = 10\n",
    "\n",
    "print(a)\n",
    "p(a)\n",
    "print(a)"
   ]
  },
  {
   "cell_type": "code",
   "execution_count": null,
   "metadata": {},
   "outputs": [],
   "source": [
    "[1, 2, 3]"
   ]
  },
  {
   "cell_type": "code",
   "execution_count": 46,
   "metadata": {},
   "outputs": [],
   "source": [
    "class Vector:\n",
    "    def __init__(self, vec):\n",
    "        if not all(map(lambda x: isinstance(x, int), vec)):\n",
    "            raise TypeError(\"Список должен состоять из целых чисел.\")\n",
    "            \n",
    "        self.__vec = vec.copy()\n",
    "        self.__shape = len(vec)\n",
    "\n",
    "    def shape(self):\n",
    "        \"\"\"Размер (длина вектора)\n",
    "        \"\"\"\n",
    "        return self.__shape\n",
    "\n",
    "    def __add__(self, other):\n",
    "        \"\"\"Сложение двух векторов(поэлементное) \n",
    "\n",
    "        Пример:\n",
    "        [1, 2, 3] + [4, 5, 6] = [5, 7, 9]\n",
    "\n",
    "        Args:\n",
    "            other (Vector): второй вектор для сложения\n",
    "        \"\"\"\n",
    "        if not isinstance(other, Vector):\n",
    "            raise TypeError(\"Аргумент должен быть типа Vector.\")\n",
    "\n",
    "        if len(self.__vec) != len(other.__vec):\n",
    "            raise ArithmeticError(\"Размерность векторов должна совпадать.\")\n",
    "\n",
    "        result = []\n",
    "        for a, b in zip(self.__vec, other.__vec):\n",
    "            result.append(a + b)\n",
    "\n",
    "        return Vector(result)\n",
    "        \n",
    "\n",
    "    def mul(self, other):\n",
    "        \"\"\" Умножение двух векторов(поэлементное)\n",
    "\n",
    "\n",
    "        Args:\n",
    "            other (Vector): второй вектор для сложения\n",
    "        \"\"\"\n",
    "        if not isinstance(other, Vector):\n",
    "            raise TypeError(\"Аргумент должен быть типа Vector.\")\n",
    "\n",
    "        if len(self.__vec) != len(other.__vec):\n",
    "            raise ArithmeticError(\"Размерность векторов должна совпадать.\")\n",
    "\n",
    "        result = []\n",
    "        for a, b in zip(self.__vec, other.__vec):\n",
    "            result.append(a * b)\n",
    "\n",
    "        return Vector(result)\n",
    "\n",
    "    def __str__(self):\n",
    "        \"\"\"Строковое представление вектора.\n",
    "\n",
    "        Returns:\n",
    "            str: вектор в виде строки(выведенный красиво)\n",
    "        \"\"\"\n",
    "        return f\"Vector({str(self.__vec)})\"\n",
    "\n",
    "    def __repr__(self):\n",
    "        \"\"\"Представление вектора.\n",
    "\n",
    "        Returns:\n",
    "            str: вектор в виде строки\n",
    "        \"\"\"\n",
    "        return str(self)\n",
    "\n",
    "    def setitem(self, key, value):\n",
    "        \"\"\"Установить  значение value по индексу key\n",
    "\n",
    "        Args:\n",
    "            key (int): индекс для установки значения\n",
    "            value (int): Значение\n",
    "        \"\"\"\n",
    "        if key > len(self.__vec) - 1:\n",
    "            raise IndexError(\"Такого элемента нет.\")\n",
    "\n",
    "        self.__vec[key] = value\n",
    "\n",
    "    def getitem(self, item):\n",
    "        \"\"\"Получить значение по индексу\n",
    "\n",
    "        Args:\n",
    "            item (int): индекс\n",
    "        \"\"\"\n",
    "        if item > len(self.__vec) - 1:\n",
    "            raise IndexError(\"Такого элемента нет.\")\n",
    "\n",
    "        return self.__vec[item]\n"
   ]
  },
  {
   "cell_type": "code",
   "execution_count": 48,
   "metadata": {},
   "outputs": [
    {
     "data": {
      "text/plain": [
       "Vector([3, 4, 5])"
      ]
     },
     "execution_count": 48,
     "metadata": {},
     "output_type": "execute_result"
    }
   ],
   "source": [
    "vec1 = Vector([1, 2, 3])\n",
    "vec2 = Vector([2, 2, 2])\n",
    "vec1.__add__(vec2)"
   ]
  },
  {
   "cell_type": "code",
   "execution_count": 42,
   "metadata": {},
   "outputs": [
    {
     "data": {
      "text/plain": [
       "Vector([2, 4, 6])"
      ]
     },
     "execution_count": 42,
     "metadata": {},
     "output_type": "execute_result"
    }
   ],
   "source": [
    "vec1 = Vector([1, 2, 3])\n",
    "vec1.mul(Vector([2, 2, 2]))"
   ]
  },
  {
   "cell_type": "code",
   "execution_count": 43,
   "metadata": {},
   "outputs": [
    {
     "data": {
      "text/plain": [
       "100"
      ]
     },
     "execution_count": 43,
     "metadata": {},
     "output_type": "execute_result"
    }
   ],
   "source": [
    "vec1.setitem(0, 100)\n",
    "vec1.getitem(0)"
   ]
  },
  {
   "cell_type": "code",
   "execution_count": 45,
   "metadata": {},
   "outputs": [
    {
     "data": {
      "text/plain": [
       "3"
      ]
     },
     "execution_count": 45,
     "metadata": {},
     "output_type": "execute_result"
    }
   ],
   "source": [
    "vec1.shape()"
   ]
  },
  {
   "cell_type": "code",
   "execution_count": null,
   "metadata": {},
   "outputs": [],
   "source": [
    "vec1.add(12)"
   ]
  },
  {
   "cell_type": "code",
   "execution_count": 26,
   "metadata": {},
   "outputs": [
    {
     "ename": "TypeError",
     "evalue": "__repr__ returned non-string (type NoneType)",
     "output_type": "error",
     "traceback": [
      "\u001b[0;31m---------------------------------------------------------------------------\u001b[0m",
      "\u001b[0;31mTypeError\u001b[0m                                 Traceback (most recent call last)",
      "File \u001b[0;32m/opt/homebrew/Caskroom/miniconda/base/lib/python3.8/site-packages/IPython/core/formatters.py:707\u001b[0m, in \u001b[0;36mPlainTextFormatter.__call__\u001b[0;34m(self, obj)\u001b[0m\n\u001b[1;32m    700\u001b[0m stream \u001b[39m=\u001b[39m StringIO()\n\u001b[1;32m    701\u001b[0m printer \u001b[39m=\u001b[39m pretty\u001b[39m.\u001b[39mRepresentationPrinter(stream, \u001b[39mself\u001b[39m\u001b[39m.\u001b[39mverbose,\n\u001b[1;32m    702\u001b[0m     \u001b[39mself\u001b[39m\u001b[39m.\u001b[39mmax_width, \u001b[39mself\u001b[39m\u001b[39m.\u001b[39mnewline,\n\u001b[1;32m    703\u001b[0m     max_seq_length\u001b[39m=\u001b[39m\u001b[39mself\u001b[39m\u001b[39m.\u001b[39mmax_seq_length,\n\u001b[1;32m    704\u001b[0m     singleton_pprinters\u001b[39m=\u001b[39m\u001b[39mself\u001b[39m\u001b[39m.\u001b[39msingleton_printers,\n\u001b[1;32m    705\u001b[0m     type_pprinters\u001b[39m=\u001b[39m\u001b[39mself\u001b[39m\u001b[39m.\u001b[39mtype_printers,\n\u001b[1;32m    706\u001b[0m     deferred_pprinters\u001b[39m=\u001b[39m\u001b[39mself\u001b[39m\u001b[39m.\u001b[39mdeferred_printers)\n\u001b[0;32m--> 707\u001b[0m printer\u001b[39m.\u001b[39;49mpretty(obj)\n\u001b[1;32m    708\u001b[0m printer\u001b[39m.\u001b[39mflush()\n\u001b[1;32m    709\u001b[0m \u001b[39mreturn\u001b[39;00m stream\u001b[39m.\u001b[39mgetvalue()\n",
      "File \u001b[0;32m/opt/homebrew/Caskroom/miniconda/base/lib/python3.8/site-packages/IPython/lib/pretty.py:410\u001b[0m, in \u001b[0;36mRepresentationPrinter.pretty\u001b[0;34m(self, obj)\u001b[0m\n\u001b[1;32m    407\u001b[0m                         \u001b[39mreturn\u001b[39;00m meth(obj, \u001b[39mself\u001b[39m, cycle)\n\u001b[1;32m    408\u001b[0m                 \u001b[39mif\u001b[39;00m \u001b[39mcls\u001b[39m \u001b[39mis\u001b[39;00m \u001b[39mnot\u001b[39;00m \u001b[39mobject\u001b[39m \\\n\u001b[1;32m    409\u001b[0m                         \u001b[39mand\u001b[39;00m callable(\u001b[39mcls\u001b[39m\u001b[39m.\u001b[39m\u001b[39m__dict__\u001b[39m\u001b[39m.\u001b[39mget(\u001b[39m'\u001b[39m\u001b[39m__repr__\u001b[39m\u001b[39m'\u001b[39m)):\n\u001b[0;32m--> 410\u001b[0m                     \u001b[39mreturn\u001b[39;00m _repr_pprint(obj, \u001b[39mself\u001b[39;49m, cycle)\n\u001b[1;32m    412\u001b[0m     \u001b[39mreturn\u001b[39;00m _default_pprint(obj, \u001b[39mself\u001b[39m, cycle)\n\u001b[1;32m    413\u001b[0m \u001b[39mfinally\u001b[39;00m:\n",
      "File \u001b[0;32m/opt/homebrew/Caskroom/miniconda/base/lib/python3.8/site-packages/IPython/lib/pretty.py:778\u001b[0m, in \u001b[0;36m_repr_pprint\u001b[0;34m(obj, p, cycle)\u001b[0m\n\u001b[1;32m    776\u001b[0m \u001b[39m\"\"\"A pprint that just redirects to the normal repr function.\"\"\"\u001b[39;00m\n\u001b[1;32m    777\u001b[0m \u001b[39m# Find newlines and replace them with p.break_()\u001b[39;00m\n\u001b[0;32m--> 778\u001b[0m output \u001b[39m=\u001b[39m \u001b[39mrepr\u001b[39;49m(obj)\n\u001b[1;32m    779\u001b[0m lines \u001b[39m=\u001b[39m output\u001b[39m.\u001b[39msplitlines()\n\u001b[1;32m    780\u001b[0m \u001b[39mwith\u001b[39;00m p\u001b[39m.\u001b[39mgroup():\n",
      "\u001b[0;31mTypeError\u001b[0m: __repr__ returned non-string (type NoneType)"
     ]
    }
   ],
   "source": [
    "a = [1, 2, 3]\n",
    "\n",
    "vec = Vector(a)\n",
    "a[0] = 100"
   ]
  },
  {
   "cell_type": "code",
   "execution_count": null,
   "metadata": {},
   "outputs": [],
   "source": [
    "list_vecs = [[1, 2, 3], [3, 3, 3]]\n",
    "list_shapes = [3, 3]"
   ]
  }
 ],
 "metadata": {
  "kernelspec": {
   "display_name": "Python 3.8.13 ('base')",
   "language": "python",
   "name": "python3"
  },
  "language_info": {
   "codemirror_mode": {
    "name": "ipython",
    "version": 3
   },
   "file_extension": ".py",
   "mimetype": "text/x-python",
   "name": "python",
   "nbconvert_exporter": "python",
   "pygments_lexer": "ipython3",
   "version": "3.8.13"
  },
  "orig_nbformat": 4,
  "vscode": {
   "interpreter": {
    "hash": "e7cb1b9ae4d417fedf7f40a8eec98f7cfbd359e096bd857395a915f4609834ce"
   }
  }
 },
 "nbformat": 4,
 "nbformat_minor": 2
}
