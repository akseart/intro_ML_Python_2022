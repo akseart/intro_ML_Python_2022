{
 "cells": [
  {
   "cell_type": "markdown",
   "metadata": {},
   "source": [
    "# Дополнительное занятие №5"
   ]
  },
  {
   "cell_type": "markdown",
   "metadata": {},
   "source": [
    "**Задание 1.** Определить чётность числа."
   ]
  },
  {
   "cell_type": "code",
   "execution_count": 5,
   "metadata": {},
   "outputs": [],
   "source": [
    "# Входные данные - int.\n",
    "\n",
    "# Алгоритм\n",
    "def is_even(num):\n",
    "    if num % 2 == 0:\n",
    "        return True\n",
    "    \n",
    "    return False\n",
    "\n",
    "# или\n",
    "\n",
    "def is_even(num):\n",
    "    return True if num % 2 == 0 else False\n",
    "\n",
    "# Выходные данные - bool."
   ]
  },
  {
   "cell_type": "code",
   "execution_count": 6,
   "metadata": {},
   "outputs": [
    {
     "data": {
      "text/plain": [
       "True"
      ]
     },
     "execution_count": 6,
     "metadata": {},
     "output_type": "execute_result"
    }
   ],
   "source": [
    "is_even(10)"
   ]
  },
  {
   "cell_type": "code",
   "execution_count": 7,
   "metadata": {},
   "outputs": [
    {
     "name": "stdout",
     "output_type": "stream",
     "text": [
      "False\n"
     ]
    }
   ],
   "source": [
    "n = 10\n",
    "print(True if n % 2 else False)"
   ]
  },
  {
   "cell_type": "markdown",
   "metadata": {},
   "source": [
    "**Задание 2. Из заданного списка взять только те элементы, которые стоят на чётных местах.**"
   ]
  },
  {
   "cell_type": "code",
   "execution_count": 8,
   "metadata": {},
   "outputs": [
    {
     "data": {
      "text/plain": [
       "[1, 3, 5]"
      ]
     },
     "execution_count": 8,
     "metadata": {},
     "output_type": "execute_result"
    }
   ],
   "source": [
    "a = [1, 2, 3, 4, 5, 6, 7, 8, 9, 10]\n",
    "\n",
    "a[::2]"
   ]
  },
  {
   "cell_type": "code",
   "execution_count": 21,
   "metadata": {},
   "outputs": [],
   "source": [
    "from copy import deepcopy\n",
    "\n",
    "# Входные данные - list.\n",
    "\n",
    "# Алгоритм\n",
    "def get_even_elements(l_values):\n",
    "    return deepcopy(l_values[::2])\n",
    "\n",
    "# или\n",
    "\n",
    "def get_even_elements(l_values):\n",
    "    result = []\n",
    "\n",
    "    for idx, i in enumerate(l_values):\n",
    "        if is_even(idx):\n",
    "            result.append(deepcopy(i))\n",
    "\n",
    "    return result\n",
    "\n",
    "# Выходные данные - list."
   ]
  },
  {
   "cell_type": "code",
   "execution_count": 15,
   "metadata": {},
   "outputs": [
    {
     "name": "stdout",
     "output_type": "stream",
     "text": [
      "[0, 2, 4]\n"
     ]
    }
   ],
   "source": [
    "a = [0, 1, 2, 3, 4, 5]\n",
    "result = get_even_elements(a)\n",
    "print(result)"
   ]
  },
  {
   "cell_type": "code",
   "execution_count": 16,
   "metadata": {},
   "outputs": [
    {
     "name": "stdout",
     "output_type": "stream",
     "text": [
      "[0, 2, 4]\n"
     ]
    }
   ],
   "source": [
    "a = [0, 1, 2, 3, 4, 5]\n",
    "result = get_even_elements(a)\n",
    "a[0] = 1000\n",
    "print(result)"
   ]
  },
  {
   "cell_type": "code",
   "execution_count": 22,
   "metadata": {},
   "outputs": [
    {
     "name": "stdout",
     "output_type": "stream",
     "text": [
      "[[0], [2], [4]]\n"
     ]
    }
   ],
   "source": [
    "a = ([0], [1], [2], [3], [4], [5])\n",
    "result = get_even_elements(a)\n",
    "a[0][0] = 1000\n",
    "print(result)"
   ]
  },
  {
   "cell_type": "markdown",
   "metadata": {},
   "source": [
    "<center>\n",
    "<img height=800 width=700 src=\"memory.jpeg\">\n",
    "</center>"
   ]
  },
  {
   "cell_type": "markdown",
   "metadata": {},
   "source": [
    "**Задание 3. Реализовать функцию для шифрования файла.**"
   ]
  },
  {
   "cell_type": "code",
   "execution_count": 29,
   "metadata": {},
   "outputs": [
    {
     "data": {
      "text/plain": [
       "1"
      ]
     },
     "execution_count": 29,
     "metadata": {},
     "output_type": "execute_result"
    }
   ],
   "source": [
    "import string\n",
    "\n",
    "alphabet = string.ascii_letters\n",
    "(alphabet.index('Z') + 2) % len(alphabet)"
   ]
  },
  {
   "cell_type": "code",
   "execution_count": 28,
   "metadata": {},
   "outputs": [
    {
     "data": {
      "text/plain": [
       "'abcdefghijklmnopqrstuvwxyzABCDEFGHIJKLMNOPQRSTUVWXYZ'"
      ]
     },
     "execution_count": 28,
     "metadata": {},
     "output_type": "execute_result"
    }
   ],
   "source": [
    "alphabet"
   ]
  },
  {
   "cell_type": "code",
   "execution_count": 27,
   "metadata": {},
   "outputs": [
    {
     "ename": "IndexError",
     "evalue": "string index out of range",
     "output_type": "error",
     "traceback": [
      "\u001b[0;31m---------------------------------------------------------------------------\u001b[0m",
      "\u001b[0;31mIndexError\u001b[0m                                Traceback (most recent call last)",
      "\u001b[1;32m/Users/donsangre/PycharmProjects/intro_ML_Python_2022/additional_lectures/Lecture_05/Lecture_05.ipynb Ячейка 15\u001b[0m in \u001b[0;36m<cell line: 1>\u001b[0;34m()\u001b[0m\n\u001b[0;32m----> <a href='vscode-notebook-cell:/Users/donsangre/PycharmProjects/intro_ML_Python_2022/additional_lectures/Lecture_05/Lecture_05.ipynb#X25sZmlsZQ%3D%3D?line=0'>1</a>\u001b[0m string\u001b[39m.\u001b[39;49mascii_letters[\u001b[39m53\u001b[39;49m]\n",
      "\u001b[0;31mIndexError\u001b[0m: string index out of range"
     ]
    }
   ],
   "source": [
    "string.ascii_letters[53]"
   ]
  },
  {
   "cell_type": "code",
   "execution_count": null,
   "metadata": {},
   "outputs": [],
   "source": []
  },
  {
   "cell_type": "code",
   "execution_count": 33,
   "metadata": {},
   "outputs": [
    {
     "data": {
      "text/plain": [
       "'texttexttexttexttexttexttexttexttexttext'"
      ]
     },
     "execution_count": 33,
     "metadata": {},
     "output_type": "execute_result"
    }
   ],
   "source": [
    "\"text\" * 10"
   ]
  },
  {
   "cell_type": "code",
   "execution_count": 40,
   "metadata": {},
   "outputs": [],
   "source": [
    "import string\n",
    "\n",
    "\n",
    "# Входные данные - str, str, int.\n",
    "def cesar(text, alphabet, offset):\n",
    "    alphabet_len = len(alphabet)\n",
    "    encoded_text = \"\"\n",
    "\n",
    "    for c in text:\n",
    "        idx_c = alphabet.index(c)\n",
    "        offset_idx = (idx_c + offset) % alphabet_len\n",
    "        encoded_text += alphabet[offset_idx]\n",
    "\n",
    "    return encoded_text\n",
    "\n",
    "# Выходные данные - str.\n",
    "\n",
    "\n",
    "# Входные данные - str, str, str.\n",
    "\n",
    "def vigener(text, alphabet, passkey):\n",
    "    alphabet_len = len(alphabet)\n",
    "    encoded_text = \"\"\n",
    "    passkey = passkey * (len(text) // len(passkey) + 1)\n",
    "\n",
    "    for c_text, c_passkey in zip(text, passkey):\n",
    "        idx_c = alphabet.index(c_text)\n",
    "        idx_c_passkey = alphabet.index(c_passkey)\n",
    "        offset_idx = (idx_c + idx_c_passkey) % alphabet_len\n",
    "        encoded_text += alphabet[offset_idx]\n",
    "\n",
    "    return encoded_text\n",
    "\n",
    "# Выходные данные - str.\n",
    "\n",
    "\n",
    "# Входные данные - str, str, str, str, int, str.\n",
    "\n",
    "def encode(path, out_path, alphabet, chipher, offset=None, passkey=None):\n",
    "    with open(path) as file:\n",
    "        text = file.read()\n",
    "\n",
    "    if chipher == \"cesar\":\n",
    "        encoded_text = cesar(text, alphabet, offset)\n",
    "    elif chipher == \"vigener\":\n",
    "        encoded_text = vigener(text, alphabet, passkey)\n",
    "\n",
    "    with open(out_path, \"w\") as file:\n",
    "        file.write(encoded_text)\n",
    "\n",
    "# Выходные данные - None."
   ]
  },
  {
   "cell_type": "code",
   "execution_count": 41,
   "metadata": {},
   "outputs": [],
   "source": [
    "encode(\"example.txt\", \"encoded.txt\", string.ascii_letters, \"cesar\", offset=2)"
   ]
  },
  {
   "cell_type": "code",
   "execution_count": 44,
   "metadata": {},
   "outputs": [],
   "source": [
    "from abc import ABC, abstractmethod\n",
    "\n",
    "class Coder(ABC):\n",
    "    @abstractmethod\n",
    "    def encode(self, text):\n",
    "        pass\n",
    "\n",
    "class Cesar(Coder):\n",
    "    def __init__(self, alphabet, offset):\n",
    "        self.__alphabet = alphabet\n",
    "        self.__offset = offset\n",
    "\n",
    "    def encode(self, text):\n",
    "        alphabet_len = len(self.__alphabet)\n",
    "        encoded_text = \"\"\n",
    "\n",
    "        for c in text:\n",
    "            idx_c = self.__alphabet.index(c)\n",
    "            offset_idx = (idx_c + self.__offset) % alphabet_len\n",
    "            encoded_text += self.__alphabet[offset_idx]\n",
    "\n",
    "        return encoded_text\n",
    "\n",
    "\n",
    "class Vigener(Coder):\n",
    "    def __init__(self, alphabet, passkey):\n",
    "        self.__alphabet = alphabet\n",
    "        self.__passkey = passkey\n",
    "\n",
    "    def encode(self, text):\n",
    "        alphabet_len = len(self.__alphabet)\n",
    "        encoded_text = \"\"\n",
    "        passkey = self.__passkey * (len(text) // len(self.__passkey) + 1)\n",
    "\n",
    "        for c_text, c_passkey in zip(text, passkey):\n",
    "            idx_c = self.__alphabet.index(c_text)\n",
    "            idx_c_passkey = self.__alphabet.index(c_passkey)\n",
    "            offset_idx = (idx_c + idx_c_passkey) % alphabet_len\n",
    "            encoded_text += self.__alphabet[offset_idx]\n",
    "\n",
    "        return encoded_text\n",
    "\n",
    "def encode(path, out_path, encoder):\n",
    "    with open(path) as file:\n",
    "        text = file.read()\n",
    "\n",
    "    encoded_text = encoder.encode(text)\n",
    "\n",
    "    with open(out_path, \"w\") as file:\n",
    "        file.write(encoded_text)"
   ]
  },
  {
   "cell_type": "code",
   "execution_count": 45,
   "metadata": {},
   "outputs": [],
   "source": [
    "encoder = Cesar(string.ascii_letters, 2)\n",
    "\n",
    "encode(\"example.txt\", \"encoded.txt\", encoder)"
   ]
  },
  {
   "cell_type": "markdown",
   "metadata": {},
   "source": [
    "# Рекомендованные источники\n",
    "- [Бинарное дерево](https://tproger.ru/articles/dvoichnoe-binarnoe-derevo-sozdanie-i-obhod/)\n",
    "- [Алгоритмы сортировки](https://habr.com/ru/post/335920/) (есть реализация на C++ внутри)\n",
    "- [Алгоритмы сортировки с иллюстрациями](https://proglib.io/p/7-sposobov-sortirovki-massivov-na-primere-s-s-illyustraciyami-2022-04-20) (есть реализация на C++ внутри)\n",
    "- [Алгоритмы шифрования](https://habr.com/ru/post/116716/)"
   ]
  }
 ],
 "metadata": {
  "kernelspec": {
   "display_name": "Python 3.8.13 ('base')",
   "language": "python",
   "name": "python3"
  },
  "language_info": {
   "codemirror_mode": {
    "name": "ipython",
    "version": 3
   },
   "file_extension": ".py",
   "mimetype": "text/x-python",
   "name": "python",
   "nbconvert_exporter": "python",
   "pygments_lexer": "ipython3",
   "version": "3.8.13"
  },
  "orig_nbformat": 4,
  "vscode": {
   "interpreter": {
    "hash": "e7cb1b9ae4d417fedf7f40a8eec98f7cfbd359e096bd857395a915f4609834ce"
   }
  }
 },
 "nbformat": 4,
 "nbformat_minor": 2
}
