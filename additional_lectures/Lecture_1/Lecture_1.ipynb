{
 "cells": [
  {
   "cell_type": "markdown",
   "metadata": {},
   "source": [
    "# Дополнительное занятие №1"
   ]
  },
  {
   "cell_type": "markdown",
   "metadata": {},
   "source": [
    "<center>\n",
    "<img src=\"pipeline.png\">\n",
    "</center>"
   ]
  },
  {
   "cell_type": "code",
   "execution_count": 5,
   "metadata": {},
   "outputs": [
    {
     "name": "stdout",
     "output_type": "stream",
     "text": [
      "125\n"
     ]
    }
   ],
   "source": [
    "# Входные данные\n",
    "a = 5\n",
    "n = 3\n",
    "\n",
    "# Алгоритм\n",
    "r = 1\n",
    "for i in range(n):\n",
    "    r = r * a\n",
    "\n",
    "# Выходные данные\n",
    "print(r)"
   ]
  },
  {
   "cell_type": "code",
   "execution_count": null,
   "metadata": {},
   "outputs": [],
   "source": [
    "# int\n",
    "a = 1\n",
    "# float \n",
    "b = 1.2\n",
    "# str\n",
    "c = 'Hello'\n",
    "# bool\n",
    "d = False"
   ]
  },
  {
   "cell_type": "code",
   "execution_count": 11,
   "metadata": {},
   "outputs": [],
   "source": [
    "# Контейнерные\n",
    "e = [1, 2, 3, 3]\n",
    "p = (1, 2, 3)\n",
    "f = {\n",
    "    \"Джек\": 24,\n",
    "    \"Джон\": 27\n",
    "}\n",
    "k = {\"word1\", \"word2\"}"
   ]
  },
  {
   "cell_type": "code",
   "execution_count": 14,
   "metadata": {},
   "outputs": [
    {
     "name": "stdout",
     "output_type": "stream",
     "text": [
      "[1, -8, 9, 25, 49]\n"
     ]
    }
   ],
   "source": [
    "def pow(a, n):\n",
    "    r = 1\n",
    "    \n",
    "    for i in range(n):\n",
    "        r = r * a\n",
    "\n",
    "    return r\n",
    "\n",
    "\n",
    "# Входные данные\n",
    "values = [1, -2, 3, 5, 7]\n",
    "\n",
    "# Алгоритм\n",
    "result = []\n",
    "for val in values:\n",
    "    if val > 0:\n",
    "        r = pow(val, 2)\n",
    "        result.append(r)\n",
    "    elif val < 0:\n",
    "        r = pow(val, 3)\n",
    "        result.append(r)\n",
    "\n",
    "\n",
    "# Выходные данные\n",
    "print(result)"
   ]
  },
  {
   "cell_type": "code",
   "execution_count": 16,
   "metadata": {},
   "outputs": [
    {
     "name": "stdout",
     "output_type": "stream",
     "text": [
      "[1, 2, 3, 4]\n"
     ]
    }
   ],
   "source": [
    "a = [1, 2, 3]\n",
    "a.append(4)\n",
    "print(a)"
   ]
  },
  {
   "cell_type": "code",
   "execution_count": 15,
   "metadata": {},
   "outputs": [
    {
     "name": "stdout",
     "output_type": "stream",
     "text": [
      "[[1, 2, 3, 4], [-9, -10, -2, 20]]\n"
     ]
    }
   ],
   "source": [
    "# Входные данные\n",
    "a = [\n",
    "    [1, 2, 3, 4],\n",
    "    [-2, -10, -3, -5],\n",
    "    [-9, -10, -2, 20]\n",
    "]\n",
    "\n",
    "result = []\n",
    "for row in a:\n",
    "    max_val = row[0]\n",
    "    for val in row:\n",
    "        if val > max_val:\n",
    "            max_val = val\n",
    "\n",
    "    if max_val > 0:\n",
    "        result.append(row)\n",
    "\n",
    "# Выходные данные\n",
    "# [\n",
    "#     [1, 2, 3, 4],\n",
    "#     [-9, -10, -2, 20]\n",
    "# ]\n",
    "print(result)"
   ]
  },
  {
   "cell_type": "code",
   "execution_count": 19,
   "metadata": {},
   "outputs": [
    {
     "name": "stdout",
     "output_type": "stream",
     "text": [
      "{'П': 0}\n"
     ]
    }
   ],
   "source": [
    "d = dict()\n",
    "\n",
    "d[\"П\"] = 0\n",
    "print(d)"
   ]
  },
  {
   "cell_type": "code",
   "execution_count": null,
   "metadata": {},
   "outputs": [],
   "source": [
    "a[\"П\"] < b[\"П\"]"
   ]
  },
  {
   "cell_type": "code",
   "execution_count": 20,
   "metadata": {},
   "outputs": [
    {
     "name": "stdout",
     "output_type": "stream",
     "text": [
      "{'П': 1, 'р': 1, 'и': 1, 'в': 2, 'е': 2, 'т': 3, ',': 1, ' ': 3, 'к': 2, 'а': 1, 'б': 1, 'я': 1, 'з': 1, 'о': 1, 'у': 1, '?': 1}\n"
     ]
    }
   ],
   "source": [
    "# Входные данные\n",
    "text = \"Привет, как тебя зовут?\"\n",
    "\n",
    "\n",
    "chars = dict()\n",
    "for char in text:\n",
    "    if char not in chars:\n",
    "        chars[char] = 0\n",
    "\n",
    "    chars[char] = chars[char] + 1\n",
    "\n",
    "# Выходные данные\n",
    "# {\n",
    "#     \"П\": 2\n",
    "# }\n",
    "print(chars)"
   ]
  },
  {
   "cell_type": "code",
   "execution_count": 29,
   "metadata": {},
   "outputs": [
    {
     "data": {
      "text/plain": [
       "'i'"
      ]
     },
     "execution_count": 29,
     "metadata": {},
     "output_type": "execute_result"
    }
   ],
   "source": [
    "word = \"localization\"\n"
   ]
  },
  {
   "cell_type": "code",
   "execution_count": 30,
   "metadata": {},
   "outputs": [
    {
     "data": {
      "text/plain": [
       "'word1word2'"
      ]
     },
     "execution_count": 30,
     "metadata": {},
     "output_type": "execute_result"
    }
   ],
   "source": [
    "s1 = \"word1\"\n",
    "s2 = \"word2\"\n",
    "\n",
    "# s3 = \"word1word2\"\n",
    "s1 + s2"
   ]
  },
  {
   "cell_type": "code",
   "execution_count": 32,
   "metadata": {},
   "outputs": [
    {
     "data": {
      "text/plain": [
       "'10'"
      ]
     },
     "execution_count": 32,
     "metadata": {},
     "output_type": "execute_result"
    }
   ],
   "source": [
    "a = 10\n",
    "str(a)"
   ]
  },
  {
   "cell_type": "code",
   "execution_count": 33,
   "metadata": {},
   "outputs": [
    {
     "name": "stdout",
     "output_type": "stream",
     "text": [
      "l10n\n"
     ]
    }
   ],
   "source": [
    "# localization -> l10n\n",
    "\n",
    "# Входные данные\n",
    "word = \"localization\"\n",
    "\n",
    "\n",
    "if len(word) > 10:\n",
    "    first_char = word[0]\n",
    "    last_char = word[-1]\n",
    "    num_chars = len(word) - 2\n",
    "    word = first_char + str(num_chars) + last_char\n",
    "\n",
    "\n",
    "# Выходные данные\n",
    "print(word)"
   ]
  },
  {
   "cell_type": "code",
   "execution_count": 37,
   "metadata": {},
   "outputs": [
    {
     "name": "stdout",
     "output_type": "stream",
     "text": [
      "Hello\n"
     ]
    }
   ],
   "source": [
    "# Входные данные\n",
    "word = \"hello\"\n",
    "\n",
    "new_word = word[0].upper() + word[1:]\n",
    "\n",
    "print(new_word)"
   ]
  },
  {
   "cell_type": "code",
   "execution_count": 4,
   "metadata": {},
   "outputs": [
    {
     "name": "stdout",
     "output_type": "stream",
     "text": [
      "3\n"
     ]
    }
   ],
   "source": [
    "# Входные данные\n",
    "a = [1, 2, 3, -4, 10]\n",
    "\n",
    "result = None\n",
    "for i, val in enumerate(a):\n",
    "    if val < 0:\n",
    "        result = i\n",
    "\n",
    "# Выходные данные\n",
    "# 3\n",
    "if result is None:\n",
    "    print(\"Отрицательное число не найдено\")\n",
    "else:\n",
    "    print(result)"
   ]
  },
  {
   "cell_type": "code",
   "execution_count": null,
   "metadata": {},
   "outputs": [],
   "source": []
  }
 ],
 "metadata": {
  "kernelspec": {
   "display_name": "Python 3.8.13 ('base')",
   "language": "python",
   "name": "python3"
  },
  "language_info": {
   "codemirror_mode": {
    "name": "ipython",
    "version": 3
   },
   "file_extension": ".py",
   "mimetype": "text/x-python",
   "name": "python",
   "nbconvert_exporter": "python",
   "pygments_lexer": "ipython3",
   "version": "3.8.13"
  },
  "orig_nbformat": 4,
  "vscode": {
   "interpreter": {
    "hash": "e7cb1b9ae4d417fedf7f40a8eec98f7cfbd359e096bd857395a915f4609834ce"
   }
  }
 },
 "nbformat": 4,
 "nbformat_minor": 2
}
