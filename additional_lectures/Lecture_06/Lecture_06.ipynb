{
 "cells": [
  {
   "cell_type": "markdown",
   "metadata": {},
   "source": [
    "# Дополнительное занятие №6"
   ]
  },
  {
   "cell_type": "markdown",
   "id": "9d6e95dd",
   "metadata": {
    "pycharm": {
     "name": "#%% md\n"
    }
   },
   "source": [
    "**Задание 7. Бонус**   (10 балла)\n",
    "\n",
    "Реализовать чат-бота, отвечающий на заранее подготовленные фразы. \n",
    "\n",
    "Допускается создание любого кол-ва классов для решения задания. \n",
    "\n",
    "Спроектируйте решение таким образом, чтобы Ваша реализация была легко модифицируемой.\n",
    "\n",
    "Примеры.\n",
    "\n",
    "Запрос: Привет.<br>\n",
    "Ответ: Привет, друг.\n",
    "\n",
    "Запрос: Как дела?<br>\n",
    "Ответ: Всё хорошо."
   ]
  },
  {
   "cell_type": "code",
   "execution_count": 1,
   "metadata": {},
   "outputs": [],
   "source": [
    "def chat_bot(text):\n",
    "    answer_question = {\n",
    "        'Привет': 'Привет, друг',\n",
    "        'Как дела?': 'Все хорошо',\n",
    "        'Что делаешь?': 'Разговариваю с тобой'\n",
    "    }\n",
    "    if text in answer_question:\n",
    "        return answer_question[text]\n",
    "    else:\n",
    "        return \"Я Вас не понимаю\"\n"
   ]
  },
  {
   "cell_type": "code",
   "execution_count": 4,
   "metadata": {},
   "outputs": [
    {
     "name": "stdout",
     "output_type": "stream",
     "text": [
      "Я Вас не понимаю\n",
      "Привет, друг\n",
      "Привет, друг\n",
      "Все хорошо\n",
      "Все хорошо\n",
      "Разговариваю с тобой\n",
      "Разговариваю с тобой\n"
     ]
    }
   ],
   "source": [
    "while True:\n",
    "    text = input('Введите Ваше сообщение: ')\n",
    "    if text == 'q':\n",
    "        break\n",
    "    print(chat_bot(text))\n"
   ]
  },
  {
   "cell_type": "code",
   "execution_count": null,
   "metadata": {},
   "outputs": [],
   "source": [
    "import pandas"
   ]
  },
  {
   "cell_type": "code",
   "execution_count": null,
   "metadata": {},
   "outputs": [],
   "source": []
  },
  {
   "cell_type": "code",
   "execution_count": 11,
   "metadata": {},
   "outputs": [],
   "source": [
    "def hello(text):\n",
    "    if text.lower() == 'привет':\n",
    "        return 'Привет, друг'\n",
    "    else:\n",
    "        return None\n",
    "\n",
    "def kak_dela(text):\n",
    "    if text == 'Как дела?':\n",
    "        return 'Все хорошо'\n",
    "    else:\n",
    "        return None\n",
    "\n",
    "def other(text):\n",
    "    return \"Я Вас не понимаю\"\n",
    "\n",
    "def chto_d(text):\n",
    "    return \"Играю\"\n",
    "\n",
    "handlers = [hello, chto_d, kak_dela, other]"
   ]
  },
  {
   "cell_type": "code",
   "execution_count": 12,
   "metadata": {},
   "outputs": [
    {
     "name": "stdout",
     "output_type": "stream",
     "text": [
      "Играю\n",
      "Привет, друг\n",
      "Привет, друг\n",
      "Играю\n",
      "Играю\n"
     ]
    }
   ],
   "source": [
    "while True:\n",
    "    text = input('Введите Ваше сообщение: ')\n",
    "    if text == 'q':\n",
    "        break\n",
    "    for handler in handlers:\n",
    "        result = handler(text)\n",
    "        if result is not None:\n",
    "            print(result)\n",
    "            break"
   ]
  },
  {
   "cell_type": "code",
   "execution_count": 13,
   "metadata": {},
   "outputs": [
    {
     "name": "stdout",
     "output_type": "stream",
     "text": [
      "Chain: Monkey > Squirrel > Dog\n",
      "\n",
      "Client: Who wants a Nut?\n",
      "  Squirrel: I'll eat the Nut\n",
      "Client: Who wants a Banana?\n",
      "  Monkey: I'll eat the Banana\n",
      "Client: Who wants a Cup of coffee?\n",
      "  Cup of coffee was left untouched.\n",
      "\n",
      "Subchain: Squirrel > Dog\n",
      "\n",
      "Client: Who wants a Nut?\n",
      "  Squirrel: I'll eat the Nut\n",
      "Client: Who wants a Banana?\n",
      "  Banana was left untouched.\n",
      "Client: Who wants a Cup of coffee?\n",
      "  Cup of coffee was left untouched."
     ]
    }
   ],
   "source": [
    "from abc import ABC, abstractmethod\n",
    "from typing import Any, Optional\n",
    "\n",
    "\n",
    "class Handler(ABC):\n",
    "    \"\"\"\n",
    "    Интерфейс Обработчика объявляет метод построения цепочки обработчиков. Он\n",
    "    также объявляет метод для выполнения запроса.\n",
    "    \"\"\"\n",
    "\n",
    "    @abstractmethod\n",
    "    def set_next(self, handler):\n",
    "        pass\n",
    "\n",
    "    @abstractmethod\n",
    "    def handle(self, request):\n",
    "        pass\n",
    "\n",
    "\n",
    "class AbstractHandler(Handler):\n",
    "    \"\"\"\n",
    "    Поведение цепочки по умолчанию может быть реализовано внутри базового класса\n",
    "    обработчика.\n",
    "    \"\"\"\n",
    "\n",
    "    _next_handler = None\n",
    "\n",
    "    def set_next(self, handler):\n",
    "        self._next_handler = handler\n",
    "        # Возврат обработчика отсюда позволит связать обработчики простым\n",
    "        # способом, вот так:\n",
    "        # monkey.set_next(squirrel).set_next(dog)\n",
    "        return handler\n",
    "\n",
    "    @abstractmethod\n",
    "    def handle(self, request):\n",
    "        if self._next_handler:\n",
    "            return self._next_handler.handle(request)\n",
    "\n",
    "        return None\n",
    "\n",
    "\n",
    "\"\"\"\n",
    "Все Конкретные Обработчики либо обрабатывают запрос, либо передают его\n",
    "следующему обработчику в цепочке.\n",
    "\"\"\"\n",
    "\n",
    "\n",
    "class MonkeyHandler(AbstractHandler):\n",
    "    def handle(self, request: Any) -> str:\n",
    "        if request == \"Banana\":\n",
    "            return f\"Monkey: I'll eat the {request}\"\n",
    "        else:\n",
    "            return super().handle(request)\n",
    "\n",
    "\n",
    "class SquirrelHandler(AbstractHandler):\n",
    "    def handle(self, request: Any) -> str:\n",
    "        if request == \"Nut\":\n",
    "            return f\"Squirrel: I'll eat the {request}\"\n",
    "        else:\n",
    "            return super().handle(request)\n",
    "\n",
    "\n",
    "class DogHandler(AbstractHandler):\n",
    "    def handle(self, request: Any) -> str:\n",
    "        if request == \"MeatBall\":\n",
    "            return f\"Dog: I'll eat the {request}\"\n",
    "        else:\n",
    "            return super().handle(request)\n",
    "\n",
    "\n",
    "def client_code(handler: Handler) -> None:\n",
    "    \"\"\"\n",
    "    Обычно клиентский код приспособлен для работы с единственным обработчиком. В\n",
    "    большинстве случаев клиенту даже неизвестно, что этот обработчик является\n",
    "    частью цепочки.\n",
    "    \"\"\"\n",
    "\n",
    "    for food in [\"Nut\", \"Banana\", \"Cup of coffee\"]:\n",
    "        print(f\"\\nClient: Who wants a {food}?\")\n",
    "        result = handler.handle(food)\n",
    "        if result:\n",
    "            print(f\"  {result}\", end=\"\")\n",
    "        else:\n",
    "            print(f\"  {food} was left untouched.\", end=\"\")\n",
    "\n",
    "\n",
    "if __name__ == \"__main__\":\n",
    "    monkey = MonkeyHandler()\n",
    "    squirrel = SquirrelHandler()\n",
    "    dog = DogHandler()\n",
    "\n",
    "    monkey.set_next(SquirrelHandler()).set_next(dog)\n",
    "\n",
    "    # Клиент должен иметь возможность отправлять запрос любому обработчику, а не\n",
    "    # только первому в цепочке.\n",
    "    print(\"Chain: Monkey > Squirrel > Dog\")\n",
    "    client_code(monkey)\n",
    "    print(\"\\n\")\n",
    "\n",
    "    print(\"Subchain: Squirrel > Dog\")\n",
    "    client_code(squirrel)"
   ]
  },
  {
   "cell_type": "code",
   "execution_count": 32,
   "metadata": {},
   "outputs": [],
   "source": [
    "from abc import ABC, abstractmethod\n",
    "class Handler(ABC):\n",
    "    @abstractmethod\n",
    "    def set_next(self, handler):\n",
    "        pass\n",
    "    \n",
    "    @abstractmethod\n",
    "    def handle(self, text):\n",
    "        pass\n",
    "\n",
    "class AbstractHandler(Handler):\n",
    "    _next_handler = None\n",
    "    def set_next(self, handler):\n",
    "        \"\"\"Устанавливаем следующий обработчик\n",
    "        \"\"\"\n",
    "        self._next_handler = handler\n",
    "        return handler\n",
    "    \n",
    "    @abstractmethod\n",
    "    def handle(self, text):\n",
    "        if self._next_handler:\n",
    "            return self._next_handler.handle(text)\n",
    "\n",
    "        return None\n",
    "\n",
    "class HelloHandler(AbstractHandler):\n",
    "    def __init__(self, num):\n",
    "        self._num = num\n",
    "\n",
    "    def handle(self, text):\n",
    "        if text.lower() == 'привет':\n",
    "            return f'Привет, друг {self._num}'\n",
    "        else:\n",
    "            return super().handle(text)\n",
    "\n",
    "class KakDelaHandler(AbstractHandler):\n",
    "    def handle(self, text):\n",
    "        if text.lower() == 'как дела?':\n",
    "            return 'Всё хорошо'\n",
    "        else:\n",
    "            return super().handle(text)"
   ]
  },
  {
   "cell_type": "code",
   "execution_count": 33,
   "metadata": {},
   "outputs": [
    {
     "data": {
      "text/plain": [
       "<__main__.KakDelaHandler at 0x11846f9d0>"
      ]
     },
     "execution_count": 33,
     "metadata": {},
     "output_type": "execute_result"
    }
   ],
   "source": [
    "KakDelaHandler()"
   ]
  },
  {
   "cell_type": "code",
   "execution_count": 36,
   "metadata": {},
   "outputs": [
    {
     "name": "stdout",
     "output_type": "stream",
     "text": [
      "1\n",
      "Привет, друг\n",
      "1\n",
      "Всё хорошо\n"
     ]
    }
   ],
   "source": [
    "start_handle = HelloHandler()\n",
    "start_handle.set_next(KakDelaHandler())\n",
    "\n",
    "while True:\n",
    "    text = input('Введите Ваше сообщение: ')\n",
    "    if text == 'q':\n",
    "        break\n",
    "    print(start_handle.handle(text))"
   ]
  },
  {
   "cell_type": "code",
   "execution_count": null,
   "metadata": {},
   "outputs": [],
   "source": []
  },
  {
   "cell_type": "code",
   "execution_count": null,
   "metadata": {},
   "outputs": [],
   "source": []
  }
 ],
 "metadata": {
  "kernelspec": {
   "display_name": "Python 3.9.13 64-bit",
   "language": "python",
   "name": "python3"
  },
  "language_info": {
   "codemirror_mode": {
    "name": "ipython",
    "version": 3
   },
   "file_extension": ".py",
   "mimetype": "text/x-python",
   "name": "python",
   "nbconvert_exporter": "python",
   "pygments_lexer": "ipython3",
   "version": "3.9.13"
  },
  "orig_nbformat": 4,
  "vscode": {
   "interpreter": {
    "hash": "b0fa6594d8f4cbf19f97940f81e996739fb7646882a419484c72d19e05852a7e"
   }
  }
 },
 "nbformat": 4,
 "nbformat_minor": 2
}
