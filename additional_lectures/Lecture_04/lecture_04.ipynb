{
 "cells": [
  {
   "cell_type": "markdown",
   "metadata": {
    "collapsed": false
   },
   "source": [
    "# Введение в методы анализа данных. Язык Python."
   ]
  },
  {
   "cell_type": "markdown",
   "metadata": {
    "collapsed": false
   },
   "source": [
    "## Дополнительное занятие 4. ООП\n",
    "<br><br><br><br>\n",
    "__Ксемидов Борис (nstalker.anonim@yandex.ru)__\n",
    "\n",
    "__Аксентьев Артем (akseart@ya.ru)__\n",
    "\n",
    "\n",
    "<br>\n",
    "\n"
   ]
  },
  {
   "cell_type": "markdown",
   "metadata": {},
   "source": [
    "## Задание 1.\n",
    "\n",
    "Реализовать класс корзины интернет-магазина. Корзина должна уметь:\n",
    "- добавлять товары\n",
    "- удалять товары\n",
    "- считать общую стоимость товаров\n",
    "- применять скидку к корзине\n",
    "- выводить в консоль все товары корзины в виде, например:\n",
    "```\n",
    "1. Товар 1, цена 100 руб.\n",
    "2. Товар 2, цена 200 руб.\n",
    "...\n",
    "```\n",
    "- считать общее количество товаров в корзине\n",
    "- считать среднюю стоимость товара в корзине"
   ]
  },
  {
   "cell_type": "code",
   "execution_count": 5,
   "metadata": {},
   "outputs": [],
   "source": [
    "class Product:\n",
    "    def __init__(self, name, price):\n",
    "        self.name = name\n",
    "        self.price = price\n",
    "        "
   ]
  },
  {
   "cell_type": "code",
   "execution_count": 48,
   "metadata": {},
   "outputs": [],
   "source": [
    "class ShoppingCart:\n",
    "    def __init__(self, products=None, discount=0):\n",
    "        self.items = products if products else []\n",
    "        self.discount = discount\n",
    "    \n",
    "    def add_product(self, item):\n",
    "        self.items.append(item)\n",
    "    \n",
    "    def del_product(self, item):\n",
    "        self.items.remove(item)\n",
    "    \n",
    "    def total_price(self):\n",
    "        cost = sum(i.price for i in self.items)\n",
    "        return cost - cost * self.discount / 100\n",
    "    \n",
    "    def coupon(self, discount):\n",
    "        self.discount = discount\n",
    "    \n",
    "    def __len__(self):\n",
    "        return len(self.items)\n",
    "    \n",
    "    # def __str__(self):\n",
    "    #     result = \"\"\n",
    "    #     for i in self.items:\n",
    "    #         result += f\"{i.name}, цена: {i.price} руб.\\n\"\n",
    "    #     return result\n",
    "    \n",
    "    # def __repr__(self):\n",
    "\n",
    "    \n",
    "    def average_cost(self):\n",
    "        return self.total_price() / len(self.items)\n",
    "    \n",
    "book = Product('book', 90)\n",
    "\n",
    "cart = ShoppingCart()\n",
    "cart.add_product(book)\n",
    "\n",
    "book1 = Product('book1', 10)\n",
    "\n",
    "book2 = Product('book', 10)\n",
    "\n",
    "cart.add_product(book1)\n",
    "cart.add_product(book2)"
   ]
  },
  {
   "cell_type": "code",
   "execution_count": 49,
   "metadata": {},
   "outputs": [
    {
     "name": "stdout",
     "output_type": "stream",
     "text": [
      "<__main__.ShoppingCart object at 0x1159bca90>\n"
     ]
    }
   ],
   "source": [
    "print(cart)"
   ]
  },
  {
   "cell_type": "code",
   "execution_count": 47,
   "metadata": {},
   "outputs": [
    {
     "data": {
      "text/plain": [
       "<__main__.ShoppingCart at 0x115b6d310>"
      ]
     },
     "execution_count": 47,
     "metadata": {},
     "output_type": "execute_result"
    }
   ],
   "source": [
    "cart"
   ]
  },
  {
   "cell_type": "code",
   "execution_count": 38,
   "metadata": {},
   "outputs": [
    {
     "data": {
      "text/plain": [
       "36.666666666666664"
      ]
     },
     "execution_count": 38,
     "metadata": {},
     "output_type": "execute_result"
    }
   ],
   "source": [
    "cart.average_cost()"
   ]
  },
  {
   "cell_type": "code",
   "execution_count": 24,
   "metadata": {},
   "outputs": [
    {
     "data": {
      "text/plain": [
       "2"
      ]
     },
     "execution_count": 24,
     "metadata": {},
     "output_type": "execute_result"
    }
   ],
   "source": [
    "cart.__len__()"
   ]
  },
  {
   "cell_type": "code",
   "execution_count": 21,
   "metadata": {},
   "outputs": [
    {
     "data": {
      "text/plain": [
       "90.0"
      ]
     },
     "execution_count": 21,
     "metadata": {},
     "output_type": "execute_result"
    }
   ],
   "source": [
    "cart.total_price()"
   ]
  },
  {
   "cell_type": "code",
   "execution_count": 20,
   "metadata": {},
   "outputs": [],
   "source": [
    "cart.coupon(10)"
   ]
  },
  {
   "cell_type": "code",
   "execution_count": 2,
   "metadata": {},
   "outputs": [
    {
     "name": "stdout",
     "output_type": "stream",
     "text": [
      "[1]\n"
     ]
    }
   ],
   "source": [
    "def foo(item=[]):\n",
    "    item.append(1)\n",
    "    print(item)\n",
    "\n",
    "foo()"
   ]
  },
  {
   "cell_type": "code",
   "execution_count": 3,
   "metadata": {},
   "outputs": [
    {
     "name": "stdout",
     "output_type": "stream",
     "text": [
      "[1, 1]\n"
     ]
    }
   ],
   "source": [
    "foo()"
   ]
  },
  {
   "cell_type": "markdown",
   "metadata": {},
   "source": [
    "# Задание 2.\n",
    "Реализовать класс, который будет описывать комбо-товар, состоящий из нескольких товаров"
   ]
  },
  {
   "cell_type": "code",
   "execution_count": null,
   "metadata": {},
   "outputs": [],
   "source": [
    "def get_cost()"
   ]
  },
  {
   "cell_type": "code",
   "execution_count": 57,
   "metadata": {},
   "outputs": [],
   "source": [
    "class Product:\n",
    "    def __init__(self, name, price):\n",
    "        self.name = name\n",
    "        self.price = price\n",
    "    \n",
    "    def get_cost(self):\n",
    "        return self.price\n",
    "    \n",
    "    def get_weight(self):\n",
    "        return 10\n",
    "    \n",
    "    def __len__(self):\n",
    "        return 1\n",
    "    "
   ]
  },
  {
   "cell_type": "code",
   "execution_count": 58,
   "metadata": {},
   "outputs": [],
   "source": [
    "class ComboProduct(Product):\n",
    "    def __init__(self, name, items):\n",
    "        super().__init__(name, 0)\n",
    "        self.items = items\n",
    "    \n",
    "    def get_cost(self):\n",
    "        cost = sum(i.price for i in self.items)\n",
    "        return cost\n",
    "    \n",
    "    def __len__(self):\n",
    "        return len(self.items)\n",
    "    \n",
    "\n",
    "class ShoppingCart:\n",
    "    def __init__(self, products=None, discount=0):\n",
    "        self.__items = products if products else []\n",
    "        self.__discount = discount\n",
    "    \n",
    "    def add_product(self, item):\n",
    "        if not isinstance(item, Product):\n",
    "            raise ValueError\n",
    "        self.items.append(item)\n",
    "    \n",
    "    def del_product(self, item):\n",
    "        self.items.remove(item)\n",
    "    \n",
    "    def total_price(self):\n",
    "        cost = sum(i.get_cost() for i in self.items)\n",
    "        return (cost - cost * self.discount / 100) + cost1\n",
    "    \n",
    "    def coupon(self, discount):\n",
    "        self.discount = discount\n",
    "    \n",
    "    def __len__(self):\n",
    "        return sum(len(i) for i in self.items)\n",
    "    \n",
    "    def __str__(self):\n",
    "        result = \"\"\n",
    "        for i in self.items:\n",
    "            result += f\"{i.name}, цена: {i.get_cost()} руб.\\n\"\n",
    "        return result\n",
    "    \n",
    "    def average_cost(self):\n",
    "        return self.total_price() / len(self)\n",
    "    "
   ]
  },
  {
   "cell_type": "code",
   "execution_count": 59,
   "metadata": {},
   "outputs": [],
   "source": [
    "book = Product('book', 90)\n",
    "\n",
    "cart = ShoppingCart()\n",
    "cart.add_product(book)\n",
    "\n",
    "book1 = Product('book1', 10)\n",
    "\n",
    "book2 = Product('book', 10)\n",
    "\n",
    "cart.add_product(book1)\n",
    "cart.add_product(book2)\n",
    "\n",
    "combo = ComboProduct(\"Серия книг\", [Product(\"Harry Potter 1\", 10), Product(\"Harry Potter 2\", 20)])\n",
    "cart.add_product(combo)"
   ]
  },
  {
   "cell_type": "code",
   "execution_count": 60,
   "metadata": {},
   "outputs": [
    {
     "name": "stdout",
     "output_type": "stream",
     "text": [
      "book, цена: 90 руб.\n",
      "book1, цена: 10 руб.\n",
      "book, цена: 10 руб.\n",
      "Серия книг, цена: 30 руб.\n",
      "\n"
     ]
    }
   ],
   "source": [
    "print(cart)"
   ]
  },
  {
   "cell_type": "code",
   "execution_count": 61,
   "metadata": {},
   "outputs": [
    {
     "data": {
      "text/plain": [
       "28.0"
      ]
     },
     "execution_count": 61,
     "metadata": {},
     "output_type": "execute_result"
    }
   ],
   "source": [
    "cart.average_cost()"
   ]
  },
  {
   "cell_type": "markdown",
   "metadata": {},
   "source": [
    "# Задание 3.\n",
    "Реализовать класс сотрудника, у которого есть имя, фамилия, должность, зарплата, бонусы, отдел, год поступления на работу. Класс должен уметь:\n",
    "- считать полную зарплату с учетом бонусов\n",
    "- считать стаж работы в годах\n",
    "- выводить в консоль информацию о сотруднике в виде:\n",
    "```\n",
    "Имя: Иван\n",
    "Фамилия: Иванов\n",
    "Должность: Программист\n",
    "Зарплата: 10000 руб.\n",
    "Бонусы: 1000 руб.\n",
    "Отдел: Разработка\n",
    "Год поступления на работу: 2018\n",
    "```\n",
    "- добавлять бонусы\n"
   ]
  },
  {
   "cell_type": "code",
   "execution_count": 88,
   "metadata": {},
   "outputs": [],
   "source": [
    "import datetime\n",
    "\n",
    "jobs_title = ['Программист', 'Уборщик']\n",
    "\n",
    "class Person:\n",
    "    def __init__(self, first_name, last_name, salary, bonus, job_title, department, year_of_employmnet):\n",
    "        self.first_name = first_name\n",
    "        self.last_name = last_name\n",
    "        if not isinstance(salary, int):\n",
    "            raise ValueError\n",
    "        self.salary = salary\n",
    "        self.bonus = bonus\n",
    "        if not job_title in jobs_title:\n",
    "            raise ValueError(\"Такой должности в данной фирме\")\n",
    "        self.job_title = job_title\n",
    "        self.department = department\n",
    "        if year_of_employmnet > datetime.datetime.now().year:\n",
    "            raise ValueError(\"Год принятия на работу не может быть больше текущего\")\n",
    "        self.year_of_employmnet = year_of_employmnet\n",
    "    \n",
    "    def get_full_salary(self):\n",
    "        return self.salary + self.bonus\n",
    "    \n",
    "    def experience(self):\n",
    "        return datetime.datetime.now().year - self.year_of_employmnet\n",
    "    \n",
    "    def __str__(self):\n",
    "        return f\"\"\"Имя: {self.first_name}\n",
    "Фамилия: {self.last_name}\n",
    "\"\"\"\n",
    "    def __repr__(self):\n",
    "        return str(self)\n",
    "    \n",
    "    def add_bonus(self, bonus):\n",
    "        self.bonus += bonus"
   ]
  },
  {
   "cell_type": "code",
   "execution_count": 90,
   "metadata": {},
   "outputs": [
    {
     "data": {
      "text/plain": [
       "Имя: Иван\n",
       "Фамилия: Иванов"
      ]
     },
     "execution_count": 90,
     "metadata": {},
     "output_type": "execute_result"
    }
   ],
   "source": [
    "a = Person(\"Иван\", \"Иванов\", 30_000, 100, \"Программистом\", \"Отдел 1\", 2020)\n",
    "a"
   ]
  },
  {
   "cell_type": "code",
   "execution_count": 81,
   "metadata": {},
   "outputs": [
    {
     "data": {
      "text/plain": [
       "30100"
      ]
     },
     "execution_count": 81,
     "metadata": {},
     "output_type": "execute_result"
    }
   ],
   "source": [
    "a.get_full_salary()"
   ]
  },
  {
   "cell_type": "code",
   "execution_count": 87,
   "metadata": {},
   "outputs": [
    {
     "data": {
      "text/plain": [
       "-178"
      ]
     },
     "execution_count": 87,
     "metadata": {},
     "output_type": "execute_result"
    }
   ],
   "source": [
    "a.experience()"
   ]
  },
  {
   "cell_type": "code",
   "execution_count": 83,
   "metadata": {},
   "outputs": [],
   "source": [
    "a.add_bonus(30_000)"
   ]
  },
  {
   "cell_type": "code",
   "execution_count": 85,
   "metadata": {},
   "outputs": [
    {
     "data": {
      "text/plain": [
       "60100"
      ]
     },
     "execution_count": 85,
     "metadata": {},
     "output_type": "execute_result"
    }
   ],
   "source": [
    "a.get_full_salary()"
   ]
  }
 ],
 "metadata": {
  "kernelspec": {
   "display_name": "Python 3.9.13 64-bit",
   "language": "python",
   "name": "python3"
  },
  "language_info": {
   "codemirror_mode": {
    "name": "ipython",
    "version": 3
   },
   "file_extension": ".py",
   "mimetype": "text/x-python",
   "name": "python",
   "nbconvert_exporter": "python",
   "pygments_lexer": "ipython3",
   "version": "3.9.13"
  },
  "orig_nbformat": 4,
  "vscode": {
   "interpreter": {
    "hash": "b0fa6594d8f4cbf19f97940f81e996739fb7646882a419484c72d19e05852a7e"
   }
  }
 },
 "nbformat": 4,
 "nbformat_minor": 2
}
